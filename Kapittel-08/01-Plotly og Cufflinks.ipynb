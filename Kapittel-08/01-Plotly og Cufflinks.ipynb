{
 "cells": [
  {
   "cell_type": "markdown",
   "metadata": {},
   "source": [
    "# Plotly og Cufflinks"
   ]
  },
  {
   "cell_type": "markdown",
   "metadata": {},
   "source": [
    "Plotly er et bibliotek som lar deg lage interaktive plott som du kan bruke på dashbord eller nettsteder (du kan lagre dem som html-filer eller statiske bilder).\n",
    "\n",
    "## Installering\n",
    "\n",
    "**Installer bibliotekene på kommandolinjen / terminalen ved hjelp av:**\n",
    "\n",
    "    pip install plotly\n",
    "    pip install cufflinks\n",
    "\n",
    "\n",
    "## Importering og Oppsett"
   ]
  },
  {
   "cell_type": "code",
   "execution_count": 1,
   "metadata": {},
   "outputs": [
    {
     "name": "stderr",
     "output_type": "stream",
     "text": [
      "c:\\users\\magnus\\appdata\\local\\programs\\python\\python36\\lib\\site-packages\\numpy\\_distributor_init.py:32: UserWarning: loaded more than 1 DLL from .libs:\n",
      "c:\\users\\magnus\\appdata\\local\\programs\\python\\python36\\lib\\site-packages\\numpy\\.libs\\libopenblas.TXA6YQSD3GCQQC22GEQ54J2UDCXDXHWN.gfortran-win_amd64.dll\n",
      "c:\\users\\magnus\\appdata\\local\\programs\\python\\python36\\lib\\site-packages\\numpy\\.libs\\libopenblas.WCDJNK7YVMPZQ2ME2ZZHJJRJ3JIKNDB7.gfortran-win_amd64.dll\n",
      "  stacklevel=1)\n"
     ]
    },
    {
     "name": "stdout",
     "output_type": "stream",
     "text": [
      "Namespace(gui='inline', list=False)\n",
      "[]\n"
     ]
    }
   ],
   "source": [
    "import pandas as pd\n",
    "import numpy as np\n",
    "%matplotlib inline"
   ]
  },
  {
   "cell_type": "code",
   "execution_count": 2,
   "metadata": {},
   "outputs": [
    {
     "name": "stdout",
     "output_type": "stream",
     "text": [
      "4.14.3\n"
     ]
    }
   ],
   "source": [
    "from plotly import __version__\n",
    "from plotly.offline import download_plotlyjs, init_notebook_mode, plot, iplot\n",
    "\n",
    "print(__version__) # krever versjon >= 1.9.0"
   ]
  },
  {
   "cell_type": "code",
   "execution_count": 3,
   "metadata": {},
   "outputs": [
    {
     "name": "stderr",
     "output_type": "stream",
     "text": [
      "c:\\users\\magnus\\appdata\\local\\programs\\python\\python36\\lib\\site-packages\\dask\\config.py:168: YAMLLoadWarning:\n",
      "\n",
      "calling yaml.load() without Loader=... is deprecated, as the default Loader is unsafe. Please read https://msg.pyyaml.org/load for full details.\n",
      "\n"
     ]
    }
   ],
   "source": [
    "import cufflinks as cf"
   ]
  },
  {
   "cell_type": "code",
   "execution_count": 4,
   "metadata": {},
   "outputs": [
    {
     "data": {
      "text/html": [
       "        <script type=\"text/javascript\">\n",
       "        window.PlotlyConfig = {MathJaxConfig: 'local'};\n",
       "        if (window.MathJax) {MathJax.Hub.Config({SVG: {font: \"STIX-Web\"}});}\n",
       "        if (typeof require !== 'undefined') {\n",
       "        require.undef(\"plotly\");\n",
       "        requirejs.config({\n",
       "            paths: {\n",
       "                'plotly': ['https://cdn.plot.ly/plotly-latest.min']\n",
       "            }\n",
       "        });\n",
       "        require(['plotly'], function(Plotly) {\n",
       "            window._Plotly = Plotly;\n",
       "        });\n",
       "        }\n",
       "        </script>\n",
       "        "
      ]
     },
     "metadata": {},
     "output_type": "display_data"
    }
   ],
   "source": [
    "# For Notatbøker\n",
    "init_notebook_mode(connected=True)"
   ]
  },
  {
   "cell_type": "code",
   "execution_count": 5,
   "metadata": {},
   "outputs": [
    {
     "data": {
      "text/html": [
       "        <script type=\"text/javascript\">\n",
       "        window.PlotlyConfig = {MathJaxConfig: 'local'};\n",
       "        if (window.MathJax) {MathJax.Hub.Config({SVG: {font: \"STIX-Web\"}});}\n",
       "        if (typeof require !== 'undefined') {\n",
       "        require.undef(\"plotly\");\n",
       "        requirejs.config({\n",
       "            paths: {\n",
       "                'plotly': ['https://cdn.plot.ly/plotly-latest.min']\n",
       "            }\n",
       "        });\n",
       "        require(['plotly'], function(Plotly) {\n",
       "            window._Plotly = Plotly;\n",
       "        });\n",
       "        }\n",
       "        </script>\n",
       "        "
      ]
     },
     "metadata": {},
     "output_type": "display_data"
    }
   ],
   "source": [
    "# For offline bruk\n",
    "cf.go_offline()"
   ]
  },
  {
   "cell_type": "markdown",
   "metadata": {},
   "source": [
    "### Falsk Data"
   ]
  },
  {
   "cell_type": "code",
   "execution_count": 6,
   "metadata": {},
   "outputs": [],
   "source": []
  },
  {
   "cell_type": "code",
   "execution_count": 7,
   "metadata": {},
   "outputs": [
    {
     "data": {
      "text/html": [
       "<div>\n",
       "<style scoped>\n",
       "    .dataframe tbody tr th:only-of-type {\n",
       "        vertical-align: middle;\n",
       "    }\n",
       "\n",
       "    .dataframe tbody tr th {\n",
       "        vertical-align: top;\n",
       "    }\n",
       "\n",
       "    .dataframe thead th {\n",
       "        text-align: right;\n",
       "    }\n",
       "</style>\n",
       "<table border=\"1\" class=\"dataframe\">\n",
       "  <thead>\n",
       "    <tr style=\"text-align: right;\">\n",
       "      <th></th>\n",
       "      <th>A</th>\n",
       "      <th>B</th>\n",
       "      <th>C</th>\n",
       "      <th>D</th>\n",
       "    </tr>\n",
       "  </thead>\n",
       "  <tbody>\n",
       "    <tr>\n",
       "      <th>0</th>\n",
       "      <td>0.073695</td>\n",
       "      <td>0.876063</td>\n",
       "      <td>0.127893</td>\n",
       "      <td>-0.028510</td>\n",
       "    </tr>\n",
       "    <tr>\n",
       "      <th>1</th>\n",
       "      <td>0.105645</td>\n",
       "      <td>-0.646885</td>\n",
       "      <td>0.469526</td>\n",
       "      <td>-0.215237</td>\n",
       "    </tr>\n",
       "    <tr>\n",
       "      <th>2</th>\n",
       "      <td>-1.128769</td>\n",
       "      <td>0.846388</td>\n",
       "      <td>0.929116</td>\n",
       "      <td>-0.736270</td>\n",
       "    </tr>\n",
       "    <tr>\n",
       "      <th>3</th>\n",
       "      <td>0.580421</td>\n",
       "      <td>-1.248605</td>\n",
       "      <td>0.405153</td>\n",
       "      <td>0.666553</td>\n",
       "    </tr>\n",
       "    <tr>\n",
       "      <th>4</th>\n",
       "      <td>-0.197555</td>\n",
       "      <td>0.572452</td>\n",
       "      <td>-1.591746</td>\n",
       "      <td>-1.246728</td>\n",
       "    </tr>\n",
       "  </tbody>\n",
       "</table>\n",
       "</div>"
      ],
      "text/plain": [
       "          A         B         C         D\n",
       "0  0.073695  0.876063  0.127893 -0.028510\n",
       "1  0.105645 -0.646885  0.469526 -0.215237\n",
       "2 -1.128769  0.846388  0.929116 -0.736270\n",
       "3  0.580421 -1.248605  0.405153  0.666553\n",
       "4 -0.197555  0.572452 -1.591746 -1.246728"
      ]
     },
     "execution_count": 7,
     "metadata": {},
     "output_type": "execute_result"
    }
   ],
   "source": []
  },
  {
   "cell_type": "code",
   "execution_count": 8,
   "metadata": {},
   "outputs": [],
   "source": []
  },
  {
   "cell_type": "code",
   "execution_count": 9,
   "metadata": {},
   "outputs": [
    {
     "data": {
      "text/html": [
       "<div>\n",
       "<style scoped>\n",
       "    .dataframe tbody tr th:only-of-type {\n",
       "        vertical-align: middle;\n",
       "    }\n",
       "\n",
       "    .dataframe tbody tr th {\n",
       "        vertical-align: top;\n",
       "    }\n",
       "\n",
       "    .dataframe thead th {\n",
       "        text-align: right;\n",
       "    }\n",
       "</style>\n",
       "<table border=\"1\" class=\"dataframe\">\n",
       "  <thead>\n",
       "    <tr style=\"text-align: right;\">\n",
       "      <th></th>\n",
       "      <th>Category</th>\n",
       "      <th>Values</th>\n",
       "    </tr>\n",
       "  </thead>\n",
       "  <tbody>\n",
       "    <tr>\n",
       "      <th>0</th>\n",
       "      <td>A</td>\n",
       "      <td>32</td>\n",
       "    </tr>\n",
       "    <tr>\n",
       "      <th>1</th>\n",
       "      <td>B</td>\n",
       "      <td>43</td>\n",
       "    </tr>\n",
       "    <tr>\n",
       "      <th>2</th>\n",
       "      <td>C</td>\n",
       "      <td>50</td>\n",
       "    </tr>\n",
       "  </tbody>\n",
       "</table>\n",
       "</div>"
      ],
      "text/plain": [
       "  Category  Values\n",
       "0        A      32\n",
       "1        B      43\n",
       "2        C      50"
      ]
     },
     "execution_count": 9,
     "metadata": {},
     "output_type": "execute_result"
    }
   ],
   "source": []
  },
  {
   "cell_type": "markdown",
   "metadata": {},
   "source": [
    "## Bruk Cufflinks og iplot()\n",
    "\n",
    "* scatter\n",
    "* bar\n",
    "* box\n",
    "* spread\n",
    "* ratio\n",
    "* heatmap\n",
    "* surface\n",
    "* histogram\n",
    "* bubble"
   ]
  },
  {
   "cell_type": "markdown",
   "metadata": {},
   "source": [
    "## Scatter"
   ]
  },
  {
   "cell_type": "code",
   "execution_count": 10,
   "metadata": {},
   "outputs": [
    {
     "data": {
      "application/vnd.plotly.v1+json": {
       "config": {
        "linkText": "Export to plot.ly",
        "plotlyServerURL": "https://plot.ly",
        "showLink": true
       },
       "data": [
        {
         "line": {
          "color": "rgba(255, 153, 51, 1.0)",
          "dash": "solid",
          "shape": "linear",
          "width": 1.3
         },
         "marker": {
          "size": 10,
          "symbol": "circle"
         },
         "mode": "markers",
         "name": "B",
         "text": "",
         "type": "scatter",
         "x": [
          0.0736951981220984,
          0.10564450982575026,
          -1.1287694447333996,
          0.5804209406137681,
          -0.1975551948846452,
          0.1264092655386513,
          0.2705128014282348,
          1.1425313644674608,
          -0.0280792412700831,
          -0.6037165583522806,
          -0.6654841318855145,
          -1.9597696313373731,
          -1.0836549781822886,
          0.8471570960094061,
          -1.4615600928892374,
          -0.41078536958814904,
          -2.040699361169267,
          0.03962481326541074,
          0.5275072266760765,
          -0.2939643525656409,
          0.28928818085179875,
          1.0413465410746048,
          -1.1836578546572247,
          -0.9432476721762981,
          -0.8285532101291623,
          -0.4051234867711331,
          2.0230075514310504,
          0.24539260697434792,
          -0.63260779700234,
          -0.7209851109446794,
          -1.5488207454379541,
          -0.8946609686524443,
          -0.1560111806186542,
          0.17389857563037833,
          0.34740814171357554,
          1.2552555330233055,
          -1.0680286375215224,
          -0.4460336785120809,
          -0.1996834281899064,
          0.8924323239536869,
          0.4416882581368255,
          0.2508260886728522,
          -1.6456855994516686,
          0.7677774052108971,
          -0.9068972058860518,
          -0.9559144714011961,
          -0.187102476195743,
          1.1203398761012473,
          0.15400343406490505,
          -0.5716767762093942,
          0.5976009243300208,
          0.019204046059430244,
          0.0024198085521941032,
          1.784028158436303,
          -0.20428489651938,
          -1.4041165446986748,
          0.9323984369458973,
          -0.5792321434004235,
          -2.0574605006033773,
          2.0583283135948136,
          0.167330539255263,
          -0.019276383131392728,
          1.4073592874756022,
          0.9592641373019399,
          -0.7231633220254845,
          -0.3597844001060429,
          -1.1969527886841422,
          -0.8801864313510209,
          -0.5141408209575581,
          -0.7825125885524513,
          0.7313374148374697,
          0.5221236136962678,
          1.4226286857514743,
          1.4825898929007055,
          1.3502175382432609,
          -0.8734607406558281,
          0.49036406116569414,
          -0.2092285701075775,
          0.9907853107926903,
          0.5123736926600807,
          0.18562731086320133,
          0.11201148302314741,
          -1.3204449580069537,
          -1.0630589750114043,
          -0.04025987957865352,
          1.1620098202646922,
          -2.853232841408554,
          1.8238207602168894,
          -0.6531294969856558,
          -0.9313389600239237,
          -0.30879282255091245,
          -0.3056638243318225,
          -0.5476967922350982,
          -0.7754458161741501,
          1.2367277039729325,
          0.08827259124043836,
          0.148524136382813,
          -1.5636712919612268,
          -0.16549210257969663,
          0.21610877051097974
         ],
         "y": [
          0.8760632334770332,
          -0.6468852814860023,
          0.8463880807488549,
          -1.2486045806445114,
          0.5724518780888255,
          -0.5222352401518324,
          -0.9848639820820966,
          -1.172434871411764,
          -0.8998567452932995,
          -1.2796563113262798,
          -1.0480565656826892,
          -0.7634402829919783,
          1.5142055518437052,
          -1.6665767161291187,
          -0.03852048853563186,
          1.288301986016335,
          0.8328893246943083,
          1.1884783375293597,
          -0.344006079709632,
          0.05420622239569184,
          0.35614291823826333,
          -0.4251177572292302,
          -0.22119992788055953,
          -0.14388486839892725,
          -1.2901309732710033,
          1.0146604736907852,
          0.7320936884573455,
          -1.7023372292415306,
          -0.99830494317672,
          -1.4431123520848117,
          -1.3122709835767647,
          0.706659227847644,
          -0.26824366031343944,
          -0.537773843108674,
          0.5923198033966968,
          -0.5939754980108162,
          -1.8429067824553713,
          -1.630827733085515,
          1.9399034227472598,
          -1.0591735681626917,
          1.5417871098828368,
          0.011046675143945023,
          0.3676156017707326,
          -1.5191005828816142,
          -0.1867932057368553,
          -0.6953542088819678,
          -1.061523717386393,
          -1.635525405595693,
          1.271831465856645,
          0.3609749081277422,
          -0.4002786155440916,
          0.6349036683165985,
          -2.5085937439137402,
          0.2880263358078486,
          0.8233424851149163,
          1.4205334892581958,
          0.4042202557708223,
          0.7476270820089652,
          -0.5186637637058849,
          0.3383599270576156,
          0.8451776409075579,
          -0.25151697794483074,
          0.984125909044333,
          1.3375325230325705,
          -0.8324635804628554,
          -1.1563474953687112,
          -0.1623099218070929,
          0.17293006218943108,
          0.7792582364985289,
          -0.1617458745013657,
          0.7116848909522314,
          -0.6038785439652203,
          -2.0123878010301834,
          -0.9168735873139444,
          -0.17246519869176627,
          1.2130208387149017,
          1.834056203407502,
          0.02332111811513691,
          2.09391368645279,
          -0.4986945189622508,
          0.4942431022279809,
          0.3865218169769006,
          0.7644569069065226,
          1.8254559147171603,
          -0.4437851157118142,
          -0.7503594366043927,
          -0.31334366724654056,
          0.21073969489699934,
          -0.05636023614984949,
          -1.005982163864285,
          0.019568144859799623,
          -0.9677761425511624,
          1.7860590480146616,
          1.5026409498864475,
          0.2091060547287096,
          -0.5037908334274643,
          0.24140484190581732,
          -0.4311937741479804,
          0.4493686887025034,
          1.6091702365759928
         ]
        }
       ],
       "layout": {
        "legend": {
         "bgcolor": "#F5F6F9",
         "font": {
          "color": "#4D5663"
         }
        },
        "paper_bgcolor": "#F5F6F9",
        "plot_bgcolor": "#F5F6F9",
        "template": {
         "data": {
          "bar": [
           {
            "error_x": {
             "color": "#2a3f5f"
            },
            "error_y": {
             "color": "#2a3f5f"
            },
            "marker": {
             "line": {
              "color": "#E5ECF6",
              "width": 0.5
             }
            },
            "type": "bar"
           }
          ],
          "barpolar": [
           {
            "marker": {
             "line": {
              "color": "#E5ECF6",
              "width": 0.5
             }
            },
            "type": "barpolar"
           }
          ],
          "carpet": [
           {
            "aaxis": {
             "endlinecolor": "#2a3f5f",
             "gridcolor": "white",
             "linecolor": "white",
             "minorgridcolor": "white",
             "startlinecolor": "#2a3f5f"
            },
            "baxis": {
             "endlinecolor": "#2a3f5f",
             "gridcolor": "white",
             "linecolor": "white",
             "minorgridcolor": "white",
             "startlinecolor": "#2a3f5f"
            },
            "type": "carpet"
           }
          ],
          "choropleth": [
           {
            "colorbar": {
             "outlinewidth": 0,
             "ticks": ""
            },
            "type": "choropleth"
           }
          ],
          "contour": [
           {
            "colorbar": {
             "outlinewidth": 0,
             "ticks": ""
            },
            "colorscale": [
             [
              0,
              "#0d0887"
             ],
             [
              0.1111111111111111,
              "#46039f"
             ],
             [
              0.2222222222222222,
              "#7201a8"
             ],
             [
              0.3333333333333333,
              "#9c179e"
             ],
             [
              0.4444444444444444,
              "#bd3786"
             ],
             [
              0.5555555555555556,
              "#d8576b"
             ],
             [
              0.6666666666666666,
              "#ed7953"
             ],
             [
              0.7777777777777778,
              "#fb9f3a"
             ],
             [
              0.8888888888888888,
              "#fdca26"
             ],
             [
              1,
              "#f0f921"
             ]
            ],
            "type": "contour"
           }
          ],
          "contourcarpet": [
           {
            "colorbar": {
             "outlinewidth": 0,
             "ticks": ""
            },
            "type": "contourcarpet"
           }
          ],
          "heatmap": [
           {
            "colorbar": {
             "outlinewidth": 0,
             "ticks": ""
            },
            "colorscale": [
             [
              0,
              "#0d0887"
             ],
             [
              0.1111111111111111,
              "#46039f"
             ],
             [
              0.2222222222222222,
              "#7201a8"
             ],
             [
              0.3333333333333333,
              "#9c179e"
             ],
             [
              0.4444444444444444,
              "#bd3786"
             ],
             [
              0.5555555555555556,
              "#d8576b"
             ],
             [
              0.6666666666666666,
              "#ed7953"
             ],
             [
              0.7777777777777778,
              "#fb9f3a"
             ],
             [
              0.8888888888888888,
              "#fdca26"
             ],
             [
              1,
              "#f0f921"
             ]
            ],
            "type": "heatmap"
           }
          ],
          "heatmapgl": [
           {
            "colorbar": {
             "outlinewidth": 0,
             "ticks": ""
            },
            "colorscale": [
             [
              0,
              "#0d0887"
             ],
             [
              0.1111111111111111,
              "#46039f"
             ],
             [
              0.2222222222222222,
              "#7201a8"
             ],
             [
              0.3333333333333333,
              "#9c179e"
             ],
             [
              0.4444444444444444,
              "#bd3786"
             ],
             [
              0.5555555555555556,
              "#d8576b"
             ],
             [
              0.6666666666666666,
              "#ed7953"
             ],
             [
              0.7777777777777778,
              "#fb9f3a"
             ],
             [
              0.8888888888888888,
              "#fdca26"
             ],
             [
              1,
              "#f0f921"
             ]
            ],
            "type": "heatmapgl"
           }
          ],
          "histogram": [
           {
            "marker": {
             "colorbar": {
              "outlinewidth": 0,
              "ticks": ""
             }
            },
            "type": "histogram"
           }
          ],
          "histogram2d": [
           {
            "colorbar": {
             "outlinewidth": 0,
             "ticks": ""
            },
            "colorscale": [
             [
              0,
              "#0d0887"
             ],
             [
              0.1111111111111111,
              "#46039f"
             ],
             [
              0.2222222222222222,
              "#7201a8"
             ],
             [
              0.3333333333333333,
              "#9c179e"
             ],
             [
              0.4444444444444444,
              "#bd3786"
             ],
             [
              0.5555555555555556,
              "#d8576b"
             ],
             [
              0.6666666666666666,
              "#ed7953"
             ],
             [
              0.7777777777777778,
              "#fb9f3a"
             ],
             [
              0.8888888888888888,
              "#fdca26"
             ],
             [
              1,
              "#f0f921"
             ]
            ],
            "type": "histogram2d"
           }
          ],
          "histogram2dcontour": [
           {
            "colorbar": {
             "outlinewidth": 0,
             "ticks": ""
            },
            "colorscale": [
             [
              0,
              "#0d0887"
             ],
             [
              0.1111111111111111,
              "#46039f"
             ],
             [
              0.2222222222222222,
              "#7201a8"
             ],
             [
              0.3333333333333333,
              "#9c179e"
             ],
             [
              0.4444444444444444,
              "#bd3786"
             ],
             [
              0.5555555555555556,
              "#d8576b"
             ],
             [
              0.6666666666666666,
              "#ed7953"
             ],
             [
              0.7777777777777778,
              "#fb9f3a"
             ],
             [
              0.8888888888888888,
              "#fdca26"
             ],
             [
              1,
              "#f0f921"
             ]
            ],
            "type": "histogram2dcontour"
           }
          ],
          "mesh3d": [
           {
            "colorbar": {
             "outlinewidth": 0,
             "ticks": ""
            },
            "type": "mesh3d"
           }
          ],
          "parcoords": [
           {
            "line": {
             "colorbar": {
              "outlinewidth": 0,
              "ticks": ""
             }
            },
            "type": "parcoords"
           }
          ],
          "pie": [
           {
            "automargin": true,
            "type": "pie"
           }
          ],
          "scatter": [
           {
            "marker": {
             "colorbar": {
              "outlinewidth": 0,
              "ticks": ""
             }
            },
            "type": "scatter"
           }
          ],
          "scatter3d": [
           {
            "line": {
             "colorbar": {
              "outlinewidth": 0,
              "ticks": ""
             }
            },
            "marker": {
             "colorbar": {
              "outlinewidth": 0,
              "ticks": ""
             }
            },
            "type": "scatter3d"
           }
          ],
          "scattercarpet": [
           {
            "marker": {
             "colorbar": {
              "outlinewidth": 0,
              "ticks": ""
             }
            },
            "type": "scattercarpet"
           }
          ],
          "scattergeo": [
           {
            "marker": {
             "colorbar": {
              "outlinewidth": 0,
              "ticks": ""
             }
            },
            "type": "scattergeo"
           }
          ],
          "scattergl": [
           {
            "marker": {
             "colorbar": {
              "outlinewidth": 0,
              "ticks": ""
             }
            },
            "type": "scattergl"
           }
          ],
          "scattermapbox": [
           {
            "marker": {
             "colorbar": {
              "outlinewidth": 0,
              "ticks": ""
             }
            },
            "type": "scattermapbox"
           }
          ],
          "scatterpolar": [
           {
            "marker": {
             "colorbar": {
              "outlinewidth": 0,
              "ticks": ""
             }
            },
            "type": "scatterpolar"
           }
          ],
          "scatterpolargl": [
           {
            "marker": {
             "colorbar": {
              "outlinewidth": 0,
              "ticks": ""
             }
            },
            "type": "scatterpolargl"
           }
          ],
          "scatterternary": [
           {
            "marker": {
             "colorbar": {
              "outlinewidth": 0,
              "ticks": ""
             }
            },
            "type": "scatterternary"
           }
          ],
          "surface": [
           {
            "colorbar": {
             "outlinewidth": 0,
             "ticks": ""
            },
            "colorscale": [
             [
              0,
              "#0d0887"
             ],
             [
              0.1111111111111111,
              "#46039f"
             ],
             [
              0.2222222222222222,
              "#7201a8"
             ],
             [
              0.3333333333333333,
              "#9c179e"
             ],
             [
              0.4444444444444444,
              "#bd3786"
             ],
             [
              0.5555555555555556,
              "#d8576b"
             ],
             [
              0.6666666666666666,
              "#ed7953"
             ],
             [
              0.7777777777777778,
              "#fb9f3a"
             ],
             [
              0.8888888888888888,
              "#fdca26"
             ],
             [
              1,
              "#f0f921"
             ]
            ],
            "type": "surface"
           }
          ],
          "table": [
           {
            "cells": {
             "fill": {
              "color": "#EBF0F8"
             },
             "line": {
              "color": "white"
             }
            },
            "header": {
             "fill": {
              "color": "#C8D4E3"
             },
             "line": {
              "color": "white"
             }
            },
            "type": "table"
           }
          ]
         },
         "layout": {
          "annotationdefaults": {
           "arrowcolor": "#2a3f5f",
           "arrowhead": 0,
           "arrowwidth": 1
          },
          "autotypenumbers": "strict",
          "coloraxis": {
           "colorbar": {
            "outlinewidth": 0,
            "ticks": ""
           }
          },
          "colorscale": {
           "diverging": [
            [
             0,
             "#8e0152"
            ],
            [
             0.1,
             "#c51b7d"
            ],
            [
             0.2,
             "#de77ae"
            ],
            [
             0.3,
             "#f1b6da"
            ],
            [
             0.4,
             "#fde0ef"
            ],
            [
             0.5,
             "#f7f7f7"
            ],
            [
             0.6,
             "#e6f5d0"
            ],
            [
             0.7,
             "#b8e186"
            ],
            [
             0.8,
             "#7fbc41"
            ],
            [
             0.9,
             "#4d9221"
            ],
            [
             1,
             "#276419"
            ]
           ],
           "sequential": [
            [
             0,
             "#0d0887"
            ],
            [
             0.1111111111111111,
             "#46039f"
            ],
            [
             0.2222222222222222,
             "#7201a8"
            ],
            [
             0.3333333333333333,
             "#9c179e"
            ],
            [
             0.4444444444444444,
             "#bd3786"
            ],
            [
             0.5555555555555556,
             "#d8576b"
            ],
            [
             0.6666666666666666,
             "#ed7953"
            ],
            [
             0.7777777777777778,
             "#fb9f3a"
            ],
            [
             0.8888888888888888,
             "#fdca26"
            ],
            [
             1,
             "#f0f921"
            ]
           ],
           "sequentialminus": [
            [
             0,
             "#0d0887"
            ],
            [
             0.1111111111111111,
             "#46039f"
            ],
            [
             0.2222222222222222,
             "#7201a8"
            ],
            [
             0.3333333333333333,
             "#9c179e"
            ],
            [
             0.4444444444444444,
             "#bd3786"
            ],
            [
             0.5555555555555556,
             "#d8576b"
            ],
            [
             0.6666666666666666,
             "#ed7953"
            ],
            [
             0.7777777777777778,
             "#fb9f3a"
            ],
            [
             0.8888888888888888,
             "#fdca26"
            ],
            [
             1,
             "#f0f921"
            ]
           ]
          },
          "colorway": [
           "#636efa",
           "#EF553B",
           "#00cc96",
           "#ab63fa",
           "#FFA15A",
           "#19d3f3",
           "#FF6692",
           "#B6E880",
           "#FF97FF",
           "#FECB52"
          ],
          "font": {
           "color": "#2a3f5f"
          },
          "geo": {
           "bgcolor": "white",
           "lakecolor": "white",
           "landcolor": "#E5ECF6",
           "showlakes": true,
           "showland": true,
           "subunitcolor": "white"
          },
          "hoverlabel": {
           "align": "left"
          },
          "hovermode": "closest",
          "mapbox": {
           "style": "light"
          },
          "paper_bgcolor": "white",
          "plot_bgcolor": "#E5ECF6",
          "polar": {
           "angularaxis": {
            "gridcolor": "white",
            "linecolor": "white",
            "ticks": ""
           },
           "bgcolor": "#E5ECF6",
           "radialaxis": {
            "gridcolor": "white",
            "linecolor": "white",
            "ticks": ""
           }
          },
          "scene": {
           "xaxis": {
            "backgroundcolor": "#E5ECF6",
            "gridcolor": "white",
            "gridwidth": 2,
            "linecolor": "white",
            "showbackground": true,
            "ticks": "",
            "zerolinecolor": "white"
           },
           "yaxis": {
            "backgroundcolor": "#E5ECF6",
            "gridcolor": "white",
            "gridwidth": 2,
            "linecolor": "white",
            "showbackground": true,
            "ticks": "",
            "zerolinecolor": "white"
           },
           "zaxis": {
            "backgroundcolor": "#E5ECF6",
            "gridcolor": "white",
            "gridwidth": 2,
            "linecolor": "white",
            "showbackground": true,
            "ticks": "",
            "zerolinecolor": "white"
           }
          },
          "shapedefaults": {
           "line": {
            "color": "#2a3f5f"
           }
          },
          "ternary": {
           "aaxis": {
            "gridcolor": "white",
            "linecolor": "white",
            "ticks": ""
           },
           "baxis": {
            "gridcolor": "white",
            "linecolor": "white",
            "ticks": ""
           },
           "bgcolor": "#E5ECF6",
           "caxis": {
            "gridcolor": "white",
            "linecolor": "white",
            "ticks": ""
           }
          },
          "title": {
           "x": 0.05
          },
          "xaxis": {
           "automargin": true,
           "gridcolor": "white",
           "linecolor": "white",
           "ticks": "",
           "title": {
            "standoff": 15
           },
           "zerolinecolor": "white",
           "zerolinewidth": 2
          },
          "yaxis": {
           "automargin": true,
           "gridcolor": "white",
           "linecolor": "white",
           "ticks": "",
           "title": {
            "standoff": 15
           },
           "zerolinecolor": "white",
           "zerolinewidth": 2
          }
         }
        },
        "title": {
         "font": {
          "color": "#4D5663"
         }
        },
        "xaxis": {
         "gridcolor": "#E1E5ED",
         "showgrid": true,
         "tickfont": {
          "color": "#4D5663"
         },
         "title": {
          "font": {
           "color": "#4D5663"
          },
          "text": ""
         },
         "zerolinecolor": "#E1E5ED"
        },
        "yaxis": {
         "gridcolor": "#E1E5ED",
         "showgrid": true,
         "tickfont": {
          "color": "#4D5663"
         },
         "title": {
          "font": {
           "color": "#4D5663"
          },
          "text": ""
         },
         "zerolinecolor": "#E1E5ED"
        }
       }
      },
      "text/html": [
       "<div>                            <div id=\"19df7ada-00f8-428c-941f-b2167d16864b\" class=\"plotly-graph-div\" style=\"height:525px; width:100%;\"></div>            <script type=\"text/javascript\">                require([\"plotly\"], function(Plotly) {                    window.PLOTLYENV=window.PLOTLYENV || {};\n",
       "                    window.PLOTLYENV.BASE_URL='https://plot.ly';                                    if (document.getElementById(\"19df7ada-00f8-428c-941f-b2167d16864b\")) {                    Plotly.newPlot(                        \"19df7ada-00f8-428c-941f-b2167d16864b\",                        [{\"line\": {\"color\": \"rgba(255, 153, 51, 1.0)\", \"dash\": \"solid\", \"shape\": \"linear\", \"width\": 1.3}, \"marker\": {\"size\": 10, \"symbol\": \"circle\"}, \"mode\": \"markers\", \"name\": \"B\", \"text\": \"\", \"type\": \"scatter\", \"x\": [0.0736951981220984, 0.10564450982575026, -1.1287694447333996, 0.5804209406137681, -0.1975551948846452, 0.1264092655386513, 0.2705128014282348, 1.1425313644674608, -0.0280792412700831, -0.6037165583522806, -0.6654841318855145, -1.9597696313373731, -1.0836549781822886, 0.8471570960094061, -1.4615600928892374, -0.41078536958814904, -2.040699361169267, 0.03962481326541074, 0.5275072266760765, -0.2939643525656409, 0.28928818085179875, 1.0413465410746048, -1.1836578546572247, -0.9432476721762981, -0.8285532101291623, -0.4051234867711331, 2.0230075514310504, 0.24539260697434792, -0.63260779700234, -0.7209851109446794, -1.5488207454379541, -0.8946609686524443, -0.1560111806186542, 0.17389857563037833, 0.34740814171357554, 1.2552555330233055, -1.0680286375215224, -0.4460336785120809, -0.1996834281899064, 0.8924323239536869, 0.4416882581368255, 0.2508260886728522, -1.6456855994516686, 0.7677774052108971, -0.9068972058860518, -0.9559144714011961, -0.187102476195743, 1.1203398761012473, 0.15400343406490505, -0.5716767762093942, 0.5976009243300208, 0.019204046059430244, 0.0024198085521941032, 1.784028158436303, -0.20428489651938, -1.4041165446986748, 0.9323984369458973, -0.5792321434004235, -2.0574605006033773, 2.0583283135948136, 0.167330539255263, -0.019276383131392728, 1.4073592874756022, 0.9592641373019399, -0.7231633220254845, -0.3597844001060429, -1.1969527886841422, -0.8801864313510209, -0.5141408209575581, -0.7825125885524513, 0.7313374148374697, 0.5221236136962678, 1.4226286857514743, 1.4825898929007055, 1.3502175382432609, -0.8734607406558281, 0.49036406116569414, -0.2092285701075775, 0.9907853107926903, 0.5123736926600807, 0.18562731086320133, 0.11201148302314741, -1.3204449580069537, -1.0630589750114043, -0.04025987957865352, 1.1620098202646922, -2.853232841408554, 1.8238207602168894, -0.6531294969856558, -0.9313389600239237, -0.30879282255091245, -0.3056638243318225, -0.5476967922350982, -0.7754458161741501, 1.2367277039729325, 0.08827259124043836, 0.148524136382813, -1.5636712919612268, -0.16549210257969663, 0.21610877051097974], \"y\": [0.8760632334770332, -0.6468852814860023, 0.8463880807488549, -1.2486045806445114, 0.5724518780888255, -0.5222352401518324, -0.9848639820820966, -1.172434871411764, -0.8998567452932995, -1.2796563113262798, -1.0480565656826892, -0.7634402829919783, 1.5142055518437052, -1.6665767161291187, -0.03852048853563186, 1.288301986016335, 0.8328893246943083, 1.1884783375293597, -0.344006079709632, 0.05420622239569184, 0.35614291823826333, -0.4251177572292302, -0.22119992788055953, -0.14388486839892725, -1.2901309732710033, 1.0146604736907852, 0.7320936884573455, -1.7023372292415306, -0.99830494317672, -1.4431123520848117, -1.3122709835767647, 0.706659227847644, -0.26824366031343944, -0.537773843108674, 0.5923198033966968, -0.5939754980108162, -1.8429067824553713, -1.630827733085515, 1.9399034227472598, -1.0591735681626917, 1.5417871098828368, 0.011046675143945023, 0.3676156017707326, -1.5191005828816142, -0.1867932057368553, -0.6953542088819678, -1.061523717386393, -1.635525405595693, 1.271831465856645, 0.3609749081277422, -0.4002786155440916, 0.6349036683165985, -2.5085937439137402, 0.2880263358078486, 0.8233424851149163, 1.4205334892581958, 0.4042202557708223, 0.7476270820089652, -0.5186637637058849, 0.3383599270576156, 0.8451776409075579, -0.25151697794483074, 0.984125909044333, 1.3375325230325705, -0.8324635804628554, -1.1563474953687112, -0.1623099218070929, 0.17293006218943108, 0.7792582364985289, -0.1617458745013657, 0.7116848909522314, -0.6038785439652203, -2.0123878010301834, -0.9168735873139444, -0.17246519869176627, 1.2130208387149017, 1.834056203407502, 0.02332111811513691, 2.09391368645279, -0.4986945189622508, 0.4942431022279809, 0.3865218169769006, 0.7644569069065226, 1.8254559147171603, -0.4437851157118142, -0.7503594366043927, -0.31334366724654056, 0.21073969489699934, -0.05636023614984949, -1.005982163864285, 0.019568144859799623, -0.9677761425511624, 1.7860590480146616, 1.5026409498864475, 0.2091060547287096, -0.5037908334274643, 0.24140484190581732, -0.4311937741479804, 0.4493686887025034, 1.6091702365759928]}],                        {\"legend\": {\"bgcolor\": \"#F5F6F9\", \"font\": {\"color\": \"#4D5663\"}}, \"paper_bgcolor\": \"#F5F6F9\", \"plot_bgcolor\": \"#F5F6F9\", \"template\": {\"data\": {\"bar\": [{\"error_x\": {\"color\": \"#2a3f5f\"}, \"error_y\": {\"color\": \"#2a3f5f\"}, \"marker\": {\"line\": {\"color\": \"#E5ECF6\", \"width\": 0.5}}, \"type\": \"bar\"}], \"barpolar\": [{\"marker\": {\"line\": {\"color\": \"#E5ECF6\", \"width\": 0.5}}, \"type\": \"barpolar\"}], \"carpet\": [{\"aaxis\": {\"endlinecolor\": \"#2a3f5f\", \"gridcolor\": \"white\", \"linecolor\": \"white\", \"minorgridcolor\": \"white\", \"startlinecolor\": \"#2a3f5f\"}, \"baxis\": {\"endlinecolor\": \"#2a3f5f\", \"gridcolor\": \"white\", \"linecolor\": \"white\", \"minorgridcolor\": \"white\", \"startlinecolor\": \"#2a3f5f\"}, \"type\": \"carpet\"}], \"choropleth\": [{\"colorbar\": {\"outlinewidth\": 0, \"ticks\": \"\"}, \"type\": \"choropleth\"}], \"contour\": [{\"colorbar\": {\"outlinewidth\": 0, \"ticks\": \"\"}, \"colorscale\": [[0.0, \"#0d0887\"], [0.1111111111111111, \"#46039f\"], [0.2222222222222222, \"#7201a8\"], [0.3333333333333333, \"#9c179e\"], [0.4444444444444444, \"#bd3786\"], [0.5555555555555556, \"#d8576b\"], [0.6666666666666666, \"#ed7953\"], [0.7777777777777778, \"#fb9f3a\"], [0.8888888888888888, \"#fdca26\"], [1.0, \"#f0f921\"]], \"type\": \"contour\"}], \"contourcarpet\": [{\"colorbar\": {\"outlinewidth\": 0, \"ticks\": \"\"}, \"type\": \"contourcarpet\"}], \"heatmap\": [{\"colorbar\": {\"outlinewidth\": 0, \"ticks\": \"\"}, \"colorscale\": [[0.0, \"#0d0887\"], [0.1111111111111111, \"#46039f\"], [0.2222222222222222, \"#7201a8\"], [0.3333333333333333, \"#9c179e\"], [0.4444444444444444, \"#bd3786\"], [0.5555555555555556, \"#d8576b\"], [0.6666666666666666, \"#ed7953\"], [0.7777777777777778, \"#fb9f3a\"], [0.8888888888888888, \"#fdca26\"], [1.0, \"#f0f921\"]], \"type\": \"heatmap\"}], \"heatmapgl\": [{\"colorbar\": {\"outlinewidth\": 0, \"ticks\": \"\"}, \"colorscale\": [[0.0, \"#0d0887\"], [0.1111111111111111, \"#46039f\"], [0.2222222222222222, \"#7201a8\"], [0.3333333333333333, \"#9c179e\"], [0.4444444444444444, \"#bd3786\"], [0.5555555555555556, \"#d8576b\"], [0.6666666666666666, \"#ed7953\"], [0.7777777777777778, \"#fb9f3a\"], [0.8888888888888888, \"#fdca26\"], [1.0, \"#f0f921\"]], \"type\": \"heatmapgl\"}], \"histogram\": [{\"marker\": {\"colorbar\": {\"outlinewidth\": 0, \"ticks\": \"\"}}, \"type\": \"histogram\"}], \"histogram2d\": [{\"colorbar\": {\"outlinewidth\": 0, \"ticks\": \"\"}, \"colorscale\": [[0.0, \"#0d0887\"], [0.1111111111111111, \"#46039f\"], [0.2222222222222222, \"#7201a8\"], [0.3333333333333333, \"#9c179e\"], [0.4444444444444444, \"#bd3786\"], [0.5555555555555556, \"#d8576b\"], [0.6666666666666666, \"#ed7953\"], [0.7777777777777778, \"#fb9f3a\"], [0.8888888888888888, \"#fdca26\"], [1.0, \"#f0f921\"]], \"type\": \"histogram2d\"}], \"histogram2dcontour\": [{\"colorbar\": {\"outlinewidth\": 0, \"ticks\": \"\"}, \"colorscale\": [[0.0, \"#0d0887\"], [0.1111111111111111, \"#46039f\"], [0.2222222222222222, \"#7201a8\"], [0.3333333333333333, \"#9c179e\"], [0.4444444444444444, \"#bd3786\"], [0.5555555555555556, \"#d8576b\"], [0.6666666666666666, \"#ed7953\"], [0.7777777777777778, \"#fb9f3a\"], [0.8888888888888888, \"#fdca26\"], [1.0, \"#f0f921\"]], \"type\": \"histogram2dcontour\"}], \"mesh3d\": [{\"colorbar\": {\"outlinewidth\": 0, \"ticks\": \"\"}, \"type\": \"mesh3d\"}], \"parcoords\": [{\"line\": {\"colorbar\": {\"outlinewidth\": 0, \"ticks\": \"\"}}, \"type\": \"parcoords\"}], \"pie\": [{\"automargin\": true, \"type\": \"pie\"}], \"scatter\": [{\"marker\": {\"colorbar\": {\"outlinewidth\": 0, \"ticks\": \"\"}}, \"type\": \"scatter\"}], \"scatter3d\": [{\"line\": {\"colorbar\": {\"outlinewidth\": 0, \"ticks\": \"\"}}, \"marker\": {\"colorbar\": {\"outlinewidth\": 0, \"ticks\": \"\"}}, \"type\": \"scatter3d\"}], \"scattercarpet\": [{\"marker\": {\"colorbar\": {\"outlinewidth\": 0, \"ticks\": \"\"}}, \"type\": \"scattercarpet\"}], \"scattergeo\": [{\"marker\": {\"colorbar\": {\"outlinewidth\": 0, \"ticks\": \"\"}}, \"type\": \"scattergeo\"}], \"scattergl\": [{\"marker\": {\"colorbar\": {\"outlinewidth\": 0, \"ticks\": \"\"}}, \"type\": \"scattergl\"}], \"scattermapbox\": [{\"marker\": {\"colorbar\": {\"outlinewidth\": 0, \"ticks\": \"\"}}, \"type\": \"scattermapbox\"}], \"scatterpolar\": [{\"marker\": {\"colorbar\": {\"outlinewidth\": 0, \"ticks\": \"\"}}, \"type\": \"scatterpolar\"}], \"scatterpolargl\": [{\"marker\": {\"colorbar\": {\"outlinewidth\": 0, \"ticks\": \"\"}}, \"type\": \"scatterpolargl\"}], \"scatterternary\": [{\"marker\": {\"colorbar\": {\"outlinewidth\": 0, \"ticks\": \"\"}}, \"type\": \"scatterternary\"}], \"surface\": [{\"colorbar\": {\"outlinewidth\": 0, \"ticks\": \"\"}, \"colorscale\": [[0.0, \"#0d0887\"], [0.1111111111111111, \"#46039f\"], [0.2222222222222222, \"#7201a8\"], [0.3333333333333333, \"#9c179e\"], [0.4444444444444444, \"#bd3786\"], [0.5555555555555556, \"#d8576b\"], [0.6666666666666666, \"#ed7953\"], [0.7777777777777778, \"#fb9f3a\"], [0.8888888888888888, \"#fdca26\"], [1.0, \"#f0f921\"]], \"type\": \"surface\"}], \"table\": [{\"cells\": {\"fill\": {\"color\": \"#EBF0F8\"}, \"line\": {\"color\": \"white\"}}, \"header\": {\"fill\": {\"color\": \"#C8D4E3\"}, \"line\": {\"color\": \"white\"}}, \"type\": \"table\"}]}, \"layout\": {\"annotationdefaults\": {\"arrowcolor\": \"#2a3f5f\", \"arrowhead\": 0, \"arrowwidth\": 1}, \"autotypenumbers\": \"strict\", \"coloraxis\": {\"colorbar\": {\"outlinewidth\": 0, \"ticks\": \"\"}}, \"colorscale\": {\"diverging\": [[0, \"#8e0152\"], [0.1, \"#c51b7d\"], [0.2, \"#de77ae\"], [0.3, \"#f1b6da\"], [0.4, \"#fde0ef\"], [0.5, \"#f7f7f7\"], [0.6, \"#e6f5d0\"], [0.7, \"#b8e186\"], [0.8, \"#7fbc41\"], [0.9, \"#4d9221\"], [1, \"#276419\"]], \"sequential\": [[0.0, \"#0d0887\"], [0.1111111111111111, \"#46039f\"], [0.2222222222222222, \"#7201a8\"], [0.3333333333333333, \"#9c179e\"], [0.4444444444444444, \"#bd3786\"], [0.5555555555555556, \"#d8576b\"], [0.6666666666666666, \"#ed7953\"], [0.7777777777777778, \"#fb9f3a\"], [0.8888888888888888, \"#fdca26\"], [1.0, \"#f0f921\"]], \"sequentialminus\": [[0.0, \"#0d0887\"], [0.1111111111111111, \"#46039f\"], [0.2222222222222222, \"#7201a8\"], [0.3333333333333333, \"#9c179e\"], [0.4444444444444444, \"#bd3786\"], [0.5555555555555556, \"#d8576b\"], [0.6666666666666666, \"#ed7953\"], [0.7777777777777778, \"#fb9f3a\"], [0.8888888888888888, \"#fdca26\"], [1.0, \"#f0f921\"]]}, \"colorway\": [\"#636efa\", \"#EF553B\", \"#00cc96\", \"#ab63fa\", \"#FFA15A\", \"#19d3f3\", \"#FF6692\", \"#B6E880\", \"#FF97FF\", \"#FECB52\"], \"font\": {\"color\": \"#2a3f5f\"}, \"geo\": {\"bgcolor\": \"white\", \"lakecolor\": \"white\", \"landcolor\": \"#E5ECF6\", \"showlakes\": true, \"showland\": true, \"subunitcolor\": \"white\"}, \"hoverlabel\": {\"align\": \"left\"}, \"hovermode\": \"closest\", \"mapbox\": {\"style\": \"light\"}, \"paper_bgcolor\": \"white\", \"plot_bgcolor\": \"#E5ECF6\", \"polar\": {\"angularaxis\": {\"gridcolor\": \"white\", \"linecolor\": \"white\", \"ticks\": \"\"}, \"bgcolor\": \"#E5ECF6\", \"radialaxis\": {\"gridcolor\": \"white\", \"linecolor\": \"white\", \"ticks\": \"\"}}, \"scene\": {\"xaxis\": {\"backgroundcolor\": \"#E5ECF6\", \"gridcolor\": \"white\", \"gridwidth\": 2, \"linecolor\": \"white\", \"showbackground\": true, \"ticks\": \"\", \"zerolinecolor\": \"white\"}, \"yaxis\": {\"backgroundcolor\": \"#E5ECF6\", \"gridcolor\": \"white\", \"gridwidth\": 2, \"linecolor\": \"white\", \"showbackground\": true, \"ticks\": \"\", \"zerolinecolor\": \"white\"}, \"zaxis\": {\"backgroundcolor\": \"#E5ECF6\", \"gridcolor\": \"white\", \"gridwidth\": 2, \"linecolor\": \"white\", \"showbackground\": true, \"ticks\": \"\", \"zerolinecolor\": \"white\"}}, \"shapedefaults\": {\"line\": {\"color\": \"#2a3f5f\"}}, \"ternary\": {\"aaxis\": {\"gridcolor\": \"white\", \"linecolor\": \"white\", \"ticks\": \"\"}, \"baxis\": {\"gridcolor\": \"white\", \"linecolor\": \"white\", \"ticks\": \"\"}, \"bgcolor\": \"#E5ECF6\", \"caxis\": {\"gridcolor\": \"white\", \"linecolor\": \"white\", \"ticks\": \"\"}}, \"title\": {\"x\": 0.05}, \"xaxis\": {\"automargin\": true, \"gridcolor\": \"white\", \"linecolor\": \"white\", \"ticks\": \"\", \"title\": {\"standoff\": 15}, \"zerolinecolor\": \"white\", \"zerolinewidth\": 2}, \"yaxis\": {\"automargin\": true, \"gridcolor\": \"white\", \"linecolor\": \"white\", \"ticks\": \"\", \"title\": {\"standoff\": 15}, \"zerolinecolor\": \"white\", \"zerolinewidth\": 2}}}, \"title\": {\"font\": {\"color\": \"#4D5663\"}}, \"xaxis\": {\"gridcolor\": \"#E1E5ED\", \"showgrid\": true, \"tickfont\": {\"color\": \"#4D5663\"}, \"title\": {\"font\": {\"color\": \"#4D5663\"}, \"text\": \"\"}, \"zerolinecolor\": \"#E1E5ED\"}, \"yaxis\": {\"gridcolor\": \"#E1E5ED\", \"showgrid\": true, \"tickfont\": {\"color\": \"#4D5663\"}, \"title\": {\"font\": {\"color\": \"#4D5663\"}, \"text\": \"\"}, \"zerolinecolor\": \"#E1E5ED\"}},                        {\"showLink\": true, \"linkText\": \"Export to plot.ly\", \"plotlyServerURL\": \"https://plot.ly\", \"responsive\": true}                    ).then(function(){\n",
       "                            \n",
       "var gd = document.getElementById('19df7ada-00f8-428c-941f-b2167d16864b');\n",
       "var x = new MutationObserver(function (mutations, observer) {{\n",
       "        var display = window.getComputedStyle(gd).display;\n",
       "        if (!display || display === 'none') {{\n",
       "            console.log([gd, 'removed!']);\n",
       "            Plotly.purge(gd);\n",
       "            observer.disconnect();\n",
       "        }}\n",
       "}});\n",
       "\n",
       "// Listen for the removal of the full notebook cells\n",
       "var notebookContainer = gd.closest('#notebook-container');\n",
       "if (notebookContainer) {{\n",
       "    x.observe(notebookContainer, {childList: true});\n",
       "}}\n",
       "\n",
       "// Listen for the clearing of the current output cell\n",
       "var outputEl = gd.closest('.output');\n",
       "if (outputEl) {{\n",
       "    x.observe(outputEl, {childList: true});\n",
       "}}\n",
       "\n",
       "                        })                };                });            </script>        </div>"
      ]
     },
     "metadata": {},
     "output_type": "display_data"
    }
   ],
   "source": []
  },
  {
   "cell_type": "markdown",
   "metadata": {},
   "source": [
    "## Bar Plots"
   ]
  },
  {
   "cell_type": "code",
   "execution_count": 11,
   "metadata": {},
   "outputs": [
    {
     "data": {
      "application/vnd.plotly.v1+json": {
       "config": {
        "linkText": "Export to plot.ly",
        "plotlyServerURL": "https://plot.ly",
        "showLink": true
       },
       "data": [
        {
         "marker": {
          "color": "rgba(255, 153, 51, 0.6)",
          "line": {
           "color": "rgba(255, 153, 51, 1.0)",
           "width": 1
          }
         },
         "name": "Values",
         "orientation": "v",
         "text": "",
         "type": "bar",
         "x": [
          "A",
          "B",
          "C"
         ],
         "y": [
          32,
          43,
          50
         ]
        }
       ],
       "layout": {
        "legend": {
         "bgcolor": "#F5F6F9",
         "font": {
          "color": "#4D5663"
         }
        },
        "paper_bgcolor": "#F5F6F9",
        "plot_bgcolor": "#F5F6F9",
        "template": {
         "data": {
          "bar": [
           {
            "error_x": {
             "color": "#2a3f5f"
            },
            "error_y": {
             "color": "#2a3f5f"
            },
            "marker": {
             "line": {
              "color": "#E5ECF6",
              "width": 0.5
             }
            },
            "type": "bar"
           }
          ],
          "barpolar": [
           {
            "marker": {
             "line": {
              "color": "#E5ECF6",
              "width": 0.5
             }
            },
            "type": "barpolar"
           }
          ],
          "carpet": [
           {
            "aaxis": {
             "endlinecolor": "#2a3f5f",
             "gridcolor": "white",
             "linecolor": "white",
             "minorgridcolor": "white",
             "startlinecolor": "#2a3f5f"
            },
            "baxis": {
             "endlinecolor": "#2a3f5f",
             "gridcolor": "white",
             "linecolor": "white",
             "minorgridcolor": "white",
             "startlinecolor": "#2a3f5f"
            },
            "type": "carpet"
           }
          ],
          "choropleth": [
           {
            "colorbar": {
             "outlinewidth": 0,
             "ticks": ""
            },
            "type": "choropleth"
           }
          ],
          "contour": [
           {
            "colorbar": {
             "outlinewidth": 0,
             "ticks": ""
            },
            "colorscale": [
             [
              0,
              "#0d0887"
             ],
             [
              0.1111111111111111,
              "#46039f"
             ],
             [
              0.2222222222222222,
              "#7201a8"
             ],
             [
              0.3333333333333333,
              "#9c179e"
             ],
             [
              0.4444444444444444,
              "#bd3786"
             ],
             [
              0.5555555555555556,
              "#d8576b"
             ],
             [
              0.6666666666666666,
              "#ed7953"
             ],
             [
              0.7777777777777778,
              "#fb9f3a"
             ],
             [
              0.8888888888888888,
              "#fdca26"
             ],
             [
              1,
              "#f0f921"
             ]
            ],
            "type": "contour"
           }
          ],
          "contourcarpet": [
           {
            "colorbar": {
             "outlinewidth": 0,
             "ticks": ""
            },
            "type": "contourcarpet"
           }
          ],
          "heatmap": [
           {
            "colorbar": {
             "outlinewidth": 0,
             "ticks": ""
            },
            "colorscale": [
             [
              0,
              "#0d0887"
             ],
             [
              0.1111111111111111,
              "#46039f"
             ],
             [
              0.2222222222222222,
              "#7201a8"
             ],
             [
              0.3333333333333333,
              "#9c179e"
             ],
             [
              0.4444444444444444,
              "#bd3786"
             ],
             [
              0.5555555555555556,
              "#d8576b"
             ],
             [
              0.6666666666666666,
              "#ed7953"
             ],
             [
              0.7777777777777778,
              "#fb9f3a"
             ],
             [
              0.8888888888888888,
              "#fdca26"
             ],
             [
              1,
              "#f0f921"
             ]
            ],
            "type": "heatmap"
           }
          ],
          "heatmapgl": [
           {
            "colorbar": {
             "outlinewidth": 0,
             "ticks": ""
            },
            "colorscale": [
             [
              0,
              "#0d0887"
             ],
             [
              0.1111111111111111,
              "#46039f"
             ],
             [
              0.2222222222222222,
              "#7201a8"
             ],
             [
              0.3333333333333333,
              "#9c179e"
             ],
             [
              0.4444444444444444,
              "#bd3786"
             ],
             [
              0.5555555555555556,
              "#d8576b"
             ],
             [
              0.6666666666666666,
              "#ed7953"
             ],
             [
              0.7777777777777778,
              "#fb9f3a"
             ],
             [
              0.8888888888888888,
              "#fdca26"
             ],
             [
              1,
              "#f0f921"
             ]
            ],
            "type": "heatmapgl"
           }
          ],
          "histogram": [
           {
            "marker": {
             "colorbar": {
              "outlinewidth": 0,
              "ticks": ""
             }
            },
            "type": "histogram"
           }
          ],
          "histogram2d": [
           {
            "colorbar": {
             "outlinewidth": 0,
             "ticks": ""
            },
            "colorscale": [
             [
              0,
              "#0d0887"
             ],
             [
              0.1111111111111111,
              "#46039f"
             ],
             [
              0.2222222222222222,
              "#7201a8"
             ],
             [
              0.3333333333333333,
              "#9c179e"
             ],
             [
              0.4444444444444444,
              "#bd3786"
             ],
             [
              0.5555555555555556,
              "#d8576b"
             ],
             [
              0.6666666666666666,
              "#ed7953"
             ],
             [
              0.7777777777777778,
              "#fb9f3a"
             ],
             [
              0.8888888888888888,
              "#fdca26"
             ],
             [
              1,
              "#f0f921"
             ]
            ],
            "type": "histogram2d"
           }
          ],
          "histogram2dcontour": [
           {
            "colorbar": {
             "outlinewidth": 0,
             "ticks": ""
            },
            "colorscale": [
             [
              0,
              "#0d0887"
             ],
             [
              0.1111111111111111,
              "#46039f"
             ],
             [
              0.2222222222222222,
              "#7201a8"
             ],
             [
              0.3333333333333333,
              "#9c179e"
             ],
             [
              0.4444444444444444,
              "#bd3786"
             ],
             [
              0.5555555555555556,
              "#d8576b"
             ],
             [
              0.6666666666666666,
              "#ed7953"
             ],
             [
              0.7777777777777778,
              "#fb9f3a"
             ],
             [
              0.8888888888888888,
              "#fdca26"
             ],
             [
              1,
              "#f0f921"
             ]
            ],
            "type": "histogram2dcontour"
           }
          ],
          "mesh3d": [
           {
            "colorbar": {
             "outlinewidth": 0,
             "ticks": ""
            },
            "type": "mesh3d"
           }
          ],
          "parcoords": [
           {
            "line": {
             "colorbar": {
              "outlinewidth": 0,
              "ticks": ""
             }
            },
            "type": "parcoords"
           }
          ],
          "pie": [
           {
            "automargin": true,
            "type": "pie"
           }
          ],
          "scatter": [
           {
            "marker": {
             "colorbar": {
              "outlinewidth": 0,
              "ticks": ""
             }
            },
            "type": "scatter"
           }
          ],
          "scatter3d": [
           {
            "line": {
             "colorbar": {
              "outlinewidth": 0,
              "ticks": ""
             }
            },
            "marker": {
             "colorbar": {
              "outlinewidth": 0,
              "ticks": ""
             }
            },
            "type": "scatter3d"
           }
          ],
          "scattercarpet": [
           {
            "marker": {
             "colorbar": {
              "outlinewidth": 0,
              "ticks": ""
             }
            },
            "type": "scattercarpet"
           }
          ],
          "scattergeo": [
           {
            "marker": {
             "colorbar": {
              "outlinewidth": 0,
              "ticks": ""
             }
            },
            "type": "scattergeo"
           }
          ],
          "scattergl": [
           {
            "marker": {
             "colorbar": {
              "outlinewidth": 0,
              "ticks": ""
             }
            },
            "type": "scattergl"
           }
          ],
          "scattermapbox": [
           {
            "marker": {
             "colorbar": {
              "outlinewidth": 0,
              "ticks": ""
             }
            },
            "type": "scattermapbox"
           }
          ],
          "scatterpolar": [
           {
            "marker": {
             "colorbar": {
              "outlinewidth": 0,
              "ticks": ""
             }
            },
            "type": "scatterpolar"
           }
          ],
          "scatterpolargl": [
           {
            "marker": {
             "colorbar": {
              "outlinewidth": 0,
              "ticks": ""
             }
            },
            "type": "scatterpolargl"
           }
          ],
          "scatterternary": [
           {
            "marker": {
             "colorbar": {
              "outlinewidth": 0,
              "ticks": ""
             }
            },
            "type": "scatterternary"
           }
          ],
          "surface": [
           {
            "colorbar": {
             "outlinewidth": 0,
             "ticks": ""
            },
            "colorscale": [
             [
              0,
              "#0d0887"
             ],
             [
              0.1111111111111111,
              "#46039f"
             ],
             [
              0.2222222222222222,
              "#7201a8"
             ],
             [
              0.3333333333333333,
              "#9c179e"
             ],
             [
              0.4444444444444444,
              "#bd3786"
             ],
             [
              0.5555555555555556,
              "#d8576b"
             ],
             [
              0.6666666666666666,
              "#ed7953"
             ],
             [
              0.7777777777777778,
              "#fb9f3a"
             ],
             [
              0.8888888888888888,
              "#fdca26"
             ],
             [
              1,
              "#f0f921"
             ]
            ],
            "type": "surface"
           }
          ],
          "table": [
           {
            "cells": {
             "fill": {
              "color": "#EBF0F8"
             },
             "line": {
              "color": "white"
             }
            },
            "header": {
             "fill": {
              "color": "#C8D4E3"
             },
             "line": {
              "color": "white"
             }
            },
            "type": "table"
           }
          ]
         },
         "layout": {
          "annotationdefaults": {
           "arrowcolor": "#2a3f5f",
           "arrowhead": 0,
           "arrowwidth": 1
          },
          "autotypenumbers": "strict",
          "coloraxis": {
           "colorbar": {
            "outlinewidth": 0,
            "ticks": ""
           }
          },
          "colorscale": {
           "diverging": [
            [
             0,
             "#8e0152"
            ],
            [
             0.1,
             "#c51b7d"
            ],
            [
             0.2,
             "#de77ae"
            ],
            [
             0.3,
             "#f1b6da"
            ],
            [
             0.4,
             "#fde0ef"
            ],
            [
             0.5,
             "#f7f7f7"
            ],
            [
             0.6,
             "#e6f5d0"
            ],
            [
             0.7,
             "#b8e186"
            ],
            [
             0.8,
             "#7fbc41"
            ],
            [
             0.9,
             "#4d9221"
            ],
            [
             1,
             "#276419"
            ]
           ],
           "sequential": [
            [
             0,
             "#0d0887"
            ],
            [
             0.1111111111111111,
             "#46039f"
            ],
            [
             0.2222222222222222,
             "#7201a8"
            ],
            [
             0.3333333333333333,
             "#9c179e"
            ],
            [
             0.4444444444444444,
             "#bd3786"
            ],
            [
             0.5555555555555556,
             "#d8576b"
            ],
            [
             0.6666666666666666,
             "#ed7953"
            ],
            [
             0.7777777777777778,
             "#fb9f3a"
            ],
            [
             0.8888888888888888,
             "#fdca26"
            ],
            [
             1,
             "#f0f921"
            ]
           ],
           "sequentialminus": [
            [
             0,
             "#0d0887"
            ],
            [
             0.1111111111111111,
             "#46039f"
            ],
            [
             0.2222222222222222,
             "#7201a8"
            ],
            [
             0.3333333333333333,
             "#9c179e"
            ],
            [
             0.4444444444444444,
             "#bd3786"
            ],
            [
             0.5555555555555556,
             "#d8576b"
            ],
            [
             0.6666666666666666,
             "#ed7953"
            ],
            [
             0.7777777777777778,
             "#fb9f3a"
            ],
            [
             0.8888888888888888,
             "#fdca26"
            ],
            [
             1,
             "#f0f921"
            ]
           ]
          },
          "colorway": [
           "#636efa",
           "#EF553B",
           "#00cc96",
           "#ab63fa",
           "#FFA15A",
           "#19d3f3",
           "#FF6692",
           "#B6E880",
           "#FF97FF",
           "#FECB52"
          ],
          "font": {
           "color": "#2a3f5f"
          },
          "geo": {
           "bgcolor": "white",
           "lakecolor": "white",
           "landcolor": "#E5ECF6",
           "showlakes": true,
           "showland": true,
           "subunitcolor": "white"
          },
          "hoverlabel": {
           "align": "left"
          },
          "hovermode": "closest",
          "mapbox": {
           "style": "light"
          },
          "paper_bgcolor": "white",
          "plot_bgcolor": "#E5ECF6",
          "polar": {
           "angularaxis": {
            "gridcolor": "white",
            "linecolor": "white",
            "ticks": ""
           },
           "bgcolor": "#E5ECF6",
           "radialaxis": {
            "gridcolor": "white",
            "linecolor": "white",
            "ticks": ""
           }
          },
          "scene": {
           "xaxis": {
            "backgroundcolor": "#E5ECF6",
            "gridcolor": "white",
            "gridwidth": 2,
            "linecolor": "white",
            "showbackground": true,
            "ticks": "",
            "zerolinecolor": "white"
           },
           "yaxis": {
            "backgroundcolor": "#E5ECF6",
            "gridcolor": "white",
            "gridwidth": 2,
            "linecolor": "white",
            "showbackground": true,
            "ticks": "",
            "zerolinecolor": "white"
           },
           "zaxis": {
            "backgroundcolor": "#E5ECF6",
            "gridcolor": "white",
            "gridwidth": 2,
            "linecolor": "white",
            "showbackground": true,
            "ticks": "",
            "zerolinecolor": "white"
           }
          },
          "shapedefaults": {
           "line": {
            "color": "#2a3f5f"
           }
          },
          "ternary": {
           "aaxis": {
            "gridcolor": "white",
            "linecolor": "white",
            "ticks": ""
           },
           "baxis": {
            "gridcolor": "white",
            "linecolor": "white",
            "ticks": ""
           },
           "bgcolor": "#E5ECF6",
           "caxis": {
            "gridcolor": "white",
            "linecolor": "white",
            "ticks": ""
           }
          },
          "title": {
           "x": 0.05
          },
          "xaxis": {
           "automargin": true,
           "gridcolor": "white",
           "linecolor": "white",
           "ticks": "",
           "title": {
            "standoff": 15
           },
           "zerolinecolor": "white",
           "zerolinewidth": 2
          },
          "yaxis": {
           "automargin": true,
           "gridcolor": "white",
           "linecolor": "white",
           "ticks": "",
           "title": {
            "standoff": 15
           },
           "zerolinecolor": "white",
           "zerolinewidth": 2
          }
         }
        },
        "title": {
         "font": {
          "color": "#4D5663"
         }
        },
        "xaxis": {
         "gridcolor": "#E1E5ED",
         "showgrid": true,
         "tickfont": {
          "color": "#4D5663"
         },
         "title": {
          "font": {
           "color": "#4D5663"
          },
          "text": ""
         },
         "zerolinecolor": "#E1E5ED"
        },
        "yaxis": {
         "gridcolor": "#E1E5ED",
         "showgrid": true,
         "tickfont": {
          "color": "#4D5663"
         },
         "title": {
          "font": {
           "color": "#4D5663"
          },
          "text": ""
         },
         "zerolinecolor": "#E1E5ED"
        }
       }
      },
      "text/html": [
       "<div>                            <div id=\"42f0efb7-b206-46e4-8e7f-0b0982fc25fc\" class=\"plotly-graph-div\" style=\"height:525px; width:100%;\"></div>            <script type=\"text/javascript\">                require([\"plotly\"], function(Plotly) {                    window.PLOTLYENV=window.PLOTLYENV || {};\n",
       "                    window.PLOTLYENV.BASE_URL='https://plot.ly';                                    if (document.getElementById(\"42f0efb7-b206-46e4-8e7f-0b0982fc25fc\")) {                    Plotly.newPlot(                        \"42f0efb7-b206-46e4-8e7f-0b0982fc25fc\",                        [{\"marker\": {\"color\": \"rgba(255, 153, 51, 0.6)\", \"line\": {\"color\": \"rgba(255, 153, 51, 1.0)\", \"width\": 1}}, \"name\": \"Values\", \"orientation\": \"v\", \"text\": \"\", \"type\": \"bar\", \"x\": [\"A\", \"B\", \"C\"], \"y\": [32, 43, 50]}],                        {\"legend\": {\"bgcolor\": \"#F5F6F9\", \"font\": {\"color\": \"#4D5663\"}}, \"paper_bgcolor\": \"#F5F6F9\", \"plot_bgcolor\": \"#F5F6F9\", \"template\": {\"data\": {\"bar\": [{\"error_x\": {\"color\": \"#2a3f5f\"}, \"error_y\": {\"color\": \"#2a3f5f\"}, \"marker\": {\"line\": {\"color\": \"#E5ECF6\", \"width\": 0.5}}, \"type\": \"bar\"}], \"barpolar\": [{\"marker\": {\"line\": {\"color\": \"#E5ECF6\", \"width\": 0.5}}, \"type\": \"barpolar\"}], \"carpet\": [{\"aaxis\": {\"endlinecolor\": \"#2a3f5f\", \"gridcolor\": \"white\", \"linecolor\": \"white\", \"minorgridcolor\": \"white\", \"startlinecolor\": \"#2a3f5f\"}, \"baxis\": {\"endlinecolor\": \"#2a3f5f\", \"gridcolor\": \"white\", \"linecolor\": \"white\", \"minorgridcolor\": \"white\", \"startlinecolor\": \"#2a3f5f\"}, \"type\": \"carpet\"}], \"choropleth\": [{\"colorbar\": {\"outlinewidth\": 0, \"ticks\": \"\"}, \"type\": \"choropleth\"}], \"contour\": [{\"colorbar\": {\"outlinewidth\": 0, \"ticks\": \"\"}, \"colorscale\": [[0.0, \"#0d0887\"], [0.1111111111111111, \"#46039f\"], [0.2222222222222222, \"#7201a8\"], [0.3333333333333333, \"#9c179e\"], [0.4444444444444444, \"#bd3786\"], [0.5555555555555556, \"#d8576b\"], [0.6666666666666666, \"#ed7953\"], [0.7777777777777778, \"#fb9f3a\"], [0.8888888888888888, \"#fdca26\"], [1.0, \"#f0f921\"]], \"type\": \"contour\"}], \"contourcarpet\": [{\"colorbar\": {\"outlinewidth\": 0, \"ticks\": \"\"}, \"type\": \"contourcarpet\"}], \"heatmap\": [{\"colorbar\": {\"outlinewidth\": 0, \"ticks\": \"\"}, \"colorscale\": [[0.0, \"#0d0887\"], [0.1111111111111111, \"#46039f\"], [0.2222222222222222, \"#7201a8\"], [0.3333333333333333, \"#9c179e\"], [0.4444444444444444, \"#bd3786\"], [0.5555555555555556, \"#d8576b\"], [0.6666666666666666, \"#ed7953\"], [0.7777777777777778, \"#fb9f3a\"], [0.8888888888888888, \"#fdca26\"], [1.0, \"#f0f921\"]], \"type\": \"heatmap\"}], \"heatmapgl\": [{\"colorbar\": {\"outlinewidth\": 0, \"ticks\": \"\"}, \"colorscale\": [[0.0, \"#0d0887\"], [0.1111111111111111, \"#46039f\"], [0.2222222222222222, \"#7201a8\"], [0.3333333333333333, \"#9c179e\"], [0.4444444444444444, \"#bd3786\"], [0.5555555555555556, \"#d8576b\"], [0.6666666666666666, \"#ed7953\"], [0.7777777777777778, \"#fb9f3a\"], [0.8888888888888888, \"#fdca26\"], [1.0, \"#f0f921\"]], \"type\": \"heatmapgl\"}], \"histogram\": [{\"marker\": {\"colorbar\": {\"outlinewidth\": 0, \"ticks\": \"\"}}, \"type\": \"histogram\"}], \"histogram2d\": [{\"colorbar\": {\"outlinewidth\": 0, \"ticks\": \"\"}, \"colorscale\": [[0.0, \"#0d0887\"], [0.1111111111111111, \"#46039f\"], [0.2222222222222222, \"#7201a8\"], [0.3333333333333333, \"#9c179e\"], [0.4444444444444444, \"#bd3786\"], [0.5555555555555556, \"#d8576b\"], [0.6666666666666666, \"#ed7953\"], [0.7777777777777778, \"#fb9f3a\"], [0.8888888888888888, \"#fdca26\"], [1.0, \"#f0f921\"]], \"type\": \"histogram2d\"}], \"histogram2dcontour\": [{\"colorbar\": {\"outlinewidth\": 0, \"ticks\": \"\"}, \"colorscale\": [[0.0, \"#0d0887\"], [0.1111111111111111, \"#46039f\"], [0.2222222222222222, \"#7201a8\"], [0.3333333333333333, \"#9c179e\"], [0.4444444444444444, \"#bd3786\"], [0.5555555555555556, \"#d8576b\"], [0.6666666666666666, \"#ed7953\"], [0.7777777777777778, \"#fb9f3a\"], [0.8888888888888888, \"#fdca26\"], [1.0, \"#f0f921\"]], \"type\": \"histogram2dcontour\"}], \"mesh3d\": [{\"colorbar\": {\"outlinewidth\": 0, \"ticks\": \"\"}, \"type\": \"mesh3d\"}], \"parcoords\": [{\"line\": {\"colorbar\": {\"outlinewidth\": 0, \"ticks\": \"\"}}, \"type\": \"parcoords\"}], \"pie\": [{\"automargin\": true, \"type\": \"pie\"}], \"scatter\": [{\"marker\": {\"colorbar\": {\"outlinewidth\": 0, \"ticks\": \"\"}}, \"type\": \"scatter\"}], \"scatter3d\": [{\"line\": {\"colorbar\": {\"outlinewidth\": 0, \"ticks\": \"\"}}, \"marker\": {\"colorbar\": {\"outlinewidth\": 0, \"ticks\": \"\"}}, \"type\": \"scatter3d\"}], \"scattercarpet\": [{\"marker\": {\"colorbar\": {\"outlinewidth\": 0, \"ticks\": \"\"}}, \"type\": \"scattercarpet\"}], \"scattergeo\": [{\"marker\": {\"colorbar\": {\"outlinewidth\": 0, \"ticks\": \"\"}}, \"type\": \"scattergeo\"}], \"scattergl\": [{\"marker\": {\"colorbar\": {\"outlinewidth\": 0, \"ticks\": \"\"}}, \"type\": \"scattergl\"}], \"scattermapbox\": [{\"marker\": {\"colorbar\": {\"outlinewidth\": 0, \"ticks\": \"\"}}, \"type\": \"scattermapbox\"}], \"scatterpolar\": [{\"marker\": {\"colorbar\": {\"outlinewidth\": 0, \"ticks\": \"\"}}, \"type\": \"scatterpolar\"}], \"scatterpolargl\": [{\"marker\": {\"colorbar\": {\"outlinewidth\": 0, \"ticks\": \"\"}}, \"type\": \"scatterpolargl\"}], \"scatterternary\": [{\"marker\": {\"colorbar\": {\"outlinewidth\": 0, \"ticks\": \"\"}}, \"type\": \"scatterternary\"}], \"surface\": [{\"colorbar\": {\"outlinewidth\": 0, \"ticks\": \"\"}, \"colorscale\": [[0.0, \"#0d0887\"], [0.1111111111111111, \"#46039f\"], [0.2222222222222222, \"#7201a8\"], [0.3333333333333333, \"#9c179e\"], [0.4444444444444444, \"#bd3786\"], [0.5555555555555556, \"#d8576b\"], [0.6666666666666666, \"#ed7953\"], [0.7777777777777778, \"#fb9f3a\"], [0.8888888888888888, \"#fdca26\"], [1.0, \"#f0f921\"]], \"type\": \"surface\"}], \"table\": [{\"cells\": {\"fill\": {\"color\": \"#EBF0F8\"}, \"line\": {\"color\": \"white\"}}, \"header\": {\"fill\": {\"color\": \"#C8D4E3\"}, \"line\": {\"color\": \"white\"}}, \"type\": \"table\"}]}, \"layout\": {\"annotationdefaults\": {\"arrowcolor\": \"#2a3f5f\", \"arrowhead\": 0, \"arrowwidth\": 1}, \"autotypenumbers\": \"strict\", \"coloraxis\": {\"colorbar\": {\"outlinewidth\": 0, \"ticks\": \"\"}}, \"colorscale\": {\"diverging\": [[0, \"#8e0152\"], [0.1, \"#c51b7d\"], [0.2, \"#de77ae\"], [0.3, \"#f1b6da\"], [0.4, \"#fde0ef\"], [0.5, \"#f7f7f7\"], [0.6, \"#e6f5d0\"], [0.7, \"#b8e186\"], [0.8, \"#7fbc41\"], [0.9, \"#4d9221\"], [1, \"#276419\"]], \"sequential\": [[0.0, \"#0d0887\"], [0.1111111111111111, \"#46039f\"], [0.2222222222222222, \"#7201a8\"], [0.3333333333333333, \"#9c179e\"], [0.4444444444444444, \"#bd3786\"], [0.5555555555555556, \"#d8576b\"], [0.6666666666666666, \"#ed7953\"], [0.7777777777777778, \"#fb9f3a\"], [0.8888888888888888, \"#fdca26\"], [1.0, \"#f0f921\"]], \"sequentialminus\": [[0.0, \"#0d0887\"], [0.1111111111111111, \"#46039f\"], [0.2222222222222222, \"#7201a8\"], [0.3333333333333333, \"#9c179e\"], [0.4444444444444444, \"#bd3786\"], [0.5555555555555556, \"#d8576b\"], [0.6666666666666666, \"#ed7953\"], [0.7777777777777778, \"#fb9f3a\"], [0.8888888888888888, \"#fdca26\"], [1.0, \"#f0f921\"]]}, \"colorway\": [\"#636efa\", \"#EF553B\", \"#00cc96\", \"#ab63fa\", \"#FFA15A\", \"#19d3f3\", \"#FF6692\", \"#B6E880\", \"#FF97FF\", \"#FECB52\"], \"font\": {\"color\": \"#2a3f5f\"}, \"geo\": {\"bgcolor\": \"white\", \"lakecolor\": \"white\", \"landcolor\": \"#E5ECF6\", \"showlakes\": true, \"showland\": true, \"subunitcolor\": \"white\"}, \"hoverlabel\": {\"align\": \"left\"}, \"hovermode\": \"closest\", \"mapbox\": {\"style\": \"light\"}, \"paper_bgcolor\": \"white\", \"plot_bgcolor\": \"#E5ECF6\", \"polar\": {\"angularaxis\": {\"gridcolor\": \"white\", \"linecolor\": \"white\", \"ticks\": \"\"}, \"bgcolor\": \"#E5ECF6\", \"radialaxis\": {\"gridcolor\": \"white\", \"linecolor\": \"white\", \"ticks\": \"\"}}, \"scene\": {\"xaxis\": {\"backgroundcolor\": \"#E5ECF6\", \"gridcolor\": \"white\", \"gridwidth\": 2, \"linecolor\": \"white\", \"showbackground\": true, \"ticks\": \"\", \"zerolinecolor\": \"white\"}, \"yaxis\": {\"backgroundcolor\": \"#E5ECF6\", \"gridcolor\": \"white\", \"gridwidth\": 2, \"linecolor\": \"white\", \"showbackground\": true, \"ticks\": \"\", \"zerolinecolor\": \"white\"}, \"zaxis\": {\"backgroundcolor\": \"#E5ECF6\", \"gridcolor\": \"white\", \"gridwidth\": 2, \"linecolor\": \"white\", \"showbackground\": true, \"ticks\": \"\", \"zerolinecolor\": \"white\"}}, \"shapedefaults\": {\"line\": {\"color\": \"#2a3f5f\"}}, \"ternary\": {\"aaxis\": {\"gridcolor\": \"white\", \"linecolor\": \"white\", \"ticks\": \"\"}, \"baxis\": {\"gridcolor\": \"white\", \"linecolor\": \"white\", \"ticks\": \"\"}, \"bgcolor\": \"#E5ECF6\", \"caxis\": {\"gridcolor\": \"white\", \"linecolor\": \"white\", \"ticks\": \"\"}}, \"title\": {\"x\": 0.05}, \"xaxis\": {\"automargin\": true, \"gridcolor\": \"white\", \"linecolor\": \"white\", \"ticks\": \"\", \"title\": {\"standoff\": 15}, \"zerolinecolor\": \"white\", \"zerolinewidth\": 2}, \"yaxis\": {\"automargin\": true, \"gridcolor\": \"white\", \"linecolor\": \"white\", \"ticks\": \"\", \"title\": {\"standoff\": 15}, \"zerolinecolor\": \"white\", \"zerolinewidth\": 2}}}, \"title\": {\"font\": {\"color\": \"#4D5663\"}}, \"xaxis\": {\"gridcolor\": \"#E1E5ED\", \"showgrid\": true, \"tickfont\": {\"color\": \"#4D5663\"}, \"title\": {\"font\": {\"color\": \"#4D5663\"}, \"text\": \"\"}, \"zerolinecolor\": \"#E1E5ED\"}, \"yaxis\": {\"gridcolor\": \"#E1E5ED\", \"showgrid\": true, \"tickfont\": {\"color\": \"#4D5663\"}, \"title\": {\"font\": {\"color\": \"#4D5663\"}, \"text\": \"\"}, \"zerolinecolor\": \"#E1E5ED\"}},                        {\"showLink\": true, \"linkText\": \"Export to plot.ly\", \"plotlyServerURL\": \"https://plot.ly\", \"responsive\": true}                    ).then(function(){\n",
       "                            \n",
       "var gd = document.getElementById('42f0efb7-b206-46e4-8e7f-0b0982fc25fc');\n",
       "var x = new MutationObserver(function (mutations, observer) {{\n",
       "        var display = window.getComputedStyle(gd).display;\n",
       "        if (!display || display === 'none') {{\n",
       "            console.log([gd, 'removed!']);\n",
       "            Plotly.purge(gd);\n",
       "            observer.disconnect();\n",
       "        }}\n",
       "}});\n",
       "\n",
       "// Listen for the removal of the full notebook cells\n",
       "var notebookContainer = gd.closest('#notebook-container');\n",
       "if (notebookContainer) {{\n",
       "    x.observe(notebookContainer, {childList: true});\n",
       "}}\n",
       "\n",
       "// Listen for the clearing of the current output cell\n",
       "var outputEl = gd.closest('.output');\n",
       "if (outputEl) {{\n",
       "    x.observe(outputEl, {childList: true});\n",
       "}}\n",
       "\n",
       "                        })                };                });            </script>        </div>"
      ]
     },
     "metadata": {},
     "output_type": "display_data"
    }
   ],
   "source": []
  },
  {
   "cell_type": "code",
   "execution_count": 12,
   "metadata": {},
   "outputs": [
    {
     "data": {
      "application/vnd.plotly.v1+json": {
       "config": {
        "linkText": "Export to plot.ly",
        "plotlyServerURL": "https://plot.ly",
        "showLink": true
       },
       "data": [
        {
         "marker": {
          "color": "rgba(255, 153, 51, 0.6)",
          "line": {
           "color": "rgba(255, 153, 51, 1.0)",
           "width": 1
          }
         },
         "name": "None",
         "orientation": "v",
         "text": "",
         "type": "bar",
         "x": [
          "A",
          "B",
          "C",
          "D"
         ],
         "y": [
          100,
          100,
          100,
          100
         ]
        }
       ],
       "layout": {
        "legend": {
         "bgcolor": "#F5F6F9",
         "font": {
          "color": "#4D5663"
         }
        },
        "paper_bgcolor": "#F5F6F9",
        "plot_bgcolor": "#F5F6F9",
        "template": {
         "data": {
          "bar": [
           {
            "error_x": {
             "color": "#2a3f5f"
            },
            "error_y": {
             "color": "#2a3f5f"
            },
            "marker": {
             "line": {
              "color": "#E5ECF6",
              "width": 0.5
             }
            },
            "type": "bar"
           }
          ],
          "barpolar": [
           {
            "marker": {
             "line": {
              "color": "#E5ECF6",
              "width": 0.5
             }
            },
            "type": "barpolar"
           }
          ],
          "carpet": [
           {
            "aaxis": {
             "endlinecolor": "#2a3f5f",
             "gridcolor": "white",
             "linecolor": "white",
             "minorgridcolor": "white",
             "startlinecolor": "#2a3f5f"
            },
            "baxis": {
             "endlinecolor": "#2a3f5f",
             "gridcolor": "white",
             "linecolor": "white",
             "minorgridcolor": "white",
             "startlinecolor": "#2a3f5f"
            },
            "type": "carpet"
           }
          ],
          "choropleth": [
           {
            "colorbar": {
             "outlinewidth": 0,
             "ticks": ""
            },
            "type": "choropleth"
           }
          ],
          "contour": [
           {
            "colorbar": {
             "outlinewidth": 0,
             "ticks": ""
            },
            "colorscale": [
             [
              0,
              "#0d0887"
             ],
             [
              0.1111111111111111,
              "#46039f"
             ],
             [
              0.2222222222222222,
              "#7201a8"
             ],
             [
              0.3333333333333333,
              "#9c179e"
             ],
             [
              0.4444444444444444,
              "#bd3786"
             ],
             [
              0.5555555555555556,
              "#d8576b"
             ],
             [
              0.6666666666666666,
              "#ed7953"
             ],
             [
              0.7777777777777778,
              "#fb9f3a"
             ],
             [
              0.8888888888888888,
              "#fdca26"
             ],
             [
              1,
              "#f0f921"
             ]
            ],
            "type": "contour"
           }
          ],
          "contourcarpet": [
           {
            "colorbar": {
             "outlinewidth": 0,
             "ticks": ""
            },
            "type": "contourcarpet"
           }
          ],
          "heatmap": [
           {
            "colorbar": {
             "outlinewidth": 0,
             "ticks": ""
            },
            "colorscale": [
             [
              0,
              "#0d0887"
             ],
             [
              0.1111111111111111,
              "#46039f"
             ],
             [
              0.2222222222222222,
              "#7201a8"
             ],
             [
              0.3333333333333333,
              "#9c179e"
             ],
             [
              0.4444444444444444,
              "#bd3786"
             ],
             [
              0.5555555555555556,
              "#d8576b"
             ],
             [
              0.6666666666666666,
              "#ed7953"
             ],
             [
              0.7777777777777778,
              "#fb9f3a"
             ],
             [
              0.8888888888888888,
              "#fdca26"
             ],
             [
              1,
              "#f0f921"
             ]
            ],
            "type": "heatmap"
           }
          ],
          "heatmapgl": [
           {
            "colorbar": {
             "outlinewidth": 0,
             "ticks": ""
            },
            "colorscale": [
             [
              0,
              "#0d0887"
             ],
             [
              0.1111111111111111,
              "#46039f"
             ],
             [
              0.2222222222222222,
              "#7201a8"
             ],
             [
              0.3333333333333333,
              "#9c179e"
             ],
             [
              0.4444444444444444,
              "#bd3786"
             ],
             [
              0.5555555555555556,
              "#d8576b"
             ],
             [
              0.6666666666666666,
              "#ed7953"
             ],
             [
              0.7777777777777778,
              "#fb9f3a"
             ],
             [
              0.8888888888888888,
              "#fdca26"
             ],
             [
              1,
              "#f0f921"
             ]
            ],
            "type": "heatmapgl"
           }
          ],
          "histogram": [
           {
            "marker": {
             "colorbar": {
              "outlinewidth": 0,
              "ticks": ""
             }
            },
            "type": "histogram"
           }
          ],
          "histogram2d": [
           {
            "colorbar": {
             "outlinewidth": 0,
             "ticks": ""
            },
            "colorscale": [
             [
              0,
              "#0d0887"
             ],
             [
              0.1111111111111111,
              "#46039f"
             ],
             [
              0.2222222222222222,
              "#7201a8"
             ],
             [
              0.3333333333333333,
              "#9c179e"
             ],
             [
              0.4444444444444444,
              "#bd3786"
             ],
             [
              0.5555555555555556,
              "#d8576b"
             ],
             [
              0.6666666666666666,
              "#ed7953"
             ],
             [
              0.7777777777777778,
              "#fb9f3a"
             ],
             [
              0.8888888888888888,
              "#fdca26"
             ],
             [
              1,
              "#f0f921"
             ]
            ],
            "type": "histogram2d"
           }
          ],
          "histogram2dcontour": [
           {
            "colorbar": {
             "outlinewidth": 0,
             "ticks": ""
            },
            "colorscale": [
             [
              0,
              "#0d0887"
             ],
             [
              0.1111111111111111,
              "#46039f"
             ],
             [
              0.2222222222222222,
              "#7201a8"
             ],
             [
              0.3333333333333333,
              "#9c179e"
             ],
             [
              0.4444444444444444,
              "#bd3786"
             ],
             [
              0.5555555555555556,
              "#d8576b"
             ],
             [
              0.6666666666666666,
              "#ed7953"
             ],
             [
              0.7777777777777778,
              "#fb9f3a"
             ],
             [
              0.8888888888888888,
              "#fdca26"
             ],
             [
              1,
              "#f0f921"
             ]
            ],
            "type": "histogram2dcontour"
           }
          ],
          "mesh3d": [
           {
            "colorbar": {
             "outlinewidth": 0,
             "ticks": ""
            },
            "type": "mesh3d"
           }
          ],
          "parcoords": [
           {
            "line": {
             "colorbar": {
              "outlinewidth": 0,
              "ticks": ""
             }
            },
            "type": "parcoords"
           }
          ],
          "pie": [
           {
            "automargin": true,
            "type": "pie"
           }
          ],
          "scatter": [
           {
            "marker": {
             "colorbar": {
              "outlinewidth": 0,
              "ticks": ""
             }
            },
            "type": "scatter"
           }
          ],
          "scatter3d": [
           {
            "line": {
             "colorbar": {
              "outlinewidth": 0,
              "ticks": ""
             }
            },
            "marker": {
             "colorbar": {
              "outlinewidth": 0,
              "ticks": ""
             }
            },
            "type": "scatter3d"
           }
          ],
          "scattercarpet": [
           {
            "marker": {
             "colorbar": {
              "outlinewidth": 0,
              "ticks": ""
             }
            },
            "type": "scattercarpet"
           }
          ],
          "scattergeo": [
           {
            "marker": {
             "colorbar": {
              "outlinewidth": 0,
              "ticks": ""
             }
            },
            "type": "scattergeo"
           }
          ],
          "scattergl": [
           {
            "marker": {
             "colorbar": {
              "outlinewidth": 0,
              "ticks": ""
             }
            },
            "type": "scattergl"
           }
          ],
          "scattermapbox": [
           {
            "marker": {
             "colorbar": {
              "outlinewidth": 0,
              "ticks": ""
             }
            },
            "type": "scattermapbox"
           }
          ],
          "scatterpolar": [
           {
            "marker": {
             "colorbar": {
              "outlinewidth": 0,
              "ticks": ""
             }
            },
            "type": "scatterpolar"
           }
          ],
          "scatterpolargl": [
           {
            "marker": {
             "colorbar": {
              "outlinewidth": 0,
              "ticks": ""
             }
            },
            "type": "scatterpolargl"
           }
          ],
          "scatterternary": [
           {
            "marker": {
             "colorbar": {
              "outlinewidth": 0,
              "ticks": ""
             }
            },
            "type": "scatterternary"
           }
          ],
          "surface": [
           {
            "colorbar": {
             "outlinewidth": 0,
             "ticks": ""
            },
            "colorscale": [
             [
              0,
              "#0d0887"
             ],
             [
              0.1111111111111111,
              "#46039f"
             ],
             [
              0.2222222222222222,
              "#7201a8"
             ],
             [
              0.3333333333333333,
              "#9c179e"
             ],
             [
              0.4444444444444444,
              "#bd3786"
             ],
             [
              0.5555555555555556,
              "#d8576b"
             ],
             [
              0.6666666666666666,
              "#ed7953"
             ],
             [
              0.7777777777777778,
              "#fb9f3a"
             ],
             [
              0.8888888888888888,
              "#fdca26"
             ],
             [
              1,
              "#f0f921"
             ]
            ],
            "type": "surface"
           }
          ],
          "table": [
           {
            "cells": {
             "fill": {
              "color": "#EBF0F8"
             },
             "line": {
              "color": "white"
             }
            },
            "header": {
             "fill": {
              "color": "#C8D4E3"
             },
             "line": {
              "color": "white"
             }
            },
            "type": "table"
           }
          ]
         },
         "layout": {
          "annotationdefaults": {
           "arrowcolor": "#2a3f5f",
           "arrowhead": 0,
           "arrowwidth": 1
          },
          "autotypenumbers": "strict",
          "coloraxis": {
           "colorbar": {
            "outlinewidth": 0,
            "ticks": ""
           }
          },
          "colorscale": {
           "diverging": [
            [
             0,
             "#8e0152"
            ],
            [
             0.1,
             "#c51b7d"
            ],
            [
             0.2,
             "#de77ae"
            ],
            [
             0.3,
             "#f1b6da"
            ],
            [
             0.4,
             "#fde0ef"
            ],
            [
             0.5,
             "#f7f7f7"
            ],
            [
             0.6,
             "#e6f5d0"
            ],
            [
             0.7,
             "#b8e186"
            ],
            [
             0.8,
             "#7fbc41"
            ],
            [
             0.9,
             "#4d9221"
            ],
            [
             1,
             "#276419"
            ]
           ],
           "sequential": [
            [
             0,
             "#0d0887"
            ],
            [
             0.1111111111111111,
             "#46039f"
            ],
            [
             0.2222222222222222,
             "#7201a8"
            ],
            [
             0.3333333333333333,
             "#9c179e"
            ],
            [
             0.4444444444444444,
             "#bd3786"
            ],
            [
             0.5555555555555556,
             "#d8576b"
            ],
            [
             0.6666666666666666,
             "#ed7953"
            ],
            [
             0.7777777777777778,
             "#fb9f3a"
            ],
            [
             0.8888888888888888,
             "#fdca26"
            ],
            [
             1,
             "#f0f921"
            ]
           ],
           "sequentialminus": [
            [
             0,
             "#0d0887"
            ],
            [
             0.1111111111111111,
             "#46039f"
            ],
            [
             0.2222222222222222,
             "#7201a8"
            ],
            [
             0.3333333333333333,
             "#9c179e"
            ],
            [
             0.4444444444444444,
             "#bd3786"
            ],
            [
             0.5555555555555556,
             "#d8576b"
            ],
            [
             0.6666666666666666,
             "#ed7953"
            ],
            [
             0.7777777777777778,
             "#fb9f3a"
            ],
            [
             0.8888888888888888,
             "#fdca26"
            ],
            [
             1,
             "#f0f921"
            ]
           ]
          },
          "colorway": [
           "#636efa",
           "#EF553B",
           "#00cc96",
           "#ab63fa",
           "#FFA15A",
           "#19d3f3",
           "#FF6692",
           "#B6E880",
           "#FF97FF",
           "#FECB52"
          ],
          "font": {
           "color": "#2a3f5f"
          },
          "geo": {
           "bgcolor": "white",
           "lakecolor": "white",
           "landcolor": "#E5ECF6",
           "showlakes": true,
           "showland": true,
           "subunitcolor": "white"
          },
          "hoverlabel": {
           "align": "left"
          },
          "hovermode": "closest",
          "mapbox": {
           "style": "light"
          },
          "paper_bgcolor": "white",
          "plot_bgcolor": "#E5ECF6",
          "polar": {
           "angularaxis": {
            "gridcolor": "white",
            "linecolor": "white",
            "ticks": ""
           },
           "bgcolor": "#E5ECF6",
           "radialaxis": {
            "gridcolor": "white",
            "linecolor": "white",
            "ticks": ""
           }
          },
          "scene": {
           "xaxis": {
            "backgroundcolor": "#E5ECF6",
            "gridcolor": "white",
            "gridwidth": 2,
            "linecolor": "white",
            "showbackground": true,
            "ticks": "",
            "zerolinecolor": "white"
           },
           "yaxis": {
            "backgroundcolor": "#E5ECF6",
            "gridcolor": "white",
            "gridwidth": 2,
            "linecolor": "white",
            "showbackground": true,
            "ticks": "",
            "zerolinecolor": "white"
           },
           "zaxis": {
            "backgroundcolor": "#E5ECF6",
            "gridcolor": "white",
            "gridwidth": 2,
            "linecolor": "white",
            "showbackground": true,
            "ticks": "",
            "zerolinecolor": "white"
           }
          },
          "shapedefaults": {
           "line": {
            "color": "#2a3f5f"
           }
          },
          "ternary": {
           "aaxis": {
            "gridcolor": "white",
            "linecolor": "white",
            "ticks": ""
           },
           "baxis": {
            "gridcolor": "white",
            "linecolor": "white",
            "ticks": ""
           },
           "bgcolor": "#E5ECF6",
           "caxis": {
            "gridcolor": "white",
            "linecolor": "white",
            "ticks": ""
           }
          },
          "title": {
           "x": 0.05
          },
          "xaxis": {
           "automargin": true,
           "gridcolor": "white",
           "linecolor": "white",
           "ticks": "",
           "title": {
            "standoff": 15
           },
           "zerolinecolor": "white",
           "zerolinewidth": 2
          },
          "yaxis": {
           "automargin": true,
           "gridcolor": "white",
           "linecolor": "white",
           "ticks": "",
           "title": {
            "standoff": 15
           },
           "zerolinecolor": "white",
           "zerolinewidth": 2
          }
         }
        },
        "title": {
         "font": {
          "color": "#4D5663"
         }
        },
        "xaxis": {
         "gridcolor": "#E1E5ED",
         "showgrid": true,
         "tickfont": {
          "color": "#4D5663"
         },
         "title": {
          "font": {
           "color": "#4D5663"
          },
          "text": ""
         },
         "zerolinecolor": "#E1E5ED"
        },
        "yaxis": {
         "gridcolor": "#E1E5ED",
         "showgrid": true,
         "tickfont": {
          "color": "#4D5663"
         },
         "title": {
          "font": {
           "color": "#4D5663"
          },
          "text": ""
         },
         "zerolinecolor": "#E1E5ED"
        }
       }
      },
      "text/html": [
       "<div>                            <div id=\"a2a3f391-05d4-40d3-bce7-264b6f9e6cea\" class=\"plotly-graph-div\" style=\"height:525px; width:100%;\"></div>            <script type=\"text/javascript\">                require([\"plotly\"], function(Plotly) {                    window.PLOTLYENV=window.PLOTLYENV || {};\n",
       "                    window.PLOTLYENV.BASE_URL='https://plot.ly';                                    if (document.getElementById(\"a2a3f391-05d4-40d3-bce7-264b6f9e6cea\")) {                    Plotly.newPlot(                        \"a2a3f391-05d4-40d3-bce7-264b6f9e6cea\",                        [{\"marker\": {\"color\": \"rgba(255, 153, 51, 0.6)\", \"line\": {\"color\": \"rgba(255, 153, 51, 1.0)\", \"width\": 1}}, \"name\": \"None\", \"orientation\": \"v\", \"text\": \"\", \"type\": \"bar\", \"x\": [\"A\", \"B\", \"C\", \"D\"], \"y\": [100, 100, 100, 100]}],                        {\"legend\": {\"bgcolor\": \"#F5F6F9\", \"font\": {\"color\": \"#4D5663\"}}, \"paper_bgcolor\": \"#F5F6F9\", \"plot_bgcolor\": \"#F5F6F9\", \"template\": {\"data\": {\"bar\": [{\"error_x\": {\"color\": \"#2a3f5f\"}, \"error_y\": {\"color\": \"#2a3f5f\"}, \"marker\": {\"line\": {\"color\": \"#E5ECF6\", \"width\": 0.5}}, \"type\": \"bar\"}], \"barpolar\": [{\"marker\": {\"line\": {\"color\": \"#E5ECF6\", \"width\": 0.5}}, \"type\": \"barpolar\"}], \"carpet\": [{\"aaxis\": {\"endlinecolor\": \"#2a3f5f\", \"gridcolor\": \"white\", \"linecolor\": \"white\", \"minorgridcolor\": \"white\", \"startlinecolor\": \"#2a3f5f\"}, \"baxis\": {\"endlinecolor\": \"#2a3f5f\", \"gridcolor\": \"white\", \"linecolor\": \"white\", \"minorgridcolor\": \"white\", \"startlinecolor\": \"#2a3f5f\"}, \"type\": \"carpet\"}], \"choropleth\": [{\"colorbar\": {\"outlinewidth\": 0, \"ticks\": \"\"}, \"type\": \"choropleth\"}], \"contour\": [{\"colorbar\": {\"outlinewidth\": 0, \"ticks\": \"\"}, \"colorscale\": [[0.0, \"#0d0887\"], [0.1111111111111111, \"#46039f\"], [0.2222222222222222, \"#7201a8\"], [0.3333333333333333, \"#9c179e\"], [0.4444444444444444, \"#bd3786\"], [0.5555555555555556, \"#d8576b\"], [0.6666666666666666, \"#ed7953\"], [0.7777777777777778, \"#fb9f3a\"], [0.8888888888888888, \"#fdca26\"], [1.0, \"#f0f921\"]], \"type\": \"contour\"}], \"contourcarpet\": [{\"colorbar\": {\"outlinewidth\": 0, \"ticks\": \"\"}, \"type\": \"contourcarpet\"}], \"heatmap\": [{\"colorbar\": {\"outlinewidth\": 0, \"ticks\": \"\"}, \"colorscale\": [[0.0, \"#0d0887\"], [0.1111111111111111, \"#46039f\"], [0.2222222222222222, \"#7201a8\"], [0.3333333333333333, \"#9c179e\"], [0.4444444444444444, \"#bd3786\"], [0.5555555555555556, \"#d8576b\"], [0.6666666666666666, \"#ed7953\"], [0.7777777777777778, \"#fb9f3a\"], [0.8888888888888888, \"#fdca26\"], [1.0, \"#f0f921\"]], \"type\": \"heatmap\"}], \"heatmapgl\": [{\"colorbar\": {\"outlinewidth\": 0, \"ticks\": \"\"}, \"colorscale\": [[0.0, \"#0d0887\"], [0.1111111111111111, \"#46039f\"], [0.2222222222222222, \"#7201a8\"], [0.3333333333333333, \"#9c179e\"], [0.4444444444444444, \"#bd3786\"], [0.5555555555555556, \"#d8576b\"], [0.6666666666666666, \"#ed7953\"], [0.7777777777777778, \"#fb9f3a\"], [0.8888888888888888, \"#fdca26\"], [1.0, \"#f0f921\"]], \"type\": \"heatmapgl\"}], \"histogram\": [{\"marker\": {\"colorbar\": {\"outlinewidth\": 0, \"ticks\": \"\"}}, \"type\": \"histogram\"}], \"histogram2d\": [{\"colorbar\": {\"outlinewidth\": 0, \"ticks\": \"\"}, \"colorscale\": [[0.0, \"#0d0887\"], [0.1111111111111111, \"#46039f\"], [0.2222222222222222, \"#7201a8\"], [0.3333333333333333, \"#9c179e\"], [0.4444444444444444, \"#bd3786\"], [0.5555555555555556, \"#d8576b\"], [0.6666666666666666, \"#ed7953\"], [0.7777777777777778, \"#fb9f3a\"], [0.8888888888888888, \"#fdca26\"], [1.0, \"#f0f921\"]], \"type\": \"histogram2d\"}], \"histogram2dcontour\": [{\"colorbar\": {\"outlinewidth\": 0, \"ticks\": \"\"}, \"colorscale\": [[0.0, \"#0d0887\"], [0.1111111111111111, \"#46039f\"], [0.2222222222222222, \"#7201a8\"], [0.3333333333333333, \"#9c179e\"], [0.4444444444444444, \"#bd3786\"], [0.5555555555555556, \"#d8576b\"], [0.6666666666666666, \"#ed7953\"], [0.7777777777777778, \"#fb9f3a\"], [0.8888888888888888, \"#fdca26\"], [1.0, \"#f0f921\"]], \"type\": \"histogram2dcontour\"}], \"mesh3d\": [{\"colorbar\": {\"outlinewidth\": 0, \"ticks\": \"\"}, \"type\": \"mesh3d\"}], \"parcoords\": [{\"line\": {\"colorbar\": {\"outlinewidth\": 0, \"ticks\": \"\"}}, \"type\": \"parcoords\"}], \"pie\": [{\"automargin\": true, \"type\": \"pie\"}], \"scatter\": [{\"marker\": {\"colorbar\": {\"outlinewidth\": 0, \"ticks\": \"\"}}, \"type\": \"scatter\"}], \"scatter3d\": [{\"line\": {\"colorbar\": {\"outlinewidth\": 0, \"ticks\": \"\"}}, \"marker\": {\"colorbar\": {\"outlinewidth\": 0, \"ticks\": \"\"}}, \"type\": \"scatter3d\"}], \"scattercarpet\": [{\"marker\": {\"colorbar\": {\"outlinewidth\": 0, \"ticks\": \"\"}}, \"type\": \"scattercarpet\"}], \"scattergeo\": [{\"marker\": {\"colorbar\": {\"outlinewidth\": 0, \"ticks\": \"\"}}, \"type\": \"scattergeo\"}], \"scattergl\": [{\"marker\": {\"colorbar\": {\"outlinewidth\": 0, \"ticks\": \"\"}}, \"type\": \"scattergl\"}], \"scattermapbox\": [{\"marker\": {\"colorbar\": {\"outlinewidth\": 0, \"ticks\": \"\"}}, \"type\": \"scattermapbox\"}], \"scatterpolar\": [{\"marker\": {\"colorbar\": {\"outlinewidth\": 0, \"ticks\": \"\"}}, \"type\": \"scatterpolar\"}], \"scatterpolargl\": [{\"marker\": {\"colorbar\": {\"outlinewidth\": 0, \"ticks\": \"\"}}, \"type\": \"scatterpolargl\"}], \"scatterternary\": [{\"marker\": {\"colorbar\": {\"outlinewidth\": 0, \"ticks\": \"\"}}, \"type\": \"scatterternary\"}], \"surface\": [{\"colorbar\": {\"outlinewidth\": 0, \"ticks\": \"\"}, \"colorscale\": [[0.0, \"#0d0887\"], [0.1111111111111111, \"#46039f\"], [0.2222222222222222, \"#7201a8\"], [0.3333333333333333, \"#9c179e\"], [0.4444444444444444, \"#bd3786\"], [0.5555555555555556, \"#d8576b\"], [0.6666666666666666, \"#ed7953\"], [0.7777777777777778, \"#fb9f3a\"], [0.8888888888888888, \"#fdca26\"], [1.0, \"#f0f921\"]], \"type\": \"surface\"}], \"table\": [{\"cells\": {\"fill\": {\"color\": \"#EBF0F8\"}, \"line\": {\"color\": \"white\"}}, \"header\": {\"fill\": {\"color\": \"#C8D4E3\"}, \"line\": {\"color\": \"white\"}}, \"type\": \"table\"}]}, \"layout\": {\"annotationdefaults\": {\"arrowcolor\": \"#2a3f5f\", \"arrowhead\": 0, \"arrowwidth\": 1}, \"autotypenumbers\": \"strict\", \"coloraxis\": {\"colorbar\": {\"outlinewidth\": 0, \"ticks\": \"\"}}, \"colorscale\": {\"diverging\": [[0, \"#8e0152\"], [0.1, \"#c51b7d\"], [0.2, \"#de77ae\"], [0.3, \"#f1b6da\"], [0.4, \"#fde0ef\"], [0.5, \"#f7f7f7\"], [0.6, \"#e6f5d0\"], [0.7, \"#b8e186\"], [0.8, \"#7fbc41\"], [0.9, \"#4d9221\"], [1, \"#276419\"]], \"sequential\": [[0.0, \"#0d0887\"], [0.1111111111111111, \"#46039f\"], [0.2222222222222222, \"#7201a8\"], [0.3333333333333333, \"#9c179e\"], [0.4444444444444444, \"#bd3786\"], [0.5555555555555556, \"#d8576b\"], [0.6666666666666666, \"#ed7953\"], [0.7777777777777778, \"#fb9f3a\"], [0.8888888888888888, \"#fdca26\"], [1.0, \"#f0f921\"]], \"sequentialminus\": [[0.0, \"#0d0887\"], [0.1111111111111111, \"#46039f\"], [0.2222222222222222, \"#7201a8\"], [0.3333333333333333, \"#9c179e\"], [0.4444444444444444, \"#bd3786\"], [0.5555555555555556, \"#d8576b\"], [0.6666666666666666, \"#ed7953\"], [0.7777777777777778, \"#fb9f3a\"], [0.8888888888888888, \"#fdca26\"], [1.0, \"#f0f921\"]]}, \"colorway\": [\"#636efa\", \"#EF553B\", \"#00cc96\", \"#ab63fa\", \"#FFA15A\", \"#19d3f3\", \"#FF6692\", \"#B6E880\", \"#FF97FF\", \"#FECB52\"], \"font\": {\"color\": \"#2a3f5f\"}, \"geo\": {\"bgcolor\": \"white\", \"lakecolor\": \"white\", \"landcolor\": \"#E5ECF6\", \"showlakes\": true, \"showland\": true, \"subunitcolor\": \"white\"}, \"hoverlabel\": {\"align\": \"left\"}, \"hovermode\": \"closest\", \"mapbox\": {\"style\": \"light\"}, \"paper_bgcolor\": \"white\", \"plot_bgcolor\": \"#E5ECF6\", \"polar\": {\"angularaxis\": {\"gridcolor\": \"white\", \"linecolor\": \"white\", \"ticks\": \"\"}, \"bgcolor\": \"#E5ECF6\", \"radialaxis\": {\"gridcolor\": \"white\", \"linecolor\": \"white\", \"ticks\": \"\"}}, \"scene\": {\"xaxis\": {\"backgroundcolor\": \"#E5ECF6\", \"gridcolor\": \"white\", \"gridwidth\": 2, \"linecolor\": \"white\", \"showbackground\": true, \"ticks\": \"\", \"zerolinecolor\": \"white\"}, \"yaxis\": {\"backgroundcolor\": \"#E5ECF6\", \"gridcolor\": \"white\", \"gridwidth\": 2, \"linecolor\": \"white\", \"showbackground\": true, \"ticks\": \"\", \"zerolinecolor\": \"white\"}, \"zaxis\": {\"backgroundcolor\": \"#E5ECF6\", \"gridcolor\": \"white\", \"gridwidth\": 2, \"linecolor\": \"white\", \"showbackground\": true, \"ticks\": \"\", \"zerolinecolor\": \"white\"}}, \"shapedefaults\": {\"line\": {\"color\": \"#2a3f5f\"}}, \"ternary\": {\"aaxis\": {\"gridcolor\": \"white\", \"linecolor\": \"white\", \"ticks\": \"\"}, \"baxis\": {\"gridcolor\": \"white\", \"linecolor\": \"white\", \"ticks\": \"\"}, \"bgcolor\": \"#E5ECF6\", \"caxis\": {\"gridcolor\": \"white\", \"linecolor\": \"white\", \"ticks\": \"\"}}, \"title\": {\"x\": 0.05}, \"xaxis\": {\"automargin\": true, \"gridcolor\": \"white\", \"linecolor\": \"white\", \"ticks\": \"\", \"title\": {\"standoff\": 15}, \"zerolinecolor\": \"white\", \"zerolinewidth\": 2}, \"yaxis\": {\"automargin\": true, \"gridcolor\": \"white\", \"linecolor\": \"white\", \"ticks\": \"\", \"title\": {\"standoff\": 15}, \"zerolinecolor\": \"white\", \"zerolinewidth\": 2}}}, \"title\": {\"font\": {\"color\": \"#4D5663\"}}, \"xaxis\": {\"gridcolor\": \"#E1E5ED\", \"showgrid\": true, \"tickfont\": {\"color\": \"#4D5663\"}, \"title\": {\"font\": {\"color\": \"#4D5663\"}, \"text\": \"\"}, \"zerolinecolor\": \"#E1E5ED\"}, \"yaxis\": {\"gridcolor\": \"#E1E5ED\", \"showgrid\": true, \"tickfont\": {\"color\": \"#4D5663\"}, \"title\": {\"font\": {\"color\": \"#4D5663\"}, \"text\": \"\"}, \"zerolinecolor\": \"#E1E5ED\"}},                        {\"showLink\": true, \"linkText\": \"Export to plot.ly\", \"plotlyServerURL\": \"https://plot.ly\", \"responsive\": true}                    ).then(function(){\n",
       "                            \n",
       "var gd = document.getElementById('a2a3f391-05d4-40d3-bce7-264b6f9e6cea');\n",
       "var x = new MutationObserver(function (mutations, observer) {{\n",
       "        var display = window.getComputedStyle(gd).display;\n",
       "        if (!display || display === 'none') {{\n",
       "            console.log([gd, 'removed!']);\n",
       "            Plotly.purge(gd);\n",
       "            observer.disconnect();\n",
       "        }}\n",
       "}});\n",
       "\n",
       "// Listen for the removal of the full notebook cells\n",
       "var notebookContainer = gd.closest('#notebook-container');\n",
       "if (notebookContainer) {{\n",
       "    x.observe(notebookContainer, {childList: true});\n",
       "}}\n",
       "\n",
       "// Listen for the clearing of the current output cell\n",
       "var outputEl = gd.closest('.output');\n",
       "if (outputEl) {{\n",
       "    x.observe(outputEl, {childList: true});\n",
       "}}\n",
       "\n",
       "                        })                };                });            </script>        </div>"
      ]
     },
     "metadata": {},
     "output_type": "display_data"
    }
   ],
   "source": []
  },
  {
   "cell_type": "markdown",
   "metadata": {},
   "source": [
    "## Boxplots"
   ]
  },
  {
   "cell_type": "code",
   "execution_count": 13,
   "metadata": {},
   "outputs": [
    {
     "data": {
      "application/vnd.plotly.v1+json": {
       "config": {
        "linkText": "Export to plot.ly",
        "plotlyServerURL": "https://plot.ly",
        "showLink": true
       },
       "data": [
        {
         "boxpoints": false,
         "line": {
          "width": 1.3
         },
         "marker": {
          "color": "rgba(255, 153, 51, 1.0)"
         },
         "name": "A",
         "orientation": "v",
         "type": "box",
         "y": [
          0.0736951981220984,
          0.10564450982575026,
          -1.1287694447333996,
          0.5804209406137681,
          -0.1975551948846452,
          0.1264092655386513,
          0.2705128014282348,
          1.1425313644674608,
          -0.0280792412700831,
          -0.6037165583522806,
          -0.6654841318855145,
          -1.9597696313373731,
          -1.0836549781822886,
          0.8471570960094061,
          -1.4615600928892374,
          -0.41078536958814904,
          -2.040699361169267,
          0.03962481326541074,
          0.5275072266760765,
          -0.2939643525656409,
          0.28928818085179875,
          1.0413465410746048,
          -1.1836578546572247,
          -0.9432476721762981,
          -0.8285532101291623,
          -0.4051234867711331,
          2.0230075514310504,
          0.24539260697434792,
          -0.63260779700234,
          -0.7209851109446794,
          -1.5488207454379541,
          -0.8946609686524443,
          -0.1560111806186542,
          0.17389857563037833,
          0.34740814171357554,
          1.2552555330233055,
          -1.0680286375215224,
          -0.4460336785120809,
          -0.1996834281899064,
          0.8924323239536869,
          0.4416882581368255,
          0.2508260886728522,
          -1.6456855994516686,
          0.7677774052108971,
          -0.9068972058860518,
          -0.9559144714011961,
          -0.187102476195743,
          1.1203398761012473,
          0.15400343406490505,
          -0.5716767762093942,
          0.5976009243300208,
          0.019204046059430244,
          0.0024198085521941032,
          1.784028158436303,
          -0.20428489651938,
          -1.4041165446986748,
          0.9323984369458973,
          -0.5792321434004235,
          -2.0574605006033773,
          2.0583283135948136,
          0.167330539255263,
          -0.019276383131392728,
          1.4073592874756022,
          0.9592641373019399,
          -0.7231633220254845,
          -0.3597844001060429,
          -1.1969527886841422,
          -0.8801864313510209,
          -0.5141408209575581,
          -0.7825125885524513,
          0.7313374148374697,
          0.5221236136962678,
          1.4226286857514743,
          1.4825898929007055,
          1.3502175382432609,
          -0.8734607406558281,
          0.49036406116569414,
          -0.2092285701075775,
          0.9907853107926903,
          0.5123736926600807,
          0.18562731086320133,
          0.11201148302314741,
          -1.3204449580069537,
          -1.0630589750114043,
          -0.04025987957865352,
          1.1620098202646922,
          -2.853232841408554,
          1.8238207602168894,
          -0.6531294969856558,
          -0.9313389600239237,
          -0.30879282255091245,
          -0.3056638243318225,
          -0.5476967922350982,
          -0.7754458161741501,
          1.2367277039729325,
          0.08827259124043836,
          0.148524136382813,
          -1.5636712919612268,
          -0.16549210257969663,
          0.21610877051097974
         ]
        },
        {
         "boxpoints": false,
         "line": {
          "width": 1.3
         },
         "marker": {
          "color": "rgba(55, 128, 191, 1.0)"
         },
         "name": "B",
         "orientation": "v",
         "type": "box",
         "y": [
          0.8760632334770332,
          -0.6468852814860023,
          0.8463880807488549,
          -1.2486045806445114,
          0.5724518780888255,
          -0.5222352401518324,
          -0.9848639820820966,
          -1.172434871411764,
          -0.8998567452932995,
          -1.2796563113262798,
          -1.0480565656826892,
          -0.7634402829919783,
          1.5142055518437052,
          -1.6665767161291187,
          -0.03852048853563186,
          1.288301986016335,
          0.8328893246943083,
          1.1884783375293597,
          -0.344006079709632,
          0.05420622239569184,
          0.35614291823826333,
          -0.4251177572292302,
          -0.22119992788055953,
          -0.14388486839892725,
          -1.2901309732710033,
          1.0146604736907852,
          0.7320936884573455,
          -1.7023372292415306,
          -0.99830494317672,
          -1.4431123520848117,
          -1.3122709835767647,
          0.706659227847644,
          -0.26824366031343944,
          -0.537773843108674,
          0.5923198033966968,
          -0.5939754980108162,
          -1.8429067824553713,
          -1.630827733085515,
          1.9399034227472598,
          -1.0591735681626917,
          1.5417871098828368,
          0.011046675143945023,
          0.3676156017707326,
          -1.5191005828816142,
          -0.1867932057368553,
          -0.6953542088819678,
          -1.061523717386393,
          -1.635525405595693,
          1.271831465856645,
          0.3609749081277422,
          -0.4002786155440916,
          0.6349036683165985,
          -2.5085937439137402,
          0.2880263358078486,
          0.8233424851149163,
          1.4205334892581958,
          0.4042202557708223,
          0.7476270820089652,
          -0.5186637637058849,
          0.3383599270576156,
          0.8451776409075579,
          -0.25151697794483074,
          0.984125909044333,
          1.3375325230325705,
          -0.8324635804628554,
          -1.1563474953687112,
          -0.1623099218070929,
          0.17293006218943108,
          0.7792582364985289,
          -0.1617458745013657,
          0.7116848909522314,
          -0.6038785439652203,
          -2.0123878010301834,
          -0.9168735873139444,
          -0.17246519869176627,
          1.2130208387149017,
          1.834056203407502,
          0.02332111811513691,
          2.09391368645279,
          -0.4986945189622508,
          0.4942431022279809,
          0.3865218169769006,
          0.7644569069065226,
          1.8254559147171603,
          -0.4437851157118142,
          -0.7503594366043927,
          -0.31334366724654056,
          0.21073969489699934,
          -0.05636023614984949,
          -1.005982163864285,
          0.019568144859799623,
          -0.9677761425511624,
          1.7860590480146616,
          1.5026409498864475,
          0.2091060547287096,
          -0.5037908334274643,
          0.24140484190581732,
          -0.4311937741479804,
          0.4493686887025034,
          1.6091702365759928
         ]
        },
        {
         "boxpoints": false,
         "line": {
          "width": 1.3
         },
         "marker": {
          "color": "rgba(50, 171, 96, 1.0)"
         },
         "name": "C",
         "orientation": "v",
         "type": "box",
         "y": [
          0.1278932982274251,
          0.469526366542482,
          0.9291157305619527,
          0.40515301402373227,
          -1.5917459182652245,
          -1.6087479397927258,
          -0.5570387118593482,
          -0.3856575796710698,
          -2.221265215686538,
          -1.4698983614317604,
          1.1101578499800526,
          1.20298102121073,
          1.6339949838778323,
          -0.8161349268770313,
          0.4086318618862779,
          0.5548671682358679,
          -0.8622972844801289,
          0.07420238916176017,
          1.2183453329644898,
          -0.43840660258582,
          0.026066256742456214,
          -0.5334597699614914,
          0.09585541774251581,
          -0.22421020286453433,
          0.9369320552280596,
          0.5834434373100259,
          -1.1208343483540346,
          0.13884025367902056,
          1.379645410176486,
          -0.07417256079840477,
          -0.6216238597953562,
          0.42888189651247,
          0.3863024099843034,
          0.5426895836527332,
          0.31183455778510777,
          0.8551152659797775,
          -0.684987395282973,
          -1.1042937457040396,
          0.44630887835629945,
          -0.39877908856139266,
          0.9082045840439279,
          -3.059937282040349,
          -0.8700884488547279,
          -1.2439391066155623,
          -0.5071833503978952,
          -1.3631721325649384,
          0.1762689702677328,
          0.01896212316534809,
          0.4861113474222137,
          -0.47507882066828727,
          -2.163976552435812,
          -1.3369360916803426,
          0.9555463582525008,
          0.5478215958353618,
          -1.550148463924115,
          0.09777736761534621,
          0.49809698309794304,
          2.1197745050252843,
          0.26532090420243143,
          0.1441676289676939,
          2.077895624197262,
          -0.5488116023037127,
          -1.0106472722871684,
          1.298870059790273,
          -1.671575504423239,
          0.15499851005456855,
          -0.7124810280268427,
          0.42265660233062474,
          1.7357294189479582,
          0.26789565009883254,
          -0.05074744701788411,
          -1.4810518836182012,
          -0.6923013736478622,
          -0.5945698124790019,
          0.1346244724399991,
          -1.620964897679958,
          -0.7014449789933306,
          0.018175619925601426,
          -1.0595724569809948,
          2.3463304985471694,
          0.9668510933465376,
          0.5663392993979611,
          -0.18929798704424658,
          -0.5714366717403916,
          0.07641390472011941,
          -0.8409107168770208,
          0.8957240591610679,
          0.12424912256042718,
          2.1813801025944093,
          -0.8890937268051208,
          -1.029360999908337,
          -0.6430186533409902,
          -1.534831852322848,
          0.9131832497391924,
          0.43930853643805096,
          -0.15724220539329795,
          0.03428453542891774,
          -1.9846351850878805,
          0.8472401112395295,
          1.2207634010547146
         ]
        },
        {
         "boxpoints": false,
         "line": {
          "width": 1.3
         },
         "marker": {
          "color": "rgba(128, 0, 128, 1.0)"
         },
         "name": "D",
         "orientation": "v",
         "type": "box",
         "y": [
          -0.028510399408812684,
          -0.2152374060207564,
          -0.736269857263102,
          0.6665527074281203,
          -1.246728399972464,
          1.340667989919134,
          -1.0471663790440882,
          0.8789236728879228,
          1.053077821350125,
          -2.6922964628211328,
          0.5153815449777305,
          -0.45188161253693687,
          -0.16525616905463436,
          -0.32308235060525786,
          0.2547252667988607,
          -0.24142536539936815,
          -0.6967061398005917,
          -0.5579609655708553,
          -1.8975627460347138,
          -0.3106742451480492,
          0.5647468925542017,
          -1.8390906876682207,
          0.5024782051016055,
          -1.010495091526054,
          0.5640429908911149,
          -1.241677132603908,
          -0.0017070287949820322,
          -0.5093228119448819,
          -1.0279419517686692,
          -0.0545764346515223,
          0.5837884526490281,
          0.5626662553108567,
          1.8608098480121762,
          -0.06585068517167546,
          1.442976867868302,
          0.682709348420952,
          -1.6409432516230387,
          -0.47441501008977965,
          0.12974516547699164,
          -1.4193944105604102,
          1.657352340761615,
          0.03538348454454446,
          1.596382838054901,
          0.5735338559629584,
          0.5841464249454178,
          0.6951122289118309,
          0.874101307304708,
          1.498259688754301,
          -0.15446874865982127,
          -2.1762734867226032,
          0.5448320705208457,
          -1.359515862022141,
          1.9708090014911077,
          0.12713768523570698,
          -1.9268610890031166,
          1.028324034066464,
          -0.29276304289000443,
          1.2657066163347672,
          0.6673796467371418,
          -1.0549390903977722,
          2.060490057738359,
          0.26223822690847054,
          -0.5869442522463283,
          0.6563587052275585,
          0.14386324910450352,
          0.5801612338470067,
          0.4551325676186162,
          -0.22943429602133544,
          0.7069946788513863,
          -0.5676256997478115,
          -0.03270827209474627,
          0.04133883941573024,
          -0.24149818023389288,
          0.5357872422281069,
          -0.6792916549522737,
          0.5594507327926441,
          -0.38156097271475015,
          0.5885170583986777,
          -0.6862752498026115,
          -1.891567839323786,
          -0.22040717234407267,
          0.8237131180783998,
          -0.8879992836655693,
          1.0161663512655568,
          -0.5480073857279285,
          1.0127361558686385,
          0.6054562187829562,
          -1.7123344310161188,
          0.8806171293509081,
          0.2525034261009619,
          0.5401524018071866,
          1.08443737239866,
          -0.38839640889689603,
          0.8797833144873521,
          -0.3140066707250513,
          -0.4346176583346952,
          -0.6760623562815167,
          -0.21404529896102356,
          -0.31797288090625153,
          -0.3692768180146646
         ]
        }
       ],
       "layout": {
        "legend": {
         "bgcolor": "#F5F6F9",
         "font": {
          "color": "#4D5663"
         }
        },
        "paper_bgcolor": "#F5F6F9",
        "plot_bgcolor": "#F5F6F9",
        "template": {
         "data": {
          "bar": [
           {
            "error_x": {
             "color": "#2a3f5f"
            },
            "error_y": {
             "color": "#2a3f5f"
            },
            "marker": {
             "line": {
              "color": "#E5ECF6",
              "width": 0.5
             }
            },
            "type": "bar"
           }
          ],
          "barpolar": [
           {
            "marker": {
             "line": {
              "color": "#E5ECF6",
              "width": 0.5
             }
            },
            "type": "barpolar"
           }
          ],
          "carpet": [
           {
            "aaxis": {
             "endlinecolor": "#2a3f5f",
             "gridcolor": "white",
             "linecolor": "white",
             "minorgridcolor": "white",
             "startlinecolor": "#2a3f5f"
            },
            "baxis": {
             "endlinecolor": "#2a3f5f",
             "gridcolor": "white",
             "linecolor": "white",
             "minorgridcolor": "white",
             "startlinecolor": "#2a3f5f"
            },
            "type": "carpet"
           }
          ],
          "choropleth": [
           {
            "colorbar": {
             "outlinewidth": 0,
             "ticks": ""
            },
            "type": "choropleth"
           }
          ],
          "contour": [
           {
            "colorbar": {
             "outlinewidth": 0,
             "ticks": ""
            },
            "colorscale": [
             [
              0,
              "#0d0887"
             ],
             [
              0.1111111111111111,
              "#46039f"
             ],
             [
              0.2222222222222222,
              "#7201a8"
             ],
             [
              0.3333333333333333,
              "#9c179e"
             ],
             [
              0.4444444444444444,
              "#bd3786"
             ],
             [
              0.5555555555555556,
              "#d8576b"
             ],
             [
              0.6666666666666666,
              "#ed7953"
             ],
             [
              0.7777777777777778,
              "#fb9f3a"
             ],
             [
              0.8888888888888888,
              "#fdca26"
             ],
             [
              1,
              "#f0f921"
             ]
            ],
            "type": "contour"
           }
          ],
          "contourcarpet": [
           {
            "colorbar": {
             "outlinewidth": 0,
             "ticks": ""
            },
            "type": "contourcarpet"
           }
          ],
          "heatmap": [
           {
            "colorbar": {
             "outlinewidth": 0,
             "ticks": ""
            },
            "colorscale": [
             [
              0,
              "#0d0887"
             ],
             [
              0.1111111111111111,
              "#46039f"
             ],
             [
              0.2222222222222222,
              "#7201a8"
             ],
             [
              0.3333333333333333,
              "#9c179e"
             ],
             [
              0.4444444444444444,
              "#bd3786"
             ],
             [
              0.5555555555555556,
              "#d8576b"
             ],
             [
              0.6666666666666666,
              "#ed7953"
             ],
             [
              0.7777777777777778,
              "#fb9f3a"
             ],
             [
              0.8888888888888888,
              "#fdca26"
             ],
             [
              1,
              "#f0f921"
             ]
            ],
            "type": "heatmap"
           }
          ],
          "heatmapgl": [
           {
            "colorbar": {
             "outlinewidth": 0,
             "ticks": ""
            },
            "colorscale": [
             [
              0,
              "#0d0887"
             ],
             [
              0.1111111111111111,
              "#46039f"
             ],
             [
              0.2222222222222222,
              "#7201a8"
             ],
             [
              0.3333333333333333,
              "#9c179e"
             ],
             [
              0.4444444444444444,
              "#bd3786"
             ],
             [
              0.5555555555555556,
              "#d8576b"
             ],
             [
              0.6666666666666666,
              "#ed7953"
             ],
             [
              0.7777777777777778,
              "#fb9f3a"
             ],
             [
              0.8888888888888888,
              "#fdca26"
             ],
             [
              1,
              "#f0f921"
             ]
            ],
            "type": "heatmapgl"
           }
          ],
          "histogram": [
           {
            "marker": {
             "colorbar": {
              "outlinewidth": 0,
              "ticks": ""
             }
            },
            "type": "histogram"
           }
          ],
          "histogram2d": [
           {
            "colorbar": {
             "outlinewidth": 0,
             "ticks": ""
            },
            "colorscale": [
             [
              0,
              "#0d0887"
             ],
             [
              0.1111111111111111,
              "#46039f"
             ],
             [
              0.2222222222222222,
              "#7201a8"
             ],
             [
              0.3333333333333333,
              "#9c179e"
             ],
             [
              0.4444444444444444,
              "#bd3786"
             ],
             [
              0.5555555555555556,
              "#d8576b"
             ],
             [
              0.6666666666666666,
              "#ed7953"
             ],
             [
              0.7777777777777778,
              "#fb9f3a"
             ],
             [
              0.8888888888888888,
              "#fdca26"
             ],
             [
              1,
              "#f0f921"
             ]
            ],
            "type": "histogram2d"
           }
          ],
          "histogram2dcontour": [
           {
            "colorbar": {
             "outlinewidth": 0,
             "ticks": ""
            },
            "colorscale": [
             [
              0,
              "#0d0887"
             ],
             [
              0.1111111111111111,
              "#46039f"
             ],
             [
              0.2222222222222222,
              "#7201a8"
             ],
             [
              0.3333333333333333,
              "#9c179e"
             ],
             [
              0.4444444444444444,
              "#bd3786"
             ],
             [
              0.5555555555555556,
              "#d8576b"
             ],
             [
              0.6666666666666666,
              "#ed7953"
             ],
             [
              0.7777777777777778,
              "#fb9f3a"
             ],
             [
              0.8888888888888888,
              "#fdca26"
             ],
             [
              1,
              "#f0f921"
             ]
            ],
            "type": "histogram2dcontour"
           }
          ],
          "mesh3d": [
           {
            "colorbar": {
             "outlinewidth": 0,
             "ticks": ""
            },
            "type": "mesh3d"
           }
          ],
          "parcoords": [
           {
            "line": {
             "colorbar": {
              "outlinewidth": 0,
              "ticks": ""
             }
            },
            "type": "parcoords"
           }
          ],
          "pie": [
           {
            "automargin": true,
            "type": "pie"
           }
          ],
          "scatter": [
           {
            "marker": {
             "colorbar": {
              "outlinewidth": 0,
              "ticks": ""
             }
            },
            "type": "scatter"
           }
          ],
          "scatter3d": [
           {
            "line": {
             "colorbar": {
              "outlinewidth": 0,
              "ticks": ""
             }
            },
            "marker": {
             "colorbar": {
              "outlinewidth": 0,
              "ticks": ""
             }
            },
            "type": "scatter3d"
           }
          ],
          "scattercarpet": [
           {
            "marker": {
             "colorbar": {
              "outlinewidth": 0,
              "ticks": ""
             }
            },
            "type": "scattercarpet"
           }
          ],
          "scattergeo": [
           {
            "marker": {
             "colorbar": {
              "outlinewidth": 0,
              "ticks": ""
             }
            },
            "type": "scattergeo"
           }
          ],
          "scattergl": [
           {
            "marker": {
             "colorbar": {
              "outlinewidth": 0,
              "ticks": ""
             }
            },
            "type": "scattergl"
           }
          ],
          "scattermapbox": [
           {
            "marker": {
             "colorbar": {
              "outlinewidth": 0,
              "ticks": ""
             }
            },
            "type": "scattermapbox"
           }
          ],
          "scatterpolar": [
           {
            "marker": {
             "colorbar": {
              "outlinewidth": 0,
              "ticks": ""
             }
            },
            "type": "scatterpolar"
           }
          ],
          "scatterpolargl": [
           {
            "marker": {
             "colorbar": {
              "outlinewidth": 0,
              "ticks": ""
             }
            },
            "type": "scatterpolargl"
           }
          ],
          "scatterternary": [
           {
            "marker": {
             "colorbar": {
              "outlinewidth": 0,
              "ticks": ""
             }
            },
            "type": "scatterternary"
           }
          ],
          "surface": [
           {
            "colorbar": {
             "outlinewidth": 0,
             "ticks": ""
            },
            "colorscale": [
             [
              0,
              "#0d0887"
             ],
             [
              0.1111111111111111,
              "#46039f"
             ],
             [
              0.2222222222222222,
              "#7201a8"
             ],
             [
              0.3333333333333333,
              "#9c179e"
             ],
             [
              0.4444444444444444,
              "#bd3786"
             ],
             [
              0.5555555555555556,
              "#d8576b"
             ],
             [
              0.6666666666666666,
              "#ed7953"
             ],
             [
              0.7777777777777778,
              "#fb9f3a"
             ],
             [
              0.8888888888888888,
              "#fdca26"
             ],
             [
              1,
              "#f0f921"
             ]
            ],
            "type": "surface"
           }
          ],
          "table": [
           {
            "cells": {
             "fill": {
              "color": "#EBF0F8"
             },
             "line": {
              "color": "white"
             }
            },
            "header": {
             "fill": {
              "color": "#C8D4E3"
             },
             "line": {
              "color": "white"
             }
            },
            "type": "table"
           }
          ]
         },
         "layout": {
          "annotationdefaults": {
           "arrowcolor": "#2a3f5f",
           "arrowhead": 0,
           "arrowwidth": 1
          },
          "autotypenumbers": "strict",
          "coloraxis": {
           "colorbar": {
            "outlinewidth": 0,
            "ticks": ""
           }
          },
          "colorscale": {
           "diverging": [
            [
             0,
             "#8e0152"
            ],
            [
             0.1,
             "#c51b7d"
            ],
            [
             0.2,
             "#de77ae"
            ],
            [
             0.3,
             "#f1b6da"
            ],
            [
             0.4,
             "#fde0ef"
            ],
            [
             0.5,
             "#f7f7f7"
            ],
            [
             0.6,
             "#e6f5d0"
            ],
            [
             0.7,
             "#b8e186"
            ],
            [
             0.8,
             "#7fbc41"
            ],
            [
             0.9,
             "#4d9221"
            ],
            [
             1,
             "#276419"
            ]
           ],
           "sequential": [
            [
             0,
             "#0d0887"
            ],
            [
             0.1111111111111111,
             "#46039f"
            ],
            [
             0.2222222222222222,
             "#7201a8"
            ],
            [
             0.3333333333333333,
             "#9c179e"
            ],
            [
             0.4444444444444444,
             "#bd3786"
            ],
            [
             0.5555555555555556,
             "#d8576b"
            ],
            [
             0.6666666666666666,
             "#ed7953"
            ],
            [
             0.7777777777777778,
             "#fb9f3a"
            ],
            [
             0.8888888888888888,
             "#fdca26"
            ],
            [
             1,
             "#f0f921"
            ]
           ],
           "sequentialminus": [
            [
             0,
             "#0d0887"
            ],
            [
             0.1111111111111111,
             "#46039f"
            ],
            [
             0.2222222222222222,
             "#7201a8"
            ],
            [
             0.3333333333333333,
             "#9c179e"
            ],
            [
             0.4444444444444444,
             "#bd3786"
            ],
            [
             0.5555555555555556,
             "#d8576b"
            ],
            [
             0.6666666666666666,
             "#ed7953"
            ],
            [
             0.7777777777777778,
             "#fb9f3a"
            ],
            [
             0.8888888888888888,
             "#fdca26"
            ],
            [
             1,
             "#f0f921"
            ]
           ]
          },
          "colorway": [
           "#636efa",
           "#EF553B",
           "#00cc96",
           "#ab63fa",
           "#FFA15A",
           "#19d3f3",
           "#FF6692",
           "#B6E880",
           "#FF97FF",
           "#FECB52"
          ],
          "font": {
           "color": "#2a3f5f"
          },
          "geo": {
           "bgcolor": "white",
           "lakecolor": "white",
           "landcolor": "#E5ECF6",
           "showlakes": true,
           "showland": true,
           "subunitcolor": "white"
          },
          "hoverlabel": {
           "align": "left"
          },
          "hovermode": "closest",
          "mapbox": {
           "style": "light"
          },
          "paper_bgcolor": "white",
          "plot_bgcolor": "#E5ECF6",
          "polar": {
           "angularaxis": {
            "gridcolor": "white",
            "linecolor": "white",
            "ticks": ""
           },
           "bgcolor": "#E5ECF6",
           "radialaxis": {
            "gridcolor": "white",
            "linecolor": "white",
            "ticks": ""
           }
          },
          "scene": {
           "xaxis": {
            "backgroundcolor": "#E5ECF6",
            "gridcolor": "white",
            "gridwidth": 2,
            "linecolor": "white",
            "showbackground": true,
            "ticks": "",
            "zerolinecolor": "white"
           },
           "yaxis": {
            "backgroundcolor": "#E5ECF6",
            "gridcolor": "white",
            "gridwidth": 2,
            "linecolor": "white",
            "showbackground": true,
            "ticks": "",
            "zerolinecolor": "white"
           },
           "zaxis": {
            "backgroundcolor": "#E5ECF6",
            "gridcolor": "white",
            "gridwidth": 2,
            "linecolor": "white",
            "showbackground": true,
            "ticks": "",
            "zerolinecolor": "white"
           }
          },
          "shapedefaults": {
           "line": {
            "color": "#2a3f5f"
           }
          },
          "ternary": {
           "aaxis": {
            "gridcolor": "white",
            "linecolor": "white",
            "ticks": ""
           },
           "baxis": {
            "gridcolor": "white",
            "linecolor": "white",
            "ticks": ""
           },
           "bgcolor": "#E5ECF6",
           "caxis": {
            "gridcolor": "white",
            "linecolor": "white",
            "ticks": ""
           }
          },
          "title": {
           "x": 0.05
          },
          "xaxis": {
           "automargin": true,
           "gridcolor": "white",
           "linecolor": "white",
           "ticks": "",
           "title": {
            "standoff": 15
           },
           "zerolinecolor": "white",
           "zerolinewidth": 2
          },
          "yaxis": {
           "automargin": true,
           "gridcolor": "white",
           "linecolor": "white",
           "ticks": "",
           "title": {
            "standoff": 15
           },
           "zerolinecolor": "white",
           "zerolinewidth": 2
          }
         }
        },
        "title": {
         "font": {
          "color": "#4D5663"
         }
        },
        "xaxis": {
         "gridcolor": "#E1E5ED",
         "showgrid": true,
         "tickfont": {
          "color": "#4D5663"
         },
         "title": {
          "font": {
           "color": "#4D5663"
          },
          "text": ""
         },
         "zerolinecolor": "#E1E5ED"
        },
        "yaxis": {
         "gridcolor": "#E1E5ED",
         "showgrid": true,
         "tickfont": {
          "color": "#4D5663"
         },
         "title": {
          "font": {
           "color": "#4D5663"
          },
          "text": ""
         },
         "zerolinecolor": "#E1E5ED"
        }
       }
      },
      "text/html": [
       "<div>                            <div id=\"bf013b7e-85c5-417a-825e-43bd187ab713\" class=\"plotly-graph-div\" style=\"height:525px; width:100%;\"></div>            <script type=\"text/javascript\">                require([\"plotly\"], function(Plotly) {                    window.PLOTLYENV=window.PLOTLYENV || {};\n",
       "                    window.PLOTLYENV.BASE_URL='https://plot.ly';                                    if (document.getElementById(\"bf013b7e-85c5-417a-825e-43bd187ab713\")) {                    Plotly.newPlot(                        \"bf013b7e-85c5-417a-825e-43bd187ab713\",                        [{\"boxpoints\": false, \"line\": {\"width\": 1.3}, \"marker\": {\"color\": \"rgba(255, 153, 51, 1.0)\"}, \"name\": \"A\", \"orientation\": \"v\", \"type\": \"box\", \"y\": [0.0736951981220984, 0.10564450982575026, -1.1287694447333996, 0.5804209406137681, -0.1975551948846452, 0.1264092655386513, 0.2705128014282348, 1.1425313644674608, -0.0280792412700831, -0.6037165583522806, -0.6654841318855145, -1.9597696313373731, -1.0836549781822886, 0.8471570960094061, -1.4615600928892374, -0.41078536958814904, -2.040699361169267, 0.03962481326541074, 0.5275072266760765, -0.2939643525656409, 0.28928818085179875, 1.0413465410746048, -1.1836578546572247, -0.9432476721762981, -0.8285532101291623, -0.4051234867711331, 2.0230075514310504, 0.24539260697434792, -0.63260779700234, -0.7209851109446794, -1.5488207454379541, -0.8946609686524443, -0.1560111806186542, 0.17389857563037833, 0.34740814171357554, 1.2552555330233055, -1.0680286375215224, -0.4460336785120809, -0.1996834281899064, 0.8924323239536869, 0.4416882581368255, 0.2508260886728522, -1.6456855994516686, 0.7677774052108971, -0.9068972058860518, -0.9559144714011961, -0.187102476195743, 1.1203398761012473, 0.15400343406490505, -0.5716767762093942, 0.5976009243300208, 0.019204046059430244, 0.0024198085521941032, 1.784028158436303, -0.20428489651938, -1.4041165446986748, 0.9323984369458973, -0.5792321434004235, -2.0574605006033773, 2.0583283135948136, 0.167330539255263, -0.019276383131392728, 1.4073592874756022, 0.9592641373019399, -0.7231633220254845, -0.3597844001060429, -1.1969527886841422, -0.8801864313510209, -0.5141408209575581, -0.7825125885524513, 0.7313374148374697, 0.5221236136962678, 1.4226286857514743, 1.4825898929007055, 1.3502175382432609, -0.8734607406558281, 0.49036406116569414, -0.2092285701075775, 0.9907853107926903, 0.5123736926600807, 0.18562731086320133, 0.11201148302314741, -1.3204449580069537, -1.0630589750114043, -0.04025987957865352, 1.1620098202646922, -2.853232841408554, 1.8238207602168894, -0.6531294969856558, -0.9313389600239237, -0.30879282255091245, -0.3056638243318225, -0.5476967922350982, -0.7754458161741501, 1.2367277039729325, 0.08827259124043836, 0.148524136382813, -1.5636712919612268, -0.16549210257969663, 0.21610877051097974]}, {\"boxpoints\": false, \"line\": {\"width\": 1.3}, \"marker\": {\"color\": \"rgba(55, 128, 191, 1.0)\"}, \"name\": \"B\", \"orientation\": \"v\", \"type\": \"box\", \"y\": [0.8760632334770332, -0.6468852814860023, 0.8463880807488549, -1.2486045806445114, 0.5724518780888255, -0.5222352401518324, -0.9848639820820966, -1.172434871411764, -0.8998567452932995, -1.2796563113262798, -1.0480565656826892, -0.7634402829919783, 1.5142055518437052, -1.6665767161291187, -0.03852048853563186, 1.288301986016335, 0.8328893246943083, 1.1884783375293597, -0.344006079709632, 0.05420622239569184, 0.35614291823826333, -0.4251177572292302, -0.22119992788055953, -0.14388486839892725, -1.2901309732710033, 1.0146604736907852, 0.7320936884573455, -1.7023372292415306, -0.99830494317672, -1.4431123520848117, -1.3122709835767647, 0.706659227847644, -0.26824366031343944, -0.537773843108674, 0.5923198033966968, -0.5939754980108162, -1.8429067824553713, -1.630827733085515, 1.9399034227472598, -1.0591735681626917, 1.5417871098828368, 0.011046675143945023, 0.3676156017707326, -1.5191005828816142, -0.1867932057368553, -0.6953542088819678, -1.061523717386393, -1.635525405595693, 1.271831465856645, 0.3609749081277422, -0.4002786155440916, 0.6349036683165985, -2.5085937439137402, 0.2880263358078486, 0.8233424851149163, 1.4205334892581958, 0.4042202557708223, 0.7476270820089652, -0.5186637637058849, 0.3383599270576156, 0.8451776409075579, -0.25151697794483074, 0.984125909044333, 1.3375325230325705, -0.8324635804628554, -1.1563474953687112, -0.1623099218070929, 0.17293006218943108, 0.7792582364985289, -0.1617458745013657, 0.7116848909522314, -0.6038785439652203, -2.0123878010301834, -0.9168735873139444, -0.17246519869176627, 1.2130208387149017, 1.834056203407502, 0.02332111811513691, 2.09391368645279, -0.4986945189622508, 0.4942431022279809, 0.3865218169769006, 0.7644569069065226, 1.8254559147171603, -0.4437851157118142, -0.7503594366043927, -0.31334366724654056, 0.21073969489699934, -0.05636023614984949, -1.005982163864285, 0.019568144859799623, -0.9677761425511624, 1.7860590480146616, 1.5026409498864475, 0.2091060547287096, -0.5037908334274643, 0.24140484190581732, -0.4311937741479804, 0.4493686887025034, 1.6091702365759928]}, {\"boxpoints\": false, \"line\": {\"width\": 1.3}, \"marker\": {\"color\": \"rgba(50, 171, 96, 1.0)\"}, \"name\": \"C\", \"orientation\": \"v\", \"type\": \"box\", \"y\": [0.1278932982274251, 0.469526366542482, 0.9291157305619527, 0.40515301402373227, -1.5917459182652245, -1.6087479397927258, -0.5570387118593482, -0.3856575796710698, -2.221265215686538, -1.4698983614317604, 1.1101578499800526, 1.20298102121073, 1.6339949838778323, -0.8161349268770313, 0.4086318618862779, 0.5548671682358679, -0.8622972844801289, 0.07420238916176017, 1.2183453329644898, -0.43840660258582, 0.026066256742456214, -0.5334597699614914, 0.09585541774251581, -0.22421020286453433, 0.9369320552280596, 0.5834434373100259, -1.1208343483540346, 0.13884025367902056, 1.379645410176486, -0.07417256079840477, -0.6216238597953562, 0.42888189651247, 0.3863024099843034, 0.5426895836527332, 0.31183455778510777, 0.8551152659797775, -0.684987395282973, -1.1042937457040396, 0.44630887835629945, -0.39877908856139266, 0.9082045840439279, -3.059937282040349, -0.8700884488547279, -1.2439391066155623, -0.5071833503978952, -1.3631721325649384, 0.1762689702677328, 0.01896212316534809, 0.4861113474222137, -0.47507882066828727, -2.163976552435812, -1.3369360916803426, 0.9555463582525008, 0.5478215958353618, -1.550148463924115, 0.09777736761534621, 0.49809698309794304, 2.1197745050252843, 0.26532090420243143, 0.1441676289676939, 2.077895624197262, -0.5488116023037127, -1.0106472722871684, 1.298870059790273, -1.671575504423239, 0.15499851005456855, -0.7124810280268427, 0.42265660233062474, 1.7357294189479582, 0.26789565009883254, -0.05074744701788411, -1.4810518836182012, -0.6923013736478622, -0.5945698124790019, 0.1346244724399991, -1.620964897679958, -0.7014449789933306, 0.018175619925601426, -1.0595724569809948, 2.3463304985471694, 0.9668510933465376, 0.5663392993979611, -0.18929798704424658, -0.5714366717403916, 0.07641390472011941, -0.8409107168770208, 0.8957240591610679, 0.12424912256042718, 2.1813801025944093, -0.8890937268051208, -1.029360999908337, -0.6430186533409902, -1.534831852322848, 0.9131832497391924, 0.43930853643805096, -0.15724220539329795, 0.03428453542891774, -1.9846351850878805, 0.8472401112395295, 1.2207634010547146]}, {\"boxpoints\": false, \"line\": {\"width\": 1.3}, \"marker\": {\"color\": \"rgba(128, 0, 128, 1.0)\"}, \"name\": \"D\", \"orientation\": \"v\", \"type\": \"box\", \"y\": [-0.028510399408812684, -0.2152374060207564, -0.736269857263102, 0.6665527074281203, -1.246728399972464, 1.340667989919134, -1.0471663790440882, 0.8789236728879228, 1.053077821350125, -2.6922964628211328, 0.5153815449777305, -0.45188161253693687, -0.16525616905463436, -0.32308235060525786, 0.2547252667988607, -0.24142536539936815, -0.6967061398005917, -0.5579609655708553, -1.8975627460347138, -0.3106742451480492, 0.5647468925542017, -1.8390906876682207, 0.5024782051016055, -1.010495091526054, 0.5640429908911149, -1.241677132603908, -0.0017070287949820322, -0.5093228119448819, -1.0279419517686692, -0.0545764346515223, 0.5837884526490281, 0.5626662553108567, 1.8608098480121762, -0.06585068517167546, 1.442976867868302, 0.682709348420952, -1.6409432516230387, -0.47441501008977965, 0.12974516547699164, -1.4193944105604102, 1.657352340761615, 0.03538348454454446, 1.596382838054901, 0.5735338559629584, 0.5841464249454178, 0.6951122289118309, 0.874101307304708, 1.498259688754301, -0.15446874865982127, -2.1762734867226032, 0.5448320705208457, -1.359515862022141, 1.9708090014911077, 0.12713768523570698, -1.9268610890031166, 1.028324034066464, -0.29276304289000443, 1.2657066163347672, 0.6673796467371418, -1.0549390903977722, 2.060490057738359, 0.26223822690847054, -0.5869442522463283, 0.6563587052275585, 0.14386324910450352, 0.5801612338470067, 0.4551325676186162, -0.22943429602133544, 0.7069946788513863, -0.5676256997478115, -0.03270827209474627, 0.04133883941573024, -0.24149818023389288, 0.5357872422281069, -0.6792916549522737, 0.5594507327926441, -0.38156097271475015, 0.5885170583986777, -0.6862752498026115, -1.891567839323786, -0.22040717234407267, 0.8237131180783998, -0.8879992836655693, 1.0161663512655568, -0.5480073857279285, 1.0127361558686385, 0.6054562187829562, -1.7123344310161188, 0.8806171293509081, 0.2525034261009619, 0.5401524018071866, 1.08443737239866, -0.38839640889689603, 0.8797833144873521, -0.3140066707250513, -0.4346176583346952, -0.6760623562815167, -0.21404529896102356, -0.31797288090625153, -0.3692768180146646]}],                        {\"legend\": {\"bgcolor\": \"#F5F6F9\", \"font\": {\"color\": \"#4D5663\"}}, \"paper_bgcolor\": \"#F5F6F9\", \"plot_bgcolor\": \"#F5F6F9\", \"template\": {\"data\": {\"bar\": [{\"error_x\": {\"color\": \"#2a3f5f\"}, \"error_y\": {\"color\": \"#2a3f5f\"}, \"marker\": {\"line\": {\"color\": \"#E5ECF6\", \"width\": 0.5}}, \"type\": \"bar\"}], \"barpolar\": [{\"marker\": {\"line\": {\"color\": \"#E5ECF6\", \"width\": 0.5}}, \"type\": \"barpolar\"}], \"carpet\": [{\"aaxis\": {\"endlinecolor\": \"#2a3f5f\", \"gridcolor\": \"white\", \"linecolor\": \"white\", \"minorgridcolor\": \"white\", \"startlinecolor\": \"#2a3f5f\"}, \"baxis\": {\"endlinecolor\": \"#2a3f5f\", \"gridcolor\": \"white\", \"linecolor\": \"white\", \"minorgridcolor\": \"white\", \"startlinecolor\": \"#2a3f5f\"}, \"type\": \"carpet\"}], \"choropleth\": [{\"colorbar\": {\"outlinewidth\": 0, \"ticks\": \"\"}, \"type\": \"choropleth\"}], \"contour\": [{\"colorbar\": {\"outlinewidth\": 0, \"ticks\": \"\"}, \"colorscale\": [[0.0, \"#0d0887\"], [0.1111111111111111, \"#46039f\"], [0.2222222222222222, \"#7201a8\"], [0.3333333333333333, \"#9c179e\"], [0.4444444444444444, \"#bd3786\"], [0.5555555555555556, \"#d8576b\"], [0.6666666666666666, \"#ed7953\"], [0.7777777777777778, \"#fb9f3a\"], [0.8888888888888888, \"#fdca26\"], [1.0, \"#f0f921\"]], \"type\": \"contour\"}], \"contourcarpet\": [{\"colorbar\": {\"outlinewidth\": 0, \"ticks\": \"\"}, \"type\": \"contourcarpet\"}], \"heatmap\": [{\"colorbar\": {\"outlinewidth\": 0, \"ticks\": \"\"}, \"colorscale\": [[0.0, \"#0d0887\"], [0.1111111111111111, \"#46039f\"], [0.2222222222222222, \"#7201a8\"], [0.3333333333333333, \"#9c179e\"], [0.4444444444444444, \"#bd3786\"], [0.5555555555555556, \"#d8576b\"], [0.6666666666666666, \"#ed7953\"], [0.7777777777777778, \"#fb9f3a\"], [0.8888888888888888, \"#fdca26\"], [1.0, \"#f0f921\"]], \"type\": \"heatmap\"}], \"heatmapgl\": [{\"colorbar\": {\"outlinewidth\": 0, \"ticks\": \"\"}, \"colorscale\": [[0.0, \"#0d0887\"], [0.1111111111111111, \"#46039f\"], [0.2222222222222222, \"#7201a8\"], [0.3333333333333333, \"#9c179e\"], [0.4444444444444444, \"#bd3786\"], [0.5555555555555556, \"#d8576b\"], [0.6666666666666666, \"#ed7953\"], [0.7777777777777778, \"#fb9f3a\"], [0.8888888888888888, \"#fdca26\"], [1.0, \"#f0f921\"]], \"type\": \"heatmapgl\"}], \"histogram\": [{\"marker\": {\"colorbar\": {\"outlinewidth\": 0, \"ticks\": \"\"}}, \"type\": \"histogram\"}], \"histogram2d\": [{\"colorbar\": {\"outlinewidth\": 0, \"ticks\": \"\"}, \"colorscale\": [[0.0, \"#0d0887\"], [0.1111111111111111, \"#46039f\"], [0.2222222222222222, \"#7201a8\"], [0.3333333333333333, \"#9c179e\"], [0.4444444444444444, \"#bd3786\"], [0.5555555555555556, \"#d8576b\"], [0.6666666666666666, \"#ed7953\"], [0.7777777777777778, \"#fb9f3a\"], [0.8888888888888888, \"#fdca26\"], [1.0, \"#f0f921\"]], \"type\": \"histogram2d\"}], \"histogram2dcontour\": [{\"colorbar\": {\"outlinewidth\": 0, \"ticks\": \"\"}, \"colorscale\": [[0.0, \"#0d0887\"], [0.1111111111111111, \"#46039f\"], [0.2222222222222222, \"#7201a8\"], [0.3333333333333333, \"#9c179e\"], [0.4444444444444444, \"#bd3786\"], [0.5555555555555556, \"#d8576b\"], [0.6666666666666666, \"#ed7953\"], [0.7777777777777778, \"#fb9f3a\"], [0.8888888888888888, \"#fdca26\"], [1.0, \"#f0f921\"]], \"type\": \"histogram2dcontour\"}], \"mesh3d\": [{\"colorbar\": {\"outlinewidth\": 0, \"ticks\": \"\"}, \"type\": \"mesh3d\"}], \"parcoords\": [{\"line\": {\"colorbar\": {\"outlinewidth\": 0, \"ticks\": \"\"}}, \"type\": \"parcoords\"}], \"pie\": [{\"automargin\": true, \"type\": \"pie\"}], \"scatter\": [{\"marker\": {\"colorbar\": {\"outlinewidth\": 0, \"ticks\": \"\"}}, \"type\": \"scatter\"}], \"scatter3d\": [{\"line\": {\"colorbar\": {\"outlinewidth\": 0, \"ticks\": \"\"}}, \"marker\": {\"colorbar\": {\"outlinewidth\": 0, \"ticks\": \"\"}}, \"type\": \"scatter3d\"}], \"scattercarpet\": [{\"marker\": {\"colorbar\": {\"outlinewidth\": 0, \"ticks\": \"\"}}, \"type\": \"scattercarpet\"}], \"scattergeo\": [{\"marker\": {\"colorbar\": {\"outlinewidth\": 0, \"ticks\": \"\"}}, \"type\": \"scattergeo\"}], \"scattergl\": [{\"marker\": {\"colorbar\": {\"outlinewidth\": 0, \"ticks\": \"\"}}, \"type\": \"scattergl\"}], \"scattermapbox\": [{\"marker\": {\"colorbar\": {\"outlinewidth\": 0, \"ticks\": \"\"}}, \"type\": \"scattermapbox\"}], \"scatterpolar\": [{\"marker\": {\"colorbar\": {\"outlinewidth\": 0, \"ticks\": \"\"}}, \"type\": \"scatterpolar\"}], \"scatterpolargl\": [{\"marker\": {\"colorbar\": {\"outlinewidth\": 0, \"ticks\": \"\"}}, \"type\": \"scatterpolargl\"}], \"scatterternary\": [{\"marker\": {\"colorbar\": {\"outlinewidth\": 0, \"ticks\": \"\"}}, \"type\": \"scatterternary\"}], \"surface\": [{\"colorbar\": {\"outlinewidth\": 0, \"ticks\": \"\"}, \"colorscale\": [[0.0, \"#0d0887\"], [0.1111111111111111, \"#46039f\"], [0.2222222222222222, \"#7201a8\"], [0.3333333333333333, \"#9c179e\"], [0.4444444444444444, \"#bd3786\"], [0.5555555555555556, \"#d8576b\"], [0.6666666666666666, \"#ed7953\"], [0.7777777777777778, \"#fb9f3a\"], [0.8888888888888888, \"#fdca26\"], [1.0, \"#f0f921\"]], \"type\": \"surface\"}], \"table\": [{\"cells\": {\"fill\": {\"color\": \"#EBF0F8\"}, \"line\": {\"color\": \"white\"}}, \"header\": {\"fill\": {\"color\": \"#C8D4E3\"}, \"line\": {\"color\": \"white\"}}, \"type\": \"table\"}]}, \"layout\": {\"annotationdefaults\": {\"arrowcolor\": \"#2a3f5f\", \"arrowhead\": 0, \"arrowwidth\": 1}, \"autotypenumbers\": \"strict\", \"coloraxis\": {\"colorbar\": {\"outlinewidth\": 0, \"ticks\": \"\"}}, \"colorscale\": {\"diverging\": [[0, \"#8e0152\"], [0.1, \"#c51b7d\"], [0.2, \"#de77ae\"], [0.3, \"#f1b6da\"], [0.4, \"#fde0ef\"], [0.5, \"#f7f7f7\"], [0.6, \"#e6f5d0\"], [0.7, \"#b8e186\"], [0.8, \"#7fbc41\"], [0.9, \"#4d9221\"], [1, \"#276419\"]], \"sequential\": [[0.0, \"#0d0887\"], [0.1111111111111111, \"#46039f\"], [0.2222222222222222, \"#7201a8\"], [0.3333333333333333, \"#9c179e\"], [0.4444444444444444, \"#bd3786\"], [0.5555555555555556, \"#d8576b\"], [0.6666666666666666, \"#ed7953\"], [0.7777777777777778, \"#fb9f3a\"], [0.8888888888888888, \"#fdca26\"], [1.0, \"#f0f921\"]], \"sequentialminus\": [[0.0, \"#0d0887\"], [0.1111111111111111, \"#46039f\"], [0.2222222222222222, \"#7201a8\"], [0.3333333333333333, \"#9c179e\"], [0.4444444444444444, \"#bd3786\"], [0.5555555555555556, \"#d8576b\"], [0.6666666666666666, \"#ed7953\"], [0.7777777777777778, \"#fb9f3a\"], [0.8888888888888888, \"#fdca26\"], [1.0, \"#f0f921\"]]}, \"colorway\": [\"#636efa\", \"#EF553B\", \"#00cc96\", \"#ab63fa\", \"#FFA15A\", \"#19d3f3\", \"#FF6692\", \"#B6E880\", \"#FF97FF\", \"#FECB52\"], \"font\": {\"color\": \"#2a3f5f\"}, \"geo\": {\"bgcolor\": \"white\", \"lakecolor\": \"white\", \"landcolor\": \"#E5ECF6\", \"showlakes\": true, \"showland\": true, \"subunitcolor\": \"white\"}, \"hoverlabel\": {\"align\": \"left\"}, \"hovermode\": \"closest\", \"mapbox\": {\"style\": \"light\"}, \"paper_bgcolor\": \"white\", \"plot_bgcolor\": \"#E5ECF6\", \"polar\": {\"angularaxis\": {\"gridcolor\": \"white\", \"linecolor\": \"white\", \"ticks\": \"\"}, \"bgcolor\": \"#E5ECF6\", \"radialaxis\": {\"gridcolor\": \"white\", \"linecolor\": \"white\", \"ticks\": \"\"}}, \"scene\": {\"xaxis\": {\"backgroundcolor\": \"#E5ECF6\", \"gridcolor\": \"white\", \"gridwidth\": 2, \"linecolor\": \"white\", \"showbackground\": true, \"ticks\": \"\", \"zerolinecolor\": \"white\"}, \"yaxis\": {\"backgroundcolor\": \"#E5ECF6\", \"gridcolor\": \"white\", \"gridwidth\": 2, \"linecolor\": \"white\", \"showbackground\": true, \"ticks\": \"\", \"zerolinecolor\": \"white\"}, \"zaxis\": {\"backgroundcolor\": \"#E5ECF6\", \"gridcolor\": \"white\", \"gridwidth\": 2, \"linecolor\": \"white\", \"showbackground\": true, \"ticks\": \"\", \"zerolinecolor\": \"white\"}}, \"shapedefaults\": {\"line\": {\"color\": \"#2a3f5f\"}}, \"ternary\": {\"aaxis\": {\"gridcolor\": \"white\", \"linecolor\": \"white\", \"ticks\": \"\"}, \"baxis\": {\"gridcolor\": \"white\", \"linecolor\": \"white\", \"ticks\": \"\"}, \"bgcolor\": \"#E5ECF6\", \"caxis\": {\"gridcolor\": \"white\", \"linecolor\": \"white\", \"ticks\": \"\"}}, \"title\": {\"x\": 0.05}, \"xaxis\": {\"automargin\": true, \"gridcolor\": \"white\", \"linecolor\": \"white\", \"ticks\": \"\", \"title\": {\"standoff\": 15}, \"zerolinecolor\": \"white\", \"zerolinewidth\": 2}, \"yaxis\": {\"automargin\": true, \"gridcolor\": \"white\", \"linecolor\": \"white\", \"ticks\": \"\", \"title\": {\"standoff\": 15}, \"zerolinecolor\": \"white\", \"zerolinewidth\": 2}}}, \"title\": {\"font\": {\"color\": \"#4D5663\"}}, \"xaxis\": {\"gridcolor\": \"#E1E5ED\", \"showgrid\": true, \"tickfont\": {\"color\": \"#4D5663\"}, \"title\": {\"font\": {\"color\": \"#4D5663\"}, \"text\": \"\"}, \"zerolinecolor\": \"#E1E5ED\"}, \"yaxis\": {\"gridcolor\": \"#E1E5ED\", \"showgrid\": true, \"tickfont\": {\"color\": \"#4D5663\"}, \"title\": {\"font\": {\"color\": \"#4D5663\"}, \"text\": \"\"}, \"zerolinecolor\": \"#E1E5ED\"}},                        {\"showLink\": true, \"linkText\": \"Export to plot.ly\", \"plotlyServerURL\": \"https://plot.ly\", \"responsive\": true}                    ).then(function(){\n",
       "                            \n",
       "var gd = document.getElementById('bf013b7e-85c5-417a-825e-43bd187ab713');\n",
       "var x = new MutationObserver(function (mutations, observer) {{\n",
       "        var display = window.getComputedStyle(gd).display;\n",
       "        if (!display || display === 'none') {{\n",
       "            console.log([gd, 'removed!']);\n",
       "            Plotly.purge(gd);\n",
       "            observer.disconnect();\n",
       "        }}\n",
       "}});\n",
       "\n",
       "// Listen for the removal of the full notebook cells\n",
       "var notebookContainer = gd.closest('#notebook-container');\n",
       "if (notebookContainer) {{\n",
       "    x.observe(notebookContainer, {childList: true});\n",
       "}}\n",
       "\n",
       "// Listen for the clearing of the current output cell\n",
       "var outputEl = gd.closest('.output');\n",
       "if (outputEl) {{\n",
       "    x.observe(outputEl, {childList: true});\n",
       "}}\n",
       "\n",
       "                        })                };                });            </script>        </div>"
      ]
     },
     "metadata": {},
     "output_type": "display_data"
    }
   ],
   "source": []
  },
  {
   "cell_type": "markdown",
   "metadata": {},
   "source": [
    "## 3d Surface"
   ]
  },
  {
   "cell_type": "code",
   "execution_count": 14,
   "metadata": {},
   "outputs": [
    {
     "data": {
      "application/vnd.plotly.v1+json": {
       "config": {
        "linkText": "Export to plot.ly",
        "plotlyServerURL": "https://plot.ly",
        "showLink": true
       },
       "data": [
        {
         "colorscale": [
          [
           0,
           "rgb(165,0,38)"
          ],
          [
           0.1,
           "rgb(215,48,39)"
          ],
          [
           0.2,
           "rgb(244,109,67)"
          ],
          [
           0.3,
           "rgb(253,174,97)"
          ],
          [
           0.4,
           "rgb(254,224,144)"
          ],
          [
           0.5,
           "rgb(255,255,191)"
          ],
          [
           0.6,
           "rgb(224,243,248)"
          ],
          [
           0.7,
           "rgb(171,217,233)"
          ],
          [
           0.8,
           "rgb(116,173,209)"
          ],
          [
           0.9,
           "rgb(69,117,180)"
          ],
          [
           1,
           "rgb(49,54,149)"
          ]
         ],
         "type": "surface",
         "x": [
          0,
          1,
          2,
          3,
          4
         ],
         "y": [
          "x",
          "y",
          "z"
         ],
         "z": [
          [
           1,
           2,
           3,
           4,
           5
          ],
          [
           10,
           20,
           30,
           20,
           10
          ],
          [
           5,
           4,
           3,
           2,
           1
          ]
         ]
        }
       ],
       "layout": {
        "legend": {
         "bgcolor": "#F5F6F9",
         "font": {
          "color": "#4D5663"
         }
        },
        "paper_bgcolor": "#F5F6F9",
        "plot_bgcolor": "#F5F6F9",
        "template": {
         "data": {
          "bar": [
           {
            "error_x": {
             "color": "#2a3f5f"
            },
            "error_y": {
             "color": "#2a3f5f"
            },
            "marker": {
             "line": {
              "color": "#E5ECF6",
              "width": 0.5
             }
            },
            "type": "bar"
           }
          ],
          "barpolar": [
           {
            "marker": {
             "line": {
              "color": "#E5ECF6",
              "width": 0.5
             }
            },
            "type": "barpolar"
           }
          ],
          "carpet": [
           {
            "aaxis": {
             "endlinecolor": "#2a3f5f",
             "gridcolor": "white",
             "linecolor": "white",
             "minorgridcolor": "white",
             "startlinecolor": "#2a3f5f"
            },
            "baxis": {
             "endlinecolor": "#2a3f5f",
             "gridcolor": "white",
             "linecolor": "white",
             "minorgridcolor": "white",
             "startlinecolor": "#2a3f5f"
            },
            "type": "carpet"
           }
          ],
          "choropleth": [
           {
            "colorbar": {
             "outlinewidth": 0,
             "ticks": ""
            },
            "type": "choropleth"
           }
          ],
          "contour": [
           {
            "colorbar": {
             "outlinewidth": 0,
             "ticks": ""
            },
            "colorscale": [
             [
              0,
              "#0d0887"
             ],
             [
              0.1111111111111111,
              "#46039f"
             ],
             [
              0.2222222222222222,
              "#7201a8"
             ],
             [
              0.3333333333333333,
              "#9c179e"
             ],
             [
              0.4444444444444444,
              "#bd3786"
             ],
             [
              0.5555555555555556,
              "#d8576b"
             ],
             [
              0.6666666666666666,
              "#ed7953"
             ],
             [
              0.7777777777777778,
              "#fb9f3a"
             ],
             [
              0.8888888888888888,
              "#fdca26"
             ],
             [
              1,
              "#f0f921"
             ]
            ],
            "type": "contour"
           }
          ],
          "contourcarpet": [
           {
            "colorbar": {
             "outlinewidth": 0,
             "ticks": ""
            },
            "type": "contourcarpet"
           }
          ],
          "heatmap": [
           {
            "colorbar": {
             "outlinewidth": 0,
             "ticks": ""
            },
            "colorscale": [
             [
              0,
              "#0d0887"
             ],
             [
              0.1111111111111111,
              "#46039f"
             ],
             [
              0.2222222222222222,
              "#7201a8"
             ],
             [
              0.3333333333333333,
              "#9c179e"
             ],
             [
              0.4444444444444444,
              "#bd3786"
             ],
             [
              0.5555555555555556,
              "#d8576b"
             ],
             [
              0.6666666666666666,
              "#ed7953"
             ],
             [
              0.7777777777777778,
              "#fb9f3a"
             ],
             [
              0.8888888888888888,
              "#fdca26"
             ],
             [
              1,
              "#f0f921"
             ]
            ],
            "type": "heatmap"
           }
          ],
          "heatmapgl": [
           {
            "colorbar": {
             "outlinewidth": 0,
             "ticks": ""
            },
            "colorscale": [
             [
              0,
              "#0d0887"
             ],
             [
              0.1111111111111111,
              "#46039f"
             ],
             [
              0.2222222222222222,
              "#7201a8"
             ],
             [
              0.3333333333333333,
              "#9c179e"
             ],
             [
              0.4444444444444444,
              "#bd3786"
             ],
             [
              0.5555555555555556,
              "#d8576b"
             ],
             [
              0.6666666666666666,
              "#ed7953"
             ],
             [
              0.7777777777777778,
              "#fb9f3a"
             ],
             [
              0.8888888888888888,
              "#fdca26"
             ],
             [
              1,
              "#f0f921"
             ]
            ],
            "type": "heatmapgl"
           }
          ],
          "histogram": [
           {
            "marker": {
             "colorbar": {
              "outlinewidth": 0,
              "ticks": ""
             }
            },
            "type": "histogram"
           }
          ],
          "histogram2d": [
           {
            "colorbar": {
             "outlinewidth": 0,
             "ticks": ""
            },
            "colorscale": [
             [
              0,
              "#0d0887"
             ],
             [
              0.1111111111111111,
              "#46039f"
             ],
             [
              0.2222222222222222,
              "#7201a8"
             ],
             [
              0.3333333333333333,
              "#9c179e"
             ],
             [
              0.4444444444444444,
              "#bd3786"
             ],
             [
              0.5555555555555556,
              "#d8576b"
             ],
             [
              0.6666666666666666,
              "#ed7953"
             ],
             [
              0.7777777777777778,
              "#fb9f3a"
             ],
             [
              0.8888888888888888,
              "#fdca26"
             ],
             [
              1,
              "#f0f921"
             ]
            ],
            "type": "histogram2d"
           }
          ],
          "histogram2dcontour": [
           {
            "colorbar": {
             "outlinewidth": 0,
             "ticks": ""
            },
            "colorscale": [
             [
              0,
              "#0d0887"
             ],
             [
              0.1111111111111111,
              "#46039f"
             ],
             [
              0.2222222222222222,
              "#7201a8"
             ],
             [
              0.3333333333333333,
              "#9c179e"
             ],
             [
              0.4444444444444444,
              "#bd3786"
             ],
             [
              0.5555555555555556,
              "#d8576b"
             ],
             [
              0.6666666666666666,
              "#ed7953"
             ],
             [
              0.7777777777777778,
              "#fb9f3a"
             ],
             [
              0.8888888888888888,
              "#fdca26"
             ],
             [
              1,
              "#f0f921"
             ]
            ],
            "type": "histogram2dcontour"
           }
          ],
          "mesh3d": [
           {
            "colorbar": {
             "outlinewidth": 0,
             "ticks": ""
            },
            "type": "mesh3d"
           }
          ],
          "parcoords": [
           {
            "line": {
             "colorbar": {
              "outlinewidth": 0,
              "ticks": ""
             }
            },
            "type": "parcoords"
           }
          ],
          "pie": [
           {
            "automargin": true,
            "type": "pie"
           }
          ],
          "scatter": [
           {
            "marker": {
             "colorbar": {
              "outlinewidth": 0,
              "ticks": ""
             }
            },
            "type": "scatter"
           }
          ],
          "scatter3d": [
           {
            "line": {
             "colorbar": {
              "outlinewidth": 0,
              "ticks": ""
             }
            },
            "marker": {
             "colorbar": {
              "outlinewidth": 0,
              "ticks": ""
             }
            },
            "type": "scatter3d"
           }
          ],
          "scattercarpet": [
           {
            "marker": {
             "colorbar": {
              "outlinewidth": 0,
              "ticks": ""
             }
            },
            "type": "scattercarpet"
           }
          ],
          "scattergeo": [
           {
            "marker": {
             "colorbar": {
              "outlinewidth": 0,
              "ticks": ""
             }
            },
            "type": "scattergeo"
           }
          ],
          "scattergl": [
           {
            "marker": {
             "colorbar": {
              "outlinewidth": 0,
              "ticks": ""
             }
            },
            "type": "scattergl"
           }
          ],
          "scattermapbox": [
           {
            "marker": {
             "colorbar": {
              "outlinewidth": 0,
              "ticks": ""
             }
            },
            "type": "scattermapbox"
           }
          ],
          "scatterpolar": [
           {
            "marker": {
             "colorbar": {
              "outlinewidth": 0,
              "ticks": ""
             }
            },
            "type": "scatterpolar"
           }
          ],
          "scatterpolargl": [
           {
            "marker": {
             "colorbar": {
              "outlinewidth": 0,
              "ticks": ""
             }
            },
            "type": "scatterpolargl"
           }
          ],
          "scatterternary": [
           {
            "marker": {
             "colorbar": {
              "outlinewidth": 0,
              "ticks": ""
             }
            },
            "type": "scatterternary"
           }
          ],
          "surface": [
           {
            "colorbar": {
             "outlinewidth": 0,
             "ticks": ""
            },
            "colorscale": [
             [
              0,
              "#0d0887"
             ],
             [
              0.1111111111111111,
              "#46039f"
             ],
             [
              0.2222222222222222,
              "#7201a8"
             ],
             [
              0.3333333333333333,
              "#9c179e"
             ],
             [
              0.4444444444444444,
              "#bd3786"
             ],
             [
              0.5555555555555556,
              "#d8576b"
             ],
             [
              0.6666666666666666,
              "#ed7953"
             ],
             [
              0.7777777777777778,
              "#fb9f3a"
             ],
             [
              0.8888888888888888,
              "#fdca26"
             ],
             [
              1,
              "#f0f921"
             ]
            ],
            "type": "surface"
           }
          ],
          "table": [
           {
            "cells": {
             "fill": {
              "color": "#EBF0F8"
             },
             "line": {
              "color": "white"
             }
            },
            "header": {
             "fill": {
              "color": "#C8D4E3"
             },
             "line": {
              "color": "white"
             }
            },
            "type": "table"
           }
          ]
         },
         "layout": {
          "annotationdefaults": {
           "arrowcolor": "#2a3f5f",
           "arrowhead": 0,
           "arrowwidth": 1
          },
          "autotypenumbers": "strict",
          "coloraxis": {
           "colorbar": {
            "outlinewidth": 0,
            "ticks": ""
           }
          },
          "colorscale": {
           "diverging": [
            [
             0,
             "#8e0152"
            ],
            [
             0.1,
             "#c51b7d"
            ],
            [
             0.2,
             "#de77ae"
            ],
            [
             0.3,
             "#f1b6da"
            ],
            [
             0.4,
             "#fde0ef"
            ],
            [
             0.5,
             "#f7f7f7"
            ],
            [
             0.6,
             "#e6f5d0"
            ],
            [
             0.7,
             "#b8e186"
            ],
            [
             0.8,
             "#7fbc41"
            ],
            [
             0.9,
             "#4d9221"
            ],
            [
             1,
             "#276419"
            ]
           ],
           "sequential": [
            [
             0,
             "#0d0887"
            ],
            [
             0.1111111111111111,
             "#46039f"
            ],
            [
             0.2222222222222222,
             "#7201a8"
            ],
            [
             0.3333333333333333,
             "#9c179e"
            ],
            [
             0.4444444444444444,
             "#bd3786"
            ],
            [
             0.5555555555555556,
             "#d8576b"
            ],
            [
             0.6666666666666666,
             "#ed7953"
            ],
            [
             0.7777777777777778,
             "#fb9f3a"
            ],
            [
             0.8888888888888888,
             "#fdca26"
            ],
            [
             1,
             "#f0f921"
            ]
           ],
           "sequentialminus": [
            [
             0,
             "#0d0887"
            ],
            [
             0.1111111111111111,
             "#46039f"
            ],
            [
             0.2222222222222222,
             "#7201a8"
            ],
            [
             0.3333333333333333,
             "#9c179e"
            ],
            [
             0.4444444444444444,
             "#bd3786"
            ],
            [
             0.5555555555555556,
             "#d8576b"
            ],
            [
             0.6666666666666666,
             "#ed7953"
            ],
            [
             0.7777777777777778,
             "#fb9f3a"
            ],
            [
             0.8888888888888888,
             "#fdca26"
            ],
            [
             1,
             "#f0f921"
            ]
           ]
          },
          "colorway": [
           "#636efa",
           "#EF553B",
           "#00cc96",
           "#ab63fa",
           "#FFA15A",
           "#19d3f3",
           "#FF6692",
           "#B6E880",
           "#FF97FF",
           "#FECB52"
          ],
          "font": {
           "color": "#2a3f5f"
          },
          "geo": {
           "bgcolor": "white",
           "lakecolor": "white",
           "landcolor": "#E5ECF6",
           "showlakes": true,
           "showland": true,
           "subunitcolor": "white"
          },
          "hoverlabel": {
           "align": "left"
          },
          "hovermode": "closest",
          "mapbox": {
           "style": "light"
          },
          "paper_bgcolor": "white",
          "plot_bgcolor": "#E5ECF6",
          "polar": {
           "angularaxis": {
            "gridcolor": "white",
            "linecolor": "white",
            "ticks": ""
           },
           "bgcolor": "#E5ECF6",
           "radialaxis": {
            "gridcolor": "white",
            "linecolor": "white",
            "ticks": ""
           }
          },
          "scene": {
           "xaxis": {
            "backgroundcolor": "#E5ECF6",
            "gridcolor": "white",
            "gridwidth": 2,
            "linecolor": "white",
            "showbackground": true,
            "ticks": "",
            "zerolinecolor": "white"
           },
           "yaxis": {
            "backgroundcolor": "#E5ECF6",
            "gridcolor": "white",
            "gridwidth": 2,
            "linecolor": "white",
            "showbackground": true,
            "ticks": "",
            "zerolinecolor": "white"
           },
           "zaxis": {
            "backgroundcolor": "#E5ECF6",
            "gridcolor": "white",
            "gridwidth": 2,
            "linecolor": "white",
            "showbackground": true,
            "ticks": "",
            "zerolinecolor": "white"
           }
          },
          "shapedefaults": {
           "line": {
            "color": "#2a3f5f"
           }
          },
          "ternary": {
           "aaxis": {
            "gridcolor": "white",
            "linecolor": "white",
            "ticks": ""
           },
           "baxis": {
            "gridcolor": "white",
            "linecolor": "white",
            "ticks": ""
           },
           "bgcolor": "#E5ECF6",
           "caxis": {
            "gridcolor": "white",
            "linecolor": "white",
            "ticks": ""
           }
          },
          "title": {
           "x": 0.05
          },
          "xaxis": {
           "automargin": true,
           "gridcolor": "white",
           "linecolor": "white",
           "ticks": "",
           "title": {
            "standoff": 15
           },
           "zerolinecolor": "white",
           "zerolinewidth": 2
          },
          "yaxis": {
           "automargin": true,
           "gridcolor": "white",
           "linecolor": "white",
           "ticks": "",
           "title": {
            "standoff": 15
           },
           "zerolinecolor": "white",
           "zerolinewidth": 2
          }
         }
        },
        "title": {
         "font": {
          "color": "#4D5663"
         }
        },
        "xaxis": {
         "gridcolor": "#E1E5ED",
         "showgrid": true,
         "tickfont": {
          "color": "#4D5663"
         },
         "title": {
          "font": {
           "color": "#4D5663"
          },
          "text": ""
         },
         "zerolinecolor": "#E1E5ED"
        },
        "yaxis": {
         "gridcolor": "#E1E5ED",
         "showgrid": true,
         "tickfont": {
          "color": "#4D5663"
         },
         "title": {
          "font": {
           "color": "#4D5663"
          },
          "text": ""
         },
         "zerolinecolor": "#E1E5ED"
        }
       }
      },
      "text/html": [
       "<div>                            <div id=\"72c51708-f62d-4d94-8e6a-6f7a6605c132\" class=\"plotly-graph-div\" style=\"height:525px; width:100%;\"></div>            <script type=\"text/javascript\">                require([\"plotly\"], function(Plotly) {                    window.PLOTLYENV=window.PLOTLYENV || {};\n",
       "                    window.PLOTLYENV.BASE_URL='https://plot.ly';                                    if (document.getElementById(\"72c51708-f62d-4d94-8e6a-6f7a6605c132\")) {                    Plotly.newPlot(                        \"72c51708-f62d-4d94-8e6a-6f7a6605c132\",                        [{\"colorscale\": [[0.0, \"rgb(165,0,38)\"], [0.1, \"rgb(215,48,39)\"], [0.2, \"rgb(244,109,67)\"], [0.3, \"rgb(253,174,97)\"], [0.4, \"rgb(254,224,144)\"], [0.5, \"rgb(255,255,191)\"], [0.6, \"rgb(224,243,248)\"], [0.7, \"rgb(171,217,233)\"], [0.8, \"rgb(116,173,209)\"], [0.9, \"rgb(69,117,180)\"], [1.0, \"rgb(49,54,149)\"]], \"type\": \"surface\", \"x\": [0, 1, 2, 3, 4], \"y\": [\"x\", \"y\", \"z\"], \"z\": [[1, 2, 3, 4, 5], [10, 20, 30, 20, 10], [5, 4, 3, 2, 1]]}],                        {\"legend\": {\"bgcolor\": \"#F5F6F9\", \"font\": {\"color\": \"#4D5663\"}}, \"paper_bgcolor\": \"#F5F6F9\", \"plot_bgcolor\": \"#F5F6F9\", \"template\": {\"data\": {\"bar\": [{\"error_x\": {\"color\": \"#2a3f5f\"}, \"error_y\": {\"color\": \"#2a3f5f\"}, \"marker\": {\"line\": {\"color\": \"#E5ECF6\", \"width\": 0.5}}, \"type\": \"bar\"}], \"barpolar\": [{\"marker\": {\"line\": {\"color\": \"#E5ECF6\", \"width\": 0.5}}, \"type\": \"barpolar\"}], \"carpet\": [{\"aaxis\": {\"endlinecolor\": \"#2a3f5f\", \"gridcolor\": \"white\", \"linecolor\": \"white\", \"minorgridcolor\": \"white\", \"startlinecolor\": \"#2a3f5f\"}, \"baxis\": {\"endlinecolor\": \"#2a3f5f\", \"gridcolor\": \"white\", \"linecolor\": \"white\", \"minorgridcolor\": \"white\", \"startlinecolor\": \"#2a3f5f\"}, \"type\": \"carpet\"}], \"choropleth\": [{\"colorbar\": {\"outlinewidth\": 0, \"ticks\": \"\"}, \"type\": \"choropleth\"}], \"contour\": [{\"colorbar\": {\"outlinewidth\": 0, \"ticks\": \"\"}, \"colorscale\": [[0.0, \"#0d0887\"], [0.1111111111111111, \"#46039f\"], [0.2222222222222222, \"#7201a8\"], [0.3333333333333333, \"#9c179e\"], [0.4444444444444444, \"#bd3786\"], [0.5555555555555556, \"#d8576b\"], [0.6666666666666666, \"#ed7953\"], [0.7777777777777778, \"#fb9f3a\"], [0.8888888888888888, \"#fdca26\"], [1.0, \"#f0f921\"]], \"type\": \"contour\"}], \"contourcarpet\": [{\"colorbar\": {\"outlinewidth\": 0, \"ticks\": \"\"}, \"type\": \"contourcarpet\"}], \"heatmap\": [{\"colorbar\": {\"outlinewidth\": 0, \"ticks\": \"\"}, \"colorscale\": [[0.0, \"#0d0887\"], [0.1111111111111111, \"#46039f\"], [0.2222222222222222, \"#7201a8\"], [0.3333333333333333, \"#9c179e\"], [0.4444444444444444, \"#bd3786\"], [0.5555555555555556, \"#d8576b\"], [0.6666666666666666, \"#ed7953\"], [0.7777777777777778, \"#fb9f3a\"], [0.8888888888888888, \"#fdca26\"], [1.0, \"#f0f921\"]], \"type\": \"heatmap\"}], \"heatmapgl\": [{\"colorbar\": {\"outlinewidth\": 0, \"ticks\": \"\"}, \"colorscale\": [[0.0, \"#0d0887\"], [0.1111111111111111, \"#46039f\"], [0.2222222222222222, \"#7201a8\"], [0.3333333333333333, \"#9c179e\"], [0.4444444444444444, \"#bd3786\"], [0.5555555555555556, \"#d8576b\"], [0.6666666666666666, \"#ed7953\"], [0.7777777777777778, \"#fb9f3a\"], [0.8888888888888888, \"#fdca26\"], [1.0, \"#f0f921\"]], \"type\": \"heatmapgl\"}], \"histogram\": [{\"marker\": {\"colorbar\": {\"outlinewidth\": 0, \"ticks\": \"\"}}, \"type\": \"histogram\"}], \"histogram2d\": [{\"colorbar\": {\"outlinewidth\": 0, \"ticks\": \"\"}, \"colorscale\": [[0.0, \"#0d0887\"], [0.1111111111111111, \"#46039f\"], [0.2222222222222222, \"#7201a8\"], [0.3333333333333333, \"#9c179e\"], [0.4444444444444444, \"#bd3786\"], [0.5555555555555556, \"#d8576b\"], [0.6666666666666666, \"#ed7953\"], [0.7777777777777778, \"#fb9f3a\"], [0.8888888888888888, \"#fdca26\"], [1.0, \"#f0f921\"]], \"type\": \"histogram2d\"}], \"histogram2dcontour\": [{\"colorbar\": {\"outlinewidth\": 0, \"ticks\": \"\"}, \"colorscale\": [[0.0, \"#0d0887\"], [0.1111111111111111, \"#46039f\"], [0.2222222222222222, \"#7201a8\"], [0.3333333333333333, \"#9c179e\"], [0.4444444444444444, \"#bd3786\"], [0.5555555555555556, \"#d8576b\"], [0.6666666666666666, \"#ed7953\"], [0.7777777777777778, \"#fb9f3a\"], [0.8888888888888888, \"#fdca26\"], [1.0, \"#f0f921\"]], \"type\": \"histogram2dcontour\"}], \"mesh3d\": [{\"colorbar\": {\"outlinewidth\": 0, \"ticks\": \"\"}, \"type\": \"mesh3d\"}], \"parcoords\": [{\"line\": {\"colorbar\": {\"outlinewidth\": 0, \"ticks\": \"\"}}, \"type\": \"parcoords\"}], \"pie\": [{\"automargin\": true, \"type\": \"pie\"}], \"scatter\": [{\"marker\": {\"colorbar\": {\"outlinewidth\": 0, \"ticks\": \"\"}}, \"type\": \"scatter\"}], \"scatter3d\": [{\"line\": {\"colorbar\": {\"outlinewidth\": 0, \"ticks\": \"\"}}, \"marker\": {\"colorbar\": {\"outlinewidth\": 0, \"ticks\": \"\"}}, \"type\": \"scatter3d\"}], \"scattercarpet\": [{\"marker\": {\"colorbar\": {\"outlinewidth\": 0, \"ticks\": \"\"}}, \"type\": \"scattercarpet\"}], \"scattergeo\": [{\"marker\": {\"colorbar\": {\"outlinewidth\": 0, \"ticks\": \"\"}}, \"type\": \"scattergeo\"}], \"scattergl\": [{\"marker\": {\"colorbar\": {\"outlinewidth\": 0, \"ticks\": \"\"}}, \"type\": \"scattergl\"}], \"scattermapbox\": [{\"marker\": {\"colorbar\": {\"outlinewidth\": 0, \"ticks\": \"\"}}, \"type\": \"scattermapbox\"}], \"scatterpolar\": [{\"marker\": {\"colorbar\": {\"outlinewidth\": 0, \"ticks\": \"\"}}, \"type\": \"scatterpolar\"}], \"scatterpolargl\": [{\"marker\": {\"colorbar\": {\"outlinewidth\": 0, \"ticks\": \"\"}}, \"type\": \"scatterpolargl\"}], \"scatterternary\": [{\"marker\": {\"colorbar\": {\"outlinewidth\": 0, \"ticks\": \"\"}}, \"type\": \"scatterternary\"}], \"surface\": [{\"colorbar\": {\"outlinewidth\": 0, \"ticks\": \"\"}, \"colorscale\": [[0.0, \"#0d0887\"], [0.1111111111111111, \"#46039f\"], [0.2222222222222222, \"#7201a8\"], [0.3333333333333333, \"#9c179e\"], [0.4444444444444444, \"#bd3786\"], [0.5555555555555556, \"#d8576b\"], [0.6666666666666666, \"#ed7953\"], [0.7777777777777778, \"#fb9f3a\"], [0.8888888888888888, \"#fdca26\"], [1.0, \"#f0f921\"]], \"type\": \"surface\"}], \"table\": [{\"cells\": {\"fill\": {\"color\": \"#EBF0F8\"}, \"line\": {\"color\": \"white\"}}, \"header\": {\"fill\": {\"color\": \"#C8D4E3\"}, \"line\": {\"color\": \"white\"}}, \"type\": \"table\"}]}, \"layout\": {\"annotationdefaults\": {\"arrowcolor\": \"#2a3f5f\", \"arrowhead\": 0, \"arrowwidth\": 1}, \"autotypenumbers\": \"strict\", \"coloraxis\": {\"colorbar\": {\"outlinewidth\": 0, \"ticks\": \"\"}}, \"colorscale\": {\"diverging\": [[0, \"#8e0152\"], [0.1, \"#c51b7d\"], [0.2, \"#de77ae\"], [0.3, \"#f1b6da\"], [0.4, \"#fde0ef\"], [0.5, \"#f7f7f7\"], [0.6, \"#e6f5d0\"], [0.7, \"#b8e186\"], [0.8, \"#7fbc41\"], [0.9, \"#4d9221\"], [1, \"#276419\"]], \"sequential\": [[0.0, \"#0d0887\"], [0.1111111111111111, \"#46039f\"], [0.2222222222222222, \"#7201a8\"], [0.3333333333333333, \"#9c179e\"], [0.4444444444444444, \"#bd3786\"], [0.5555555555555556, \"#d8576b\"], [0.6666666666666666, \"#ed7953\"], [0.7777777777777778, \"#fb9f3a\"], [0.8888888888888888, \"#fdca26\"], [1.0, \"#f0f921\"]], \"sequentialminus\": [[0.0, \"#0d0887\"], [0.1111111111111111, \"#46039f\"], [0.2222222222222222, \"#7201a8\"], [0.3333333333333333, \"#9c179e\"], [0.4444444444444444, \"#bd3786\"], [0.5555555555555556, \"#d8576b\"], [0.6666666666666666, \"#ed7953\"], [0.7777777777777778, \"#fb9f3a\"], [0.8888888888888888, \"#fdca26\"], [1.0, \"#f0f921\"]]}, \"colorway\": [\"#636efa\", \"#EF553B\", \"#00cc96\", \"#ab63fa\", \"#FFA15A\", \"#19d3f3\", \"#FF6692\", \"#B6E880\", \"#FF97FF\", \"#FECB52\"], \"font\": {\"color\": \"#2a3f5f\"}, \"geo\": {\"bgcolor\": \"white\", \"lakecolor\": \"white\", \"landcolor\": \"#E5ECF6\", \"showlakes\": true, \"showland\": true, \"subunitcolor\": \"white\"}, \"hoverlabel\": {\"align\": \"left\"}, \"hovermode\": \"closest\", \"mapbox\": {\"style\": \"light\"}, \"paper_bgcolor\": \"white\", \"plot_bgcolor\": \"#E5ECF6\", \"polar\": {\"angularaxis\": {\"gridcolor\": \"white\", \"linecolor\": \"white\", \"ticks\": \"\"}, \"bgcolor\": \"#E5ECF6\", \"radialaxis\": {\"gridcolor\": \"white\", \"linecolor\": \"white\", \"ticks\": \"\"}}, \"scene\": {\"xaxis\": {\"backgroundcolor\": \"#E5ECF6\", \"gridcolor\": \"white\", \"gridwidth\": 2, \"linecolor\": \"white\", \"showbackground\": true, \"ticks\": \"\", \"zerolinecolor\": \"white\"}, \"yaxis\": {\"backgroundcolor\": \"#E5ECF6\", \"gridcolor\": \"white\", \"gridwidth\": 2, \"linecolor\": \"white\", \"showbackground\": true, \"ticks\": \"\", \"zerolinecolor\": \"white\"}, \"zaxis\": {\"backgroundcolor\": \"#E5ECF6\", \"gridcolor\": \"white\", \"gridwidth\": 2, \"linecolor\": \"white\", \"showbackground\": true, \"ticks\": \"\", \"zerolinecolor\": \"white\"}}, \"shapedefaults\": {\"line\": {\"color\": \"#2a3f5f\"}}, \"ternary\": {\"aaxis\": {\"gridcolor\": \"white\", \"linecolor\": \"white\", \"ticks\": \"\"}, \"baxis\": {\"gridcolor\": \"white\", \"linecolor\": \"white\", \"ticks\": \"\"}, \"bgcolor\": \"#E5ECF6\", \"caxis\": {\"gridcolor\": \"white\", \"linecolor\": \"white\", \"ticks\": \"\"}}, \"title\": {\"x\": 0.05}, \"xaxis\": {\"automargin\": true, \"gridcolor\": \"white\", \"linecolor\": \"white\", \"ticks\": \"\", \"title\": {\"standoff\": 15}, \"zerolinecolor\": \"white\", \"zerolinewidth\": 2}, \"yaxis\": {\"automargin\": true, \"gridcolor\": \"white\", \"linecolor\": \"white\", \"ticks\": \"\", \"title\": {\"standoff\": 15}, \"zerolinecolor\": \"white\", \"zerolinewidth\": 2}}}, \"title\": {\"font\": {\"color\": \"#4D5663\"}}, \"xaxis\": {\"gridcolor\": \"#E1E5ED\", \"showgrid\": true, \"tickfont\": {\"color\": \"#4D5663\"}, \"title\": {\"font\": {\"color\": \"#4D5663\"}, \"text\": \"\"}, \"zerolinecolor\": \"#E1E5ED\"}, \"yaxis\": {\"gridcolor\": \"#E1E5ED\", \"showgrid\": true, \"tickfont\": {\"color\": \"#4D5663\"}, \"title\": {\"font\": {\"color\": \"#4D5663\"}, \"text\": \"\"}, \"zerolinecolor\": \"#E1E5ED\"}},                        {\"showLink\": true, \"linkText\": \"Export to plot.ly\", \"plotlyServerURL\": \"https://plot.ly\", \"responsive\": true}                    ).then(function(){\n",
       "                            \n",
       "var gd = document.getElementById('72c51708-f62d-4d94-8e6a-6f7a6605c132');\n",
       "var x = new MutationObserver(function (mutations, observer) {{\n",
       "        var display = window.getComputedStyle(gd).display;\n",
       "        if (!display || display === 'none') {{\n",
       "            console.log([gd, 'removed!']);\n",
       "            Plotly.purge(gd);\n",
       "            observer.disconnect();\n",
       "        }}\n",
       "}});\n",
       "\n",
       "// Listen for the removal of the full notebook cells\n",
       "var notebookContainer = gd.closest('#notebook-container');\n",
       "if (notebookContainer) {{\n",
       "    x.observe(notebookContainer, {childList: true});\n",
       "}}\n",
       "\n",
       "// Listen for the clearing of the current output cell\n",
       "var outputEl = gd.closest('.output');\n",
       "if (outputEl) {{\n",
       "    x.observe(outputEl, {childList: true});\n",
       "}}\n",
       "\n",
       "                        })                };                });            </script>        </div>"
      ]
     },
     "metadata": {},
     "output_type": "display_data"
    }
   ],
   "source": []
  },
  {
   "cell_type": "markdown",
   "metadata": {},
   "source": [
    "## Spread"
   ]
  },
  {
   "cell_type": "code",
   "execution_count": 15,
   "metadata": {},
   "outputs": [
    {
     "data": {
      "application/vnd.plotly.v1+json": {
       "config": {
        "linkText": "Export to plot.ly",
        "plotlyServerURL": "https://plot.ly",
        "showLink": true
       },
       "data": [
        {
         "line": {
          "color": "rgba(255, 153, 51, 1.0)",
          "dash": "solid",
          "shape": "linear",
          "width": 1.3
         },
         "mode": "lines",
         "name": "A",
         "text": "",
         "type": "scatter",
         "x": [
          0,
          1,
          2,
          3,
          4,
          5,
          6,
          7,
          8,
          9,
          10,
          11,
          12,
          13,
          14,
          15,
          16,
          17,
          18,
          19,
          20,
          21,
          22,
          23,
          24,
          25,
          26,
          27,
          28,
          29,
          30,
          31,
          32,
          33,
          34,
          35,
          36,
          37,
          38,
          39,
          40,
          41,
          42,
          43,
          44,
          45,
          46,
          47,
          48,
          49,
          50,
          51,
          52,
          53,
          54,
          55,
          56,
          57,
          58,
          59,
          60,
          61,
          62,
          63,
          64,
          65,
          66,
          67,
          68,
          69,
          70,
          71,
          72,
          73,
          74,
          75,
          76,
          77,
          78,
          79,
          80,
          81,
          82,
          83,
          84,
          85,
          86,
          87,
          88,
          89,
          90,
          91,
          92,
          93,
          94,
          95,
          96,
          97,
          98,
          99
         ],
         "y": [
          0.0736951981220984,
          0.10564450982575026,
          -1.1287694447333996,
          0.5804209406137681,
          -0.1975551948846452,
          0.1264092655386513,
          0.2705128014282348,
          1.1425313644674608,
          -0.0280792412700831,
          -0.6037165583522806,
          -0.6654841318855145,
          -1.9597696313373731,
          -1.0836549781822886,
          0.8471570960094061,
          -1.4615600928892374,
          -0.41078536958814904,
          -2.040699361169267,
          0.03962481326541074,
          0.5275072266760765,
          -0.2939643525656409,
          0.28928818085179875,
          1.0413465410746048,
          -1.1836578546572247,
          -0.9432476721762981,
          -0.8285532101291623,
          -0.4051234867711331,
          2.0230075514310504,
          0.24539260697434792,
          -0.63260779700234,
          -0.7209851109446794,
          -1.5488207454379541,
          -0.8946609686524443,
          -0.1560111806186542,
          0.17389857563037833,
          0.34740814171357554,
          1.2552555330233055,
          -1.0680286375215224,
          -0.4460336785120809,
          -0.1996834281899064,
          0.8924323239536869,
          0.4416882581368255,
          0.2508260886728522,
          -1.6456855994516686,
          0.7677774052108971,
          -0.9068972058860518,
          -0.9559144714011961,
          -0.187102476195743,
          1.1203398761012473,
          0.15400343406490505,
          -0.5716767762093942,
          0.5976009243300208,
          0.019204046059430244,
          0.0024198085521941032,
          1.784028158436303,
          -0.20428489651938,
          -1.4041165446986748,
          0.9323984369458973,
          -0.5792321434004235,
          -2.0574605006033773,
          2.0583283135948136,
          0.167330539255263,
          -0.019276383131392728,
          1.4073592874756022,
          0.9592641373019399,
          -0.7231633220254845,
          -0.3597844001060429,
          -1.1969527886841422,
          -0.8801864313510209,
          -0.5141408209575581,
          -0.7825125885524513,
          0.7313374148374697,
          0.5221236136962678,
          1.4226286857514743,
          1.4825898929007055,
          1.3502175382432609,
          -0.8734607406558281,
          0.49036406116569414,
          -0.2092285701075775,
          0.9907853107926903,
          0.5123736926600807,
          0.18562731086320133,
          0.11201148302314741,
          -1.3204449580069537,
          -1.0630589750114043,
          -0.04025987957865352,
          1.1620098202646922,
          -2.853232841408554,
          1.8238207602168894,
          -0.6531294969856558,
          -0.9313389600239237,
          -0.30879282255091245,
          -0.3056638243318225,
          -0.5476967922350982,
          -0.7754458161741501,
          1.2367277039729325,
          0.08827259124043836,
          0.148524136382813,
          -1.5636712919612268,
          -0.16549210257969663,
          0.21610877051097974
         ]
        },
        {
         "line": {
          "color": "rgba(55, 128, 191, 1.0)",
          "dash": "solid",
          "shape": "linear",
          "width": 1.3
         },
         "mode": "lines",
         "name": "B",
         "text": "",
         "type": "scatter",
         "x": [
          0,
          1,
          2,
          3,
          4,
          5,
          6,
          7,
          8,
          9,
          10,
          11,
          12,
          13,
          14,
          15,
          16,
          17,
          18,
          19,
          20,
          21,
          22,
          23,
          24,
          25,
          26,
          27,
          28,
          29,
          30,
          31,
          32,
          33,
          34,
          35,
          36,
          37,
          38,
          39,
          40,
          41,
          42,
          43,
          44,
          45,
          46,
          47,
          48,
          49,
          50,
          51,
          52,
          53,
          54,
          55,
          56,
          57,
          58,
          59,
          60,
          61,
          62,
          63,
          64,
          65,
          66,
          67,
          68,
          69,
          70,
          71,
          72,
          73,
          74,
          75,
          76,
          77,
          78,
          79,
          80,
          81,
          82,
          83,
          84,
          85,
          86,
          87,
          88,
          89,
          90,
          91,
          92,
          93,
          94,
          95,
          96,
          97,
          98,
          99
         ],
         "y": [
          0.8760632334770332,
          -0.6468852814860023,
          0.8463880807488549,
          -1.2486045806445114,
          0.5724518780888255,
          -0.5222352401518324,
          -0.9848639820820966,
          -1.172434871411764,
          -0.8998567452932995,
          -1.2796563113262798,
          -1.0480565656826892,
          -0.7634402829919783,
          1.5142055518437052,
          -1.6665767161291187,
          -0.03852048853563186,
          1.288301986016335,
          0.8328893246943083,
          1.1884783375293597,
          -0.344006079709632,
          0.05420622239569184,
          0.35614291823826333,
          -0.4251177572292302,
          -0.22119992788055953,
          -0.14388486839892725,
          -1.2901309732710033,
          1.0146604736907852,
          0.7320936884573455,
          -1.7023372292415306,
          -0.99830494317672,
          -1.4431123520848117,
          -1.3122709835767647,
          0.706659227847644,
          -0.26824366031343944,
          -0.537773843108674,
          0.5923198033966968,
          -0.5939754980108162,
          -1.8429067824553713,
          -1.630827733085515,
          1.9399034227472598,
          -1.0591735681626917,
          1.5417871098828368,
          0.011046675143945023,
          0.3676156017707326,
          -1.5191005828816142,
          -0.1867932057368553,
          -0.6953542088819678,
          -1.061523717386393,
          -1.635525405595693,
          1.271831465856645,
          0.3609749081277422,
          -0.4002786155440916,
          0.6349036683165985,
          -2.5085937439137402,
          0.2880263358078486,
          0.8233424851149163,
          1.4205334892581958,
          0.4042202557708223,
          0.7476270820089652,
          -0.5186637637058849,
          0.3383599270576156,
          0.8451776409075579,
          -0.25151697794483074,
          0.984125909044333,
          1.3375325230325705,
          -0.8324635804628554,
          -1.1563474953687112,
          -0.1623099218070929,
          0.17293006218943108,
          0.7792582364985289,
          -0.1617458745013657,
          0.7116848909522314,
          -0.6038785439652203,
          -2.0123878010301834,
          -0.9168735873139444,
          -0.17246519869176627,
          1.2130208387149017,
          1.834056203407502,
          0.02332111811513691,
          2.09391368645279,
          -0.4986945189622508,
          0.4942431022279809,
          0.3865218169769006,
          0.7644569069065226,
          1.8254559147171603,
          -0.4437851157118142,
          -0.7503594366043927,
          -0.31334366724654056,
          0.21073969489699934,
          -0.05636023614984949,
          -1.005982163864285,
          0.019568144859799623,
          -0.9677761425511624,
          1.7860590480146616,
          1.5026409498864475,
          0.2091060547287096,
          -0.5037908334274643,
          0.24140484190581732,
          -0.4311937741479804,
          0.4493686887025034,
          1.6091702365759928
         ]
        },
        {
         "connectgaps": false,
         "fill": "tozeroy",
         "line": {
          "color": "green",
          "dash": "solid",
          "shape": "linear",
          "width": 0.5
         },
         "mode": "lines",
         "name": "Spread",
         "showlegend": false,
         "type": "scatter",
         "x": [
          0,
          1,
          2,
          3,
          4,
          5,
          6,
          7,
          8,
          9,
          10,
          11,
          12,
          13,
          14,
          15,
          16,
          17,
          18,
          19,
          20,
          21,
          22,
          23,
          24,
          25,
          26,
          27,
          28,
          29,
          30,
          31,
          32,
          33,
          34,
          35,
          36,
          37,
          38,
          39,
          40,
          41,
          42,
          43,
          44,
          45,
          46,
          47,
          48,
          49,
          50,
          51,
          52,
          53,
          54,
          55,
          56,
          57,
          58,
          59,
          60,
          61,
          62,
          63,
          64,
          65,
          66,
          67,
          68,
          69,
          70,
          71,
          72,
          73,
          74,
          75,
          76,
          77,
          78,
          79,
          80,
          81,
          82,
          83,
          84,
          85,
          86,
          87,
          88,
          89,
          90,
          91,
          92,
          93,
          94,
          95,
          96,
          97,
          98,
          99
         ],
         "xaxis": "x2",
         "y": [
          "",
          0.7525297913117526,
          "",
          1.8290255212582796,
          "",
          0.6486445056904837,
          1.2553767835103313,
          2.3149662358792247,
          0.8717775040232164,
          0.6759397529739992,
          0.38257243379717476,
          "",
          "",
          2.5137338121385246,
          "",
          "",
          "",
          "",
          0.8715133063857086,
          "",
          "",
          1.466464298303835,
          "",
          "",
          0.46157776314184107,
          "",
          1.290913862973705,
          1.9477298362158786,
          0.36569714617438,
          0.7221272411401323,
          "",
          "",
          0.11223247969478523,
          0.7116724187390524,
          "",
          1.8492310310341216,
          0.7748781449338489,
          1.1847940545734341,
          "",
          1.9516058921163786,
          "",
          0.2397794135289072,
          "",
          2.2868779880925114,
          "",
          "",
          0.87442124119065,
          2.7558652816969404,
          "",
          "",
          0.9978795398741124,
          "",
          2.5110135524659345,
          1.4960018226284544,
          "",
          "",
          0.528178181175075,
          "",
          "",
          1.719968386537198,
          "",
          0.232240594813438,
          0.4232333784312693,
          "",
          0.1093002584373709,
          0.7965630952626683,
          "",
          "",
          "",
          "",
          0.019652523885238304,
          1.126002157661488,
          3.4350164867816577,
          2.39946348021465,
          1.522682736935027,
          "",
          "",
          "",
          "",
          1.0110682116223315,
          "",
          "",
          "",
          "",
          0.4035252361331607,
          1.912369256869085,
          "",
          1.6130810653198902,
          "",
          0.07464320384036127,
          "",
          0.6621123182193399,
          "",
          "",
          1.027621649244223,
          0.5920634246679027,
          "",
          "",
          "",
          ""
         ],
         "yaxis": "y2"
        },
        {
         "connectgaps": false,
         "fill": "tozeroy",
         "line": {
          "color": "red",
          "dash": "solid",
          "shape": "linear",
          "width": 0.5
         },
         "mode": "lines",
         "name": "Spread",
         "showlegend": false,
         "type": "scatter",
         "x": [
          0,
          1,
          2,
          3,
          4,
          5,
          6,
          7,
          8,
          9,
          10,
          11,
          12,
          13,
          14,
          15,
          16,
          17,
          18,
          19,
          20,
          21,
          22,
          23,
          24,
          25,
          26,
          27,
          28,
          29,
          30,
          31,
          32,
          33,
          34,
          35,
          36,
          37,
          38,
          39,
          40,
          41,
          42,
          43,
          44,
          45,
          46,
          47,
          48,
          49,
          50,
          51,
          52,
          53,
          54,
          55,
          56,
          57,
          58,
          59,
          60,
          61,
          62,
          63,
          64,
          65,
          66,
          67,
          68,
          69,
          70,
          71,
          72,
          73,
          74,
          75,
          76,
          77,
          78,
          79,
          80,
          81,
          82,
          83,
          84,
          85,
          86,
          87,
          88,
          89,
          90,
          91,
          92,
          93,
          94,
          95,
          96,
          97,
          98,
          99
         ],
         "xaxis": "x2",
         "y": [
          -0.8023680353549347,
          "",
          -1.9751575254822544,
          "",
          -0.7700070729734707,
          "",
          "",
          "",
          "",
          "",
          "",
          -1.1963293483453947,
          -2.5978605300259936,
          "",
          -1.4230396043536055,
          -1.699087355604484,
          -2.8735886858635755,
          -1.148853524263949,
          "",
          -0.34817057496133275,
          -0.06685473738646458,
          "",
          -0.9624579267766652,
          -0.7993628037773709,
          "",
          -1.4197839604619182,
          "",
          "",
          "",
          "",
          -0.23654976186118937,
          -1.6013201965000883,
          "",
          "",
          -0.24491166168312123,
          "",
          "",
          "",
          -2.139586850937166,
          "",
          -1.1000988517460113,
          "",
          -2.013301201222401,
          "",
          -0.7201040001491965,
          -0.26056026251922837,
          "",
          "",
          -1.11782803179174,
          -0.9326516843371364,
          "",
          -0.6156996222571682,
          "",
          "",
          -1.0276273816342962,
          -2.8246500339568703,
          "",
          -1.3268592254093887,
          -1.5387967368974924,
          "",
          -0.6778471016522949,
          "",
          "",
          -0.3782683857306306,
          "",
          "",
          -1.0346428668770493,
          -1.053116493540452,
          -1.293399057456087,
          -0.6207667140510856,
          "",
          "",
          "",
          "",
          "",
          -2.08648157937073,
          -1.343692142241808,
          -0.2325496882227144,
          -1.1031283756600996,
          "",
          -0.30861579136477957,
          -0.2745103339537532,
          -2.0849018649134763,
          -2.8885148897285644,
          "",
          "",
          -2.5398891741620138,
          "",
          -0.5967692608358063,
          "",
          -0.3283609674107121,
          "",
          -2.3337558402497596,
          -2.2780867660605977,
          "",
          "",
          -0.09288070552300431,
          -1.1324775178132465,
          -0.6148607912822001,
          -1.3930614660650131
         ],
         "yaxis": "y2"
        }
       ],
       "layout": {
        "hovermode": "x",
        "legend": {
         "bgcolor": "#F5F6F9",
         "font": {
          "color": "#4D5663"
         }
        },
        "paper_bgcolor": "#F5F6F9",
        "plot_bgcolor": "#F5F6F9",
        "template": {
         "data": {
          "bar": [
           {
            "error_x": {
             "color": "#2a3f5f"
            },
            "error_y": {
             "color": "#2a3f5f"
            },
            "marker": {
             "line": {
              "color": "#E5ECF6",
              "width": 0.5
             }
            },
            "type": "bar"
           }
          ],
          "barpolar": [
           {
            "marker": {
             "line": {
              "color": "#E5ECF6",
              "width": 0.5
             }
            },
            "type": "barpolar"
           }
          ],
          "carpet": [
           {
            "aaxis": {
             "endlinecolor": "#2a3f5f",
             "gridcolor": "white",
             "linecolor": "white",
             "minorgridcolor": "white",
             "startlinecolor": "#2a3f5f"
            },
            "baxis": {
             "endlinecolor": "#2a3f5f",
             "gridcolor": "white",
             "linecolor": "white",
             "minorgridcolor": "white",
             "startlinecolor": "#2a3f5f"
            },
            "type": "carpet"
           }
          ],
          "choropleth": [
           {
            "colorbar": {
             "outlinewidth": 0,
             "ticks": ""
            },
            "type": "choropleth"
           }
          ],
          "contour": [
           {
            "colorbar": {
             "outlinewidth": 0,
             "ticks": ""
            },
            "colorscale": [
             [
              0,
              "#0d0887"
             ],
             [
              0.1111111111111111,
              "#46039f"
             ],
             [
              0.2222222222222222,
              "#7201a8"
             ],
             [
              0.3333333333333333,
              "#9c179e"
             ],
             [
              0.4444444444444444,
              "#bd3786"
             ],
             [
              0.5555555555555556,
              "#d8576b"
             ],
             [
              0.6666666666666666,
              "#ed7953"
             ],
             [
              0.7777777777777778,
              "#fb9f3a"
             ],
             [
              0.8888888888888888,
              "#fdca26"
             ],
             [
              1,
              "#f0f921"
             ]
            ],
            "type": "contour"
           }
          ],
          "contourcarpet": [
           {
            "colorbar": {
             "outlinewidth": 0,
             "ticks": ""
            },
            "type": "contourcarpet"
           }
          ],
          "heatmap": [
           {
            "colorbar": {
             "outlinewidth": 0,
             "ticks": ""
            },
            "colorscale": [
             [
              0,
              "#0d0887"
             ],
             [
              0.1111111111111111,
              "#46039f"
             ],
             [
              0.2222222222222222,
              "#7201a8"
             ],
             [
              0.3333333333333333,
              "#9c179e"
             ],
             [
              0.4444444444444444,
              "#bd3786"
             ],
             [
              0.5555555555555556,
              "#d8576b"
             ],
             [
              0.6666666666666666,
              "#ed7953"
             ],
             [
              0.7777777777777778,
              "#fb9f3a"
             ],
             [
              0.8888888888888888,
              "#fdca26"
             ],
             [
              1,
              "#f0f921"
             ]
            ],
            "type": "heatmap"
           }
          ],
          "heatmapgl": [
           {
            "colorbar": {
             "outlinewidth": 0,
             "ticks": ""
            },
            "colorscale": [
             [
              0,
              "#0d0887"
             ],
             [
              0.1111111111111111,
              "#46039f"
             ],
             [
              0.2222222222222222,
              "#7201a8"
             ],
             [
              0.3333333333333333,
              "#9c179e"
             ],
             [
              0.4444444444444444,
              "#bd3786"
             ],
             [
              0.5555555555555556,
              "#d8576b"
             ],
             [
              0.6666666666666666,
              "#ed7953"
             ],
             [
              0.7777777777777778,
              "#fb9f3a"
             ],
             [
              0.8888888888888888,
              "#fdca26"
             ],
             [
              1,
              "#f0f921"
             ]
            ],
            "type": "heatmapgl"
           }
          ],
          "histogram": [
           {
            "marker": {
             "colorbar": {
              "outlinewidth": 0,
              "ticks": ""
             }
            },
            "type": "histogram"
           }
          ],
          "histogram2d": [
           {
            "colorbar": {
             "outlinewidth": 0,
             "ticks": ""
            },
            "colorscale": [
             [
              0,
              "#0d0887"
             ],
             [
              0.1111111111111111,
              "#46039f"
             ],
             [
              0.2222222222222222,
              "#7201a8"
             ],
             [
              0.3333333333333333,
              "#9c179e"
             ],
             [
              0.4444444444444444,
              "#bd3786"
             ],
             [
              0.5555555555555556,
              "#d8576b"
             ],
             [
              0.6666666666666666,
              "#ed7953"
             ],
             [
              0.7777777777777778,
              "#fb9f3a"
             ],
             [
              0.8888888888888888,
              "#fdca26"
             ],
             [
              1,
              "#f0f921"
             ]
            ],
            "type": "histogram2d"
           }
          ],
          "histogram2dcontour": [
           {
            "colorbar": {
             "outlinewidth": 0,
             "ticks": ""
            },
            "colorscale": [
             [
              0,
              "#0d0887"
             ],
             [
              0.1111111111111111,
              "#46039f"
             ],
             [
              0.2222222222222222,
              "#7201a8"
             ],
             [
              0.3333333333333333,
              "#9c179e"
             ],
             [
              0.4444444444444444,
              "#bd3786"
             ],
             [
              0.5555555555555556,
              "#d8576b"
             ],
             [
              0.6666666666666666,
              "#ed7953"
             ],
             [
              0.7777777777777778,
              "#fb9f3a"
             ],
             [
              0.8888888888888888,
              "#fdca26"
             ],
             [
              1,
              "#f0f921"
             ]
            ],
            "type": "histogram2dcontour"
           }
          ],
          "mesh3d": [
           {
            "colorbar": {
             "outlinewidth": 0,
             "ticks": ""
            },
            "type": "mesh3d"
           }
          ],
          "parcoords": [
           {
            "line": {
             "colorbar": {
              "outlinewidth": 0,
              "ticks": ""
             }
            },
            "type": "parcoords"
           }
          ],
          "pie": [
           {
            "automargin": true,
            "type": "pie"
           }
          ],
          "scatter": [
           {
            "marker": {
             "colorbar": {
              "outlinewidth": 0,
              "ticks": ""
             }
            },
            "type": "scatter"
           }
          ],
          "scatter3d": [
           {
            "line": {
             "colorbar": {
              "outlinewidth": 0,
              "ticks": ""
             }
            },
            "marker": {
             "colorbar": {
              "outlinewidth": 0,
              "ticks": ""
             }
            },
            "type": "scatter3d"
           }
          ],
          "scattercarpet": [
           {
            "marker": {
             "colorbar": {
              "outlinewidth": 0,
              "ticks": ""
             }
            },
            "type": "scattercarpet"
           }
          ],
          "scattergeo": [
           {
            "marker": {
             "colorbar": {
              "outlinewidth": 0,
              "ticks": ""
             }
            },
            "type": "scattergeo"
           }
          ],
          "scattergl": [
           {
            "marker": {
             "colorbar": {
              "outlinewidth": 0,
              "ticks": ""
             }
            },
            "type": "scattergl"
           }
          ],
          "scattermapbox": [
           {
            "marker": {
             "colorbar": {
              "outlinewidth": 0,
              "ticks": ""
             }
            },
            "type": "scattermapbox"
           }
          ],
          "scatterpolar": [
           {
            "marker": {
             "colorbar": {
              "outlinewidth": 0,
              "ticks": ""
             }
            },
            "type": "scatterpolar"
           }
          ],
          "scatterpolargl": [
           {
            "marker": {
             "colorbar": {
              "outlinewidth": 0,
              "ticks": ""
             }
            },
            "type": "scatterpolargl"
           }
          ],
          "scatterternary": [
           {
            "marker": {
             "colorbar": {
              "outlinewidth": 0,
              "ticks": ""
             }
            },
            "type": "scatterternary"
           }
          ],
          "surface": [
           {
            "colorbar": {
             "outlinewidth": 0,
             "ticks": ""
            },
            "colorscale": [
             [
              0,
              "#0d0887"
             ],
             [
              0.1111111111111111,
              "#46039f"
             ],
             [
              0.2222222222222222,
              "#7201a8"
             ],
             [
              0.3333333333333333,
              "#9c179e"
             ],
             [
              0.4444444444444444,
              "#bd3786"
             ],
             [
              0.5555555555555556,
              "#d8576b"
             ],
             [
              0.6666666666666666,
              "#ed7953"
             ],
             [
              0.7777777777777778,
              "#fb9f3a"
             ],
             [
              0.8888888888888888,
              "#fdca26"
             ],
             [
              1,
              "#f0f921"
             ]
            ],
            "type": "surface"
           }
          ],
          "table": [
           {
            "cells": {
             "fill": {
              "color": "#EBF0F8"
             },
             "line": {
              "color": "white"
             }
            },
            "header": {
             "fill": {
              "color": "#C8D4E3"
             },
             "line": {
              "color": "white"
             }
            },
            "type": "table"
           }
          ]
         },
         "layout": {
          "annotationdefaults": {
           "arrowcolor": "#2a3f5f",
           "arrowhead": 0,
           "arrowwidth": 1
          },
          "autotypenumbers": "strict",
          "coloraxis": {
           "colorbar": {
            "outlinewidth": 0,
            "ticks": ""
           }
          },
          "colorscale": {
           "diverging": [
            [
             0,
             "#8e0152"
            ],
            [
             0.1,
             "#c51b7d"
            ],
            [
             0.2,
             "#de77ae"
            ],
            [
             0.3,
             "#f1b6da"
            ],
            [
             0.4,
             "#fde0ef"
            ],
            [
             0.5,
             "#f7f7f7"
            ],
            [
             0.6,
             "#e6f5d0"
            ],
            [
             0.7,
             "#b8e186"
            ],
            [
             0.8,
             "#7fbc41"
            ],
            [
             0.9,
             "#4d9221"
            ],
            [
             1,
             "#276419"
            ]
           ],
           "sequential": [
            [
             0,
             "#0d0887"
            ],
            [
             0.1111111111111111,
             "#46039f"
            ],
            [
             0.2222222222222222,
             "#7201a8"
            ],
            [
             0.3333333333333333,
             "#9c179e"
            ],
            [
             0.4444444444444444,
             "#bd3786"
            ],
            [
             0.5555555555555556,
             "#d8576b"
            ],
            [
             0.6666666666666666,
             "#ed7953"
            ],
            [
             0.7777777777777778,
             "#fb9f3a"
            ],
            [
             0.8888888888888888,
             "#fdca26"
            ],
            [
             1,
             "#f0f921"
            ]
           ],
           "sequentialminus": [
            [
             0,
             "#0d0887"
            ],
            [
             0.1111111111111111,
             "#46039f"
            ],
            [
             0.2222222222222222,
             "#7201a8"
            ],
            [
             0.3333333333333333,
             "#9c179e"
            ],
            [
             0.4444444444444444,
             "#bd3786"
            ],
            [
             0.5555555555555556,
             "#d8576b"
            ],
            [
             0.6666666666666666,
             "#ed7953"
            ],
            [
             0.7777777777777778,
             "#fb9f3a"
            ],
            [
             0.8888888888888888,
             "#fdca26"
            ],
            [
             1,
             "#f0f921"
            ]
           ]
          },
          "colorway": [
           "#636efa",
           "#EF553B",
           "#00cc96",
           "#ab63fa",
           "#FFA15A",
           "#19d3f3",
           "#FF6692",
           "#B6E880",
           "#FF97FF",
           "#FECB52"
          ],
          "font": {
           "color": "#2a3f5f"
          },
          "geo": {
           "bgcolor": "white",
           "lakecolor": "white",
           "landcolor": "#E5ECF6",
           "showlakes": true,
           "showland": true,
           "subunitcolor": "white"
          },
          "hoverlabel": {
           "align": "left"
          },
          "hovermode": "closest",
          "mapbox": {
           "style": "light"
          },
          "paper_bgcolor": "white",
          "plot_bgcolor": "#E5ECF6",
          "polar": {
           "angularaxis": {
            "gridcolor": "white",
            "linecolor": "white",
            "ticks": ""
           },
           "bgcolor": "#E5ECF6",
           "radialaxis": {
            "gridcolor": "white",
            "linecolor": "white",
            "ticks": ""
           }
          },
          "scene": {
           "xaxis": {
            "backgroundcolor": "#E5ECF6",
            "gridcolor": "white",
            "gridwidth": 2,
            "linecolor": "white",
            "showbackground": true,
            "ticks": "",
            "zerolinecolor": "white"
           },
           "yaxis": {
            "backgroundcolor": "#E5ECF6",
            "gridcolor": "white",
            "gridwidth": 2,
            "linecolor": "white",
            "showbackground": true,
            "ticks": "",
            "zerolinecolor": "white"
           },
           "zaxis": {
            "backgroundcolor": "#E5ECF6",
            "gridcolor": "white",
            "gridwidth": 2,
            "linecolor": "white",
            "showbackground": true,
            "ticks": "",
            "zerolinecolor": "white"
           }
          },
          "shapedefaults": {
           "line": {
            "color": "#2a3f5f"
           }
          },
          "ternary": {
           "aaxis": {
            "gridcolor": "white",
            "linecolor": "white",
            "ticks": ""
           },
           "baxis": {
            "gridcolor": "white",
            "linecolor": "white",
            "ticks": ""
           },
           "bgcolor": "#E5ECF6",
           "caxis": {
            "gridcolor": "white",
            "linecolor": "white",
            "ticks": ""
           }
          },
          "title": {
           "x": 0.05
          },
          "xaxis": {
           "automargin": true,
           "gridcolor": "white",
           "linecolor": "white",
           "ticks": "",
           "title": {
            "standoff": 15
           },
           "zerolinecolor": "white",
           "zerolinewidth": 2
          },
          "yaxis": {
           "automargin": true,
           "gridcolor": "white",
           "linecolor": "white",
           "ticks": "",
           "title": {
            "standoff": 15
           },
           "zerolinecolor": "white",
           "zerolinewidth": 2
          }
         }
        },
        "title": {
         "font": {
          "color": "#4D5663"
         }
        },
        "xaxis": {
         "gridcolor": "#E1E5ED",
         "showgrid": true,
         "tickfont": {
          "color": "#4D5663"
         },
         "title": {
          "font": {
           "color": "#4D5663"
          },
          "text": ""
         },
         "zerolinecolor": "#E1E5ED"
        },
        "xaxis2": {
         "anchor": "y2",
         "gridcolor": "#E1E5ED",
         "showgrid": true,
         "showticklabels": false,
         "tickfont": {
          "color": "#4D5663"
         },
         "title": {
          "font": {
           "color": "#4D5663"
          },
          "text": ""
         },
         "zerolinecolor": "#E1E5ED"
        },
        "yaxis": {
         "domain": [
          0.3,
          1
         ],
         "gridcolor": "#E1E5ED",
         "showgrid": true,
         "tickfont": {
          "color": "#4D5663"
         },
         "title": {
          "font": {
           "color": "#4D5663"
          },
          "text": ""
         },
         "zerolinecolor": "#E1E5ED"
        },
        "yaxis2": {
         "domain": [
          0,
          0.25
         ],
         "gridcolor": "#E1E5ED",
         "showgrid": true,
         "tickfont": {
          "color": "#4D5663"
         },
         "title": {
          "font": {
           "color": "#4D5663"
          },
          "text": "Spread"
         },
         "zerolinecolor": "#E1E5ED"
        }
       }
      },
      "text/html": [
       "<div>                            <div id=\"6913e11a-2a81-4d59-8537-6cc8d1829318\" class=\"plotly-graph-div\" style=\"height:525px; width:100%;\"></div>            <script type=\"text/javascript\">                require([\"plotly\"], function(Plotly) {                    window.PLOTLYENV=window.PLOTLYENV || {};\n",
       "                    window.PLOTLYENV.BASE_URL='https://plot.ly';                                    if (document.getElementById(\"6913e11a-2a81-4d59-8537-6cc8d1829318\")) {                    Plotly.newPlot(                        \"6913e11a-2a81-4d59-8537-6cc8d1829318\",                        [{\"line\": {\"color\": \"rgba(255, 153, 51, 1.0)\", \"dash\": \"solid\", \"shape\": \"linear\", \"width\": 1.3}, \"mode\": \"lines\", \"name\": \"A\", \"text\": \"\", \"type\": \"scatter\", \"x\": [0, 1, 2, 3, 4, 5, 6, 7, 8, 9, 10, 11, 12, 13, 14, 15, 16, 17, 18, 19, 20, 21, 22, 23, 24, 25, 26, 27, 28, 29, 30, 31, 32, 33, 34, 35, 36, 37, 38, 39, 40, 41, 42, 43, 44, 45, 46, 47, 48, 49, 50, 51, 52, 53, 54, 55, 56, 57, 58, 59, 60, 61, 62, 63, 64, 65, 66, 67, 68, 69, 70, 71, 72, 73, 74, 75, 76, 77, 78, 79, 80, 81, 82, 83, 84, 85, 86, 87, 88, 89, 90, 91, 92, 93, 94, 95, 96, 97, 98, 99], \"y\": [0.0736951981220984, 0.10564450982575026, -1.1287694447333996, 0.5804209406137681, -0.1975551948846452, 0.1264092655386513, 0.2705128014282348, 1.1425313644674608, -0.0280792412700831, -0.6037165583522806, -0.6654841318855145, -1.9597696313373731, -1.0836549781822886, 0.8471570960094061, -1.4615600928892374, -0.41078536958814904, -2.040699361169267, 0.03962481326541074, 0.5275072266760765, -0.2939643525656409, 0.28928818085179875, 1.0413465410746048, -1.1836578546572247, -0.9432476721762981, -0.8285532101291623, -0.4051234867711331, 2.0230075514310504, 0.24539260697434792, -0.63260779700234, -0.7209851109446794, -1.5488207454379541, -0.8946609686524443, -0.1560111806186542, 0.17389857563037833, 0.34740814171357554, 1.2552555330233055, -1.0680286375215224, -0.4460336785120809, -0.1996834281899064, 0.8924323239536869, 0.4416882581368255, 0.2508260886728522, -1.6456855994516686, 0.7677774052108971, -0.9068972058860518, -0.9559144714011961, -0.187102476195743, 1.1203398761012473, 0.15400343406490505, -0.5716767762093942, 0.5976009243300208, 0.019204046059430244, 0.0024198085521941032, 1.784028158436303, -0.20428489651938, -1.4041165446986748, 0.9323984369458973, -0.5792321434004235, -2.0574605006033773, 2.0583283135948136, 0.167330539255263, -0.019276383131392728, 1.4073592874756022, 0.9592641373019399, -0.7231633220254845, -0.3597844001060429, -1.1969527886841422, -0.8801864313510209, -0.5141408209575581, -0.7825125885524513, 0.7313374148374697, 0.5221236136962678, 1.4226286857514743, 1.4825898929007055, 1.3502175382432609, -0.8734607406558281, 0.49036406116569414, -0.2092285701075775, 0.9907853107926903, 0.5123736926600807, 0.18562731086320133, 0.11201148302314741, -1.3204449580069537, -1.0630589750114043, -0.04025987957865352, 1.1620098202646922, -2.853232841408554, 1.8238207602168894, -0.6531294969856558, -0.9313389600239237, -0.30879282255091245, -0.3056638243318225, -0.5476967922350982, -0.7754458161741501, 1.2367277039729325, 0.08827259124043836, 0.148524136382813, -1.5636712919612268, -0.16549210257969663, 0.21610877051097974]}, {\"line\": {\"color\": \"rgba(55, 128, 191, 1.0)\", \"dash\": \"solid\", \"shape\": \"linear\", \"width\": 1.3}, \"mode\": \"lines\", \"name\": \"B\", \"text\": \"\", \"type\": \"scatter\", \"x\": [0, 1, 2, 3, 4, 5, 6, 7, 8, 9, 10, 11, 12, 13, 14, 15, 16, 17, 18, 19, 20, 21, 22, 23, 24, 25, 26, 27, 28, 29, 30, 31, 32, 33, 34, 35, 36, 37, 38, 39, 40, 41, 42, 43, 44, 45, 46, 47, 48, 49, 50, 51, 52, 53, 54, 55, 56, 57, 58, 59, 60, 61, 62, 63, 64, 65, 66, 67, 68, 69, 70, 71, 72, 73, 74, 75, 76, 77, 78, 79, 80, 81, 82, 83, 84, 85, 86, 87, 88, 89, 90, 91, 92, 93, 94, 95, 96, 97, 98, 99], \"y\": [0.8760632334770332, -0.6468852814860023, 0.8463880807488549, -1.2486045806445114, 0.5724518780888255, -0.5222352401518324, -0.9848639820820966, -1.172434871411764, -0.8998567452932995, -1.2796563113262798, -1.0480565656826892, -0.7634402829919783, 1.5142055518437052, -1.6665767161291187, -0.03852048853563186, 1.288301986016335, 0.8328893246943083, 1.1884783375293597, -0.344006079709632, 0.05420622239569184, 0.35614291823826333, -0.4251177572292302, -0.22119992788055953, -0.14388486839892725, -1.2901309732710033, 1.0146604736907852, 0.7320936884573455, -1.7023372292415306, -0.99830494317672, -1.4431123520848117, -1.3122709835767647, 0.706659227847644, -0.26824366031343944, -0.537773843108674, 0.5923198033966968, -0.5939754980108162, -1.8429067824553713, -1.630827733085515, 1.9399034227472598, -1.0591735681626917, 1.5417871098828368, 0.011046675143945023, 0.3676156017707326, -1.5191005828816142, -0.1867932057368553, -0.6953542088819678, -1.061523717386393, -1.635525405595693, 1.271831465856645, 0.3609749081277422, -0.4002786155440916, 0.6349036683165985, -2.5085937439137402, 0.2880263358078486, 0.8233424851149163, 1.4205334892581958, 0.4042202557708223, 0.7476270820089652, -0.5186637637058849, 0.3383599270576156, 0.8451776409075579, -0.25151697794483074, 0.984125909044333, 1.3375325230325705, -0.8324635804628554, -1.1563474953687112, -0.1623099218070929, 0.17293006218943108, 0.7792582364985289, -0.1617458745013657, 0.7116848909522314, -0.6038785439652203, -2.0123878010301834, -0.9168735873139444, -0.17246519869176627, 1.2130208387149017, 1.834056203407502, 0.02332111811513691, 2.09391368645279, -0.4986945189622508, 0.4942431022279809, 0.3865218169769006, 0.7644569069065226, 1.8254559147171603, -0.4437851157118142, -0.7503594366043927, -0.31334366724654056, 0.21073969489699934, -0.05636023614984949, -1.005982163864285, 0.019568144859799623, -0.9677761425511624, 1.7860590480146616, 1.5026409498864475, 0.2091060547287096, -0.5037908334274643, 0.24140484190581732, -0.4311937741479804, 0.4493686887025034, 1.6091702365759928]}, {\"connectgaps\": false, \"fill\": \"tozeroy\", \"line\": {\"color\": \"green\", \"dash\": \"solid\", \"shape\": \"linear\", \"width\": 0.5}, \"mode\": \"lines\", \"name\": \"Spread\", \"showlegend\": false, \"type\": \"scatter\", \"x\": [0, 1, 2, 3, 4, 5, 6, 7, 8, 9, 10, 11, 12, 13, 14, 15, 16, 17, 18, 19, 20, 21, 22, 23, 24, 25, 26, 27, 28, 29, 30, 31, 32, 33, 34, 35, 36, 37, 38, 39, 40, 41, 42, 43, 44, 45, 46, 47, 48, 49, 50, 51, 52, 53, 54, 55, 56, 57, 58, 59, 60, 61, 62, 63, 64, 65, 66, 67, 68, 69, 70, 71, 72, 73, 74, 75, 76, 77, 78, 79, 80, 81, 82, 83, 84, 85, 86, 87, 88, 89, 90, 91, 92, 93, 94, 95, 96, 97, 98, 99], \"xaxis\": \"x2\", \"y\": [\"\", 0.7525297913117526, \"\", 1.8290255212582796, \"\", 0.6486445056904837, 1.2553767835103313, 2.3149662358792247, 0.8717775040232164, 0.6759397529739992, 0.38257243379717476, \"\", \"\", 2.5137338121385246, \"\", \"\", \"\", \"\", 0.8715133063857086, \"\", \"\", 1.466464298303835, \"\", \"\", 0.46157776314184107, \"\", 1.290913862973705, 1.9477298362158786, 0.36569714617438, 0.7221272411401323, \"\", \"\", 0.11223247969478523, 0.7116724187390524, \"\", 1.8492310310341216, 0.7748781449338489, 1.1847940545734341, \"\", 1.9516058921163786, \"\", 0.2397794135289072, \"\", 2.2868779880925114, \"\", \"\", 0.87442124119065, 2.7558652816969404, \"\", \"\", 0.9978795398741124, \"\", 2.5110135524659345, 1.4960018226284544, \"\", \"\", 0.528178181175075, \"\", \"\", 1.719968386537198, \"\", 0.232240594813438, 0.4232333784312693, \"\", 0.1093002584373709, 0.7965630952626683, \"\", \"\", \"\", \"\", 0.019652523885238304, 1.126002157661488, 3.4350164867816577, 2.39946348021465, 1.522682736935027, \"\", \"\", \"\", \"\", 1.0110682116223315, \"\", \"\", \"\", \"\", 0.4035252361331607, 1.912369256869085, \"\", 1.6130810653198902, \"\", 0.07464320384036127, \"\", 0.6621123182193399, \"\", \"\", 1.027621649244223, 0.5920634246679027, \"\", \"\", \"\", \"\"], \"yaxis\": \"y2\"}, {\"connectgaps\": false, \"fill\": \"tozeroy\", \"line\": {\"color\": \"red\", \"dash\": \"solid\", \"shape\": \"linear\", \"width\": 0.5}, \"mode\": \"lines\", \"name\": \"Spread\", \"showlegend\": false, \"type\": \"scatter\", \"x\": [0, 1, 2, 3, 4, 5, 6, 7, 8, 9, 10, 11, 12, 13, 14, 15, 16, 17, 18, 19, 20, 21, 22, 23, 24, 25, 26, 27, 28, 29, 30, 31, 32, 33, 34, 35, 36, 37, 38, 39, 40, 41, 42, 43, 44, 45, 46, 47, 48, 49, 50, 51, 52, 53, 54, 55, 56, 57, 58, 59, 60, 61, 62, 63, 64, 65, 66, 67, 68, 69, 70, 71, 72, 73, 74, 75, 76, 77, 78, 79, 80, 81, 82, 83, 84, 85, 86, 87, 88, 89, 90, 91, 92, 93, 94, 95, 96, 97, 98, 99], \"xaxis\": \"x2\", \"y\": [-0.8023680353549347, \"\", -1.9751575254822544, \"\", -0.7700070729734707, \"\", \"\", \"\", \"\", \"\", \"\", -1.1963293483453947, -2.5978605300259936, \"\", -1.4230396043536055, -1.699087355604484, -2.8735886858635755, -1.148853524263949, \"\", -0.34817057496133275, -0.06685473738646458, \"\", -0.9624579267766652, -0.7993628037773709, \"\", -1.4197839604619182, \"\", \"\", \"\", \"\", -0.23654976186118937, -1.6013201965000883, \"\", \"\", -0.24491166168312123, \"\", \"\", \"\", -2.139586850937166, \"\", -1.1000988517460113, \"\", -2.013301201222401, \"\", -0.7201040001491965, -0.26056026251922837, \"\", \"\", -1.11782803179174, -0.9326516843371364, \"\", -0.6156996222571682, \"\", \"\", -1.0276273816342962, -2.8246500339568703, \"\", -1.3268592254093887, -1.5387967368974924, \"\", -0.6778471016522949, \"\", \"\", -0.3782683857306306, \"\", \"\", -1.0346428668770493, -1.053116493540452, -1.293399057456087, -0.6207667140510856, \"\", \"\", \"\", \"\", \"\", -2.08648157937073, -1.343692142241808, -0.2325496882227144, -1.1031283756600996, \"\", -0.30861579136477957, -0.2745103339537532, -2.0849018649134763, -2.8885148897285644, \"\", \"\", -2.5398891741620138, \"\", -0.5967692608358063, \"\", -0.3283609674107121, \"\", -2.3337558402497596, -2.2780867660605977, \"\", \"\", -0.09288070552300431, -1.1324775178132465, -0.6148607912822001, -1.3930614660650131], \"yaxis\": \"y2\"}],                        {\"hovermode\": \"x\", \"legend\": {\"bgcolor\": \"#F5F6F9\", \"font\": {\"color\": \"#4D5663\"}}, \"paper_bgcolor\": \"#F5F6F9\", \"plot_bgcolor\": \"#F5F6F9\", \"template\": {\"data\": {\"bar\": [{\"error_x\": {\"color\": \"#2a3f5f\"}, \"error_y\": {\"color\": \"#2a3f5f\"}, \"marker\": {\"line\": {\"color\": \"#E5ECF6\", \"width\": 0.5}}, \"type\": \"bar\"}], \"barpolar\": [{\"marker\": {\"line\": {\"color\": \"#E5ECF6\", \"width\": 0.5}}, \"type\": \"barpolar\"}], \"carpet\": [{\"aaxis\": {\"endlinecolor\": \"#2a3f5f\", \"gridcolor\": \"white\", \"linecolor\": \"white\", \"minorgridcolor\": \"white\", \"startlinecolor\": \"#2a3f5f\"}, \"baxis\": {\"endlinecolor\": \"#2a3f5f\", \"gridcolor\": \"white\", \"linecolor\": \"white\", \"minorgridcolor\": \"white\", \"startlinecolor\": \"#2a3f5f\"}, \"type\": \"carpet\"}], \"choropleth\": [{\"colorbar\": {\"outlinewidth\": 0, \"ticks\": \"\"}, \"type\": \"choropleth\"}], \"contour\": [{\"colorbar\": {\"outlinewidth\": 0, \"ticks\": \"\"}, \"colorscale\": [[0.0, \"#0d0887\"], [0.1111111111111111, \"#46039f\"], [0.2222222222222222, \"#7201a8\"], [0.3333333333333333, \"#9c179e\"], [0.4444444444444444, \"#bd3786\"], [0.5555555555555556, \"#d8576b\"], [0.6666666666666666, \"#ed7953\"], [0.7777777777777778, \"#fb9f3a\"], [0.8888888888888888, \"#fdca26\"], [1.0, \"#f0f921\"]], \"type\": \"contour\"}], \"contourcarpet\": [{\"colorbar\": {\"outlinewidth\": 0, \"ticks\": \"\"}, \"type\": \"contourcarpet\"}], \"heatmap\": [{\"colorbar\": {\"outlinewidth\": 0, \"ticks\": \"\"}, \"colorscale\": [[0.0, \"#0d0887\"], [0.1111111111111111, \"#46039f\"], [0.2222222222222222, \"#7201a8\"], [0.3333333333333333, \"#9c179e\"], [0.4444444444444444, \"#bd3786\"], [0.5555555555555556, \"#d8576b\"], [0.6666666666666666, \"#ed7953\"], [0.7777777777777778, \"#fb9f3a\"], [0.8888888888888888, \"#fdca26\"], [1.0, \"#f0f921\"]], \"type\": \"heatmap\"}], \"heatmapgl\": [{\"colorbar\": {\"outlinewidth\": 0, \"ticks\": \"\"}, \"colorscale\": [[0.0, \"#0d0887\"], [0.1111111111111111, \"#46039f\"], [0.2222222222222222, \"#7201a8\"], [0.3333333333333333, \"#9c179e\"], [0.4444444444444444, \"#bd3786\"], [0.5555555555555556, \"#d8576b\"], [0.6666666666666666, \"#ed7953\"], [0.7777777777777778, \"#fb9f3a\"], [0.8888888888888888, \"#fdca26\"], [1.0, \"#f0f921\"]], \"type\": \"heatmapgl\"}], \"histogram\": [{\"marker\": {\"colorbar\": {\"outlinewidth\": 0, \"ticks\": \"\"}}, \"type\": \"histogram\"}], \"histogram2d\": [{\"colorbar\": {\"outlinewidth\": 0, \"ticks\": \"\"}, \"colorscale\": [[0.0, \"#0d0887\"], [0.1111111111111111, \"#46039f\"], [0.2222222222222222, \"#7201a8\"], [0.3333333333333333, \"#9c179e\"], [0.4444444444444444, \"#bd3786\"], [0.5555555555555556, \"#d8576b\"], [0.6666666666666666, \"#ed7953\"], [0.7777777777777778, \"#fb9f3a\"], [0.8888888888888888, \"#fdca26\"], [1.0, \"#f0f921\"]], \"type\": \"histogram2d\"}], \"histogram2dcontour\": [{\"colorbar\": {\"outlinewidth\": 0, \"ticks\": \"\"}, \"colorscale\": [[0.0, \"#0d0887\"], [0.1111111111111111, \"#46039f\"], [0.2222222222222222, \"#7201a8\"], [0.3333333333333333, \"#9c179e\"], [0.4444444444444444, \"#bd3786\"], [0.5555555555555556, \"#d8576b\"], [0.6666666666666666, \"#ed7953\"], [0.7777777777777778, \"#fb9f3a\"], [0.8888888888888888, \"#fdca26\"], [1.0, \"#f0f921\"]], \"type\": \"histogram2dcontour\"}], \"mesh3d\": [{\"colorbar\": {\"outlinewidth\": 0, \"ticks\": \"\"}, \"type\": \"mesh3d\"}], \"parcoords\": [{\"line\": {\"colorbar\": {\"outlinewidth\": 0, \"ticks\": \"\"}}, \"type\": \"parcoords\"}], \"pie\": [{\"automargin\": true, \"type\": \"pie\"}], \"scatter\": [{\"marker\": {\"colorbar\": {\"outlinewidth\": 0, \"ticks\": \"\"}}, \"type\": \"scatter\"}], \"scatter3d\": [{\"line\": {\"colorbar\": {\"outlinewidth\": 0, \"ticks\": \"\"}}, \"marker\": {\"colorbar\": {\"outlinewidth\": 0, \"ticks\": \"\"}}, \"type\": \"scatter3d\"}], \"scattercarpet\": [{\"marker\": {\"colorbar\": {\"outlinewidth\": 0, \"ticks\": \"\"}}, \"type\": \"scattercarpet\"}], \"scattergeo\": [{\"marker\": {\"colorbar\": {\"outlinewidth\": 0, \"ticks\": \"\"}}, \"type\": \"scattergeo\"}], \"scattergl\": [{\"marker\": {\"colorbar\": {\"outlinewidth\": 0, \"ticks\": \"\"}}, \"type\": \"scattergl\"}], \"scattermapbox\": [{\"marker\": {\"colorbar\": {\"outlinewidth\": 0, \"ticks\": \"\"}}, \"type\": \"scattermapbox\"}], \"scatterpolar\": [{\"marker\": {\"colorbar\": {\"outlinewidth\": 0, \"ticks\": \"\"}}, \"type\": \"scatterpolar\"}], \"scatterpolargl\": [{\"marker\": {\"colorbar\": {\"outlinewidth\": 0, \"ticks\": \"\"}}, \"type\": \"scatterpolargl\"}], \"scatterternary\": [{\"marker\": {\"colorbar\": {\"outlinewidth\": 0, \"ticks\": \"\"}}, \"type\": \"scatterternary\"}], \"surface\": [{\"colorbar\": {\"outlinewidth\": 0, \"ticks\": \"\"}, \"colorscale\": [[0.0, \"#0d0887\"], [0.1111111111111111, \"#46039f\"], [0.2222222222222222, \"#7201a8\"], [0.3333333333333333, \"#9c179e\"], [0.4444444444444444, \"#bd3786\"], [0.5555555555555556, \"#d8576b\"], [0.6666666666666666, \"#ed7953\"], [0.7777777777777778, \"#fb9f3a\"], [0.8888888888888888, \"#fdca26\"], [1.0, \"#f0f921\"]], \"type\": \"surface\"}], \"table\": [{\"cells\": {\"fill\": {\"color\": \"#EBF0F8\"}, \"line\": {\"color\": \"white\"}}, \"header\": {\"fill\": {\"color\": \"#C8D4E3\"}, \"line\": {\"color\": \"white\"}}, \"type\": \"table\"}]}, \"layout\": {\"annotationdefaults\": {\"arrowcolor\": \"#2a3f5f\", \"arrowhead\": 0, \"arrowwidth\": 1}, \"autotypenumbers\": \"strict\", \"coloraxis\": {\"colorbar\": {\"outlinewidth\": 0, \"ticks\": \"\"}}, \"colorscale\": {\"diverging\": [[0, \"#8e0152\"], [0.1, \"#c51b7d\"], [0.2, \"#de77ae\"], [0.3, \"#f1b6da\"], [0.4, \"#fde0ef\"], [0.5, \"#f7f7f7\"], [0.6, \"#e6f5d0\"], [0.7, \"#b8e186\"], [0.8, \"#7fbc41\"], [0.9, \"#4d9221\"], [1, \"#276419\"]], \"sequential\": [[0.0, \"#0d0887\"], [0.1111111111111111, \"#46039f\"], [0.2222222222222222, \"#7201a8\"], [0.3333333333333333, \"#9c179e\"], [0.4444444444444444, \"#bd3786\"], [0.5555555555555556, \"#d8576b\"], [0.6666666666666666, \"#ed7953\"], [0.7777777777777778, \"#fb9f3a\"], [0.8888888888888888, \"#fdca26\"], [1.0, \"#f0f921\"]], \"sequentialminus\": [[0.0, \"#0d0887\"], [0.1111111111111111, \"#46039f\"], [0.2222222222222222, \"#7201a8\"], [0.3333333333333333, \"#9c179e\"], [0.4444444444444444, \"#bd3786\"], [0.5555555555555556, \"#d8576b\"], [0.6666666666666666, \"#ed7953\"], [0.7777777777777778, \"#fb9f3a\"], [0.8888888888888888, \"#fdca26\"], [1.0, \"#f0f921\"]]}, \"colorway\": [\"#636efa\", \"#EF553B\", \"#00cc96\", \"#ab63fa\", \"#FFA15A\", \"#19d3f3\", \"#FF6692\", \"#B6E880\", \"#FF97FF\", \"#FECB52\"], \"font\": {\"color\": \"#2a3f5f\"}, \"geo\": {\"bgcolor\": \"white\", \"lakecolor\": \"white\", \"landcolor\": \"#E5ECF6\", \"showlakes\": true, \"showland\": true, \"subunitcolor\": \"white\"}, \"hoverlabel\": {\"align\": \"left\"}, \"hovermode\": \"closest\", \"mapbox\": {\"style\": \"light\"}, \"paper_bgcolor\": \"white\", \"plot_bgcolor\": \"#E5ECF6\", \"polar\": {\"angularaxis\": {\"gridcolor\": \"white\", \"linecolor\": \"white\", \"ticks\": \"\"}, \"bgcolor\": \"#E5ECF6\", \"radialaxis\": {\"gridcolor\": \"white\", \"linecolor\": \"white\", \"ticks\": \"\"}}, \"scene\": {\"xaxis\": {\"backgroundcolor\": \"#E5ECF6\", \"gridcolor\": \"white\", \"gridwidth\": 2, \"linecolor\": \"white\", \"showbackground\": true, \"ticks\": \"\", \"zerolinecolor\": \"white\"}, \"yaxis\": {\"backgroundcolor\": \"#E5ECF6\", \"gridcolor\": \"white\", \"gridwidth\": 2, \"linecolor\": \"white\", \"showbackground\": true, \"ticks\": \"\", \"zerolinecolor\": \"white\"}, \"zaxis\": {\"backgroundcolor\": \"#E5ECF6\", \"gridcolor\": \"white\", \"gridwidth\": 2, \"linecolor\": \"white\", \"showbackground\": true, \"ticks\": \"\", \"zerolinecolor\": \"white\"}}, \"shapedefaults\": {\"line\": {\"color\": \"#2a3f5f\"}}, \"ternary\": {\"aaxis\": {\"gridcolor\": \"white\", \"linecolor\": \"white\", \"ticks\": \"\"}, \"baxis\": {\"gridcolor\": \"white\", \"linecolor\": \"white\", \"ticks\": \"\"}, \"bgcolor\": \"#E5ECF6\", \"caxis\": {\"gridcolor\": \"white\", \"linecolor\": \"white\", \"ticks\": \"\"}}, \"title\": {\"x\": 0.05}, \"xaxis\": {\"automargin\": true, \"gridcolor\": \"white\", \"linecolor\": \"white\", \"ticks\": \"\", \"title\": {\"standoff\": 15}, \"zerolinecolor\": \"white\", \"zerolinewidth\": 2}, \"yaxis\": {\"automargin\": true, \"gridcolor\": \"white\", \"linecolor\": \"white\", \"ticks\": \"\", \"title\": {\"standoff\": 15}, \"zerolinecolor\": \"white\", \"zerolinewidth\": 2}}}, \"title\": {\"font\": {\"color\": \"#4D5663\"}}, \"xaxis\": {\"gridcolor\": \"#E1E5ED\", \"showgrid\": true, \"tickfont\": {\"color\": \"#4D5663\"}, \"title\": {\"font\": {\"color\": \"#4D5663\"}, \"text\": \"\"}, \"zerolinecolor\": \"#E1E5ED\"}, \"xaxis2\": {\"anchor\": \"y2\", \"gridcolor\": \"#E1E5ED\", \"showgrid\": true, \"showticklabels\": false, \"tickfont\": {\"color\": \"#4D5663\"}, \"title\": {\"font\": {\"color\": \"#4D5663\"}, \"text\": \"\"}, \"zerolinecolor\": \"#E1E5ED\"}, \"yaxis\": {\"domain\": [0.3, 1], \"gridcolor\": \"#E1E5ED\", \"showgrid\": true, \"tickfont\": {\"color\": \"#4D5663\"}, \"title\": {\"font\": {\"color\": \"#4D5663\"}, \"text\": \"\"}, \"zerolinecolor\": \"#E1E5ED\"}, \"yaxis2\": {\"domain\": [0, 0.25], \"gridcolor\": \"#E1E5ED\", \"showgrid\": true, \"tickfont\": {\"color\": \"#4D5663\"}, \"title\": {\"font\": {\"color\": \"#4D5663\"}, \"text\": \"Spread\"}, \"zerolinecolor\": \"#E1E5ED\"}},                        {\"showLink\": true, \"linkText\": \"Export to plot.ly\", \"plotlyServerURL\": \"https://plot.ly\", \"responsive\": true}                    ).then(function(){\n",
       "                            \n",
       "var gd = document.getElementById('6913e11a-2a81-4d59-8537-6cc8d1829318');\n",
       "var x = new MutationObserver(function (mutations, observer) {{\n",
       "        var display = window.getComputedStyle(gd).display;\n",
       "        if (!display || display === 'none') {{\n",
       "            console.log([gd, 'removed!']);\n",
       "            Plotly.purge(gd);\n",
       "            observer.disconnect();\n",
       "        }}\n",
       "}});\n",
       "\n",
       "// Listen for the removal of the full notebook cells\n",
       "var notebookContainer = gd.closest('#notebook-container');\n",
       "if (notebookContainer) {{\n",
       "    x.observe(notebookContainer, {childList: true});\n",
       "}}\n",
       "\n",
       "// Listen for the clearing of the current output cell\n",
       "var outputEl = gd.closest('.output');\n",
       "if (outputEl) {{\n",
       "    x.observe(outputEl, {childList: true});\n",
       "}}\n",
       "\n",
       "                        })                };                });            </script>        </div>"
      ]
     },
     "metadata": {},
     "output_type": "display_data"
    }
   ],
   "source": []
  },
  {
   "cell_type": "markdown",
   "metadata": {},
   "source": [
    "## histogram"
   ]
  },
  {
   "cell_type": "code",
   "execution_count": 16,
   "metadata": {},
   "outputs": [
    {
     "data": {
      "application/vnd.plotly.v1+json": {
       "config": {
        "linkText": "Export to plot.ly",
        "plotlyServerURL": "https://plot.ly",
        "showLink": true
       },
       "data": [
        {
         "histfunc": "count",
         "histnorm": "",
         "marker": {
          "color": "rgba(255, 153, 51, 1.0)",
          "line": {
           "color": "#4D5663",
           "width": 1.3
          }
         },
         "name": "A",
         "nbinsx": 25,
         "opacity": 0.8,
         "orientation": "v",
         "type": "histogram",
         "x": [
          0.0736951981220984,
          0.10564450982575026,
          -1.1287694447333996,
          0.5804209406137681,
          -0.1975551948846452,
          0.1264092655386513,
          0.2705128014282348,
          1.1425313644674608,
          -0.0280792412700831,
          -0.6037165583522806,
          -0.6654841318855145,
          -1.9597696313373731,
          -1.0836549781822886,
          0.8471570960094061,
          -1.4615600928892374,
          -0.41078536958814904,
          -2.040699361169267,
          0.03962481326541074,
          0.5275072266760765,
          -0.2939643525656409,
          0.28928818085179875,
          1.0413465410746048,
          -1.1836578546572247,
          -0.9432476721762981,
          -0.8285532101291623,
          -0.4051234867711331,
          2.0230075514310504,
          0.24539260697434792,
          -0.63260779700234,
          -0.7209851109446794,
          -1.5488207454379541,
          -0.8946609686524443,
          -0.1560111806186542,
          0.17389857563037833,
          0.34740814171357554,
          1.2552555330233055,
          -1.0680286375215224,
          -0.4460336785120809,
          -0.1996834281899064,
          0.8924323239536869,
          0.4416882581368255,
          0.2508260886728522,
          -1.6456855994516686,
          0.7677774052108971,
          -0.9068972058860518,
          -0.9559144714011961,
          -0.187102476195743,
          1.1203398761012473,
          0.15400343406490505,
          -0.5716767762093942,
          0.5976009243300208,
          0.019204046059430244,
          0.0024198085521941032,
          1.784028158436303,
          -0.20428489651938,
          -1.4041165446986748,
          0.9323984369458973,
          -0.5792321434004235,
          -2.0574605006033773,
          2.0583283135948136,
          0.167330539255263,
          -0.019276383131392728,
          1.4073592874756022,
          0.9592641373019399,
          -0.7231633220254845,
          -0.3597844001060429,
          -1.1969527886841422,
          -0.8801864313510209,
          -0.5141408209575581,
          -0.7825125885524513,
          0.7313374148374697,
          0.5221236136962678,
          1.4226286857514743,
          1.4825898929007055,
          1.3502175382432609,
          -0.8734607406558281,
          0.49036406116569414,
          -0.2092285701075775,
          0.9907853107926903,
          0.5123736926600807,
          0.18562731086320133,
          0.11201148302314741,
          -1.3204449580069537,
          -1.0630589750114043,
          -0.04025987957865352,
          1.1620098202646922,
          -2.853232841408554,
          1.8238207602168894,
          -0.6531294969856558,
          -0.9313389600239237,
          -0.30879282255091245,
          -0.3056638243318225,
          -0.5476967922350982,
          -0.7754458161741501,
          1.2367277039729325,
          0.08827259124043836,
          0.148524136382813,
          -1.5636712919612268,
          -0.16549210257969663,
          0.21610877051097974
         ]
        }
       ],
       "layout": {
        "barmode": "overlay",
        "legend": {
         "bgcolor": "#F5F6F9",
         "font": {
          "color": "#4D5663"
         }
        },
        "paper_bgcolor": "#F5F6F9",
        "plot_bgcolor": "#F5F6F9",
        "template": {
         "data": {
          "bar": [
           {
            "error_x": {
             "color": "#2a3f5f"
            },
            "error_y": {
             "color": "#2a3f5f"
            },
            "marker": {
             "line": {
              "color": "#E5ECF6",
              "width": 0.5
             }
            },
            "type": "bar"
           }
          ],
          "barpolar": [
           {
            "marker": {
             "line": {
              "color": "#E5ECF6",
              "width": 0.5
             }
            },
            "type": "barpolar"
           }
          ],
          "carpet": [
           {
            "aaxis": {
             "endlinecolor": "#2a3f5f",
             "gridcolor": "white",
             "linecolor": "white",
             "minorgridcolor": "white",
             "startlinecolor": "#2a3f5f"
            },
            "baxis": {
             "endlinecolor": "#2a3f5f",
             "gridcolor": "white",
             "linecolor": "white",
             "minorgridcolor": "white",
             "startlinecolor": "#2a3f5f"
            },
            "type": "carpet"
           }
          ],
          "choropleth": [
           {
            "colorbar": {
             "outlinewidth": 0,
             "ticks": ""
            },
            "type": "choropleth"
           }
          ],
          "contour": [
           {
            "colorbar": {
             "outlinewidth": 0,
             "ticks": ""
            },
            "colorscale": [
             [
              0,
              "#0d0887"
             ],
             [
              0.1111111111111111,
              "#46039f"
             ],
             [
              0.2222222222222222,
              "#7201a8"
             ],
             [
              0.3333333333333333,
              "#9c179e"
             ],
             [
              0.4444444444444444,
              "#bd3786"
             ],
             [
              0.5555555555555556,
              "#d8576b"
             ],
             [
              0.6666666666666666,
              "#ed7953"
             ],
             [
              0.7777777777777778,
              "#fb9f3a"
             ],
             [
              0.8888888888888888,
              "#fdca26"
             ],
             [
              1,
              "#f0f921"
             ]
            ],
            "type": "contour"
           }
          ],
          "contourcarpet": [
           {
            "colorbar": {
             "outlinewidth": 0,
             "ticks": ""
            },
            "type": "contourcarpet"
           }
          ],
          "heatmap": [
           {
            "colorbar": {
             "outlinewidth": 0,
             "ticks": ""
            },
            "colorscale": [
             [
              0,
              "#0d0887"
             ],
             [
              0.1111111111111111,
              "#46039f"
             ],
             [
              0.2222222222222222,
              "#7201a8"
             ],
             [
              0.3333333333333333,
              "#9c179e"
             ],
             [
              0.4444444444444444,
              "#bd3786"
             ],
             [
              0.5555555555555556,
              "#d8576b"
             ],
             [
              0.6666666666666666,
              "#ed7953"
             ],
             [
              0.7777777777777778,
              "#fb9f3a"
             ],
             [
              0.8888888888888888,
              "#fdca26"
             ],
             [
              1,
              "#f0f921"
             ]
            ],
            "type": "heatmap"
           }
          ],
          "heatmapgl": [
           {
            "colorbar": {
             "outlinewidth": 0,
             "ticks": ""
            },
            "colorscale": [
             [
              0,
              "#0d0887"
             ],
             [
              0.1111111111111111,
              "#46039f"
             ],
             [
              0.2222222222222222,
              "#7201a8"
             ],
             [
              0.3333333333333333,
              "#9c179e"
             ],
             [
              0.4444444444444444,
              "#bd3786"
             ],
             [
              0.5555555555555556,
              "#d8576b"
             ],
             [
              0.6666666666666666,
              "#ed7953"
             ],
             [
              0.7777777777777778,
              "#fb9f3a"
             ],
             [
              0.8888888888888888,
              "#fdca26"
             ],
             [
              1,
              "#f0f921"
             ]
            ],
            "type": "heatmapgl"
           }
          ],
          "histogram": [
           {
            "marker": {
             "colorbar": {
              "outlinewidth": 0,
              "ticks": ""
             }
            },
            "type": "histogram"
           }
          ],
          "histogram2d": [
           {
            "colorbar": {
             "outlinewidth": 0,
             "ticks": ""
            },
            "colorscale": [
             [
              0,
              "#0d0887"
             ],
             [
              0.1111111111111111,
              "#46039f"
             ],
             [
              0.2222222222222222,
              "#7201a8"
             ],
             [
              0.3333333333333333,
              "#9c179e"
             ],
             [
              0.4444444444444444,
              "#bd3786"
             ],
             [
              0.5555555555555556,
              "#d8576b"
             ],
             [
              0.6666666666666666,
              "#ed7953"
             ],
             [
              0.7777777777777778,
              "#fb9f3a"
             ],
             [
              0.8888888888888888,
              "#fdca26"
             ],
             [
              1,
              "#f0f921"
             ]
            ],
            "type": "histogram2d"
           }
          ],
          "histogram2dcontour": [
           {
            "colorbar": {
             "outlinewidth": 0,
             "ticks": ""
            },
            "colorscale": [
             [
              0,
              "#0d0887"
             ],
             [
              0.1111111111111111,
              "#46039f"
             ],
             [
              0.2222222222222222,
              "#7201a8"
             ],
             [
              0.3333333333333333,
              "#9c179e"
             ],
             [
              0.4444444444444444,
              "#bd3786"
             ],
             [
              0.5555555555555556,
              "#d8576b"
             ],
             [
              0.6666666666666666,
              "#ed7953"
             ],
             [
              0.7777777777777778,
              "#fb9f3a"
             ],
             [
              0.8888888888888888,
              "#fdca26"
             ],
             [
              1,
              "#f0f921"
             ]
            ],
            "type": "histogram2dcontour"
           }
          ],
          "mesh3d": [
           {
            "colorbar": {
             "outlinewidth": 0,
             "ticks": ""
            },
            "type": "mesh3d"
           }
          ],
          "parcoords": [
           {
            "line": {
             "colorbar": {
              "outlinewidth": 0,
              "ticks": ""
             }
            },
            "type": "parcoords"
           }
          ],
          "pie": [
           {
            "automargin": true,
            "type": "pie"
           }
          ],
          "scatter": [
           {
            "marker": {
             "colorbar": {
              "outlinewidth": 0,
              "ticks": ""
             }
            },
            "type": "scatter"
           }
          ],
          "scatter3d": [
           {
            "line": {
             "colorbar": {
              "outlinewidth": 0,
              "ticks": ""
             }
            },
            "marker": {
             "colorbar": {
              "outlinewidth": 0,
              "ticks": ""
             }
            },
            "type": "scatter3d"
           }
          ],
          "scattercarpet": [
           {
            "marker": {
             "colorbar": {
              "outlinewidth": 0,
              "ticks": ""
             }
            },
            "type": "scattercarpet"
           }
          ],
          "scattergeo": [
           {
            "marker": {
             "colorbar": {
              "outlinewidth": 0,
              "ticks": ""
             }
            },
            "type": "scattergeo"
           }
          ],
          "scattergl": [
           {
            "marker": {
             "colorbar": {
              "outlinewidth": 0,
              "ticks": ""
             }
            },
            "type": "scattergl"
           }
          ],
          "scattermapbox": [
           {
            "marker": {
             "colorbar": {
              "outlinewidth": 0,
              "ticks": ""
             }
            },
            "type": "scattermapbox"
           }
          ],
          "scatterpolar": [
           {
            "marker": {
             "colorbar": {
              "outlinewidth": 0,
              "ticks": ""
             }
            },
            "type": "scatterpolar"
           }
          ],
          "scatterpolargl": [
           {
            "marker": {
             "colorbar": {
              "outlinewidth": 0,
              "ticks": ""
             }
            },
            "type": "scatterpolargl"
           }
          ],
          "scatterternary": [
           {
            "marker": {
             "colorbar": {
              "outlinewidth": 0,
              "ticks": ""
             }
            },
            "type": "scatterternary"
           }
          ],
          "surface": [
           {
            "colorbar": {
             "outlinewidth": 0,
             "ticks": ""
            },
            "colorscale": [
             [
              0,
              "#0d0887"
             ],
             [
              0.1111111111111111,
              "#46039f"
             ],
             [
              0.2222222222222222,
              "#7201a8"
             ],
             [
              0.3333333333333333,
              "#9c179e"
             ],
             [
              0.4444444444444444,
              "#bd3786"
             ],
             [
              0.5555555555555556,
              "#d8576b"
             ],
             [
              0.6666666666666666,
              "#ed7953"
             ],
             [
              0.7777777777777778,
              "#fb9f3a"
             ],
             [
              0.8888888888888888,
              "#fdca26"
             ],
             [
              1,
              "#f0f921"
             ]
            ],
            "type": "surface"
           }
          ],
          "table": [
           {
            "cells": {
             "fill": {
              "color": "#EBF0F8"
             },
             "line": {
              "color": "white"
             }
            },
            "header": {
             "fill": {
              "color": "#C8D4E3"
             },
             "line": {
              "color": "white"
             }
            },
            "type": "table"
           }
          ]
         },
         "layout": {
          "annotationdefaults": {
           "arrowcolor": "#2a3f5f",
           "arrowhead": 0,
           "arrowwidth": 1
          },
          "autotypenumbers": "strict",
          "coloraxis": {
           "colorbar": {
            "outlinewidth": 0,
            "ticks": ""
           }
          },
          "colorscale": {
           "diverging": [
            [
             0,
             "#8e0152"
            ],
            [
             0.1,
             "#c51b7d"
            ],
            [
             0.2,
             "#de77ae"
            ],
            [
             0.3,
             "#f1b6da"
            ],
            [
             0.4,
             "#fde0ef"
            ],
            [
             0.5,
             "#f7f7f7"
            ],
            [
             0.6,
             "#e6f5d0"
            ],
            [
             0.7,
             "#b8e186"
            ],
            [
             0.8,
             "#7fbc41"
            ],
            [
             0.9,
             "#4d9221"
            ],
            [
             1,
             "#276419"
            ]
           ],
           "sequential": [
            [
             0,
             "#0d0887"
            ],
            [
             0.1111111111111111,
             "#46039f"
            ],
            [
             0.2222222222222222,
             "#7201a8"
            ],
            [
             0.3333333333333333,
             "#9c179e"
            ],
            [
             0.4444444444444444,
             "#bd3786"
            ],
            [
             0.5555555555555556,
             "#d8576b"
            ],
            [
             0.6666666666666666,
             "#ed7953"
            ],
            [
             0.7777777777777778,
             "#fb9f3a"
            ],
            [
             0.8888888888888888,
             "#fdca26"
            ],
            [
             1,
             "#f0f921"
            ]
           ],
           "sequentialminus": [
            [
             0,
             "#0d0887"
            ],
            [
             0.1111111111111111,
             "#46039f"
            ],
            [
             0.2222222222222222,
             "#7201a8"
            ],
            [
             0.3333333333333333,
             "#9c179e"
            ],
            [
             0.4444444444444444,
             "#bd3786"
            ],
            [
             0.5555555555555556,
             "#d8576b"
            ],
            [
             0.6666666666666666,
             "#ed7953"
            ],
            [
             0.7777777777777778,
             "#fb9f3a"
            ],
            [
             0.8888888888888888,
             "#fdca26"
            ],
            [
             1,
             "#f0f921"
            ]
           ]
          },
          "colorway": [
           "#636efa",
           "#EF553B",
           "#00cc96",
           "#ab63fa",
           "#FFA15A",
           "#19d3f3",
           "#FF6692",
           "#B6E880",
           "#FF97FF",
           "#FECB52"
          ],
          "font": {
           "color": "#2a3f5f"
          },
          "geo": {
           "bgcolor": "white",
           "lakecolor": "white",
           "landcolor": "#E5ECF6",
           "showlakes": true,
           "showland": true,
           "subunitcolor": "white"
          },
          "hoverlabel": {
           "align": "left"
          },
          "hovermode": "closest",
          "mapbox": {
           "style": "light"
          },
          "paper_bgcolor": "white",
          "plot_bgcolor": "#E5ECF6",
          "polar": {
           "angularaxis": {
            "gridcolor": "white",
            "linecolor": "white",
            "ticks": ""
           },
           "bgcolor": "#E5ECF6",
           "radialaxis": {
            "gridcolor": "white",
            "linecolor": "white",
            "ticks": ""
           }
          },
          "scene": {
           "xaxis": {
            "backgroundcolor": "#E5ECF6",
            "gridcolor": "white",
            "gridwidth": 2,
            "linecolor": "white",
            "showbackground": true,
            "ticks": "",
            "zerolinecolor": "white"
           },
           "yaxis": {
            "backgroundcolor": "#E5ECF6",
            "gridcolor": "white",
            "gridwidth": 2,
            "linecolor": "white",
            "showbackground": true,
            "ticks": "",
            "zerolinecolor": "white"
           },
           "zaxis": {
            "backgroundcolor": "#E5ECF6",
            "gridcolor": "white",
            "gridwidth": 2,
            "linecolor": "white",
            "showbackground": true,
            "ticks": "",
            "zerolinecolor": "white"
           }
          },
          "shapedefaults": {
           "line": {
            "color": "#2a3f5f"
           }
          },
          "ternary": {
           "aaxis": {
            "gridcolor": "white",
            "linecolor": "white",
            "ticks": ""
           },
           "baxis": {
            "gridcolor": "white",
            "linecolor": "white",
            "ticks": ""
           },
           "bgcolor": "#E5ECF6",
           "caxis": {
            "gridcolor": "white",
            "linecolor": "white",
            "ticks": ""
           }
          },
          "title": {
           "x": 0.05
          },
          "xaxis": {
           "automargin": true,
           "gridcolor": "white",
           "linecolor": "white",
           "ticks": "",
           "title": {
            "standoff": 15
           },
           "zerolinecolor": "white",
           "zerolinewidth": 2
          },
          "yaxis": {
           "automargin": true,
           "gridcolor": "white",
           "linecolor": "white",
           "ticks": "",
           "title": {
            "standoff": 15
           },
           "zerolinecolor": "white",
           "zerolinewidth": 2
          }
         }
        },
        "title": {
         "font": {
          "color": "#4D5663"
         }
        },
        "xaxis": {
         "gridcolor": "#E1E5ED",
         "showgrid": true,
         "tickfont": {
          "color": "#4D5663"
         },
         "title": {
          "font": {
           "color": "#4D5663"
          },
          "text": ""
         },
         "zerolinecolor": "#E1E5ED"
        },
        "yaxis": {
         "gridcolor": "#E1E5ED",
         "showgrid": true,
         "tickfont": {
          "color": "#4D5663"
         },
         "title": {
          "font": {
           "color": "#4D5663"
          },
          "text": ""
         },
         "zerolinecolor": "#E1E5ED"
        }
       }
      },
      "text/html": [
       "<div>                            <div id=\"a3a9ed3f-4f31-41ca-8d0e-af6e8116deef\" class=\"plotly-graph-div\" style=\"height:525px; width:100%;\"></div>            <script type=\"text/javascript\">                require([\"plotly\"], function(Plotly) {                    window.PLOTLYENV=window.PLOTLYENV || {};\n",
       "                    window.PLOTLYENV.BASE_URL='https://plot.ly';                                    if (document.getElementById(\"a3a9ed3f-4f31-41ca-8d0e-af6e8116deef\")) {                    Plotly.newPlot(                        \"a3a9ed3f-4f31-41ca-8d0e-af6e8116deef\",                        [{\"histfunc\": \"count\", \"histnorm\": \"\", \"marker\": {\"color\": \"rgba(255, 153, 51, 1.0)\", \"line\": {\"color\": \"#4D5663\", \"width\": 1.3}}, \"name\": \"A\", \"nbinsx\": 25, \"opacity\": 0.8, \"orientation\": \"v\", \"type\": \"histogram\", \"x\": [0.0736951981220984, 0.10564450982575026, -1.1287694447333996, 0.5804209406137681, -0.1975551948846452, 0.1264092655386513, 0.2705128014282348, 1.1425313644674608, -0.0280792412700831, -0.6037165583522806, -0.6654841318855145, -1.9597696313373731, -1.0836549781822886, 0.8471570960094061, -1.4615600928892374, -0.41078536958814904, -2.040699361169267, 0.03962481326541074, 0.5275072266760765, -0.2939643525656409, 0.28928818085179875, 1.0413465410746048, -1.1836578546572247, -0.9432476721762981, -0.8285532101291623, -0.4051234867711331, 2.0230075514310504, 0.24539260697434792, -0.63260779700234, -0.7209851109446794, -1.5488207454379541, -0.8946609686524443, -0.1560111806186542, 0.17389857563037833, 0.34740814171357554, 1.2552555330233055, -1.0680286375215224, -0.4460336785120809, -0.1996834281899064, 0.8924323239536869, 0.4416882581368255, 0.2508260886728522, -1.6456855994516686, 0.7677774052108971, -0.9068972058860518, -0.9559144714011961, -0.187102476195743, 1.1203398761012473, 0.15400343406490505, -0.5716767762093942, 0.5976009243300208, 0.019204046059430244, 0.0024198085521941032, 1.784028158436303, -0.20428489651938, -1.4041165446986748, 0.9323984369458973, -0.5792321434004235, -2.0574605006033773, 2.0583283135948136, 0.167330539255263, -0.019276383131392728, 1.4073592874756022, 0.9592641373019399, -0.7231633220254845, -0.3597844001060429, -1.1969527886841422, -0.8801864313510209, -0.5141408209575581, -0.7825125885524513, 0.7313374148374697, 0.5221236136962678, 1.4226286857514743, 1.4825898929007055, 1.3502175382432609, -0.8734607406558281, 0.49036406116569414, -0.2092285701075775, 0.9907853107926903, 0.5123736926600807, 0.18562731086320133, 0.11201148302314741, -1.3204449580069537, -1.0630589750114043, -0.04025987957865352, 1.1620098202646922, -2.853232841408554, 1.8238207602168894, -0.6531294969856558, -0.9313389600239237, -0.30879282255091245, -0.3056638243318225, -0.5476967922350982, -0.7754458161741501, 1.2367277039729325, 0.08827259124043836, 0.148524136382813, -1.5636712919612268, -0.16549210257969663, 0.21610877051097974]}],                        {\"barmode\": \"overlay\", \"legend\": {\"bgcolor\": \"#F5F6F9\", \"font\": {\"color\": \"#4D5663\"}}, \"paper_bgcolor\": \"#F5F6F9\", \"plot_bgcolor\": \"#F5F6F9\", \"template\": {\"data\": {\"bar\": [{\"error_x\": {\"color\": \"#2a3f5f\"}, \"error_y\": {\"color\": \"#2a3f5f\"}, \"marker\": {\"line\": {\"color\": \"#E5ECF6\", \"width\": 0.5}}, \"type\": \"bar\"}], \"barpolar\": [{\"marker\": {\"line\": {\"color\": \"#E5ECF6\", \"width\": 0.5}}, \"type\": \"barpolar\"}], \"carpet\": [{\"aaxis\": {\"endlinecolor\": \"#2a3f5f\", \"gridcolor\": \"white\", \"linecolor\": \"white\", \"minorgridcolor\": \"white\", \"startlinecolor\": \"#2a3f5f\"}, \"baxis\": {\"endlinecolor\": \"#2a3f5f\", \"gridcolor\": \"white\", \"linecolor\": \"white\", \"minorgridcolor\": \"white\", \"startlinecolor\": \"#2a3f5f\"}, \"type\": \"carpet\"}], \"choropleth\": [{\"colorbar\": {\"outlinewidth\": 0, \"ticks\": \"\"}, \"type\": \"choropleth\"}], \"contour\": [{\"colorbar\": {\"outlinewidth\": 0, \"ticks\": \"\"}, \"colorscale\": [[0.0, \"#0d0887\"], [0.1111111111111111, \"#46039f\"], [0.2222222222222222, \"#7201a8\"], [0.3333333333333333, \"#9c179e\"], [0.4444444444444444, \"#bd3786\"], [0.5555555555555556, \"#d8576b\"], [0.6666666666666666, \"#ed7953\"], [0.7777777777777778, \"#fb9f3a\"], [0.8888888888888888, \"#fdca26\"], [1.0, \"#f0f921\"]], \"type\": \"contour\"}], \"contourcarpet\": [{\"colorbar\": {\"outlinewidth\": 0, \"ticks\": \"\"}, \"type\": \"contourcarpet\"}], \"heatmap\": [{\"colorbar\": {\"outlinewidth\": 0, \"ticks\": \"\"}, \"colorscale\": [[0.0, \"#0d0887\"], [0.1111111111111111, \"#46039f\"], [0.2222222222222222, \"#7201a8\"], [0.3333333333333333, \"#9c179e\"], [0.4444444444444444, \"#bd3786\"], [0.5555555555555556, \"#d8576b\"], [0.6666666666666666, \"#ed7953\"], [0.7777777777777778, \"#fb9f3a\"], [0.8888888888888888, \"#fdca26\"], [1.0, \"#f0f921\"]], \"type\": \"heatmap\"}], \"heatmapgl\": [{\"colorbar\": {\"outlinewidth\": 0, \"ticks\": \"\"}, \"colorscale\": [[0.0, \"#0d0887\"], [0.1111111111111111, \"#46039f\"], [0.2222222222222222, \"#7201a8\"], [0.3333333333333333, \"#9c179e\"], [0.4444444444444444, \"#bd3786\"], [0.5555555555555556, \"#d8576b\"], [0.6666666666666666, \"#ed7953\"], [0.7777777777777778, \"#fb9f3a\"], [0.8888888888888888, \"#fdca26\"], [1.0, \"#f0f921\"]], \"type\": \"heatmapgl\"}], \"histogram\": [{\"marker\": {\"colorbar\": {\"outlinewidth\": 0, \"ticks\": \"\"}}, \"type\": \"histogram\"}], \"histogram2d\": [{\"colorbar\": {\"outlinewidth\": 0, \"ticks\": \"\"}, \"colorscale\": [[0.0, \"#0d0887\"], [0.1111111111111111, \"#46039f\"], [0.2222222222222222, \"#7201a8\"], [0.3333333333333333, \"#9c179e\"], [0.4444444444444444, \"#bd3786\"], [0.5555555555555556, \"#d8576b\"], [0.6666666666666666, \"#ed7953\"], [0.7777777777777778, \"#fb9f3a\"], [0.8888888888888888, \"#fdca26\"], [1.0, \"#f0f921\"]], \"type\": \"histogram2d\"}], \"histogram2dcontour\": [{\"colorbar\": {\"outlinewidth\": 0, \"ticks\": \"\"}, \"colorscale\": [[0.0, \"#0d0887\"], [0.1111111111111111, \"#46039f\"], [0.2222222222222222, \"#7201a8\"], [0.3333333333333333, \"#9c179e\"], [0.4444444444444444, \"#bd3786\"], [0.5555555555555556, \"#d8576b\"], [0.6666666666666666, \"#ed7953\"], [0.7777777777777778, \"#fb9f3a\"], [0.8888888888888888, \"#fdca26\"], [1.0, \"#f0f921\"]], \"type\": \"histogram2dcontour\"}], \"mesh3d\": [{\"colorbar\": {\"outlinewidth\": 0, \"ticks\": \"\"}, \"type\": \"mesh3d\"}], \"parcoords\": [{\"line\": {\"colorbar\": {\"outlinewidth\": 0, \"ticks\": \"\"}}, \"type\": \"parcoords\"}], \"pie\": [{\"automargin\": true, \"type\": \"pie\"}], \"scatter\": [{\"marker\": {\"colorbar\": {\"outlinewidth\": 0, \"ticks\": \"\"}}, \"type\": \"scatter\"}], \"scatter3d\": [{\"line\": {\"colorbar\": {\"outlinewidth\": 0, \"ticks\": \"\"}}, \"marker\": {\"colorbar\": {\"outlinewidth\": 0, \"ticks\": \"\"}}, \"type\": \"scatter3d\"}], \"scattercarpet\": [{\"marker\": {\"colorbar\": {\"outlinewidth\": 0, \"ticks\": \"\"}}, \"type\": \"scattercarpet\"}], \"scattergeo\": [{\"marker\": {\"colorbar\": {\"outlinewidth\": 0, \"ticks\": \"\"}}, \"type\": \"scattergeo\"}], \"scattergl\": [{\"marker\": {\"colorbar\": {\"outlinewidth\": 0, \"ticks\": \"\"}}, \"type\": \"scattergl\"}], \"scattermapbox\": [{\"marker\": {\"colorbar\": {\"outlinewidth\": 0, \"ticks\": \"\"}}, \"type\": \"scattermapbox\"}], \"scatterpolar\": [{\"marker\": {\"colorbar\": {\"outlinewidth\": 0, \"ticks\": \"\"}}, \"type\": \"scatterpolar\"}], \"scatterpolargl\": [{\"marker\": {\"colorbar\": {\"outlinewidth\": 0, \"ticks\": \"\"}}, \"type\": \"scatterpolargl\"}], \"scatterternary\": [{\"marker\": {\"colorbar\": {\"outlinewidth\": 0, \"ticks\": \"\"}}, \"type\": \"scatterternary\"}], \"surface\": [{\"colorbar\": {\"outlinewidth\": 0, \"ticks\": \"\"}, \"colorscale\": [[0.0, \"#0d0887\"], [0.1111111111111111, \"#46039f\"], [0.2222222222222222, \"#7201a8\"], [0.3333333333333333, \"#9c179e\"], [0.4444444444444444, \"#bd3786\"], [0.5555555555555556, \"#d8576b\"], [0.6666666666666666, \"#ed7953\"], [0.7777777777777778, \"#fb9f3a\"], [0.8888888888888888, \"#fdca26\"], [1.0, \"#f0f921\"]], \"type\": \"surface\"}], \"table\": [{\"cells\": {\"fill\": {\"color\": \"#EBF0F8\"}, \"line\": {\"color\": \"white\"}}, \"header\": {\"fill\": {\"color\": \"#C8D4E3\"}, \"line\": {\"color\": \"white\"}}, \"type\": \"table\"}]}, \"layout\": {\"annotationdefaults\": {\"arrowcolor\": \"#2a3f5f\", \"arrowhead\": 0, \"arrowwidth\": 1}, \"autotypenumbers\": \"strict\", \"coloraxis\": {\"colorbar\": {\"outlinewidth\": 0, \"ticks\": \"\"}}, \"colorscale\": {\"diverging\": [[0, \"#8e0152\"], [0.1, \"#c51b7d\"], [0.2, \"#de77ae\"], [0.3, \"#f1b6da\"], [0.4, \"#fde0ef\"], [0.5, \"#f7f7f7\"], [0.6, \"#e6f5d0\"], [0.7, \"#b8e186\"], [0.8, \"#7fbc41\"], [0.9, \"#4d9221\"], [1, \"#276419\"]], \"sequential\": [[0.0, \"#0d0887\"], [0.1111111111111111, \"#46039f\"], [0.2222222222222222, \"#7201a8\"], [0.3333333333333333, \"#9c179e\"], [0.4444444444444444, \"#bd3786\"], [0.5555555555555556, \"#d8576b\"], [0.6666666666666666, \"#ed7953\"], [0.7777777777777778, \"#fb9f3a\"], [0.8888888888888888, \"#fdca26\"], [1.0, \"#f0f921\"]], \"sequentialminus\": [[0.0, \"#0d0887\"], [0.1111111111111111, \"#46039f\"], [0.2222222222222222, \"#7201a8\"], [0.3333333333333333, \"#9c179e\"], [0.4444444444444444, \"#bd3786\"], [0.5555555555555556, \"#d8576b\"], [0.6666666666666666, \"#ed7953\"], [0.7777777777777778, \"#fb9f3a\"], [0.8888888888888888, \"#fdca26\"], [1.0, \"#f0f921\"]]}, \"colorway\": [\"#636efa\", \"#EF553B\", \"#00cc96\", \"#ab63fa\", \"#FFA15A\", \"#19d3f3\", \"#FF6692\", \"#B6E880\", \"#FF97FF\", \"#FECB52\"], \"font\": {\"color\": \"#2a3f5f\"}, \"geo\": {\"bgcolor\": \"white\", \"lakecolor\": \"white\", \"landcolor\": \"#E5ECF6\", \"showlakes\": true, \"showland\": true, \"subunitcolor\": \"white\"}, \"hoverlabel\": {\"align\": \"left\"}, \"hovermode\": \"closest\", \"mapbox\": {\"style\": \"light\"}, \"paper_bgcolor\": \"white\", \"plot_bgcolor\": \"#E5ECF6\", \"polar\": {\"angularaxis\": {\"gridcolor\": \"white\", \"linecolor\": \"white\", \"ticks\": \"\"}, \"bgcolor\": \"#E5ECF6\", \"radialaxis\": {\"gridcolor\": \"white\", \"linecolor\": \"white\", \"ticks\": \"\"}}, \"scene\": {\"xaxis\": {\"backgroundcolor\": \"#E5ECF6\", \"gridcolor\": \"white\", \"gridwidth\": 2, \"linecolor\": \"white\", \"showbackground\": true, \"ticks\": \"\", \"zerolinecolor\": \"white\"}, \"yaxis\": {\"backgroundcolor\": \"#E5ECF6\", \"gridcolor\": \"white\", \"gridwidth\": 2, \"linecolor\": \"white\", \"showbackground\": true, \"ticks\": \"\", \"zerolinecolor\": \"white\"}, \"zaxis\": {\"backgroundcolor\": \"#E5ECF6\", \"gridcolor\": \"white\", \"gridwidth\": 2, \"linecolor\": \"white\", \"showbackground\": true, \"ticks\": \"\", \"zerolinecolor\": \"white\"}}, \"shapedefaults\": {\"line\": {\"color\": \"#2a3f5f\"}}, \"ternary\": {\"aaxis\": {\"gridcolor\": \"white\", \"linecolor\": \"white\", \"ticks\": \"\"}, \"baxis\": {\"gridcolor\": \"white\", \"linecolor\": \"white\", \"ticks\": \"\"}, \"bgcolor\": \"#E5ECF6\", \"caxis\": {\"gridcolor\": \"white\", \"linecolor\": \"white\", \"ticks\": \"\"}}, \"title\": {\"x\": 0.05}, \"xaxis\": {\"automargin\": true, \"gridcolor\": \"white\", \"linecolor\": \"white\", \"ticks\": \"\", \"title\": {\"standoff\": 15}, \"zerolinecolor\": \"white\", \"zerolinewidth\": 2}, \"yaxis\": {\"automargin\": true, \"gridcolor\": \"white\", \"linecolor\": \"white\", \"ticks\": \"\", \"title\": {\"standoff\": 15}, \"zerolinecolor\": \"white\", \"zerolinewidth\": 2}}}, \"title\": {\"font\": {\"color\": \"#4D5663\"}}, \"xaxis\": {\"gridcolor\": \"#E1E5ED\", \"showgrid\": true, \"tickfont\": {\"color\": \"#4D5663\"}, \"title\": {\"font\": {\"color\": \"#4D5663\"}, \"text\": \"\"}, \"zerolinecolor\": \"#E1E5ED\"}, \"yaxis\": {\"gridcolor\": \"#E1E5ED\", \"showgrid\": true, \"tickfont\": {\"color\": \"#4D5663\"}, \"title\": {\"font\": {\"color\": \"#4D5663\"}, \"text\": \"\"}, \"zerolinecolor\": \"#E1E5ED\"}},                        {\"showLink\": true, \"linkText\": \"Export to plot.ly\", \"plotlyServerURL\": \"https://plot.ly\", \"responsive\": true}                    ).then(function(){\n",
       "                            \n",
       "var gd = document.getElementById('a3a9ed3f-4f31-41ca-8d0e-af6e8116deef');\n",
       "var x = new MutationObserver(function (mutations, observer) {{\n",
       "        var display = window.getComputedStyle(gd).display;\n",
       "        if (!display || display === 'none') {{\n",
       "            console.log([gd, 'removed!']);\n",
       "            Plotly.purge(gd);\n",
       "            observer.disconnect();\n",
       "        }}\n",
       "}});\n",
       "\n",
       "// Listen for the removal of the full notebook cells\n",
       "var notebookContainer = gd.closest('#notebook-container');\n",
       "if (notebookContainer) {{\n",
       "    x.observe(notebookContainer, {childList: true});\n",
       "}}\n",
       "\n",
       "// Listen for the clearing of the current output cell\n",
       "var outputEl = gd.closest('.output');\n",
       "if (outputEl) {{\n",
       "    x.observe(outputEl, {childList: true});\n",
       "}}\n",
       "\n",
       "                        })                };                });            </script>        </div>"
      ]
     },
     "metadata": {},
     "output_type": "display_data"
    }
   ],
   "source": []
  },
  {
   "cell_type": "code",
   "execution_count": 17,
   "metadata": {},
   "outputs": [
    {
     "data": {
      "application/vnd.plotly.v1+json": {
       "config": {
        "linkText": "Export to plot.ly",
        "plotlyServerURL": "https://plot.ly",
        "showLink": true
       },
       "data": [
        {
         "marker": {
          "color": [
           "rgb(255, 153, 51)",
           "rgb(55, 128, 191)",
           "rgb(50, 171, 96)",
           "rgb(128, 0, 128)",
           "rgb(219, 64, 82)",
           "rgb(0, 128, 128)",
           "rgb(255, 255, 51)",
           "rgb(128, 128, 0)",
           "rgb(251, 128, 114)",
           "rgb(128, 177, 211)"
          ],
          "line": {
           "width": 1.3
          },
          "size": [
           70,
           77,
           85,
           76,
           39,
           38,
           58,
           61,
           27,
           41,
           89,
           90,
           98,
           53,
           76,
           78,
           52,
           69,
           91,
           60,
           69,
           58,
           70,
           64,
           85,
           79,
           47,
           71,
           94,
           67,
           57,
           76,
           75,
           78,
           74,
           84,
           55,
           48,
           76,
           61,
           85,
           12,
           52,
           45,
           59,
           43,
           71,
           68,
           77,
           59,
           28,
           43,
           86,
           78,
           39,
           70,
           77,
           107,
           73,
           71,
           107,
           58,
           49,
           92,
           37,
           71,
           55,
           76,
           100,
           73,
           67,
           41,
           55,
           57,
           71,
           38,
           55,
           68,
           49,
           112,
           86,
           79,
           65,
           58,
           70,
           53,
           85,
           70,
           108,
           52,
           49,
           56,
           40,
           85,
           76,
           65,
           69,
           31,
           84,
           91
          ],
          "symbol": "circle"
         },
         "mode": "markers",
         "text": "",
         "type": "scatter",
         "x": [
          0.0736951981220984,
          0.10564450982575026,
          -1.1287694447333996,
          0.5804209406137681,
          -0.1975551948846452,
          0.1264092655386513,
          0.2705128014282348,
          1.1425313644674608,
          -0.0280792412700831,
          -0.6037165583522806,
          -0.6654841318855145,
          -1.9597696313373731,
          -1.0836549781822886,
          0.8471570960094061,
          -1.4615600928892374,
          -0.41078536958814904,
          -2.040699361169267,
          0.03962481326541074,
          0.5275072266760765,
          -0.2939643525656409,
          0.28928818085179875,
          1.0413465410746048,
          -1.1836578546572247,
          -0.9432476721762981,
          -0.8285532101291623,
          -0.4051234867711331,
          2.0230075514310504,
          0.24539260697434792,
          -0.63260779700234,
          -0.7209851109446794,
          -1.5488207454379541,
          -0.8946609686524443,
          -0.1560111806186542,
          0.17389857563037833,
          0.34740814171357554,
          1.2552555330233055,
          -1.0680286375215224,
          -0.4460336785120809,
          -0.1996834281899064,
          0.8924323239536869,
          0.4416882581368255,
          0.2508260886728522,
          -1.6456855994516686,
          0.7677774052108971,
          -0.9068972058860518,
          -0.9559144714011961,
          -0.187102476195743,
          1.1203398761012473,
          0.15400343406490505,
          -0.5716767762093942,
          0.5976009243300208,
          0.019204046059430244,
          0.0024198085521941032,
          1.784028158436303,
          -0.20428489651938,
          -1.4041165446986748,
          0.9323984369458973,
          -0.5792321434004235,
          -2.0574605006033773,
          2.0583283135948136,
          0.167330539255263,
          -0.019276383131392728,
          1.4073592874756022,
          0.9592641373019399,
          -0.7231633220254845,
          -0.3597844001060429,
          -1.1969527886841422,
          -0.8801864313510209,
          -0.5141408209575581,
          -0.7825125885524513,
          0.7313374148374697,
          0.5221236136962678,
          1.4226286857514743,
          1.4825898929007055,
          1.3502175382432609,
          -0.8734607406558281,
          0.49036406116569414,
          -0.2092285701075775,
          0.9907853107926903,
          0.5123736926600807,
          0.18562731086320133,
          0.11201148302314741,
          -1.3204449580069537,
          -1.0630589750114043,
          -0.04025987957865352,
          1.1620098202646922,
          -2.853232841408554,
          1.8238207602168894,
          -0.6531294969856558,
          -0.9313389600239237,
          -0.30879282255091245,
          -0.3056638243318225,
          -0.5476967922350982,
          -0.7754458161741501,
          1.2367277039729325,
          0.08827259124043836,
          0.148524136382813,
          -1.5636712919612268,
          -0.16549210257969663,
          0.21610877051097974
         ],
         "y": [
          0.8760632334770332,
          -0.6468852814860023,
          0.8463880807488549,
          -1.2486045806445114,
          0.5724518780888255,
          -0.5222352401518324,
          -0.9848639820820966,
          -1.172434871411764,
          -0.8998567452932995,
          -1.2796563113262798,
          -1.0480565656826892,
          -0.7634402829919783,
          1.5142055518437052,
          -1.6665767161291187,
          -0.03852048853563186,
          1.288301986016335,
          0.8328893246943083,
          1.1884783375293597,
          -0.344006079709632,
          0.05420622239569184,
          0.35614291823826333,
          -0.4251177572292302,
          -0.22119992788055953,
          -0.14388486839892725,
          -1.2901309732710033,
          1.0146604736907852,
          0.7320936884573455,
          -1.7023372292415306,
          -0.99830494317672,
          -1.4431123520848117,
          -1.3122709835767647,
          0.706659227847644,
          -0.26824366031343944,
          -0.537773843108674,
          0.5923198033966968,
          -0.5939754980108162,
          -1.8429067824553713,
          -1.630827733085515,
          1.9399034227472598,
          -1.0591735681626917,
          1.5417871098828368,
          0.011046675143945023,
          0.3676156017707326,
          -1.5191005828816142,
          -0.1867932057368553,
          -0.6953542088819678,
          -1.061523717386393,
          -1.635525405595693,
          1.271831465856645,
          0.3609749081277422,
          -0.4002786155440916,
          0.6349036683165985,
          -2.5085937439137402,
          0.2880263358078486,
          0.8233424851149163,
          1.4205334892581958,
          0.4042202557708223,
          0.7476270820089652,
          -0.5186637637058849,
          0.3383599270576156,
          0.8451776409075579,
          -0.25151697794483074,
          0.984125909044333,
          1.3375325230325705,
          -0.8324635804628554,
          -1.1563474953687112,
          -0.1623099218070929,
          0.17293006218943108,
          0.7792582364985289,
          -0.1617458745013657,
          0.7116848909522314,
          -0.6038785439652203,
          -2.0123878010301834,
          -0.9168735873139444,
          -0.17246519869176627,
          1.2130208387149017,
          1.834056203407502,
          0.02332111811513691,
          2.09391368645279,
          -0.4986945189622508,
          0.4942431022279809,
          0.3865218169769006,
          0.7644569069065226,
          1.8254559147171603,
          -0.4437851157118142,
          -0.7503594366043927,
          -0.31334366724654056,
          0.21073969489699934,
          -0.05636023614984949,
          -1.005982163864285,
          0.019568144859799623,
          -0.9677761425511624,
          1.7860590480146616,
          1.5026409498864475,
          0.2091060547287096,
          -0.5037908334274643,
          0.24140484190581732,
          -0.4311937741479804,
          0.4493686887025034,
          1.6091702365759928
         ]
        }
       ],
       "layout": {
        "legend": {
         "bgcolor": "#F5F6F9",
         "font": {
          "color": "#4D5663"
         }
        },
        "paper_bgcolor": "#F5F6F9",
        "plot_bgcolor": "#F5F6F9",
        "template": {
         "data": {
          "bar": [
           {
            "error_x": {
             "color": "#2a3f5f"
            },
            "error_y": {
             "color": "#2a3f5f"
            },
            "marker": {
             "line": {
              "color": "#E5ECF6",
              "width": 0.5
             }
            },
            "type": "bar"
           }
          ],
          "barpolar": [
           {
            "marker": {
             "line": {
              "color": "#E5ECF6",
              "width": 0.5
             }
            },
            "type": "barpolar"
           }
          ],
          "carpet": [
           {
            "aaxis": {
             "endlinecolor": "#2a3f5f",
             "gridcolor": "white",
             "linecolor": "white",
             "minorgridcolor": "white",
             "startlinecolor": "#2a3f5f"
            },
            "baxis": {
             "endlinecolor": "#2a3f5f",
             "gridcolor": "white",
             "linecolor": "white",
             "minorgridcolor": "white",
             "startlinecolor": "#2a3f5f"
            },
            "type": "carpet"
           }
          ],
          "choropleth": [
           {
            "colorbar": {
             "outlinewidth": 0,
             "ticks": ""
            },
            "type": "choropleth"
           }
          ],
          "contour": [
           {
            "colorbar": {
             "outlinewidth": 0,
             "ticks": ""
            },
            "colorscale": [
             [
              0,
              "#0d0887"
             ],
             [
              0.1111111111111111,
              "#46039f"
             ],
             [
              0.2222222222222222,
              "#7201a8"
             ],
             [
              0.3333333333333333,
              "#9c179e"
             ],
             [
              0.4444444444444444,
              "#bd3786"
             ],
             [
              0.5555555555555556,
              "#d8576b"
             ],
             [
              0.6666666666666666,
              "#ed7953"
             ],
             [
              0.7777777777777778,
              "#fb9f3a"
             ],
             [
              0.8888888888888888,
              "#fdca26"
             ],
             [
              1,
              "#f0f921"
             ]
            ],
            "type": "contour"
           }
          ],
          "contourcarpet": [
           {
            "colorbar": {
             "outlinewidth": 0,
             "ticks": ""
            },
            "type": "contourcarpet"
           }
          ],
          "heatmap": [
           {
            "colorbar": {
             "outlinewidth": 0,
             "ticks": ""
            },
            "colorscale": [
             [
              0,
              "#0d0887"
             ],
             [
              0.1111111111111111,
              "#46039f"
             ],
             [
              0.2222222222222222,
              "#7201a8"
             ],
             [
              0.3333333333333333,
              "#9c179e"
             ],
             [
              0.4444444444444444,
              "#bd3786"
             ],
             [
              0.5555555555555556,
              "#d8576b"
             ],
             [
              0.6666666666666666,
              "#ed7953"
             ],
             [
              0.7777777777777778,
              "#fb9f3a"
             ],
             [
              0.8888888888888888,
              "#fdca26"
             ],
             [
              1,
              "#f0f921"
             ]
            ],
            "type": "heatmap"
           }
          ],
          "heatmapgl": [
           {
            "colorbar": {
             "outlinewidth": 0,
             "ticks": ""
            },
            "colorscale": [
             [
              0,
              "#0d0887"
             ],
             [
              0.1111111111111111,
              "#46039f"
             ],
             [
              0.2222222222222222,
              "#7201a8"
             ],
             [
              0.3333333333333333,
              "#9c179e"
             ],
             [
              0.4444444444444444,
              "#bd3786"
             ],
             [
              0.5555555555555556,
              "#d8576b"
             ],
             [
              0.6666666666666666,
              "#ed7953"
             ],
             [
              0.7777777777777778,
              "#fb9f3a"
             ],
             [
              0.8888888888888888,
              "#fdca26"
             ],
             [
              1,
              "#f0f921"
             ]
            ],
            "type": "heatmapgl"
           }
          ],
          "histogram": [
           {
            "marker": {
             "colorbar": {
              "outlinewidth": 0,
              "ticks": ""
             }
            },
            "type": "histogram"
           }
          ],
          "histogram2d": [
           {
            "colorbar": {
             "outlinewidth": 0,
             "ticks": ""
            },
            "colorscale": [
             [
              0,
              "#0d0887"
             ],
             [
              0.1111111111111111,
              "#46039f"
             ],
             [
              0.2222222222222222,
              "#7201a8"
             ],
             [
              0.3333333333333333,
              "#9c179e"
             ],
             [
              0.4444444444444444,
              "#bd3786"
             ],
             [
              0.5555555555555556,
              "#d8576b"
             ],
             [
              0.6666666666666666,
              "#ed7953"
             ],
             [
              0.7777777777777778,
              "#fb9f3a"
             ],
             [
              0.8888888888888888,
              "#fdca26"
             ],
             [
              1,
              "#f0f921"
             ]
            ],
            "type": "histogram2d"
           }
          ],
          "histogram2dcontour": [
           {
            "colorbar": {
             "outlinewidth": 0,
             "ticks": ""
            },
            "colorscale": [
             [
              0,
              "#0d0887"
             ],
             [
              0.1111111111111111,
              "#46039f"
             ],
             [
              0.2222222222222222,
              "#7201a8"
             ],
             [
              0.3333333333333333,
              "#9c179e"
             ],
             [
              0.4444444444444444,
              "#bd3786"
             ],
             [
              0.5555555555555556,
              "#d8576b"
             ],
             [
              0.6666666666666666,
              "#ed7953"
             ],
             [
              0.7777777777777778,
              "#fb9f3a"
             ],
             [
              0.8888888888888888,
              "#fdca26"
             ],
             [
              1,
              "#f0f921"
             ]
            ],
            "type": "histogram2dcontour"
           }
          ],
          "mesh3d": [
           {
            "colorbar": {
             "outlinewidth": 0,
             "ticks": ""
            },
            "type": "mesh3d"
           }
          ],
          "parcoords": [
           {
            "line": {
             "colorbar": {
              "outlinewidth": 0,
              "ticks": ""
             }
            },
            "type": "parcoords"
           }
          ],
          "pie": [
           {
            "automargin": true,
            "type": "pie"
           }
          ],
          "scatter": [
           {
            "marker": {
             "colorbar": {
              "outlinewidth": 0,
              "ticks": ""
             }
            },
            "type": "scatter"
           }
          ],
          "scatter3d": [
           {
            "line": {
             "colorbar": {
              "outlinewidth": 0,
              "ticks": ""
             }
            },
            "marker": {
             "colorbar": {
              "outlinewidth": 0,
              "ticks": ""
             }
            },
            "type": "scatter3d"
           }
          ],
          "scattercarpet": [
           {
            "marker": {
             "colorbar": {
              "outlinewidth": 0,
              "ticks": ""
             }
            },
            "type": "scattercarpet"
           }
          ],
          "scattergeo": [
           {
            "marker": {
             "colorbar": {
              "outlinewidth": 0,
              "ticks": ""
             }
            },
            "type": "scattergeo"
           }
          ],
          "scattergl": [
           {
            "marker": {
             "colorbar": {
              "outlinewidth": 0,
              "ticks": ""
             }
            },
            "type": "scattergl"
           }
          ],
          "scattermapbox": [
           {
            "marker": {
             "colorbar": {
              "outlinewidth": 0,
              "ticks": ""
             }
            },
            "type": "scattermapbox"
           }
          ],
          "scatterpolar": [
           {
            "marker": {
             "colorbar": {
              "outlinewidth": 0,
              "ticks": ""
             }
            },
            "type": "scatterpolar"
           }
          ],
          "scatterpolargl": [
           {
            "marker": {
             "colorbar": {
              "outlinewidth": 0,
              "ticks": ""
             }
            },
            "type": "scatterpolargl"
           }
          ],
          "scatterternary": [
           {
            "marker": {
             "colorbar": {
              "outlinewidth": 0,
              "ticks": ""
             }
            },
            "type": "scatterternary"
           }
          ],
          "surface": [
           {
            "colorbar": {
             "outlinewidth": 0,
             "ticks": ""
            },
            "colorscale": [
             [
              0,
              "#0d0887"
             ],
             [
              0.1111111111111111,
              "#46039f"
             ],
             [
              0.2222222222222222,
              "#7201a8"
             ],
             [
              0.3333333333333333,
              "#9c179e"
             ],
             [
              0.4444444444444444,
              "#bd3786"
             ],
             [
              0.5555555555555556,
              "#d8576b"
             ],
             [
              0.6666666666666666,
              "#ed7953"
             ],
             [
              0.7777777777777778,
              "#fb9f3a"
             ],
             [
              0.8888888888888888,
              "#fdca26"
             ],
             [
              1,
              "#f0f921"
             ]
            ],
            "type": "surface"
           }
          ],
          "table": [
           {
            "cells": {
             "fill": {
              "color": "#EBF0F8"
             },
             "line": {
              "color": "white"
             }
            },
            "header": {
             "fill": {
              "color": "#C8D4E3"
             },
             "line": {
              "color": "white"
             }
            },
            "type": "table"
           }
          ]
         },
         "layout": {
          "annotationdefaults": {
           "arrowcolor": "#2a3f5f",
           "arrowhead": 0,
           "arrowwidth": 1
          },
          "autotypenumbers": "strict",
          "coloraxis": {
           "colorbar": {
            "outlinewidth": 0,
            "ticks": ""
           }
          },
          "colorscale": {
           "diverging": [
            [
             0,
             "#8e0152"
            ],
            [
             0.1,
             "#c51b7d"
            ],
            [
             0.2,
             "#de77ae"
            ],
            [
             0.3,
             "#f1b6da"
            ],
            [
             0.4,
             "#fde0ef"
            ],
            [
             0.5,
             "#f7f7f7"
            ],
            [
             0.6,
             "#e6f5d0"
            ],
            [
             0.7,
             "#b8e186"
            ],
            [
             0.8,
             "#7fbc41"
            ],
            [
             0.9,
             "#4d9221"
            ],
            [
             1,
             "#276419"
            ]
           ],
           "sequential": [
            [
             0,
             "#0d0887"
            ],
            [
             0.1111111111111111,
             "#46039f"
            ],
            [
             0.2222222222222222,
             "#7201a8"
            ],
            [
             0.3333333333333333,
             "#9c179e"
            ],
            [
             0.4444444444444444,
             "#bd3786"
            ],
            [
             0.5555555555555556,
             "#d8576b"
            ],
            [
             0.6666666666666666,
             "#ed7953"
            ],
            [
             0.7777777777777778,
             "#fb9f3a"
            ],
            [
             0.8888888888888888,
             "#fdca26"
            ],
            [
             1,
             "#f0f921"
            ]
           ],
           "sequentialminus": [
            [
             0,
             "#0d0887"
            ],
            [
             0.1111111111111111,
             "#46039f"
            ],
            [
             0.2222222222222222,
             "#7201a8"
            ],
            [
             0.3333333333333333,
             "#9c179e"
            ],
            [
             0.4444444444444444,
             "#bd3786"
            ],
            [
             0.5555555555555556,
             "#d8576b"
            ],
            [
             0.6666666666666666,
             "#ed7953"
            ],
            [
             0.7777777777777778,
             "#fb9f3a"
            ],
            [
             0.8888888888888888,
             "#fdca26"
            ],
            [
             1,
             "#f0f921"
            ]
           ]
          },
          "colorway": [
           "#636efa",
           "#EF553B",
           "#00cc96",
           "#ab63fa",
           "#FFA15A",
           "#19d3f3",
           "#FF6692",
           "#B6E880",
           "#FF97FF",
           "#FECB52"
          ],
          "font": {
           "color": "#2a3f5f"
          },
          "geo": {
           "bgcolor": "white",
           "lakecolor": "white",
           "landcolor": "#E5ECF6",
           "showlakes": true,
           "showland": true,
           "subunitcolor": "white"
          },
          "hoverlabel": {
           "align": "left"
          },
          "hovermode": "closest",
          "mapbox": {
           "style": "light"
          },
          "paper_bgcolor": "white",
          "plot_bgcolor": "#E5ECF6",
          "polar": {
           "angularaxis": {
            "gridcolor": "white",
            "linecolor": "white",
            "ticks": ""
           },
           "bgcolor": "#E5ECF6",
           "radialaxis": {
            "gridcolor": "white",
            "linecolor": "white",
            "ticks": ""
           }
          },
          "scene": {
           "xaxis": {
            "backgroundcolor": "#E5ECF6",
            "gridcolor": "white",
            "gridwidth": 2,
            "linecolor": "white",
            "showbackground": true,
            "ticks": "",
            "zerolinecolor": "white"
           },
           "yaxis": {
            "backgroundcolor": "#E5ECF6",
            "gridcolor": "white",
            "gridwidth": 2,
            "linecolor": "white",
            "showbackground": true,
            "ticks": "",
            "zerolinecolor": "white"
           },
           "zaxis": {
            "backgroundcolor": "#E5ECF6",
            "gridcolor": "white",
            "gridwidth": 2,
            "linecolor": "white",
            "showbackground": true,
            "ticks": "",
            "zerolinecolor": "white"
           }
          },
          "shapedefaults": {
           "line": {
            "color": "#2a3f5f"
           }
          },
          "ternary": {
           "aaxis": {
            "gridcolor": "white",
            "linecolor": "white",
            "ticks": ""
           },
           "baxis": {
            "gridcolor": "white",
            "linecolor": "white",
            "ticks": ""
           },
           "bgcolor": "#E5ECF6",
           "caxis": {
            "gridcolor": "white",
            "linecolor": "white",
            "ticks": ""
           }
          },
          "title": {
           "x": 0.05
          },
          "xaxis": {
           "automargin": true,
           "gridcolor": "white",
           "linecolor": "white",
           "ticks": "",
           "title": {
            "standoff": 15
           },
           "zerolinecolor": "white",
           "zerolinewidth": 2
          },
          "yaxis": {
           "automargin": true,
           "gridcolor": "white",
           "linecolor": "white",
           "ticks": "",
           "title": {
            "standoff": 15
           },
           "zerolinecolor": "white",
           "zerolinewidth": 2
          }
         }
        },
        "title": {
         "font": {
          "color": "#4D5663"
         }
        },
        "xaxis": {
         "gridcolor": "#E1E5ED",
         "showgrid": true,
         "tickfont": {
          "color": "#4D5663"
         },
         "title": {
          "font": {
           "color": "#4D5663"
          },
          "text": ""
         },
         "zerolinecolor": "#E1E5ED"
        },
        "yaxis": {
         "gridcolor": "#E1E5ED",
         "showgrid": true,
         "tickfont": {
          "color": "#4D5663"
         },
         "title": {
          "font": {
           "color": "#4D5663"
          },
          "text": ""
         },
         "zerolinecolor": "#E1E5ED"
        }
       }
      },
      "text/html": [
       "<div>                            <div id=\"b0829f79-24b1-4d84-9b51-d0113191f9b2\" class=\"plotly-graph-div\" style=\"height:525px; width:100%;\"></div>            <script type=\"text/javascript\">                require([\"plotly\"], function(Plotly) {                    window.PLOTLYENV=window.PLOTLYENV || {};\n",
       "                    window.PLOTLYENV.BASE_URL='https://plot.ly';                                    if (document.getElementById(\"b0829f79-24b1-4d84-9b51-d0113191f9b2\")) {                    Plotly.newPlot(                        \"b0829f79-24b1-4d84-9b51-d0113191f9b2\",                        [{\"marker\": {\"color\": [\"rgb(255, 153, 51)\", \"rgb(55, 128, 191)\", \"rgb(50, 171, 96)\", \"rgb(128, 0, 128)\", \"rgb(219, 64, 82)\", \"rgb(0, 128, 128)\", \"rgb(255, 255, 51)\", \"rgb(128, 128, 0)\", \"rgb(251, 128, 114)\", \"rgb(128, 177, 211)\"], \"line\": {\"width\": 1.3}, \"size\": [70, 77, 85, 76, 39, 38, 58, 61, 27, 41, 89, 90, 98, 53, 76, 78, 52, 69, 91, 60, 69, 58, 70, 64, 85, 79, 47, 71, 94, 67, 57, 76, 75, 78, 74, 84, 55, 48, 76, 61, 85, 12, 52, 45, 59, 43, 71, 68, 77, 59, 28, 43, 86, 78, 39, 70, 77, 107, 73, 71, 107, 58, 49, 92, 37, 71, 55, 76, 100, 73, 67, 41, 55, 57, 71, 38, 55, 68, 49, 112, 86, 79, 65, 58, 70, 53, 85, 70, 108, 52, 49, 56, 40, 85, 76, 65, 69, 31, 84, 91], \"symbol\": \"circle\"}, \"mode\": \"markers\", \"text\": \"\", \"type\": \"scatter\", \"x\": [0.0736951981220984, 0.10564450982575026, -1.1287694447333996, 0.5804209406137681, -0.1975551948846452, 0.1264092655386513, 0.2705128014282348, 1.1425313644674608, -0.0280792412700831, -0.6037165583522806, -0.6654841318855145, -1.9597696313373731, -1.0836549781822886, 0.8471570960094061, -1.4615600928892374, -0.41078536958814904, -2.040699361169267, 0.03962481326541074, 0.5275072266760765, -0.2939643525656409, 0.28928818085179875, 1.0413465410746048, -1.1836578546572247, -0.9432476721762981, -0.8285532101291623, -0.4051234867711331, 2.0230075514310504, 0.24539260697434792, -0.63260779700234, -0.7209851109446794, -1.5488207454379541, -0.8946609686524443, -0.1560111806186542, 0.17389857563037833, 0.34740814171357554, 1.2552555330233055, -1.0680286375215224, -0.4460336785120809, -0.1996834281899064, 0.8924323239536869, 0.4416882581368255, 0.2508260886728522, -1.6456855994516686, 0.7677774052108971, -0.9068972058860518, -0.9559144714011961, -0.187102476195743, 1.1203398761012473, 0.15400343406490505, -0.5716767762093942, 0.5976009243300208, 0.019204046059430244, 0.0024198085521941032, 1.784028158436303, -0.20428489651938, -1.4041165446986748, 0.9323984369458973, -0.5792321434004235, -2.0574605006033773, 2.0583283135948136, 0.167330539255263, -0.019276383131392728, 1.4073592874756022, 0.9592641373019399, -0.7231633220254845, -0.3597844001060429, -1.1969527886841422, -0.8801864313510209, -0.5141408209575581, -0.7825125885524513, 0.7313374148374697, 0.5221236136962678, 1.4226286857514743, 1.4825898929007055, 1.3502175382432609, -0.8734607406558281, 0.49036406116569414, -0.2092285701075775, 0.9907853107926903, 0.5123736926600807, 0.18562731086320133, 0.11201148302314741, -1.3204449580069537, -1.0630589750114043, -0.04025987957865352, 1.1620098202646922, -2.853232841408554, 1.8238207602168894, -0.6531294969856558, -0.9313389600239237, -0.30879282255091245, -0.3056638243318225, -0.5476967922350982, -0.7754458161741501, 1.2367277039729325, 0.08827259124043836, 0.148524136382813, -1.5636712919612268, -0.16549210257969663, 0.21610877051097974], \"y\": [0.8760632334770332, -0.6468852814860023, 0.8463880807488549, -1.2486045806445114, 0.5724518780888255, -0.5222352401518324, -0.9848639820820966, -1.172434871411764, -0.8998567452932995, -1.2796563113262798, -1.0480565656826892, -0.7634402829919783, 1.5142055518437052, -1.6665767161291187, -0.03852048853563186, 1.288301986016335, 0.8328893246943083, 1.1884783375293597, -0.344006079709632, 0.05420622239569184, 0.35614291823826333, -0.4251177572292302, -0.22119992788055953, -0.14388486839892725, -1.2901309732710033, 1.0146604736907852, 0.7320936884573455, -1.7023372292415306, -0.99830494317672, -1.4431123520848117, -1.3122709835767647, 0.706659227847644, -0.26824366031343944, -0.537773843108674, 0.5923198033966968, -0.5939754980108162, -1.8429067824553713, -1.630827733085515, 1.9399034227472598, -1.0591735681626917, 1.5417871098828368, 0.011046675143945023, 0.3676156017707326, -1.5191005828816142, -0.1867932057368553, -0.6953542088819678, -1.061523717386393, -1.635525405595693, 1.271831465856645, 0.3609749081277422, -0.4002786155440916, 0.6349036683165985, -2.5085937439137402, 0.2880263358078486, 0.8233424851149163, 1.4205334892581958, 0.4042202557708223, 0.7476270820089652, -0.5186637637058849, 0.3383599270576156, 0.8451776409075579, -0.25151697794483074, 0.984125909044333, 1.3375325230325705, -0.8324635804628554, -1.1563474953687112, -0.1623099218070929, 0.17293006218943108, 0.7792582364985289, -0.1617458745013657, 0.7116848909522314, -0.6038785439652203, -2.0123878010301834, -0.9168735873139444, -0.17246519869176627, 1.2130208387149017, 1.834056203407502, 0.02332111811513691, 2.09391368645279, -0.4986945189622508, 0.4942431022279809, 0.3865218169769006, 0.7644569069065226, 1.8254559147171603, -0.4437851157118142, -0.7503594366043927, -0.31334366724654056, 0.21073969489699934, -0.05636023614984949, -1.005982163864285, 0.019568144859799623, -0.9677761425511624, 1.7860590480146616, 1.5026409498864475, 0.2091060547287096, -0.5037908334274643, 0.24140484190581732, -0.4311937741479804, 0.4493686887025034, 1.6091702365759928]}],                        {\"legend\": {\"bgcolor\": \"#F5F6F9\", \"font\": {\"color\": \"#4D5663\"}}, \"paper_bgcolor\": \"#F5F6F9\", \"plot_bgcolor\": \"#F5F6F9\", \"template\": {\"data\": {\"bar\": [{\"error_x\": {\"color\": \"#2a3f5f\"}, \"error_y\": {\"color\": \"#2a3f5f\"}, \"marker\": {\"line\": {\"color\": \"#E5ECF6\", \"width\": 0.5}}, \"type\": \"bar\"}], \"barpolar\": [{\"marker\": {\"line\": {\"color\": \"#E5ECF6\", \"width\": 0.5}}, \"type\": \"barpolar\"}], \"carpet\": [{\"aaxis\": {\"endlinecolor\": \"#2a3f5f\", \"gridcolor\": \"white\", \"linecolor\": \"white\", \"minorgridcolor\": \"white\", \"startlinecolor\": \"#2a3f5f\"}, \"baxis\": {\"endlinecolor\": \"#2a3f5f\", \"gridcolor\": \"white\", \"linecolor\": \"white\", \"minorgridcolor\": \"white\", \"startlinecolor\": \"#2a3f5f\"}, \"type\": \"carpet\"}], \"choropleth\": [{\"colorbar\": {\"outlinewidth\": 0, \"ticks\": \"\"}, \"type\": \"choropleth\"}], \"contour\": [{\"colorbar\": {\"outlinewidth\": 0, \"ticks\": \"\"}, \"colorscale\": [[0.0, \"#0d0887\"], [0.1111111111111111, \"#46039f\"], [0.2222222222222222, \"#7201a8\"], [0.3333333333333333, \"#9c179e\"], [0.4444444444444444, \"#bd3786\"], [0.5555555555555556, \"#d8576b\"], [0.6666666666666666, \"#ed7953\"], [0.7777777777777778, \"#fb9f3a\"], [0.8888888888888888, \"#fdca26\"], [1.0, \"#f0f921\"]], \"type\": \"contour\"}], \"contourcarpet\": [{\"colorbar\": {\"outlinewidth\": 0, \"ticks\": \"\"}, \"type\": \"contourcarpet\"}], \"heatmap\": [{\"colorbar\": {\"outlinewidth\": 0, \"ticks\": \"\"}, \"colorscale\": [[0.0, \"#0d0887\"], [0.1111111111111111, \"#46039f\"], [0.2222222222222222, \"#7201a8\"], [0.3333333333333333, \"#9c179e\"], [0.4444444444444444, \"#bd3786\"], [0.5555555555555556, \"#d8576b\"], [0.6666666666666666, \"#ed7953\"], [0.7777777777777778, \"#fb9f3a\"], [0.8888888888888888, \"#fdca26\"], [1.0, \"#f0f921\"]], \"type\": \"heatmap\"}], \"heatmapgl\": [{\"colorbar\": {\"outlinewidth\": 0, \"ticks\": \"\"}, \"colorscale\": [[0.0, \"#0d0887\"], [0.1111111111111111, \"#46039f\"], [0.2222222222222222, \"#7201a8\"], [0.3333333333333333, \"#9c179e\"], [0.4444444444444444, \"#bd3786\"], [0.5555555555555556, \"#d8576b\"], [0.6666666666666666, \"#ed7953\"], [0.7777777777777778, \"#fb9f3a\"], [0.8888888888888888, \"#fdca26\"], [1.0, \"#f0f921\"]], \"type\": \"heatmapgl\"}], \"histogram\": [{\"marker\": {\"colorbar\": {\"outlinewidth\": 0, \"ticks\": \"\"}}, \"type\": \"histogram\"}], \"histogram2d\": [{\"colorbar\": {\"outlinewidth\": 0, \"ticks\": \"\"}, \"colorscale\": [[0.0, \"#0d0887\"], [0.1111111111111111, \"#46039f\"], [0.2222222222222222, \"#7201a8\"], [0.3333333333333333, \"#9c179e\"], [0.4444444444444444, \"#bd3786\"], [0.5555555555555556, \"#d8576b\"], [0.6666666666666666, \"#ed7953\"], [0.7777777777777778, \"#fb9f3a\"], [0.8888888888888888, \"#fdca26\"], [1.0, \"#f0f921\"]], \"type\": \"histogram2d\"}], \"histogram2dcontour\": [{\"colorbar\": {\"outlinewidth\": 0, \"ticks\": \"\"}, \"colorscale\": [[0.0, \"#0d0887\"], [0.1111111111111111, \"#46039f\"], [0.2222222222222222, \"#7201a8\"], [0.3333333333333333, \"#9c179e\"], [0.4444444444444444, \"#bd3786\"], [0.5555555555555556, \"#d8576b\"], [0.6666666666666666, \"#ed7953\"], [0.7777777777777778, \"#fb9f3a\"], [0.8888888888888888, \"#fdca26\"], [1.0, \"#f0f921\"]], \"type\": \"histogram2dcontour\"}], \"mesh3d\": [{\"colorbar\": {\"outlinewidth\": 0, \"ticks\": \"\"}, \"type\": \"mesh3d\"}], \"parcoords\": [{\"line\": {\"colorbar\": {\"outlinewidth\": 0, \"ticks\": \"\"}}, \"type\": \"parcoords\"}], \"pie\": [{\"automargin\": true, \"type\": \"pie\"}], \"scatter\": [{\"marker\": {\"colorbar\": {\"outlinewidth\": 0, \"ticks\": \"\"}}, \"type\": \"scatter\"}], \"scatter3d\": [{\"line\": {\"colorbar\": {\"outlinewidth\": 0, \"ticks\": \"\"}}, \"marker\": {\"colorbar\": {\"outlinewidth\": 0, \"ticks\": \"\"}}, \"type\": \"scatter3d\"}], \"scattercarpet\": [{\"marker\": {\"colorbar\": {\"outlinewidth\": 0, \"ticks\": \"\"}}, \"type\": \"scattercarpet\"}], \"scattergeo\": [{\"marker\": {\"colorbar\": {\"outlinewidth\": 0, \"ticks\": \"\"}}, \"type\": \"scattergeo\"}], \"scattergl\": [{\"marker\": {\"colorbar\": {\"outlinewidth\": 0, \"ticks\": \"\"}}, \"type\": \"scattergl\"}], \"scattermapbox\": [{\"marker\": {\"colorbar\": {\"outlinewidth\": 0, \"ticks\": \"\"}}, \"type\": \"scattermapbox\"}], \"scatterpolar\": [{\"marker\": {\"colorbar\": {\"outlinewidth\": 0, \"ticks\": \"\"}}, \"type\": \"scatterpolar\"}], \"scatterpolargl\": [{\"marker\": {\"colorbar\": {\"outlinewidth\": 0, \"ticks\": \"\"}}, \"type\": \"scatterpolargl\"}], \"scatterternary\": [{\"marker\": {\"colorbar\": {\"outlinewidth\": 0, \"ticks\": \"\"}}, \"type\": \"scatterternary\"}], \"surface\": [{\"colorbar\": {\"outlinewidth\": 0, \"ticks\": \"\"}, \"colorscale\": [[0.0, \"#0d0887\"], [0.1111111111111111, \"#46039f\"], [0.2222222222222222, \"#7201a8\"], [0.3333333333333333, \"#9c179e\"], [0.4444444444444444, \"#bd3786\"], [0.5555555555555556, \"#d8576b\"], [0.6666666666666666, \"#ed7953\"], [0.7777777777777778, \"#fb9f3a\"], [0.8888888888888888, \"#fdca26\"], [1.0, \"#f0f921\"]], \"type\": \"surface\"}], \"table\": [{\"cells\": {\"fill\": {\"color\": \"#EBF0F8\"}, \"line\": {\"color\": \"white\"}}, \"header\": {\"fill\": {\"color\": \"#C8D4E3\"}, \"line\": {\"color\": \"white\"}}, \"type\": \"table\"}]}, \"layout\": {\"annotationdefaults\": {\"arrowcolor\": \"#2a3f5f\", \"arrowhead\": 0, \"arrowwidth\": 1}, \"autotypenumbers\": \"strict\", \"coloraxis\": {\"colorbar\": {\"outlinewidth\": 0, \"ticks\": \"\"}}, \"colorscale\": {\"diverging\": [[0, \"#8e0152\"], [0.1, \"#c51b7d\"], [0.2, \"#de77ae\"], [0.3, \"#f1b6da\"], [0.4, \"#fde0ef\"], [0.5, \"#f7f7f7\"], [0.6, \"#e6f5d0\"], [0.7, \"#b8e186\"], [0.8, \"#7fbc41\"], [0.9, \"#4d9221\"], [1, \"#276419\"]], \"sequential\": [[0.0, \"#0d0887\"], [0.1111111111111111, \"#46039f\"], [0.2222222222222222, \"#7201a8\"], [0.3333333333333333, \"#9c179e\"], [0.4444444444444444, \"#bd3786\"], [0.5555555555555556, \"#d8576b\"], [0.6666666666666666, \"#ed7953\"], [0.7777777777777778, \"#fb9f3a\"], [0.8888888888888888, \"#fdca26\"], [1.0, \"#f0f921\"]], \"sequentialminus\": [[0.0, \"#0d0887\"], [0.1111111111111111, \"#46039f\"], [0.2222222222222222, \"#7201a8\"], [0.3333333333333333, \"#9c179e\"], [0.4444444444444444, \"#bd3786\"], [0.5555555555555556, \"#d8576b\"], [0.6666666666666666, \"#ed7953\"], [0.7777777777777778, \"#fb9f3a\"], [0.8888888888888888, \"#fdca26\"], [1.0, \"#f0f921\"]]}, \"colorway\": [\"#636efa\", \"#EF553B\", \"#00cc96\", \"#ab63fa\", \"#FFA15A\", \"#19d3f3\", \"#FF6692\", \"#B6E880\", \"#FF97FF\", \"#FECB52\"], \"font\": {\"color\": \"#2a3f5f\"}, \"geo\": {\"bgcolor\": \"white\", \"lakecolor\": \"white\", \"landcolor\": \"#E5ECF6\", \"showlakes\": true, \"showland\": true, \"subunitcolor\": \"white\"}, \"hoverlabel\": {\"align\": \"left\"}, \"hovermode\": \"closest\", \"mapbox\": {\"style\": \"light\"}, \"paper_bgcolor\": \"white\", \"plot_bgcolor\": \"#E5ECF6\", \"polar\": {\"angularaxis\": {\"gridcolor\": \"white\", \"linecolor\": \"white\", \"ticks\": \"\"}, \"bgcolor\": \"#E5ECF6\", \"radialaxis\": {\"gridcolor\": \"white\", \"linecolor\": \"white\", \"ticks\": \"\"}}, \"scene\": {\"xaxis\": {\"backgroundcolor\": \"#E5ECF6\", \"gridcolor\": \"white\", \"gridwidth\": 2, \"linecolor\": \"white\", \"showbackground\": true, \"ticks\": \"\", \"zerolinecolor\": \"white\"}, \"yaxis\": {\"backgroundcolor\": \"#E5ECF6\", \"gridcolor\": \"white\", \"gridwidth\": 2, \"linecolor\": \"white\", \"showbackground\": true, \"ticks\": \"\", \"zerolinecolor\": \"white\"}, \"zaxis\": {\"backgroundcolor\": \"#E5ECF6\", \"gridcolor\": \"white\", \"gridwidth\": 2, \"linecolor\": \"white\", \"showbackground\": true, \"ticks\": \"\", \"zerolinecolor\": \"white\"}}, \"shapedefaults\": {\"line\": {\"color\": \"#2a3f5f\"}}, \"ternary\": {\"aaxis\": {\"gridcolor\": \"white\", \"linecolor\": \"white\", \"ticks\": \"\"}, \"baxis\": {\"gridcolor\": \"white\", \"linecolor\": \"white\", \"ticks\": \"\"}, \"bgcolor\": \"#E5ECF6\", \"caxis\": {\"gridcolor\": \"white\", \"linecolor\": \"white\", \"ticks\": \"\"}}, \"title\": {\"x\": 0.05}, \"xaxis\": {\"automargin\": true, \"gridcolor\": \"white\", \"linecolor\": \"white\", \"ticks\": \"\", \"title\": {\"standoff\": 15}, \"zerolinecolor\": \"white\", \"zerolinewidth\": 2}, \"yaxis\": {\"automargin\": true, \"gridcolor\": \"white\", \"linecolor\": \"white\", \"ticks\": \"\", \"title\": {\"standoff\": 15}, \"zerolinecolor\": \"white\", \"zerolinewidth\": 2}}}, \"title\": {\"font\": {\"color\": \"#4D5663\"}}, \"xaxis\": {\"gridcolor\": \"#E1E5ED\", \"showgrid\": true, \"tickfont\": {\"color\": \"#4D5663\"}, \"title\": {\"font\": {\"color\": \"#4D5663\"}, \"text\": \"\"}, \"zerolinecolor\": \"#E1E5ED\"}, \"yaxis\": {\"gridcolor\": \"#E1E5ED\", \"showgrid\": true, \"tickfont\": {\"color\": \"#4D5663\"}, \"title\": {\"font\": {\"color\": \"#4D5663\"}, \"text\": \"\"}, \"zerolinecolor\": \"#E1E5ED\"}},                        {\"showLink\": true, \"linkText\": \"Export to plot.ly\", \"plotlyServerURL\": \"https://plot.ly\", \"responsive\": true}                    ).then(function(){\n",
       "                            \n",
       "var gd = document.getElementById('b0829f79-24b1-4d84-9b51-d0113191f9b2');\n",
       "var x = new MutationObserver(function (mutations, observer) {{\n",
       "        var display = window.getComputedStyle(gd).display;\n",
       "        if (!display || display === 'none') {{\n",
       "            console.log([gd, 'removed!']);\n",
       "            Plotly.purge(gd);\n",
       "            observer.disconnect();\n",
       "        }}\n",
       "}});\n",
       "\n",
       "// Listen for the removal of the full notebook cells\n",
       "var notebookContainer = gd.closest('#notebook-container');\n",
       "if (notebookContainer) {{\n",
       "    x.observe(notebookContainer, {childList: true});\n",
       "}}\n",
       "\n",
       "// Listen for the clearing of the current output cell\n",
       "var outputEl = gd.closest('.output');\n",
       "if (outputEl) {{\n",
       "    x.observe(outputEl, {childList: true});\n",
       "}}\n",
       "\n",
       "                        })                };                });            </script>        </div>"
      ]
     },
     "metadata": {},
     "output_type": "display_data"
    }
   ],
   "source": []
  },
  {
   "cell_type": "markdown",
   "metadata": {},
   "source": [
    "## scatter_matrix()\n",
    "\n",
    "Lik sns.pairplot()"
   ]
  },
  {
   "cell_type": "code",
   "execution_count": 18,
   "metadata": {},
   "outputs": [
    {
     "data": {
      "application/vnd.plotly.v1+json": {
       "config": {
        "linkText": "Export to plot.ly",
        "plotlyServerURL": "https://plot.ly",
        "showLink": true
       },
       "data": [
        {
         "histfunc": "count",
         "histnorm": "",
         "marker": {
          "color": "rgba(255, 153, 51, 1.0)",
          "line": {
           "color": "#4D5663",
           "width": 1.3
          }
         },
         "name": "A",
         "nbinsx": 10,
         "opacity": 0.8,
         "orientation": "v",
         "type": "histogram",
         "x": [
          0.0736951981220984,
          0.10564450982575026,
          -1.1287694447333996,
          0.5804209406137681,
          -0.1975551948846452,
          0.1264092655386513,
          0.2705128014282348,
          1.1425313644674608,
          -0.0280792412700831,
          -0.6037165583522806,
          -0.6654841318855145,
          -1.9597696313373731,
          -1.0836549781822886,
          0.8471570960094061,
          -1.4615600928892374,
          -0.41078536958814904,
          -2.040699361169267,
          0.03962481326541074,
          0.5275072266760765,
          -0.2939643525656409,
          0.28928818085179875,
          1.0413465410746048,
          -1.1836578546572247,
          -0.9432476721762981,
          -0.8285532101291623,
          -0.4051234867711331,
          2.0230075514310504,
          0.24539260697434792,
          -0.63260779700234,
          -0.7209851109446794,
          -1.5488207454379541,
          -0.8946609686524443,
          -0.1560111806186542,
          0.17389857563037833,
          0.34740814171357554,
          1.2552555330233055,
          -1.0680286375215224,
          -0.4460336785120809,
          -0.1996834281899064,
          0.8924323239536869,
          0.4416882581368255,
          0.2508260886728522,
          -1.6456855994516686,
          0.7677774052108971,
          -0.9068972058860518,
          -0.9559144714011961,
          -0.187102476195743,
          1.1203398761012473,
          0.15400343406490505,
          -0.5716767762093942,
          0.5976009243300208,
          0.019204046059430244,
          0.0024198085521941032,
          1.784028158436303,
          -0.20428489651938,
          -1.4041165446986748,
          0.9323984369458973,
          -0.5792321434004235,
          -2.0574605006033773,
          2.0583283135948136,
          0.167330539255263,
          -0.019276383131392728,
          1.4073592874756022,
          0.9592641373019399,
          -0.7231633220254845,
          -0.3597844001060429,
          -1.1969527886841422,
          -0.8801864313510209,
          -0.5141408209575581,
          -0.7825125885524513,
          0.7313374148374697,
          0.5221236136962678,
          1.4226286857514743,
          1.4825898929007055,
          1.3502175382432609,
          -0.8734607406558281,
          0.49036406116569414,
          -0.2092285701075775,
          0.9907853107926903,
          0.5123736926600807,
          0.18562731086320133,
          0.11201148302314741,
          -1.3204449580069537,
          -1.0630589750114043,
          -0.04025987957865352,
          1.1620098202646922,
          -2.853232841408554,
          1.8238207602168894,
          -0.6531294969856558,
          -0.9313389600239237,
          -0.30879282255091245,
          -0.3056638243318225,
          -0.5476967922350982,
          -0.7754458161741501,
          1.2367277039729325,
          0.08827259124043836,
          0.148524136382813,
          -1.5636712919612268,
          -0.16549210257969663,
          0.21610877051097974
         ],
         "xaxis": "x",
         "yaxis": "y"
        },
        {
         "line": {
          "color": "rgba(128, 128, 128, 1.0)",
          "dash": "solid",
          "shape": "linear",
          "width": 1.3
         },
         "marker": {
          "size": 2,
          "symbol": "circle"
         },
         "mode": "markers",
         "name": "A",
         "text": "",
         "type": "scatter",
         "x": [
          0.8760632334770332,
          -0.6468852814860023,
          0.8463880807488549,
          -1.2486045806445114,
          0.5724518780888255,
          -0.5222352401518324,
          -0.9848639820820966,
          -1.172434871411764,
          -0.8998567452932995,
          -1.2796563113262798,
          -1.0480565656826892,
          -0.7634402829919783,
          1.5142055518437052,
          -1.6665767161291187,
          -0.03852048853563186,
          1.288301986016335,
          0.8328893246943083,
          1.1884783375293597,
          -0.344006079709632,
          0.05420622239569184,
          0.35614291823826333,
          -0.4251177572292302,
          -0.22119992788055953,
          -0.14388486839892725,
          -1.2901309732710033,
          1.0146604736907852,
          0.7320936884573455,
          -1.7023372292415306,
          -0.99830494317672,
          -1.4431123520848117,
          -1.3122709835767647,
          0.706659227847644,
          -0.26824366031343944,
          -0.537773843108674,
          0.5923198033966968,
          -0.5939754980108162,
          -1.8429067824553713,
          -1.630827733085515,
          1.9399034227472598,
          -1.0591735681626917,
          1.5417871098828368,
          0.011046675143945023,
          0.3676156017707326,
          -1.5191005828816142,
          -0.1867932057368553,
          -0.6953542088819678,
          -1.061523717386393,
          -1.635525405595693,
          1.271831465856645,
          0.3609749081277422,
          -0.4002786155440916,
          0.6349036683165985,
          -2.5085937439137402,
          0.2880263358078486,
          0.8233424851149163,
          1.4205334892581958,
          0.4042202557708223,
          0.7476270820089652,
          -0.5186637637058849,
          0.3383599270576156,
          0.8451776409075579,
          -0.25151697794483074,
          0.984125909044333,
          1.3375325230325705,
          -0.8324635804628554,
          -1.1563474953687112,
          -0.1623099218070929,
          0.17293006218943108,
          0.7792582364985289,
          -0.1617458745013657,
          0.7116848909522314,
          -0.6038785439652203,
          -2.0123878010301834,
          -0.9168735873139444,
          -0.17246519869176627,
          1.2130208387149017,
          1.834056203407502,
          0.02332111811513691,
          2.09391368645279,
          -0.4986945189622508,
          0.4942431022279809,
          0.3865218169769006,
          0.7644569069065226,
          1.8254559147171603,
          -0.4437851157118142,
          -0.7503594366043927,
          -0.31334366724654056,
          0.21073969489699934,
          -0.05636023614984949,
          -1.005982163864285,
          0.019568144859799623,
          -0.9677761425511624,
          1.7860590480146616,
          1.5026409498864475,
          0.2091060547287096,
          -0.5037908334274643,
          0.24140484190581732,
          -0.4311937741479804,
          0.4493686887025034,
          1.6091702365759928
         ],
         "xaxis": "x2",
         "y": [
          0.0736951981220984,
          0.10564450982575026,
          -1.1287694447333996,
          0.5804209406137681,
          -0.1975551948846452,
          0.1264092655386513,
          0.2705128014282348,
          1.1425313644674608,
          -0.0280792412700831,
          -0.6037165583522806,
          -0.6654841318855145,
          -1.9597696313373731,
          -1.0836549781822886,
          0.8471570960094061,
          -1.4615600928892374,
          -0.41078536958814904,
          -2.040699361169267,
          0.03962481326541074,
          0.5275072266760765,
          -0.2939643525656409,
          0.28928818085179875,
          1.0413465410746048,
          -1.1836578546572247,
          -0.9432476721762981,
          -0.8285532101291623,
          -0.4051234867711331,
          2.0230075514310504,
          0.24539260697434792,
          -0.63260779700234,
          -0.7209851109446794,
          -1.5488207454379541,
          -0.8946609686524443,
          -0.1560111806186542,
          0.17389857563037833,
          0.34740814171357554,
          1.2552555330233055,
          -1.0680286375215224,
          -0.4460336785120809,
          -0.1996834281899064,
          0.8924323239536869,
          0.4416882581368255,
          0.2508260886728522,
          -1.6456855994516686,
          0.7677774052108971,
          -0.9068972058860518,
          -0.9559144714011961,
          -0.187102476195743,
          1.1203398761012473,
          0.15400343406490505,
          -0.5716767762093942,
          0.5976009243300208,
          0.019204046059430244,
          0.0024198085521941032,
          1.784028158436303,
          -0.20428489651938,
          -1.4041165446986748,
          0.9323984369458973,
          -0.5792321434004235,
          -2.0574605006033773,
          2.0583283135948136,
          0.167330539255263,
          -0.019276383131392728,
          1.4073592874756022,
          0.9592641373019399,
          -0.7231633220254845,
          -0.3597844001060429,
          -1.1969527886841422,
          -0.8801864313510209,
          -0.5141408209575581,
          -0.7825125885524513,
          0.7313374148374697,
          0.5221236136962678,
          1.4226286857514743,
          1.4825898929007055,
          1.3502175382432609,
          -0.8734607406558281,
          0.49036406116569414,
          -0.2092285701075775,
          0.9907853107926903,
          0.5123736926600807,
          0.18562731086320133,
          0.11201148302314741,
          -1.3204449580069537,
          -1.0630589750114043,
          -0.04025987957865352,
          1.1620098202646922,
          -2.853232841408554,
          1.8238207602168894,
          -0.6531294969856558,
          -0.9313389600239237,
          -0.30879282255091245,
          -0.3056638243318225,
          -0.5476967922350982,
          -0.7754458161741501,
          1.2367277039729325,
          0.08827259124043836,
          0.148524136382813,
          -1.5636712919612268,
          -0.16549210257969663,
          0.21610877051097974
         ],
         "yaxis": "y2"
        },
        {
         "line": {
          "color": "rgba(128, 128, 128, 1.0)",
          "dash": "solid",
          "shape": "linear",
          "width": 1.3
         },
         "marker": {
          "size": 2,
          "symbol": "circle"
         },
         "mode": "markers",
         "name": "A",
         "text": "",
         "type": "scatter",
         "x": [
          0.1278932982274251,
          0.469526366542482,
          0.9291157305619527,
          0.40515301402373227,
          -1.5917459182652245,
          -1.6087479397927258,
          -0.5570387118593482,
          -0.3856575796710698,
          -2.221265215686538,
          -1.4698983614317604,
          1.1101578499800526,
          1.20298102121073,
          1.6339949838778323,
          -0.8161349268770313,
          0.4086318618862779,
          0.5548671682358679,
          -0.8622972844801289,
          0.07420238916176017,
          1.2183453329644898,
          -0.43840660258582,
          0.026066256742456214,
          -0.5334597699614914,
          0.09585541774251581,
          -0.22421020286453433,
          0.9369320552280596,
          0.5834434373100259,
          -1.1208343483540346,
          0.13884025367902056,
          1.379645410176486,
          -0.07417256079840477,
          -0.6216238597953562,
          0.42888189651247,
          0.3863024099843034,
          0.5426895836527332,
          0.31183455778510777,
          0.8551152659797775,
          -0.684987395282973,
          -1.1042937457040396,
          0.44630887835629945,
          -0.39877908856139266,
          0.9082045840439279,
          -3.059937282040349,
          -0.8700884488547279,
          -1.2439391066155623,
          -0.5071833503978952,
          -1.3631721325649384,
          0.1762689702677328,
          0.01896212316534809,
          0.4861113474222137,
          -0.47507882066828727,
          -2.163976552435812,
          -1.3369360916803426,
          0.9555463582525008,
          0.5478215958353618,
          -1.550148463924115,
          0.09777736761534621,
          0.49809698309794304,
          2.1197745050252843,
          0.26532090420243143,
          0.1441676289676939,
          2.077895624197262,
          -0.5488116023037127,
          -1.0106472722871684,
          1.298870059790273,
          -1.671575504423239,
          0.15499851005456855,
          -0.7124810280268427,
          0.42265660233062474,
          1.7357294189479582,
          0.26789565009883254,
          -0.05074744701788411,
          -1.4810518836182012,
          -0.6923013736478622,
          -0.5945698124790019,
          0.1346244724399991,
          -1.620964897679958,
          -0.7014449789933306,
          0.018175619925601426,
          -1.0595724569809948,
          2.3463304985471694,
          0.9668510933465376,
          0.5663392993979611,
          -0.18929798704424658,
          -0.5714366717403916,
          0.07641390472011941,
          -0.8409107168770208,
          0.8957240591610679,
          0.12424912256042718,
          2.1813801025944093,
          -0.8890937268051208,
          -1.029360999908337,
          -0.6430186533409902,
          -1.534831852322848,
          0.9131832497391924,
          0.43930853643805096,
          -0.15724220539329795,
          0.03428453542891774,
          -1.9846351850878805,
          0.8472401112395295,
          1.2207634010547146
         ],
         "xaxis": "x3",
         "y": [
          0.0736951981220984,
          0.10564450982575026,
          -1.1287694447333996,
          0.5804209406137681,
          -0.1975551948846452,
          0.1264092655386513,
          0.2705128014282348,
          1.1425313644674608,
          -0.0280792412700831,
          -0.6037165583522806,
          -0.6654841318855145,
          -1.9597696313373731,
          -1.0836549781822886,
          0.8471570960094061,
          -1.4615600928892374,
          -0.41078536958814904,
          -2.040699361169267,
          0.03962481326541074,
          0.5275072266760765,
          -0.2939643525656409,
          0.28928818085179875,
          1.0413465410746048,
          -1.1836578546572247,
          -0.9432476721762981,
          -0.8285532101291623,
          -0.4051234867711331,
          2.0230075514310504,
          0.24539260697434792,
          -0.63260779700234,
          -0.7209851109446794,
          -1.5488207454379541,
          -0.8946609686524443,
          -0.1560111806186542,
          0.17389857563037833,
          0.34740814171357554,
          1.2552555330233055,
          -1.0680286375215224,
          -0.4460336785120809,
          -0.1996834281899064,
          0.8924323239536869,
          0.4416882581368255,
          0.2508260886728522,
          -1.6456855994516686,
          0.7677774052108971,
          -0.9068972058860518,
          -0.9559144714011961,
          -0.187102476195743,
          1.1203398761012473,
          0.15400343406490505,
          -0.5716767762093942,
          0.5976009243300208,
          0.019204046059430244,
          0.0024198085521941032,
          1.784028158436303,
          -0.20428489651938,
          -1.4041165446986748,
          0.9323984369458973,
          -0.5792321434004235,
          -2.0574605006033773,
          2.0583283135948136,
          0.167330539255263,
          -0.019276383131392728,
          1.4073592874756022,
          0.9592641373019399,
          -0.7231633220254845,
          -0.3597844001060429,
          -1.1969527886841422,
          -0.8801864313510209,
          -0.5141408209575581,
          -0.7825125885524513,
          0.7313374148374697,
          0.5221236136962678,
          1.4226286857514743,
          1.4825898929007055,
          1.3502175382432609,
          -0.8734607406558281,
          0.49036406116569414,
          -0.2092285701075775,
          0.9907853107926903,
          0.5123736926600807,
          0.18562731086320133,
          0.11201148302314741,
          -1.3204449580069537,
          -1.0630589750114043,
          -0.04025987957865352,
          1.1620098202646922,
          -2.853232841408554,
          1.8238207602168894,
          -0.6531294969856558,
          -0.9313389600239237,
          -0.30879282255091245,
          -0.3056638243318225,
          -0.5476967922350982,
          -0.7754458161741501,
          1.2367277039729325,
          0.08827259124043836,
          0.148524136382813,
          -1.5636712919612268,
          -0.16549210257969663,
          0.21610877051097974
         ],
         "yaxis": "y3"
        },
        {
         "line": {
          "color": "rgba(128, 128, 128, 1.0)",
          "dash": "solid",
          "shape": "linear",
          "width": 1.3
         },
         "marker": {
          "size": 2,
          "symbol": "circle"
         },
         "mode": "markers",
         "name": "A",
         "text": "",
         "type": "scatter",
         "x": [
          -0.028510399408812684,
          -0.2152374060207564,
          -0.736269857263102,
          0.6665527074281203,
          -1.246728399972464,
          1.340667989919134,
          -1.0471663790440882,
          0.8789236728879228,
          1.053077821350125,
          -2.6922964628211328,
          0.5153815449777305,
          -0.45188161253693687,
          -0.16525616905463436,
          -0.32308235060525786,
          0.2547252667988607,
          -0.24142536539936815,
          -0.6967061398005917,
          -0.5579609655708553,
          -1.8975627460347138,
          -0.3106742451480492,
          0.5647468925542017,
          -1.8390906876682207,
          0.5024782051016055,
          -1.010495091526054,
          0.5640429908911149,
          -1.241677132603908,
          -0.0017070287949820322,
          -0.5093228119448819,
          -1.0279419517686692,
          -0.0545764346515223,
          0.5837884526490281,
          0.5626662553108567,
          1.8608098480121762,
          -0.06585068517167546,
          1.442976867868302,
          0.682709348420952,
          -1.6409432516230387,
          -0.47441501008977965,
          0.12974516547699164,
          -1.4193944105604102,
          1.657352340761615,
          0.03538348454454446,
          1.596382838054901,
          0.5735338559629584,
          0.5841464249454178,
          0.6951122289118309,
          0.874101307304708,
          1.498259688754301,
          -0.15446874865982127,
          -2.1762734867226032,
          0.5448320705208457,
          -1.359515862022141,
          1.9708090014911077,
          0.12713768523570698,
          -1.9268610890031166,
          1.028324034066464,
          -0.29276304289000443,
          1.2657066163347672,
          0.6673796467371418,
          -1.0549390903977722,
          2.060490057738359,
          0.26223822690847054,
          -0.5869442522463283,
          0.6563587052275585,
          0.14386324910450352,
          0.5801612338470067,
          0.4551325676186162,
          -0.22943429602133544,
          0.7069946788513863,
          -0.5676256997478115,
          -0.03270827209474627,
          0.04133883941573024,
          -0.24149818023389288,
          0.5357872422281069,
          -0.6792916549522737,
          0.5594507327926441,
          -0.38156097271475015,
          0.5885170583986777,
          -0.6862752498026115,
          -1.891567839323786,
          -0.22040717234407267,
          0.8237131180783998,
          -0.8879992836655693,
          1.0161663512655568,
          -0.5480073857279285,
          1.0127361558686385,
          0.6054562187829562,
          -1.7123344310161188,
          0.8806171293509081,
          0.2525034261009619,
          0.5401524018071866,
          1.08443737239866,
          -0.38839640889689603,
          0.8797833144873521,
          -0.3140066707250513,
          -0.4346176583346952,
          -0.6760623562815167,
          -0.21404529896102356,
          -0.31797288090625153,
          -0.3692768180146646
         ],
         "xaxis": "x4",
         "y": [
          0.0736951981220984,
          0.10564450982575026,
          -1.1287694447333996,
          0.5804209406137681,
          -0.1975551948846452,
          0.1264092655386513,
          0.2705128014282348,
          1.1425313644674608,
          -0.0280792412700831,
          -0.6037165583522806,
          -0.6654841318855145,
          -1.9597696313373731,
          -1.0836549781822886,
          0.8471570960094061,
          -1.4615600928892374,
          -0.41078536958814904,
          -2.040699361169267,
          0.03962481326541074,
          0.5275072266760765,
          -0.2939643525656409,
          0.28928818085179875,
          1.0413465410746048,
          -1.1836578546572247,
          -0.9432476721762981,
          -0.8285532101291623,
          -0.4051234867711331,
          2.0230075514310504,
          0.24539260697434792,
          -0.63260779700234,
          -0.7209851109446794,
          -1.5488207454379541,
          -0.8946609686524443,
          -0.1560111806186542,
          0.17389857563037833,
          0.34740814171357554,
          1.2552555330233055,
          -1.0680286375215224,
          -0.4460336785120809,
          -0.1996834281899064,
          0.8924323239536869,
          0.4416882581368255,
          0.2508260886728522,
          -1.6456855994516686,
          0.7677774052108971,
          -0.9068972058860518,
          -0.9559144714011961,
          -0.187102476195743,
          1.1203398761012473,
          0.15400343406490505,
          -0.5716767762093942,
          0.5976009243300208,
          0.019204046059430244,
          0.0024198085521941032,
          1.784028158436303,
          -0.20428489651938,
          -1.4041165446986748,
          0.9323984369458973,
          -0.5792321434004235,
          -2.0574605006033773,
          2.0583283135948136,
          0.167330539255263,
          -0.019276383131392728,
          1.4073592874756022,
          0.9592641373019399,
          -0.7231633220254845,
          -0.3597844001060429,
          -1.1969527886841422,
          -0.8801864313510209,
          -0.5141408209575581,
          -0.7825125885524513,
          0.7313374148374697,
          0.5221236136962678,
          1.4226286857514743,
          1.4825898929007055,
          1.3502175382432609,
          -0.8734607406558281,
          0.49036406116569414,
          -0.2092285701075775,
          0.9907853107926903,
          0.5123736926600807,
          0.18562731086320133,
          0.11201148302314741,
          -1.3204449580069537,
          -1.0630589750114043,
          -0.04025987957865352,
          1.1620098202646922,
          -2.853232841408554,
          1.8238207602168894,
          -0.6531294969856558,
          -0.9313389600239237,
          -0.30879282255091245,
          -0.3056638243318225,
          -0.5476967922350982,
          -0.7754458161741501,
          1.2367277039729325,
          0.08827259124043836,
          0.148524136382813,
          -1.5636712919612268,
          -0.16549210257969663,
          0.21610877051097974
         ],
         "yaxis": "y4"
        },
        {
         "line": {
          "color": "rgba(128, 128, 128, 1.0)",
          "dash": "solid",
          "shape": "linear",
          "width": 1.3
         },
         "marker": {
          "size": 2,
          "symbol": "circle"
         },
         "mode": "markers",
         "name": "B",
         "text": "",
         "type": "scatter",
         "x": [
          0.0736951981220984,
          0.10564450982575026,
          -1.1287694447333996,
          0.5804209406137681,
          -0.1975551948846452,
          0.1264092655386513,
          0.2705128014282348,
          1.1425313644674608,
          -0.0280792412700831,
          -0.6037165583522806,
          -0.6654841318855145,
          -1.9597696313373731,
          -1.0836549781822886,
          0.8471570960094061,
          -1.4615600928892374,
          -0.41078536958814904,
          -2.040699361169267,
          0.03962481326541074,
          0.5275072266760765,
          -0.2939643525656409,
          0.28928818085179875,
          1.0413465410746048,
          -1.1836578546572247,
          -0.9432476721762981,
          -0.8285532101291623,
          -0.4051234867711331,
          2.0230075514310504,
          0.24539260697434792,
          -0.63260779700234,
          -0.7209851109446794,
          -1.5488207454379541,
          -0.8946609686524443,
          -0.1560111806186542,
          0.17389857563037833,
          0.34740814171357554,
          1.2552555330233055,
          -1.0680286375215224,
          -0.4460336785120809,
          -0.1996834281899064,
          0.8924323239536869,
          0.4416882581368255,
          0.2508260886728522,
          -1.6456855994516686,
          0.7677774052108971,
          -0.9068972058860518,
          -0.9559144714011961,
          -0.187102476195743,
          1.1203398761012473,
          0.15400343406490505,
          -0.5716767762093942,
          0.5976009243300208,
          0.019204046059430244,
          0.0024198085521941032,
          1.784028158436303,
          -0.20428489651938,
          -1.4041165446986748,
          0.9323984369458973,
          -0.5792321434004235,
          -2.0574605006033773,
          2.0583283135948136,
          0.167330539255263,
          -0.019276383131392728,
          1.4073592874756022,
          0.9592641373019399,
          -0.7231633220254845,
          -0.3597844001060429,
          -1.1969527886841422,
          -0.8801864313510209,
          -0.5141408209575581,
          -0.7825125885524513,
          0.7313374148374697,
          0.5221236136962678,
          1.4226286857514743,
          1.4825898929007055,
          1.3502175382432609,
          -0.8734607406558281,
          0.49036406116569414,
          -0.2092285701075775,
          0.9907853107926903,
          0.5123736926600807,
          0.18562731086320133,
          0.11201148302314741,
          -1.3204449580069537,
          -1.0630589750114043,
          -0.04025987957865352,
          1.1620098202646922,
          -2.853232841408554,
          1.8238207602168894,
          -0.6531294969856558,
          -0.9313389600239237,
          -0.30879282255091245,
          -0.3056638243318225,
          -0.5476967922350982,
          -0.7754458161741501,
          1.2367277039729325,
          0.08827259124043836,
          0.148524136382813,
          -1.5636712919612268,
          -0.16549210257969663,
          0.21610877051097974
         ],
         "xaxis": "x5",
         "y": [
          0.8760632334770332,
          -0.6468852814860023,
          0.8463880807488549,
          -1.2486045806445114,
          0.5724518780888255,
          -0.5222352401518324,
          -0.9848639820820966,
          -1.172434871411764,
          -0.8998567452932995,
          -1.2796563113262798,
          -1.0480565656826892,
          -0.7634402829919783,
          1.5142055518437052,
          -1.6665767161291187,
          -0.03852048853563186,
          1.288301986016335,
          0.8328893246943083,
          1.1884783375293597,
          -0.344006079709632,
          0.05420622239569184,
          0.35614291823826333,
          -0.4251177572292302,
          -0.22119992788055953,
          -0.14388486839892725,
          -1.2901309732710033,
          1.0146604736907852,
          0.7320936884573455,
          -1.7023372292415306,
          -0.99830494317672,
          -1.4431123520848117,
          -1.3122709835767647,
          0.706659227847644,
          -0.26824366031343944,
          -0.537773843108674,
          0.5923198033966968,
          -0.5939754980108162,
          -1.8429067824553713,
          -1.630827733085515,
          1.9399034227472598,
          -1.0591735681626917,
          1.5417871098828368,
          0.011046675143945023,
          0.3676156017707326,
          -1.5191005828816142,
          -0.1867932057368553,
          -0.6953542088819678,
          -1.061523717386393,
          -1.635525405595693,
          1.271831465856645,
          0.3609749081277422,
          -0.4002786155440916,
          0.6349036683165985,
          -2.5085937439137402,
          0.2880263358078486,
          0.8233424851149163,
          1.4205334892581958,
          0.4042202557708223,
          0.7476270820089652,
          -0.5186637637058849,
          0.3383599270576156,
          0.8451776409075579,
          -0.25151697794483074,
          0.984125909044333,
          1.3375325230325705,
          -0.8324635804628554,
          -1.1563474953687112,
          -0.1623099218070929,
          0.17293006218943108,
          0.7792582364985289,
          -0.1617458745013657,
          0.7116848909522314,
          -0.6038785439652203,
          -2.0123878010301834,
          -0.9168735873139444,
          -0.17246519869176627,
          1.2130208387149017,
          1.834056203407502,
          0.02332111811513691,
          2.09391368645279,
          -0.4986945189622508,
          0.4942431022279809,
          0.3865218169769006,
          0.7644569069065226,
          1.8254559147171603,
          -0.4437851157118142,
          -0.7503594366043927,
          -0.31334366724654056,
          0.21073969489699934,
          -0.05636023614984949,
          -1.005982163864285,
          0.019568144859799623,
          -0.9677761425511624,
          1.7860590480146616,
          1.5026409498864475,
          0.2091060547287096,
          -0.5037908334274643,
          0.24140484190581732,
          -0.4311937741479804,
          0.4493686887025034,
          1.6091702365759928
         ],
         "yaxis": "y5"
        },
        {
         "histfunc": "count",
         "histnorm": "",
         "marker": {
          "color": "rgba(55, 128, 191, 1.0)",
          "line": {
           "color": "#4D5663",
           "width": 1.3
          }
         },
         "name": "B",
         "nbinsx": 10,
         "opacity": 0.8,
         "orientation": "v",
         "type": "histogram",
         "x": [
          0.8760632334770332,
          -0.6468852814860023,
          0.8463880807488549,
          -1.2486045806445114,
          0.5724518780888255,
          -0.5222352401518324,
          -0.9848639820820966,
          -1.172434871411764,
          -0.8998567452932995,
          -1.2796563113262798,
          -1.0480565656826892,
          -0.7634402829919783,
          1.5142055518437052,
          -1.6665767161291187,
          -0.03852048853563186,
          1.288301986016335,
          0.8328893246943083,
          1.1884783375293597,
          -0.344006079709632,
          0.05420622239569184,
          0.35614291823826333,
          -0.4251177572292302,
          -0.22119992788055953,
          -0.14388486839892725,
          -1.2901309732710033,
          1.0146604736907852,
          0.7320936884573455,
          -1.7023372292415306,
          -0.99830494317672,
          -1.4431123520848117,
          -1.3122709835767647,
          0.706659227847644,
          -0.26824366031343944,
          -0.537773843108674,
          0.5923198033966968,
          -0.5939754980108162,
          -1.8429067824553713,
          -1.630827733085515,
          1.9399034227472598,
          -1.0591735681626917,
          1.5417871098828368,
          0.011046675143945023,
          0.3676156017707326,
          -1.5191005828816142,
          -0.1867932057368553,
          -0.6953542088819678,
          -1.061523717386393,
          -1.635525405595693,
          1.271831465856645,
          0.3609749081277422,
          -0.4002786155440916,
          0.6349036683165985,
          -2.5085937439137402,
          0.2880263358078486,
          0.8233424851149163,
          1.4205334892581958,
          0.4042202557708223,
          0.7476270820089652,
          -0.5186637637058849,
          0.3383599270576156,
          0.8451776409075579,
          -0.25151697794483074,
          0.984125909044333,
          1.3375325230325705,
          -0.8324635804628554,
          -1.1563474953687112,
          -0.1623099218070929,
          0.17293006218943108,
          0.7792582364985289,
          -0.1617458745013657,
          0.7116848909522314,
          -0.6038785439652203,
          -2.0123878010301834,
          -0.9168735873139444,
          -0.17246519869176627,
          1.2130208387149017,
          1.834056203407502,
          0.02332111811513691,
          2.09391368645279,
          -0.4986945189622508,
          0.4942431022279809,
          0.3865218169769006,
          0.7644569069065226,
          1.8254559147171603,
          -0.4437851157118142,
          -0.7503594366043927,
          -0.31334366724654056,
          0.21073969489699934,
          -0.05636023614984949,
          -1.005982163864285,
          0.019568144859799623,
          -0.9677761425511624,
          1.7860590480146616,
          1.5026409498864475,
          0.2091060547287096,
          -0.5037908334274643,
          0.24140484190581732,
          -0.4311937741479804,
          0.4493686887025034,
          1.6091702365759928
         ],
         "xaxis": "x6",
         "yaxis": "y6"
        },
        {
         "line": {
          "color": "rgba(128, 128, 128, 1.0)",
          "dash": "solid",
          "shape": "linear",
          "width": 1.3
         },
         "marker": {
          "size": 2,
          "symbol": "circle"
         },
         "mode": "markers",
         "name": "B",
         "text": "",
         "type": "scatter",
         "x": [
          0.1278932982274251,
          0.469526366542482,
          0.9291157305619527,
          0.40515301402373227,
          -1.5917459182652245,
          -1.6087479397927258,
          -0.5570387118593482,
          -0.3856575796710698,
          -2.221265215686538,
          -1.4698983614317604,
          1.1101578499800526,
          1.20298102121073,
          1.6339949838778323,
          -0.8161349268770313,
          0.4086318618862779,
          0.5548671682358679,
          -0.8622972844801289,
          0.07420238916176017,
          1.2183453329644898,
          -0.43840660258582,
          0.026066256742456214,
          -0.5334597699614914,
          0.09585541774251581,
          -0.22421020286453433,
          0.9369320552280596,
          0.5834434373100259,
          -1.1208343483540346,
          0.13884025367902056,
          1.379645410176486,
          -0.07417256079840477,
          -0.6216238597953562,
          0.42888189651247,
          0.3863024099843034,
          0.5426895836527332,
          0.31183455778510777,
          0.8551152659797775,
          -0.684987395282973,
          -1.1042937457040396,
          0.44630887835629945,
          -0.39877908856139266,
          0.9082045840439279,
          -3.059937282040349,
          -0.8700884488547279,
          -1.2439391066155623,
          -0.5071833503978952,
          -1.3631721325649384,
          0.1762689702677328,
          0.01896212316534809,
          0.4861113474222137,
          -0.47507882066828727,
          -2.163976552435812,
          -1.3369360916803426,
          0.9555463582525008,
          0.5478215958353618,
          -1.550148463924115,
          0.09777736761534621,
          0.49809698309794304,
          2.1197745050252843,
          0.26532090420243143,
          0.1441676289676939,
          2.077895624197262,
          -0.5488116023037127,
          -1.0106472722871684,
          1.298870059790273,
          -1.671575504423239,
          0.15499851005456855,
          -0.7124810280268427,
          0.42265660233062474,
          1.7357294189479582,
          0.26789565009883254,
          -0.05074744701788411,
          -1.4810518836182012,
          -0.6923013736478622,
          -0.5945698124790019,
          0.1346244724399991,
          -1.620964897679958,
          -0.7014449789933306,
          0.018175619925601426,
          -1.0595724569809948,
          2.3463304985471694,
          0.9668510933465376,
          0.5663392993979611,
          -0.18929798704424658,
          -0.5714366717403916,
          0.07641390472011941,
          -0.8409107168770208,
          0.8957240591610679,
          0.12424912256042718,
          2.1813801025944093,
          -0.8890937268051208,
          -1.029360999908337,
          -0.6430186533409902,
          -1.534831852322848,
          0.9131832497391924,
          0.43930853643805096,
          -0.15724220539329795,
          0.03428453542891774,
          -1.9846351850878805,
          0.8472401112395295,
          1.2207634010547146
         ],
         "xaxis": "x7",
         "y": [
          0.8760632334770332,
          -0.6468852814860023,
          0.8463880807488549,
          -1.2486045806445114,
          0.5724518780888255,
          -0.5222352401518324,
          -0.9848639820820966,
          -1.172434871411764,
          -0.8998567452932995,
          -1.2796563113262798,
          -1.0480565656826892,
          -0.7634402829919783,
          1.5142055518437052,
          -1.6665767161291187,
          -0.03852048853563186,
          1.288301986016335,
          0.8328893246943083,
          1.1884783375293597,
          -0.344006079709632,
          0.05420622239569184,
          0.35614291823826333,
          -0.4251177572292302,
          -0.22119992788055953,
          -0.14388486839892725,
          -1.2901309732710033,
          1.0146604736907852,
          0.7320936884573455,
          -1.7023372292415306,
          -0.99830494317672,
          -1.4431123520848117,
          -1.3122709835767647,
          0.706659227847644,
          -0.26824366031343944,
          -0.537773843108674,
          0.5923198033966968,
          -0.5939754980108162,
          -1.8429067824553713,
          -1.630827733085515,
          1.9399034227472598,
          -1.0591735681626917,
          1.5417871098828368,
          0.011046675143945023,
          0.3676156017707326,
          -1.5191005828816142,
          -0.1867932057368553,
          -0.6953542088819678,
          -1.061523717386393,
          -1.635525405595693,
          1.271831465856645,
          0.3609749081277422,
          -0.4002786155440916,
          0.6349036683165985,
          -2.5085937439137402,
          0.2880263358078486,
          0.8233424851149163,
          1.4205334892581958,
          0.4042202557708223,
          0.7476270820089652,
          -0.5186637637058849,
          0.3383599270576156,
          0.8451776409075579,
          -0.25151697794483074,
          0.984125909044333,
          1.3375325230325705,
          -0.8324635804628554,
          -1.1563474953687112,
          -0.1623099218070929,
          0.17293006218943108,
          0.7792582364985289,
          -0.1617458745013657,
          0.7116848909522314,
          -0.6038785439652203,
          -2.0123878010301834,
          -0.9168735873139444,
          -0.17246519869176627,
          1.2130208387149017,
          1.834056203407502,
          0.02332111811513691,
          2.09391368645279,
          -0.4986945189622508,
          0.4942431022279809,
          0.3865218169769006,
          0.7644569069065226,
          1.8254559147171603,
          -0.4437851157118142,
          -0.7503594366043927,
          -0.31334366724654056,
          0.21073969489699934,
          -0.05636023614984949,
          -1.005982163864285,
          0.019568144859799623,
          -0.9677761425511624,
          1.7860590480146616,
          1.5026409498864475,
          0.2091060547287096,
          -0.5037908334274643,
          0.24140484190581732,
          -0.4311937741479804,
          0.4493686887025034,
          1.6091702365759928
         ],
         "yaxis": "y7"
        },
        {
         "line": {
          "color": "rgba(128, 128, 128, 1.0)",
          "dash": "solid",
          "shape": "linear",
          "width": 1.3
         },
         "marker": {
          "size": 2,
          "symbol": "circle"
         },
         "mode": "markers",
         "name": "B",
         "text": "",
         "type": "scatter",
         "x": [
          -0.028510399408812684,
          -0.2152374060207564,
          -0.736269857263102,
          0.6665527074281203,
          -1.246728399972464,
          1.340667989919134,
          -1.0471663790440882,
          0.8789236728879228,
          1.053077821350125,
          -2.6922964628211328,
          0.5153815449777305,
          -0.45188161253693687,
          -0.16525616905463436,
          -0.32308235060525786,
          0.2547252667988607,
          -0.24142536539936815,
          -0.6967061398005917,
          -0.5579609655708553,
          -1.8975627460347138,
          -0.3106742451480492,
          0.5647468925542017,
          -1.8390906876682207,
          0.5024782051016055,
          -1.010495091526054,
          0.5640429908911149,
          -1.241677132603908,
          -0.0017070287949820322,
          -0.5093228119448819,
          -1.0279419517686692,
          -0.0545764346515223,
          0.5837884526490281,
          0.5626662553108567,
          1.8608098480121762,
          -0.06585068517167546,
          1.442976867868302,
          0.682709348420952,
          -1.6409432516230387,
          -0.47441501008977965,
          0.12974516547699164,
          -1.4193944105604102,
          1.657352340761615,
          0.03538348454454446,
          1.596382838054901,
          0.5735338559629584,
          0.5841464249454178,
          0.6951122289118309,
          0.874101307304708,
          1.498259688754301,
          -0.15446874865982127,
          -2.1762734867226032,
          0.5448320705208457,
          -1.359515862022141,
          1.9708090014911077,
          0.12713768523570698,
          -1.9268610890031166,
          1.028324034066464,
          -0.29276304289000443,
          1.2657066163347672,
          0.6673796467371418,
          -1.0549390903977722,
          2.060490057738359,
          0.26223822690847054,
          -0.5869442522463283,
          0.6563587052275585,
          0.14386324910450352,
          0.5801612338470067,
          0.4551325676186162,
          -0.22943429602133544,
          0.7069946788513863,
          -0.5676256997478115,
          -0.03270827209474627,
          0.04133883941573024,
          -0.24149818023389288,
          0.5357872422281069,
          -0.6792916549522737,
          0.5594507327926441,
          -0.38156097271475015,
          0.5885170583986777,
          -0.6862752498026115,
          -1.891567839323786,
          -0.22040717234407267,
          0.8237131180783998,
          -0.8879992836655693,
          1.0161663512655568,
          -0.5480073857279285,
          1.0127361558686385,
          0.6054562187829562,
          -1.7123344310161188,
          0.8806171293509081,
          0.2525034261009619,
          0.5401524018071866,
          1.08443737239866,
          -0.38839640889689603,
          0.8797833144873521,
          -0.3140066707250513,
          -0.4346176583346952,
          -0.6760623562815167,
          -0.21404529896102356,
          -0.31797288090625153,
          -0.3692768180146646
         ],
         "xaxis": "x8",
         "y": [
          0.8760632334770332,
          -0.6468852814860023,
          0.8463880807488549,
          -1.2486045806445114,
          0.5724518780888255,
          -0.5222352401518324,
          -0.9848639820820966,
          -1.172434871411764,
          -0.8998567452932995,
          -1.2796563113262798,
          -1.0480565656826892,
          -0.7634402829919783,
          1.5142055518437052,
          -1.6665767161291187,
          -0.03852048853563186,
          1.288301986016335,
          0.8328893246943083,
          1.1884783375293597,
          -0.344006079709632,
          0.05420622239569184,
          0.35614291823826333,
          -0.4251177572292302,
          -0.22119992788055953,
          -0.14388486839892725,
          -1.2901309732710033,
          1.0146604736907852,
          0.7320936884573455,
          -1.7023372292415306,
          -0.99830494317672,
          -1.4431123520848117,
          -1.3122709835767647,
          0.706659227847644,
          -0.26824366031343944,
          -0.537773843108674,
          0.5923198033966968,
          -0.5939754980108162,
          -1.8429067824553713,
          -1.630827733085515,
          1.9399034227472598,
          -1.0591735681626917,
          1.5417871098828368,
          0.011046675143945023,
          0.3676156017707326,
          -1.5191005828816142,
          -0.1867932057368553,
          -0.6953542088819678,
          -1.061523717386393,
          -1.635525405595693,
          1.271831465856645,
          0.3609749081277422,
          -0.4002786155440916,
          0.6349036683165985,
          -2.5085937439137402,
          0.2880263358078486,
          0.8233424851149163,
          1.4205334892581958,
          0.4042202557708223,
          0.7476270820089652,
          -0.5186637637058849,
          0.3383599270576156,
          0.8451776409075579,
          -0.25151697794483074,
          0.984125909044333,
          1.3375325230325705,
          -0.8324635804628554,
          -1.1563474953687112,
          -0.1623099218070929,
          0.17293006218943108,
          0.7792582364985289,
          -0.1617458745013657,
          0.7116848909522314,
          -0.6038785439652203,
          -2.0123878010301834,
          -0.9168735873139444,
          -0.17246519869176627,
          1.2130208387149017,
          1.834056203407502,
          0.02332111811513691,
          2.09391368645279,
          -0.4986945189622508,
          0.4942431022279809,
          0.3865218169769006,
          0.7644569069065226,
          1.8254559147171603,
          -0.4437851157118142,
          -0.7503594366043927,
          -0.31334366724654056,
          0.21073969489699934,
          -0.05636023614984949,
          -1.005982163864285,
          0.019568144859799623,
          -0.9677761425511624,
          1.7860590480146616,
          1.5026409498864475,
          0.2091060547287096,
          -0.5037908334274643,
          0.24140484190581732,
          -0.4311937741479804,
          0.4493686887025034,
          1.6091702365759928
         ],
         "yaxis": "y8"
        },
        {
         "line": {
          "color": "rgba(128, 128, 128, 1.0)",
          "dash": "solid",
          "shape": "linear",
          "width": 1.3
         },
         "marker": {
          "size": 2,
          "symbol": "circle"
         },
         "mode": "markers",
         "name": "C",
         "text": "",
         "type": "scatter",
         "x": [
          0.0736951981220984,
          0.10564450982575026,
          -1.1287694447333996,
          0.5804209406137681,
          -0.1975551948846452,
          0.1264092655386513,
          0.2705128014282348,
          1.1425313644674608,
          -0.0280792412700831,
          -0.6037165583522806,
          -0.6654841318855145,
          -1.9597696313373731,
          -1.0836549781822886,
          0.8471570960094061,
          -1.4615600928892374,
          -0.41078536958814904,
          -2.040699361169267,
          0.03962481326541074,
          0.5275072266760765,
          -0.2939643525656409,
          0.28928818085179875,
          1.0413465410746048,
          -1.1836578546572247,
          -0.9432476721762981,
          -0.8285532101291623,
          -0.4051234867711331,
          2.0230075514310504,
          0.24539260697434792,
          -0.63260779700234,
          -0.7209851109446794,
          -1.5488207454379541,
          -0.8946609686524443,
          -0.1560111806186542,
          0.17389857563037833,
          0.34740814171357554,
          1.2552555330233055,
          -1.0680286375215224,
          -0.4460336785120809,
          -0.1996834281899064,
          0.8924323239536869,
          0.4416882581368255,
          0.2508260886728522,
          -1.6456855994516686,
          0.7677774052108971,
          -0.9068972058860518,
          -0.9559144714011961,
          -0.187102476195743,
          1.1203398761012473,
          0.15400343406490505,
          -0.5716767762093942,
          0.5976009243300208,
          0.019204046059430244,
          0.0024198085521941032,
          1.784028158436303,
          -0.20428489651938,
          -1.4041165446986748,
          0.9323984369458973,
          -0.5792321434004235,
          -2.0574605006033773,
          2.0583283135948136,
          0.167330539255263,
          -0.019276383131392728,
          1.4073592874756022,
          0.9592641373019399,
          -0.7231633220254845,
          -0.3597844001060429,
          -1.1969527886841422,
          -0.8801864313510209,
          -0.5141408209575581,
          -0.7825125885524513,
          0.7313374148374697,
          0.5221236136962678,
          1.4226286857514743,
          1.4825898929007055,
          1.3502175382432609,
          -0.8734607406558281,
          0.49036406116569414,
          -0.2092285701075775,
          0.9907853107926903,
          0.5123736926600807,
          0.18562731086320133,
          0.11201148302314741,
          -1.3204449580069537,
          -1.0630589750114043,
          -0.04025987957865352,
          1.1620098202646922,
          -2.853232841408554,
          1.8238207602168894,
          -0.6531294969856558,
          -0.9313389600239237,
          -0.30879282255091245,
          -0.3056638243318225,
          -0.5476967922350982,
          -0.7754458161741501,
          1.2367277039729325,
          0.08827259124043836,
          0.148524136382813,
          -1.5636712919612268,
          -0.16549210257969663,
          0.21610877051097974
         ],
         "xaxis": "x9",
         "y": [
          0.1278932982274251,
          0.469526366542482,
          0.9291157305619527,
          0.40515301402373227,
          -1.5917459182652245,
          -1.6087479397927258,
          -0.5570387118593482,
          -0.3856575796710698,
          -2.221265215686538,
          -1.4698983614317604,
          1.1101578499800526,
          1.20298102121073,
          1.6339949838778323,
          -0.8161349268770313,
          0.4086318618862779,
          0.5548671682358679,
          -0.8622972844801289,
          0.07420238916176017,
          1.2183453329644898,
          -0.43840660258582,
          0.026066256742456214,
          -0.5334597699614914,
          0.09585541774251581,
          -0.22421020286453433,
          0.9369320552280596,
          0.5834434373100259,
          -1.1208343483540346,
          0.13884025367902056,
          1.379645410176486,
          -0.07417256079840477,
          -0.6216238597953562,
          0.42888189651247,
          0.3863024099843034,
          0.5426895836527332,
          0.31183455778510777,
          0.8551152659797775,
          -0.684987395282973,
          -1.1042937457040396,
          0.44630887835629945,
          -0.39877908856139266,
          0.9082045840439279,
          -3.059937282040349,
          -0.8700884488547279,
          -1.2439391066155623,
          -0.5071833503978952,
          -1.3631721325649384,
          0.1762689702677328,
          0.01896212316534809,
          0.4861113474222137,
          -0.47507882066828727,
          -2.163976552435812,
          -1.3369360916803426,
          0.9555463582525008,
          0.5478215958353618,
          -1.550148463924115,
          0.09777736761534621,
          0.49809698309794304,
          2.1197745050252843,
          0.26532090420243143,
          0.1441676289676939,
          2.077895624197262,
          -0.5488116023037127,
          -1.0106472722871684,
          1.298870059790273,
          -1.671575504423239,
          0.15499851005456855,
          -0.7124810280268427,
          0.42265660233062474,
          1.7357294189479582,
          0.26789565009883254,
          -0.05074744701788411,
          -1.4810518836182012,
          -0.6923013736478622,
          -0.5945698124790019,
          0.1346244724399991,
          -1.620964897679958,
          -0.7014449789933306,
          0.018175619925601426,
          -1.0595724569809948,
          2.3463304985471694,
          0.9668510933465376,
          0.5663392993979611,
          -0.18929798704424658,
          -0.5714366717403916,
          0.07641390472011941,
          -0.8409107168770208,
          0.8957240591610679,
          0.12424912256042718,
          2.1813801025944093,
          -0.8890937268051208,
          -1.029360999908337,
          -0.6430186533409902,
          -1.534831852322848,
          0.9131832497391924,
          0.43930853643805096,
          -0.15724220539329795,
          0.03428453542891774,
          -1.9846351850878805,
          0.8472401112395295,
          1.2207634010547146
         ],
         "yaxis": "y9"
        },
        {
         "line": {
          "color": "rgba(128, 128, 128, 1.0)",
          "dash": "solid",
          "shape": "linear",
          "width": 1.3
         },
         "marker": {
          "size": 2,
          "symbol": "circle"
         },
         "mode": "markers",
         "name": "C",
         "text": "",
         "type": "scatter",
         "x": [
          0.8760632334770332,
          -0.6468852814860023,
          0.8463880807488549,
          -1.2486045806445114,
          0.5724518780888255,
          -0.5222352401518324,
          -0.9848639820820966,
          -1.172434871411764,
          -0.8998567452932995,
          -1.2796563113262798,
          -1.0480565656826892,
          -0.7634402829919783,
          1.5142055518437052,
          -1.6665767161291187,
          -0.03852048853563186,
          1.288301986016335,
          0.8328893246943083,
          1.1884783375293597,
          -0.344006079709632,
          0.05420622239569184,
          0.35614291823826333,
          -0.4251177572292302,
          -0.22119992788055953,
          -0.14388486839892725,
          -1.2901309732710033,
          1.0146604736907852,
          0.7320936884573455,
          -1.7023372292415306,
          -0.99830494317672,
          -1.4431123520848117,
          -1.3122709835767647,
          0.706659227847644,
          -0.26824366031343944,
          -0.537773843108674,
          0.5923198033966968,
          -0.5939754980108162,
          -1.8429067824553713,
          -1.630827733085515,
          1.9399034227472598,
          -1.0591735681626917,
          1.5417871098828368,
          0.011046675143945023,
          0.3676156017707326,
          -1.5191005828816142,
          -0.1867932057368553,
          -0.6953542088819678,
          -1.061523717386393,
          -1.635525405595693,
          1.271831465856645,
          0.3609749081277422,
          -0.4002786155440916,
          0.6349036683165985,
          -2.5085937439137402,
          0.2880263358078486,
          0.8233424851149163,
          1.4205334892581958,
          0.4042202557708223,
          0.7476270820089652,
          -0.5186637637058849,
          0.3383599270576156,
          0.8451776409075579,
          -0.25151697794483074,
          0.984125909044333,
          1.3375325230325705,
          -0.8324635804628554,
          -1.1563474953687112,
          -0.1623099218070929,
          0.17293006218943108,
          0.7792582364985289,
          -0.1617458745013657,
          0.7116848909522314,
          -0.6038785439652203,
          -2.0123878010301834,
          -0.9168735873139444,
          -0.17246519869176627,
          1.2130208387149017,
          1.834056203407502,
          0.02332111811513691,
          2.09391368645279,
          -0.4986945189622508,
          0.4942431022279809,
          0.3865218169769006,
          0.7644569069065226,
          1.8254559147171603,
          -0.4437851157118142,
          -0.7503594366043927,
          -0.31334366724654056,
          0.21073969489699934,
          -0.05636023614984949,
          -1.005982163864285,
          0.019568144859799623,
          -0.9677761425511624,
          1.7860590480146616,
          1.5026409498864475,
          0.2091060547287096,
          -0.5037908334274643,
          0.24140484190581732,
          -0.4311937741479804,
          0.4493686887025034,
          1.6091702365759928
         ],
         "xaxis": "x10",
         "y": [
          0.1278932982274251,
          0.469526366542482,
          0.9291157305619527,
          0.40515301402373227,
          -1.5917459182652245,
          -1.6087479397927258,
          -0.5570387118593482,
          -0.3856575796710698,
          -2.221265215686538,
          -1.4698983614317604,
          1.1101578499800526,
          1.20298102121073,
          1.6339949838778323,
          -0.8161349268770313,
          0.4086318618862779,
          0.5548671682358679,
          -0.8622972844801289,
          0.07420238916176017,
          1.2183453329644898,
          -0.43840660258582,
          0.026066256742456214,
          -0.5334597699614914,
          0.09585541774251581,
          -0.22421020286453433,
          0.9369320552280596,
          0.5834434373100259,
          -1.1208343483540346,
          0.13884025367902056,
          1.379645410176486,
          -0.07417256079840477,
          -0.6216238597953562,
          0.42888189651247,
          0.3863024099843034,
          0.5426895836527332,
          0.31183455778510777,
          0.8551152659797775,
          -0.684987395282973,
          -1.1042937457040396,
          0.44630887835629945,
          -0.39877908856139266,
          0.9082045840439279,
          -3.059937282040349,
          -0.8700884488547279,
          -1.2439391066155623,
          -0.5071833503978952,
          -1.3631721325649384,
          0.1762689702677328,
          0.01896212316534809,
          0.4861113474222137,
          -0.47507882066828727,
          -2.163976552435812,
          -1.3369360916803426,
          0.9555463582525008,
          0.5478215958353618,
          -1.550148463924115,
          0.09777736761534621,
          0.49809698309794304,
          2.1197745050252843,
          0.26532090420243143,
          0.1441676289676939,
          2.077895624197262,
          -0.5488116023037127,
          -1.0106472722871684,
          1.298870059790273,
          -1.671575504423239,
          0.15499851005456855,
          -0.7124810280268427,
          0.42265660233062474,
          1.7357294189479582,
          0.26789565009883254,
          -0.05074744701788411,
          -1.4810518836182012,
          -0.6923013736478622,
          -0.5945698124790019,
          0.1346244724399991,
          -1.620964897679958,
          -0.7014449789933306,
          0.018175619925601426,
          -1.0595724569809948,
          2.3463304985471694,
          0.9668510933465376,
          0.5663392993979611,
          -0.18929798704424658,
          -0.5714366717403916,
          0.07641390472011941,
          -0.8409107168770208,
          0.8957240591610679,
          0.12424912256042718,
          2.1813801025944093,
          -0.8890937268051208,
          -1.029360999908337,
          -0.6430186533409902,
          -1.534831852322848,
          0.9131832497391924,
          0.43930853643805096,
          -0.15724220539329795,
          0.03428453542891774,
          -1.9846351850878805,
          0.8472401112395295,
          1.2207634010547146
         ],
         "yaxis": "y10"
        },
        {
         "histfunc": "count",
         "histnorm": "",
         "marker": {
          "color": "rgba(50, 171, 96, 1.0)",
          "line": {
           "color": "#4D5663",
           "width": 1.3
          }
         },
         "name": "C",
         "nbinsx": 10,
         "opacity": 0.8,
         "orientation": "v",
         "type": "histogram",
         "x": [
          0.1278932982274251,
          0.469526366542482,
          0.9291157305619527,
          0.40515301402373227,
          -1.5917459182652245,
          -1.6087479397927258,
          -0.5570387118593482,
          -0.3856575796710698,
          -2.221265215686538,
          -1.4698983614317604,
          1.1101578499800526,
          1.20298102121073,
          1.6339949838778323,
          -0.8161349268770313,
          0.4086318618862779,
          0.5548671682358679,
          -0.8622972844801289,
          0.07420238916176017,
          1.2183453329644898,
          -0.43840660258582,
          0.026066256742456214,
          -0.5334597699614914,
          0.09585541774251581,
          -0.22421020286453433,
          0.9369320552280596,
          0.5834434373100259,
          -1.1208343483540346,
          0.13884025367902056,
          1.379645410176486,
          -0.07417256079840477,
          -0.6216238597953562,
          0.42888189651247,
          0.3863024099843034,
          0.5426895836527332,
          0.31183455778510777,
          0.8551152659797775,
          -0.684987395282973,
          -1.1042937457040396,
          0.44630887835629945,
          -0.39877908856139266,
          0.9082045840439279,
          -3.059937282040349,
          -0.8700884488547279,
          -1.2439391066155623,
          -0.5071833503978952,
          -1.3631721325649384,
          0.1762689702677328,
          0.01896212316534809,
          0.4861113474222137,
          -0.47507882066828727,
          -2.163976552435812,
          -1.3369360916803426,
          0.9555463582525008,
          0.5478215958353618,
          -1.550148463924115,
          0.09777736761534621,
          0.49809698309794304,
          2.1197745050252843,
          0.26532090420243143,
          0.1441676289676939,
          2.077895624197262,
          -0.5488116023037127,
          -1.0106472722871684,
          1.298870059790273,
          -1.671575504423239,
          0.15499851005456855,
          -0.7124810280268427,
          0.42265660233062474,
          1.7357294189479582,
          0.26789565009883254,
          -0.05074744701788411,
          -1.4810518836182012,
          -0.6923013736478622,
          -0.5945698124790019,
          0.1346244724399991,
          -1.620964897679958,
          -0.7014449789933306,
          0.018175619925601426,
          -1.0595724569809948,
          2.3463304985471694,
          0.9668510933465376,
          0.5663392993979611,
          -0.18929798704424658,
          -0.5714366717403916,
          0.07641390472011941,
          -0.8409107168770208,
          0.8957240591610679,
          0.12424912256042718,
          2.1813801025944093,
          -0.8890937268051208,
          -1.029360999908337,
          -0.6430186533409902,
          -1.534831852322848,
          0.9131832497391924,
          0.43930853643805096,
          -0.15724220539329795,
          0.03428453542891774,
          -1.9846351850878805,
          0.8472401112395295,
          1.2207634010547146
         ],
         "xaxis": "x11",
         "yaxis": "y11"
        },
        {
         "line": {
          "color": "rgba(128, 128, 128, 1.0)",
          "dash": "solid",
          "shape": "linear",
          "width": 1.3
         },
         "marker": {
          "size": 2,
          "symbol": "circle"
         },
         "mode": "markers",
         "name": "C",
         "text": "",
         "type": "scatter",
         "x": [
          -0.028510399408812684,
          -0.2152374060207564,
          -0.736269857263102,
          0.6665527074281203,
          -1.246728399972464,
          1.340667989919134,
          -1.0471663790440882,
          0.8789236728879228,
          1.053077821350125,
          -2.6922964628211328,
          0.5153815449777305,
          -0.45188161253693687,
          -0.16525616905463436,
          -0.32308235060525786,
          0.2547252667988607,
          -0.24142536539936815,
          -0.6967061398005917,
          -0.5579609655708553,
          -1.8975627460347138,
          -0.3106742451480492,
          0.5647468925542017,
          -1.8390906876682207,
          0.5024782051016055,
          -1.010495091526054,
          0.5640429908911149,
          -1.241677132603908,
          -0.0017070287949820322,
          -0.5093228119448819,
          -1.0279419517686692,
          -0.0545764346515223,
          0.5837884526490281,
          0.5626662553108567,
          1.8608098480121762,
          -0.06585068517167546,
          1.442976867868302,
          0.682709348420952,
          -1.6409432516230387,
          -0.47441501008977965,
          0.12974516547699164,
          -1.4193944105604102,
          1.657352340761615,
          0.03538348454454446,
          1.596382838054901,
          0.5735338559629584,
          0.5841464249454178,
          0.6951122289118309,
          0.874101307304708,
          1.498259688754301,
          -0.15446874865982127,
          -2.1762734867226032,
          0.5448320705208457,
          -1.359515862022141,
          1.9708090014911077,
          0.12713768523570698,
          -1.9268610890031166,
          1.028324034066464,
          -0.29276304289000443,
          1.2657066163347672,
          0.6673796467371418,
          -1.0549390903977722,
          2.060490057738359,
          0.26223822690847054,
          -0.5869442522463283,
          0.6563587052275585,
          0.14386324910450352,
          0.5801612338470067,
          0.4551325676186162,
          -0.22943429602133544,
          0.7069946788513863,
          -0.5676256997478115,
          -0.03270827209474627,
          0.04133883941573024,
          -0.24149818023389288,
          0.5357872422281069,
          -0.6792916549522737,
          0.5594507327926441,
          -0.38156097271475015,
          0.5885170583986777,
          -0.6862752498026115,
          -1.891567839323786,
          -0.22040717234407267,
          0.8237131180783998,
          -0.8879992836655693,
          1.0161663512655568,
          -0.5480073857279285,
          1.0127361558686385,
          0.6054562187829562,
          -1.7123344310161188,
          0.8806171293509081,
          0.2525034261009619,
          0.5401524018071866,
          1.08443737239866,
          -0.38839640889689603,
          0.8797833144873521,
          -0.3140066707250513,
          -0.4346176583346952,
          -0.6760623562815167,
          -0.21404529896102356,
          -0.31797288090625153,
          -0.3692768180146646
         ],
         "xaxis": "x12",
         "y": [
          0.1278932982274251,
          0.469526366542482,
          0.9291157305619527,
          0.40515301402373227,
          -1.5917459182652245,
          -1.6087479397927258,
          -0.5570387118593482,
          -0.3856575796710698,
          -2.221265215686538,
          -1.4698983614317604,
          1.1101578499800526,
          1.20298102121073,
          1.6339949838778323,
          -0.8161349268770313,
          0.4086318618862779,
          0.5548671682358679,
          -0.8622972844801289,
          0.07420238916176017,
          1.2183453329644898,
          -0.43840660258582,
          0.026066256742456214,
          -0.5334597699614914,
          0.09585541774251581,
          -0.22421020286453433,
          0.9369320552280596,
          0.5834434373100259,
          -1.1208343483540346,
          0.13884025367902056,
          1.379645410176486,
          -0.07417256079840477,
          -0.6216238597953562,
          0.42888189651247,
          0.3863024099843034,
          0.5426895836527332,
          0.31183455778510777,
          0.8551152659797775,
          -0.684987395282973,
          -1.1042937457040396,
          0.44630887835629945,
          -0.39877908856139266,
          0.9082045840439279,
          -3.059937282040349,
          -0.8700884488547279,
          -1.2439391066155623,
          -0.5071833503978952,
          -1.3631721325649384,
          0.1762689702677328,
          0.01896212316534809,
          0.4861113474222137,
          -0.47507882066828727,
          -2.163976552435812,
          -1.3369360916803426,
          0.9555463582525008,
          0.5478215958353618,
          -1.550148463924115,
          0.09777736761534621,
          0.49809698309794304,
          2.1197745050252843,
          0.26532090420243143,
          0.1441676289676939,
          2.077895624197262,
          -0.5488116023037127,
          -1.0106472722871684,
          1.298870059790273,
          -1.671575504423239,
          0.15499851005456855,
          -0.7124810280268427,
          0.42265660233062474,
          1.7357294189479582,
          0.26789565009883254,
          -0.05074744701788411,
          -1.4810518836182012,
          -0.6923013736478622,
          -0.5945698124790019,
          0.1346244724399991,
          -1.620964897679958,
          -0.7014449789933306,
          0.018175619925601426,
          -1.0595724569809948,
          2.3463304985471694,
          0.9668510933465376,
          0.5663392993979611,
          -0.18929798704424658,
          -0.5714366717403916,
          0.07641390472011941,
          -0.8409107168770208,
          0.8957240591610679,
          0.12424912256042718,
          2.1813801025944093,
          -0.8890937268051208,
          -1.029360999908337,
          -0.6430186533409902,
          -1.534831852322848,
          0.9131832497391924,
          0.43930853643805096,
          -0.15724220539329795,
          0.03428453542891774,
          -1.9846351850878805,
          0.8472401112395295,
          1.2207634010547146
         ],
         "yaxis": "y12"
        },
        {
         "line": {
          "color": "rgba(128, 128, 128, 1.0)",
          "dash": "solid",
          "shape": "linear",
          "width": 1.3
         },
         "marker": {
          "size": 2,
          "symbol": "circle"
         },
         "mode": "markers",
         "name": "D",
         "text": "",
         "type": "scatter",
         "x": [
          0.0736951981220984,
          0.10564450982575026,
          -1.1287694447333996,
          0.5804209406137681,
          -0.1975551948846452,
          0.1264092655386513,
          0.2705128014282348,
          1.1425313644674608,
          -0.0280792412700831,
          -0.6037165583522806,
          -0.6654841318855145,
          -1.9597696313373731,
          -1.0836549781822886,
          0.8471570960094061,
          -1.4615600928892374,
          -0.41078536958814904,
          -2.040699361169267,
          0.03962481326541074,
          0.5275072266760765,
          -0.2939643525656409,
          0.28928818085179875,
          1.0413465410746048,
          -1.1836578546572247,
          -0.9432476721762981,
          -0.8285532101291623,
          -0.4051234867711331,
          2.0230075514310504,
          0.24539260697434792,
          -0.63260779700234,
          -0.7209851109446794,
          -1.5488207454379541,
          -0.8946609686524443,
          -0.1560111806186542,
          0.17389857563037833,
          0.34740814171357554,
          1.2552555330233055,
          -1.0680286375215224,
          -0.4460336785120809,
          -0.1996834281899064,
          0.8924323239536869,
          0.4416882581368255,
          0.2508260886728522,
          -1.6456855994516686,
          0.7677774052108971,
          -0.9068972058860518,
          -0.9559144714011961,
          -0.187102476195743,
          1.1203398761012473,
          0.15400343406490505,
          -0.5716767762093942,
          0.5976009243300208,
          0.019204046059430244,
          0.0024198085521941032,
          1.784028158436303,
          -0.20428489651938,
          -1.4041165446986748,
          0.9323984369458973,
          -0.5792321434004235,
          -2.0574605006033773,
          2.0583283135948136,
          0.167330539255263,
          -0.019276383131392728,
          1.4073592874756022,
          0.9592641373019399,
          -0.7231633220254845,
          -0.3597844001060429,
          -1.1969527886841422,
          -0.8801864313510209,
          -0.5141408209575581,
          -0.7825125885524513,
          0.7313374148374697,
          0.5221236136962678,
          1.4226286857514743,
          1.4825898929007055,
          1.3502175382432609,
          -0.8734607406558281,
          0.49036406116569414,
          -0.2092285701075775,
          0.9907853107926903,
          0.5123736926600807,
          0.18562731086320133,
          0.11201148302314741,
          -1.3204449580069537,
          -1.0630589750114043,
          -0.04025987957865352,
          1.1620098202646922,
          -2.853232841408554,
          1.8238207602168894,
          -0.6531294969856558,
          -0.9313389600239237,
          -0.30879282255091245,
          -0.3056638243318225,
          -0.5476967922350982,
          -0.7754458161741501,
          1.2367277039729325,
          0.08827259124043836,
          0.148524136382813,
          -1.5636712919612268,
          -0.16549210257969663,
          0.21610877051097974
         ],
         "xaxis": "x13",
         "y": [
          -0.028510399408812684,
          -0.2152374060207564,
          -0.736269857263102,
          0.6665527074281203,
          -1.246728399972464,
          1.340667989919134,
          -1.0471663790440882,
          0.8789236728879228,
          1.053077821350125,
          -2.6922964628211328,
          0.5153815449777305,
          -0.45188161253693687,
          -0.16525616905463436,
          -0.32308235060525786,
          0.2547252667988607,
          -0.24142536539936815,
          -0.6967061398005917,
          -0.5579609655708553,
          -1.8975627460347138,
          -0.3106742451480492,
          0.5647468925542017,
          -1.8390906876682207,
          0.5024782051016055,
          -1.010495091526054,
          0.5640429908911149,
          -1.241677132603908,
          -0.0017070287949820322,
          -0.5093228119448819,
          -1.0279419517686692,
          -0.0545764346515223,
          0.5837884526490281,
          0.5626662553108567,
          1.8608098480121762,
          -0.06585068517167546,
          1.442976867868302,
          0.682709348420952,
          -1.6409432516230387,
          -0.47441501008977965,
          0.12974516547699164,
          -1.4193944105604102,
          1.657352340761615,
          0.03538348454454446,
          1.596382838054901,
          0.5735338559629584,
          0.5841464249454178,
          0.6951122289118309,
          0.874101307304708,
          1.498259688754301,
          -0.15446874865982127,
          -2.1762734867226032,
          0.5448320705208457,
          -1.359515862022141,
          1.9708090014911077,
          0.12713768523570698,
          -1.9268610890031166,
          1.028324034066464,
          -0.29276304289000443,
          1.2657066163347672,
          0.6673796467371418,
          -1.0549390903977722,
          2.060490057738359,
          0.26223822690847054,
          -0.5869442522463283,
          0.6563587052275585,
          0.14386324910450352,
          0.5801612338470067,
          0.4551325676186162,
          -0.22943429602133544,
          0.7069946788513863,
          -0.5676256997478115,
          -0.03270827209474627,
          0.04133883941573024,
          -0.24149818023389288,
          0.5357872422281069,
          -0.6792916549522737,
          0.5594507327926441,
          -0.38156097271475015,
          0.5885170583986777,
          -0.6862752498026115,
          -1.891567839323786,
          -0.22040717234407267,
          0.8237131180783998,
          -0.8879992836655693,
          1.0161663512655568,
          -0.5480073857279285,
          1.0127361558686385,
          0.6054562187829562,
          -1.7123344310161188,
          0.8806171293509081,
          0.2525034261009619,
          0.5401524018071866,
          1.08443737239866,
          -0.38839640889689603,
          0.8797833144873521,
          -0.3140066707250513,
          -0.4346176583346952,
          -0.6760623562815167,
          -0.21404529896102356,
          -0.31797288090625153,
          -0.3692768180146646
         ],
         "yaxis": "y13"
        },
        {
         "line": {
          "color": "rgba(128, 128, 128, 1.0)",
          "dash": "solid",
          "shape": "linear",
          "width": 1.3
         },
         "marker": {
          "size": 2,
          "symbol": "circle"
         },
         "mode": "markers",
         "name": "D",
         "text": "",
         "type": "scatter",
         "x": [
          0.8760632334770332,
          -0.6468852814860023,
          0.8463880807488549,
          -1.2486045806445114,
          0.5724518780888255,
          -0.5222352401518324,
          -0.9848639820820966,
          -1.172434871411764,
          -0.8998567452932995,
          -1.2796563113262798,
          -1.0480565656826892,
          -0.7634402829919783,
          1.5142055518437052,
          -1.6665767161291187,
          -0.03852048853563186,
          1.288301986016335,
          0.8328893246943083,
          1.1884783375293597,
          -0.344006079709632,
          0.05420622239569184,
          0.35614291823826333,
          -0.4251177572292302,
          -0.22119992788055953,
          -0.14388486839892725,
          -1.2901309732710033,
          1.0146604736907852,
          0.7320936884573455,
          -1.7023372292415306,
          -0.99830494317672,
          -1.4431123520848117,
          -1.3122709835767647,
          0.706659227847644,
          -0.26824366031343944,
          -0.537773843108674,
          0.5923198033966968,
          -0.5939754980108162,
          -1.8429067824553713,
          -1.630827733085515,
          1.9399034227472598,
          -1.0591735681626917,
          1.5417871098828368,
          0.011046675143945023,
          0.3676156017707326,
          -1.5191005828816142,
          -0.1867932057368553,
          -0.6953542088819678,
          -1.061523717386393,
          -1.635525405595693,
          1.271831465856645,
          0.3609749081277422,
          -0.4002786155440916,
          0.6349036683165985,
          -2.5085937439137402,
          0.2880263358078486,
          0.8233424851149163,
          1.4205334892581958,
          0.4042202557708223,
          0.7476270820089652,
          -0.5186637637058849,
          0.3383599270576156,
          0.8451776409075579,
          -0.25151697794483074,
          0.984125909044333,
          1.3375325230325705,
          -0.8324635804628554,
          -1.1563474953687112,
          -0.1623099218070929,
          0.17293006218943108,
          0.7792582364985289,
          -0.1617458745013657,
          0.7116848909522314,
          -0.6038785439652203,
          -2.0123878010301834,
          -0.9168735873139444,
          -0.17246519869176627,
          1.2130208387149017,
          1.834056203407502,
          0.02332111811513691,
          2.09391368645279,
          -0.4986945189622508,
          0.4942431022279809,
          0.3865218169769006,
          0.7644569069065226,
          1.8254559147171603,
          -0.4437851157118142,
          -0.7503594366043927,
          -0.31334366724654056,
          0.21073969489699934,
          -0.05636023614984949,
          -1.005982163864285,
          0.019568144859799623,
          -0.9677761425511624,
          1.7860590480146616,
          1.5026409498864475,
          0.2091060547287096,
          -0.5037908334274643,
          0.24140484190581732,
          -0.4311937741479804,
          0.4493686887025034,
          1.6091702365759928
         ],
         "xaxis": "x14",
         "y": [
          -0.028510399408812684,
          -0.2152374060207564,
          -0.736269857263102,
          0.6665527074281203,
          -1.246728399972464,
          1.340667989919134,
          -1.0471663790440882,
          0.8789236728879228,
          1.053077821350125,
          -2.6922964628211328,
          0.5153815449777305,
          -0.45188161253693687,
          -0.16525616905463436,
          -0.32308235060525786,
          0.2547252667988607,
          -0.24142536539936815,
          -0.6967061398005917,
          -0.5579609655708553,
          -1.8975627460347138,
          -0.3106742451480492,
          0.5647468925542017,
          -1.8390906876682207,
          0.5024782051016055,
          -1.010495091526054,
          0.5640429908911149,
          -1.241677132603908,
          -0.0017070287949820322,
          -0.5093228119448819,
          -1.0279419517686692,
          -0.0545764346515223,
          0.5837884526490281,
          0.5626662553108567,
          1.8608098480121762,
          -0.06585068517167546,
          1.442976867868302,
          0.682709348420952,
          -1.6409432516230387,
          -0.47441501008977965,
          0.12974516547699164,
          -1.4193944105604102,
          1.657352340761615,
          0.03538348454454446,
          1.596382838054901,
          0.5735338559629584,
          0.5841464249454178,
          0.6951122289118309,
          0.874101307304708,
          1.498259688754301,
          -0.15446874865982127,
          -2.1762734867226032,
          0.5448320705208457,
          -1.359515862022141,
          1.9708090014911077,
          0.12713768523570698,
          -1.9268610890031166,
          1.028324034066464,
          -0.29276304289000443,
          1.2657066163347672,
          0.6673796467371418,
          -1.0549390903977722,
          2.060490057738359,
          0.26223822690847054,
          -0.5869442522463283,
          0.6563587052275585,
          0.14386324910450352,
          0.5801612338470067,
          0.4551325676186162,
          -0.22943429602133544,
          0.7069946788513863,
          -0.5676256997478115,
          -0.03270827209474627,
          0.04133883941573024,
          -0.24149818023389288,
          0.5357872422281069,
          -0.6792916549522737,
          0.5594507327926441,
          -0.38156097271475015,
          0.5885170583986777,
          -0.6862752498026115,
          -1.891567839323786,
          -0.22040717234407267,
          0.8237131180783998,
          -0.8879992836655693,
          1.0161663512655568,
          -0.5480073857279285,
          1.0127361558686385,
          0.6054562187829562,
          -1.7123344310161188,
          0.8806171293509081,
          0.2525034261009619,
          0.5401524018071866,
          1.08443737239866,
          -0.38839640889689603,
          0.8797833144873521,
          -0.3140066707250513,
          -0.4346176583346952,
          -0.6760623562815167,
          -0.21404529896102356,
          -0.31797288090625153,
          -0.3692768180146646
         ],
         "yaxis": "y14"
        },
        {
         "line": {
          "color": "rgba(128, 128, 128, 1.0)",
          "dash": "solid",
          "shape": "linear",
          "width": 1.3
         },
         "marker": {
          "size": 2,
          "symbol": "circle"
         },
         "mode": "markers",
         "name": "D",
         "text": "",
         "type": "scatter",
         "x": [
          0.1278932982274251,
          0.469526366542482,
          0.9291157305619527,
          0.40515301402373227,
          -1.5917459182652245,
          -1.6087479397927258,
          -0.5570387118593482,
          -0.3856575796710698,
          -2.221265215686538,
          -1.4698983614317604,
          1.1101578499800526,
          1.20298102121073,
          1.6339949838778323,
          -0.8161349268770313,
          0.4086318618862779,
          0.5548671682358679,
          -0.8622972844801289,
          0.07420238916176017,
          1.2183453329644898,
          -0.43840660258582,
          0.026066256742456214,
          -0.5334597699614914,
          0.09585541774251581,
          -0.22421020286453433,
          0.9369320552280596,
          0.5834434373100259,
          -1.1208343483540346,
          0.13884025367902056,
          1.379645410176486,
          -0.07417256079840477,
          -0.6216238597953562,
          0.42888189651247,
          0.3863024099843034,
          0.5426895836527332,
          0.31183455778510777,
          0.8551152659797775,
          -0.684987395282973,
          -1.1042937457040396,
          0.44630887835629945,
          -0.39877908856139266,
          0.9082045840439279,
          -3.059937282040349,
          -0.8700884488547279,
          -1.2439391066155623,
          -0.5071833503978952,
          -1.3631721325649384,
          0.1762689702677328,
          0.01896212316534809,
          0.4861113474222137,
          -0.47507882066828727,
          -2.163976552435812,
          -1.3369360916803426,
          0.9555463582525008,
          0.5478215958353618,
          -1.550148463924115,
          0.09777736761534621,
          0.49809698309794304,
          2.1197745050252843,
          0.26532090420243143,
          0.1441676289676939,
          2.077895624197262,
          -0.5488116023037127,
          -1.0106472722871684,
          1.298870059790273,
          -1.671575504423239,
          0.15499851005456855,
          -0.7124810280268427,
          0.42265660233062474,
          1.7357294189479582,
          0.26789565009883254,
          -0.05074744701788411,
          -1.4810518836182012,
          -0.6923013736478622,
          -0.5945698124790019,
          0.1346244724399991,
          -1.620964897679958,
          -0.7014449789933306,
          0.018175619925601426,
          -1.0595724569809948,
          2.3463304985471694,
          0.9668510933465376,
          0.5663392993979611,
          -0.18929798704424658,
          -0.5714366717403916,
          0.07641390472011941,
          -0.8409107168770208,
          0.8957240591610679,
          0.12424912256042718,
          2.1813801025944093,
          -0.8890937268051208,
          -1.029360999908337,
          -0.6430186533409902,
          -1.534831852322848,
          0.9131832497391924,
          0.43930853643805096,
          -0.15724220539329795,
          0.03428453542891774,
          -1.9846351850878805,
          0.8472401112395295,
          1.2207634010547146
         ],
         "xaxis": "x15",
         "y": [
          -0.028510399408812684,
          -0.2152374060207564,
          -0.736269857263102,
          0.6665527074281203,
          -1.246728399972464,
          1.340667989919134,
          -1.0471663790440882,
          0.8789236728879228,
          1.053077821350125,
          -2.6922964628211328,
          0.5153815449777305,
          -0.45188161253693687,
          -0.16525616905463436,
          -0.32308235060525786,
          0.2547252667988607,
          -0.24142536539936815,
          -0.6967061398005917,
          -0.5579609655708553,
          -1.8975627460347138,
          -0.3106742451480492,
          0.5647468925542017,
          -1.8390906876682207,
          0.5024782051016055,
          -1.010495091526054,
          0.5640429908911149,
          -1.241677132603908,
          -0.0017070287949820322,
          -0.5093228119448819,
          -1.0279419517686692,
          -0.0545764346515223,
          0.5837884526490281,
          0.5626662553108567,
          1.8608098480121762,
          -0.06585068517167546,
          1.442976867868302,
          0.682709348420952,
          -1.6409432516230387,
          -0.47441501008977965,
          0.12974516547699164,
          -1.4193944105604102,
          1.657352340761615,
          0.03538348454454446,
          1.596382838054901,
          0.5735338559629584,
          0.5841464249454178,
          0.6951122289118309,
          0.874101307304708,
          1.498259688754301,
          -0.15446874865982127,
          -2.1762734867226032,
          0.5448320705208457,
          -1.359515862022141,
          1.9708090014911077,
          0.12713768523570698,
          -1.9268610890031166,
          1.028324034066464,
          -0.29276304289000443,
          1.2657066163347672,
          0.6673796467371418,
          -1.0549390903977722,
          2.060490057738359,
          0.26223822690847054,
          -0.5869442522463283,
          0.6563587052275585,
          0.14386324910450352,
          0.5801612338470067,
          0.4551325676186162,
          -0.22943429602133544,
          0.7069946788513863,
          -0.5676256997478115,
          -0.03270827209474627,
          0.04133883941573024,
          -0.24149818023389288,
          0.5357872422281069,
          -0.6792916549522737,
          0.5594507327926441,
          -0.38156097271475015,
          0.5885170583986777,
          -0.6862752498026115,
          -1.891567839323786,
          -0.22040717234407267,
          0.8237131180783998,
          -0.8879992836655693,
          1.0161663512655568,
          -0.5480073857279285,
          1.0127361558686385,
          0.6054562187829562,
          -1.7123344310161188,
          0.8806171293509081,
          0.2525034261009619,
          0.5401524018071866,
          1.08443737239866,
          -0.38839640889689603,
          0.8797833144873521,
          -0.3140066707250513,
          -0.4346176583346952,
          -0.6760623562815167,
          -0.21404529896102356,
          -0.31797288090625153,
          -0.3692768180146646
         ],
         "yaxis": "y15"
        },
        {
         "histfunc": "count",
         "histnorm": "",
         "marker": {
          "color": "rgba(128, 0, 128, 1.0)",
          "line": {
           "color": "#4D5663",
           "width": 1.3
          }
         },
         "name": "D",
         "nbinsx": 10,
         "opacity": 0.8,
         "orientation": "v",
         "type": "histogram",
         "x": [
          -0.028510399408812684,
          -0.2152374060207564,
          -0.736269857263102,
          0.6665527074281203,
          -1.246728399972464,
          1.340667989919134,
          -1.0471663790440882,
          0.8789236728879228,
          1.053077821350125,
          -2.6922964628211328,
          0.5153815449777305,
          -0.45188161253693687,
          -0.16525616905463436,
          -0.32308235060525786,
          0.2547252667988607,
          -0.24142536539936815,
          -0.6967061398005917,
          -0.5579609655708553,
          -1.8975627460347138,
          -0.3106742451480492,
          0.5647468925542017,
          -1.8390906876682207,
          0.5024782051016055,
          -1.010495091526054,
          0.5640429908911149,
          -1.241677132603908,
          -0.0017070287949820322,
          -0.5093228119448819,
          -1.0279419517686692,
          -0.0545764346515223,
          0.5837884526490281,
          0.5626662553108567,
          1.8608098480121762,
          -0.06585068517167546,
          1.442976867868302,
          0.682709348420952,
          -1.6409432516230387,
          -0.47441501008977965,
          0.12974516547699164,
          -1.4193944105604102,
          1.657352340761615,
          0.03538348454454446,
          1.596382838054901,
          0.5735338559629584,
          0.5841464249454178,
          0.6951122289118309,
          0.874101307304708,
          1.498259688754301,
          -0.15446874865982127,
          -2.1762734867226032,
          0.5448320705208457,
          -1.359515862022141,
          1.9708090014911077,
          0.12713768523570698,
          -1.9268610890031166,
          1.028324034066464,
          -0.29276304289000443,
          1.2657066163347672,
          0.6673796467371418,
          -1.0549390903977722,
          2.060490057738359,
          0.26223822690847054,
          -0.5869442522463283,
          0.6563587052275585,
          0.14386324910450352,
          0.5801612338470067,
          0.4551325676186162,
          -0.22943429602133544,
          0.7069946788513863,
          -0.5676256997478115,
          -0.03270827209474627,
          0.04133883941573024,
          -0.24149818023389288,
          0.5357872422281069,
          -0.6792916549522737,
          0.5594507327926441,
          -0.38156097271475015,
          0.5885170583986777,
          -0.6862752498026115,
          -1.891567839323786,
          -0.22040717234407267,
          0.8237131180783998,
          -0.8879992836655693,
          1.0161663512655568,
          -0.5480073857279285,
          1.0127361558686385,
          0.6054562187829562,
          -1.7123344310161188,
          0.8806171293509081,
          0.2525034261009619,
          0.5401524018071866,
          1.08443737239866,
          -0.38839640889689603,
          0.8797833144873521,
          -0.3140066707250513,
          -0.4346176583346952,
          -0.6760623562815167,
          -0.21404529896102356,
          -0.31797288090625153,
          -0.3692768180146646
         ],
         "xaxis": "x16",
         "yaxis": "y16"
        }
       ],
       "layout": {
        "bargap": 0.02,
        "legend": {
         "bgcolor": "#F5F6F9",
         "font": {
          "color": "#4D5663"
         }
        },
        "paper_bgcolor": "#F5F6F9",
        "plot_bgcolor": "#F5F6F9",
        "showlegend": false,
        "template": {
         "data": {
          "bar": [
           {
            "error_x": {
             "color": "#2a3f5f"
            },
            "error_y": {
             "color": "#2a3f5f"
            },
            "marker": {
             "line": {
              "color": "#E5ECF6",
              "width": 0.5
             }
            },
            "type": "bar"
           }
          ],
          "barpolar": [
           {
            "marker": {
             "line": {
              "color": "#E5ECF6",
              "width": 0.5
             }
            },
            "type": "barpolar"
           }
          ],
          "carpet": [
           {
            "aaxis": {
             "endlinecolor": "#2a3f5f",
             "gridcolor": "white",
             "linecolor": "white",
             "minorgridcolor": "white",
             "startlinecolor": "#2a3f5f"
            },
            "baxis": {
             "endlinecolor": "#2a3f5f",
             "gridcolor": "white",
             "linecolor": "white",
             "minorgridcolor": "white",
             "startlinecolor": "#2a3f5f"
            },
            "type": "carpet"
           }
          ],
          "choropleth": [
           {
            "colorbar": {
             "outlinewidth": 0,
             "ticks": ""
            },
            "type": "choropleth"
           }
          ],
          "contour": [
           {
            "colorbar": {
             "outlinewidth": 0,
             "ticks": ""
            },
            "colorscale": [
             [
              0,
              "#0d0887"
             ],
             [
              0.1111111111111111,
              "#46039f"
             ],
             [
              0.2222222222222222,
              "#7201a8"
             ],
             [
              0.3333333333333333,
              "#9c179e"
             ],
             [
              0.4444444444444444,
              "#bd3786"
             ],
             [
              0.5555555555555556,
              "#d8576b"
             ],
             [
              0.6666666666666666,
              "#ed7953"
             ],
             [
              0.7777777777777778,
              "#fb9f3a"
             ],
             [
              0.8888888888888888,
              "#fdca26"
             ],
             [
              1,
              "#f0f921"
             ]
            ],
            "type": "contour"
           }
          ],
          "contourcarpet": [
           {
            "colorbar": {
             "outlinewidth": 0,
             "ticks": ""
            },
            "type": "contourcarpet"
           }
          ],
          "heatmap": [
           {
            "colorbar": {
             "outlinewidth": 0,
             "ticks": ""
            },
            "colorscale": [
             [
              0,
              "#0d0887"
             ],
             [
              0.1111111111111111,
              "#46039f"
             ],
             [
              0.2222222222222222,
              "#7201a8"
             ],
             [
              0.3333333333333333,
              "#9c179e"
             ],
             [
              0.4444444444444444,
              "#bd3786"
             ],
             [
              0.5555555555555556,
              "#d8576b"
             ],
             [
              0.6666666666666666,
              "#ed7953"
             ],
             [
              0.7777777777777778,
              "#fb9f3a"
             ],
             [
              0.8888888888888888,
              "#fdca26"
             ],
             [
              1,
              "#f0f921"
             ]
            ],
            "type": "heatmap"
           }
          ],
          "heatmapgl": [
           {
            "colorbar": {
             "outlinewidth": 0,
             "ticks": ""
            },
            "colorscale": [
             [
              0,
              "#0d0887"
             ],
             [
              0.1111111111111111,
              "#46039f"
             ],
             [
              0.2222222222222222,
              "#7201a8"
             ],
             [
              0.3333333333333333,
              "#9c179e"
             ],
             [
              0.4444444444444444,
              "#bd3786"
             ],
             [
              0.5555555555555556,
              "#d8576b"
             ],
             [
              0.6666666666666666,
              "#ed7953"
             ],
             [
              0.7777777777777778,
              "#fb9f3a"
             ],
             [
              0.8888888888888888,
              "#fdca26"
             ],
             [
              1,
              "#f0f921"
             ]
            ],
            "type": "heatmapgl"
           }
          ],
          "histogram": [
           {
            "marker": {
             "colorbar": {
              "outlinewidth": 0,
              "ticks": ""
             }
            },
            "type": "histogram"
           }
          ],
          "histogram2d": [
           {
            "colorbar": {
             "outlinewidth": 0,
             "ticks": ""
            },
            "colorscale": [
             [
              0,
              "#0d0887"
             ],
             [
              0.1111111111111111,
              "#46039f"
             ],
             [
              0.2222222222222222,
              "#7201a8"
             ],
             [
              0.3333333333333333,
              "#9c179e"
             ],
             [
              0.4444444444444444,
              "#bd3786"
             ],
             [
              0.5555555555555556,
              "#d8576b"
             ],
             [
              0.6666666666666666,
              "#ed7953"
             ],
             [
              0.7777777777777778,
              "#fb9f3a"
             ],
             [
              0.8888888888888888,
              "#fdca26"
             ],
             [
              1,
              "#f0f921"
             ]
            ],
            "type": "histogram2d"
           }
          ],
          "histogram2dcontour": [
           {
            "colorbar": {
             "outlinewidth": 0,
             "ticks": ""
            },
            "colorscale": [
             [
              0,
              "#0d0887"
             ],
             [
              0.1111111111111111,
              "#46039f"
             ],
             [
              0.2222222222222222,
              "#7201a8"
             ],
             [
              0.3333333333333333,
              "#9c179e"
             ],
             [
              0.4444444444444444,
              "#bd3786"
             ],
             [
              0.5555555555555556,
              "#d8576b"
             ],
             [
              0.6666666666666666,
              "#ed7953"
             ],
             [
              0.7777777777777778,
              "#fb9f3a"
             ],
             [
              0.8888888888888888,
              "#fdca26"
             ],
             [
              1,
              "#f0f921"
             ]
            ],
            "type": "histogram2dcontour"
           }
          ],
          "mesh3d": [
           {
            "colorbar": {
             "outlinewidth": 0,
             "ticks": ""
            },
            "type": "mesh3d"
           }
          ],
          "parcoords": [
           {
            "line": {
             "colorbar": {
              "outlinewidth": 0,
              "ticks": ""
             }
            },
            "type": "parcoords"
           }
          ],
          "pie": [
           {
            "automargin": true,
            "type": "pie"
           }
          ],
          "scatter": [
           {
            "marker": {
             "colorbar": {
              "outlinewidth": 0,
              "ticks": ""
             }
            },
            "type": "scatter"
           }
          ],
          "scatter3d": [
           {
            "line": {
             "colorbar": {
              "outlinewidth": 0,
              "ticks": ""
             }
            },
            "marker": {
             "colorbar": {
              "outlinewidth": 0,
              "ticks": ""
             }
            },
            "type": "scatter3d"
           }
          ],
          "scattercarpet": [
           {
            "marker": {
             "colorbar": {
              "outlinewidth": 0,
              "ticks": ""
             }
            },
            "type": "scattercarpet"
           }
          ],
          "scattergeo": [
           {
            "marker": {
             "colorbar": {
              "outlinewidth": 0,
              "ticks": ""
             }
            },
            "type": "scattergeo"
           }
          ],
          "scattergl": [
           {
            "marker": {
             "colorbar": {
              "outlinewidth": 0,
              "ticks": ""
             }
            },
            "type": "scattergl"
           }
          ],
          "scattermapbox": [
           {
            "marker": {
             "colorbar": {
              "outlinewidth": 0,
              "ticks": ""
             }
            },
            "type": "scattermapbox"
           }
          ],
          "scatterpolar": [
           {
            "marker": {
             "colorbar": {
              "outlinewidth": 0,
              "ticks": ""
             }
            },
            "type": "scatterpolar"
           }
          ],
          "scatterpolargl": [
           {
            "marker": {
             "colorbar": {
              "outlinewidth": 0,
              "ticks": ""
             }
            },
            "type": "scatterpolargl"
           }
          ],
          "scatterternary": [
           {
            "marker": {
             "colorbar": {
              "outlinewidth": 0,
              "ticks": ""
             }
            },
            "type": "scatterternary"
           }
          ],
          "surface": [
           {
            "colorbar": {
             "outlinewidth": 0,
             "ticks": ""
            },
            "colorscale": [
             [
              0,
              "#0d0887"
             ],
             [
              0.1111111111111111,
              "#46039f"
             ],
             [
              0.2222222222222222,
              "#7201a8"
             ],
             [
              0.3333333333333333,
              "#9c179e"
             ],
             [
              0.4444444444444444,
              "#bd3786"
             ],
             [
              0.5555555555555556,
              "#d8576b"
             ],
             [
              0.6666666666666666,
              "#ed7953"
             ],
             [
              0.7777777777777778,
              "#fb9f3a"
             ],
             [
              0.8888888888888888,
              "#fdca26"
             ],
             [
              1,
              "#f0f921"
             ]
            ],
            "type": "surface"
           }
          ],
          "table": [
           {
            "cells": {
             "fill": {
              "color": "#EBF0F8"
             },
             "line": {
              "color": "white"
             }
            },
            "header": {
             "fill": {
              "color": "#C8D4E3"
             },
             "line": {
              "color": "white"
             }
            },
            "type": "table"
           }
          ]
         },
         "layout": {
          "annotationdefaults": {
           "arrowcolor": "#2a3f5f",
           "arrowhead": 0,
           "arrowwidth": 1
          },
          "autotypenumbers": "strict",
          "coloraxis": {
           "colorbar": {
            "outlinewidth": 0,
            "ticks": ""
           }
          },
          "colorscale": {
           "diverging": [
            [
             0,
             "#8e0152"
            ],
            [
             0.1,
             "#c51b7d"
            ],
            [
             0.2,
             "#de77ae"
            ],
            [
             0.3,
             "#f1b6da"
            ],
            [
             0.4,
             "#fde0ef"
            ],
            [
             0.5,
             "#f7f7f7"
            ],
            [
             0.6,
             "#e6f5d0"
            ],
            [
             0.7,
             "#b8e186"
            ],
            [
             0.8,
             "#7fbc41"
            ],
            [
             0.9,
             "#4d9221"
            ],
            [
             1,
             "#276419"
            ]
           ],
           "sequential": [
            [
             0,
             "#0d0887"
            ],
            [
             0.1111111111111111,
             "#46039f"
            ],
            [
             0.2222222222222222,
             "#7201a8"
            ],
            [
             0.3333333333333333,
             "#9c179e"
            ],
            [
             0.4444444444444444,
             "#bd3786"
            ],
            [
             0.5555555555555556,
             "#d8576b"
            ],
            [
             0.6666666666666666,
             "#ed7953"
            ],
            [
             0.7777777777777778,
             "#fb9f3a"
            ],
            [
             0.8888888888888888,
             "#fdca26"
            ],
            [
             1,
             "#f0f921"
            ]
           ],
           "sequentialminus": [
            [
             0,
             "#0d0887"
            ],
            [
             0.1111111111111111,
             "#46039f"
            ],
            [
             0.2222222222222222,
             "#7201a8"
            ],
            [
             0.3333333333333333,
             "#9c179e"
            ],
            [
             0.4444444444444444,
             "#bd3786"
            ],
            [
             0.5555555555555556,
             "#d8576b"
            ],
            [
             0.6666666666666666,
             "#ed7953"
            ],
            [
             0.7777777777777778,
             "#fb9f3a"
            ],
            [
             0.8888888888888888,
             "#fdca26"
            ],
            [
             1,
             "#f0f921"
            ]
           ]
          },
          "colorway": [
           "#636efa",
           "#EF553B",
           "#00cc96",
           "#ab63fa",
           "#FFA15A",
           "#19d3f3",
           "#FF6692",
           "#B6E880",
           "#FF97FF",
           "#FECB52"
          ],
          "font": {
           "color": "#2a3f5f"
          },
          "geo": {
           "bgcolor": "white",
           "lakecolor": "white",
           "landcolor": "#E5ECF6",
           "showlakes": true,
           "showland": true,
           "subunitcolor": "white"
          },
          "hoverlabel": {
           "align": "left"
          },
          "hovermode": "closest",
          "mapbox": {
           "style": "light"
          },
          "paper_bgcolor": "white",
          "plot_bgcolor": "#E5ECF6",
          "polar": {
           "angularaxis": {
            "gridcolor": "white",
            "linecolor": "white",
            "ticks": ""
           },
           "bgcolor": "#E5ECF6",
           "radialaxis": {
            "gridcolor": "white",
            "linecolor": "white",
            "ticks": ""
           }
          },
          "scene": {
           "xaxis": {
            "backgroundcolor": "#E5ECF6",
            "gridcolor": "white",
            "gridwidth": 2,
            "linecolor": "white",
            "showbackground": true,
            "ticks": "",
            "zerolinecolor": "white"
           },
           "yaxis": {
            "backgroundcolor": "#E5ECF6",
            "gridcolor": "white",
            "gridwidth": 2,
            "linecolor": "white",
            "showbackground": true,
            "ticks": "",
            "zerolinecolor": "white"
           },
           "zaxis": {
            "backgroundcolor": "#E5ECF6",
            "gridcolor": "white",
            "gridwidth": 2,
            "linecolor": "white",
            "showbackground": true,
            "ticks": "",
            "zerolinecolor": "white"
           }
          },
          "shapedefaults": {
           "line": {
            "color": "#2a3f5f"
           }
          },
          "ternary": {
           "aaxis": {
            "gridcolor": "white",
            "linecolor": "white",
            "ticks": ""
           },
           "baxis": {
            "gridcolor": "white",
            "linecolor": "white",
            "ticks": ""
           },
           "bgcolor": "#E5ECF6",
           "caxis": {
            "gridcolor": "white",
            "linecolor": "white",
            "ticks": ""
           }
          },
          "title": {
           "x": 0.05
          },
          "xaxis": {
           "automargin": true,
           "gridcolor": "white",
           "linecolor": "white",
           "ticks": "",
           "title": {
            "standoff": 15
           },
           "zerolinecolor": "white",
           "zerolinewidth": 2
          },
          "yaxis": {
           "automargin": true,
           "gridcolor": "white",
           "linecolor": "white",
           "ticks": "",
           "title": {
            "standoff": 15
           },
           "zerolinecolor": "white",
           "zerolinewidth": 2
          }
         }
        },
        "title": {
         "font": {
          "color": "#4D5663"
         }
        },
        "xaxis": {
         "anchor": "y",
         "domain": [
          0,
          0.2125
         ],
         "gridcolor": "#E1E5ED",
         "showgrid": false,
         "tickfont": {
          "color": "#4D5663"
         },
         "title": {
          "font": {
           "color": "#4D5663"
          },
          "text": ""
         },
         "zerolinecolor": "#E1E5ED"
        },
        "xaxis10": {
         "anchor": "y10",
         "domain": [
          0.2625,
          0.475
         ],
         "gridcolor": "#E1E5ED",
         "showgrid": false,
         "tickfont": {
          "color": "#4D5663"
         },
         "title": {
          "font": {
           "color": "#4D5663"
          },
          "text": ""
         },
         "zerolinecolor": "#E1E5ED"
        },
        "xaxis11": {
         "anchor": "y11",
         "domain": [
          0.525,
          0.7375
         ],
         "gridcolor": "#E1E5ED",
         "showgrid": false,
         "tickfont": {
          "color": "#4D5663"
         },
         "title": {
          "font": {
           "color": "#4D5663"
          },
          "text": ""
         },
         "zerolinecolor": "#E1E5ED"
        },
        "xaxis12": {
         "anchor": "y12",
         "domain": [
          0.7875,
          1
         ],
         "gridcolor": "#E1E5ED",
         "showgrid": false,
         "tickfont": {
          "color": "#4D5663"
         },
         "title": {
          "font": {
           "color": "#4D5663"
          },
          "text": ""
         },
         "zerolinecolor": "#E1E5ED"
        },
        "xaxis13": {
         "anchor": "y13",
         "domain": [
          0,
          0.2125
         ],
         "gridcolor": "#E1E5ED",
         "showgrid": false,
         "tickfont": {
          "color": "#4D5663"
         },
         "title": {
          "font": {
           "color": "#4D5663"
          },
          "text": ""
         },
         "zerolinecolor": "#E1E5ED"
        },
        "xaxis14": {
         "anchor": "y14",
         "domain": [
          0.2625,
          0.475
         ],
         "gridcolor": "#E1E5ED",
         "showgrid": false,
         "tickfont": {
          "color": "#4D5663"
         },
         "title": {
          "font": {
           "color": "#4D5663"
          },
          "text": ""
         },
         "zerolinecolor": "#E1E5ED"
        },
        "xaxis15": {
         "anchor": "y15",
         "domain": [
          0.525,
          0.7375
         ],
         "gridcolor": "#E1E5ED",
         "showgrid": false,
         "tickfont": {
          "color": "#4D5663"
         },
         "title": {
          "font": {
           "color": "#4D5663"
          },
          "text": ""
         },
         "zerolinecolor": "#E1E5ED"
        },
        "xaxis16": {
         "anchor": "y16",
         "domain": [
          0.7875,
          1
         ],
         "gridcolor": "#E1E5ED",
         "showgrid": false,
         "tickfont": {
          "color": "#4D5663"
         },
         "title": {
          "font": {
           "color": "#4D5663"
          },
          "text": ""
         },
         "zerolinecolor": "#E1E5ED"
        },
        "xaxis2": {
         "anchor": "y2",
         "domain": [
          0.2625,
          0.475
         ],
         "gridcolor": "#E1E5ED",
         "showgrid": false,
         "tickfont": {
          "color": "#4D5663"
         },
         "title": {
          "font": {
           "color": "#4D5663"
          },
          "text": ""
         },
         "zerolinecolor": "#E1E5ED"
        },
        "xaxis3": {
         "anchor": "y3",
         "domain": [
          0.525,
          0.7375
         ],
         "gridcolor": "#E1E5ED",
         "showgrid": false,
         "tickfont": {
          "color": "#4D5663"
         },
         "title": {
          "font": {
           "color": "#4D5663"
          },
          "text": ""
         },
         "zerolinecolor": "#E1E5ED"
        },
        "xaxis4": {
         "anchor": "y4",
         "domain": [
          0.7875,
          1
         ],
         "gridcolor": "#E1E5ED",
         "showgrid": false,
         "tickfont": {
          "color": "#4D5663"
         },
         "title": {
          "font": {
           "color": "#4D5663"
          },
          "text": ""
         },
         "zerolinecolor": "#E1E5ED"
        },
        "xaxis5": {
         "anchor": "y5",
         "domain": [
          0,
          0.2125
         ],
         "gridcolor": "#E1E5ED",
         "showgrid": false,
         "tickfont": {
          "color": "#4D5663"
         },
         "title": {
          "font": {
           "color": "#4D5663"
          },
          "text": ""
         },
         "zerolinecolor": "#E1E5ED"
        },
        "xaxis6": {
         "anchor": "y6",
         "domain": [
          0.2625,
          0.475
         ],
         "gridcolor": "#E1E5ED",
         "showgrid": false,
         "tickfont": {
          "color": "#4D5663"
         },
         "title": {
          "font": {
           "color": "#4D5663"
          },
          "text": ""
         },
         "zerolinecolor": "#E1E5ED"
        },
        "xaxis7": {
         "anchor": "y7",
         "domain": [
          0.525,
          0.7375
         ],
         "gridcolor": "#E1E5ED",
         "showgrid": false,
         "tickfont": {
          "color": "#4D5663"
         },
         "title": {
          "font": {
           "color": "#4D5663"
          },
          "text": ""
         },
         "zerolinecolor": "#E1E5ED"
        },
        "xaxis8": {
         "anchor": "y8",
         "domain": [
          0.7875,
          1
         ],
         "gridcolor": "#E1E5ED",
         "showgrid": false,
         "tickfont": {
          "color": "#4D5663"
         },
         "title": {
          "font": {
           "color": "#4D5663"
          },
          "text": ""
         },
         "zerolinecolor": "#E1E5ED"
        },
        "xaxis9": {
         "anchor": "y9",
         "domain": [
          0,
          0.2125
         ],
         "gridcolor": "#E1E5ED",
         "showgrid": false,
         "tickfont": {
          "color": "#4D5663"
         },
         "title": {
          "font": {
           "color": "#4D5663"
          },
          "text": ""
         },
         "zerolinecolor": "#E1E5ED"
        },
        "yaxis": {
         "anchor": "x",
         "domain": [
          0.8025,
          1
         ],
         "gridcolor": "#E1E5ED",
         "showgrid": false,
         "tickfont": {
          "color": "#4D5663"
         },
         "title": {
          "font": {
           "color": "#4D5663"
          },
          "text": ""
         },
         "zerolinecolor": "#E1E5ED"
        },
        "yaxis10": {
         "anchor": "x10",
         "domain": [
          0.2675,
          0.465
         ],
         "gridcolor": "#E1E5ED",
         "showgrid": false,
         "tickfont": {
          "color": "#4D5663"
         },
         "title": {
          "font": {
           "color": "#4D5663"
          },
          "text": ""
         },
         "zerolinecolor": "#E1E5ED"
        },
        "yaxis11": {
         "anchor": "x11",
         "domain": [
          0.2675,
          0.465
         ],
         "gridcolor": "#E1E5ED",
         "showgrid": false,
         "tickfont": {
          "color": "#4D5663"
         },
         "title": {
          "font": {
           "color": "#4D5663"
          },
          "text": ""
         },
         "zerolinecolor": "#E1E5ED"
        },
        "yaxis12": {
         "anchor": "x12",
         "domain": [
          0.2675,
          0.465
         ],
         "gridcolor": "#E1E5ED",
         "showgrid": false,
         "tickfont": {
          "color": "#4D5663"
         },
         "title": {
          "font": {
           "color": "#4D5663"
          },
          "text": ""
         },
         "zerolinecolor": "#E1E5ED"
        },
        "yaxis13": {
         "anchor": "x13",
         "domain": [
          0,
          0.1975
         ],
         "gridcolor": "#E1E5ED",
         "showgrid": false,
         "tickfont": {
          "color": "#4D5663"
         },
         "title": {
          "font": {
           "color": "#4D5663"
          },
          "text": ""
         },
         "zerolinecolor": "#E1E5ED"
        },
        "yaxis14": {
         "anchor": "x14",
         "domain": [
          0,
          0.1975
         ],
         "gridcolor": "#E1E5ED",
         "showgrid": false,
         "tickfont": {
          "color": "#4D5663"
         },
         "title": {
          "font": {
           "color": "#4D5663"
          },
          "text": ""
         },
         "zerolinecolor": "#E1E5ED"
        },
        "yaxis15": {
         "anchor": "x15",
         "domain": [
          0,
          0.1975
         ],
         "gridcolor": "#E1E5ED",
         "showgrid": false,
         "tickfont": {
          "color": "#4D5663"
         },
         "title": {
          "font": {
           "color": "#4D5663"
          },
          "text": ""
         },
         "zerolinecolor": "#E1E5ED"
        },
        "yaxis16": {
         "anchor": "x16",
         "domain": [
          0,
          0.1975
         ],
         "gridcolor": "#E1E5ED",
         "showgrid": false,
         "tickfont": {
          "color": "#4D5663"
         },
         "title": {
          "font": {
           "color": "#4D5663"
          },
          "text": ""
         },
         "zerolinecolor": "#E1E5ED"
        },
        "yaxis2": {
         "anchor": "x2",
         "domain": [
          0.8025,
          1
         ],
         "gridcolor": "#E1E5ED",
         "showgrid": false,
         "tickfont": {
          "color": "#4D5663"
         },
         "title": {
          "font": {
           "color": "#4D5663"
          },
          "text": ""
         },
         "zerolinecolor": "#E1E5ED"
        },
        "yaxis3": {
         "anchor": "x3",
         "domain": [
          0.8025,
          1
         ],
         "gridcolor": "#E1E5ED",
         "showgrid": false,
         "tickfont": {
          "color": "#4D5663"
         },
         "title": {
          "font": {
           "color": "#4D5663"
          },
          "text": ""
         },
         "zerolinecolor": "#E1E5ED"
        },
        "yaxis4": {
         "anchor": "x4",
         "domain": [
          0.8025,
          1
         ],
         "gridcolor": "#E1E5ED",
         "showgrid": false,
         "tickfont": {
          "color": "#4D5663"
         },
         "title": {
          "font": {
           "color": "#4D5663"
          },
          "text": ""
         },
         "zerolinecolor": "#E1E5ED"
        },
        "yaxis5": {
         "anchor": "x5",
         "domain": [
          0.535,
          0.7325
         ],
         "gridcolor": "#E1E5ED",
         "showgrid": false,
         "tickfont": {
          "color": "#4D5663"
         },
         "title": {
          "font": {
           "color": "#4D5663"
          },
          "text": ""
         },
         "zerolinecolor": "#E1E5ED"
        },
        "yaxis6": {
         "anchor": "x6",
         "domain": [
          0.535,
          0.7325
         ],
         "gridcolor": "#E1E5ED",
         "showgrid": false,
         "tickfont": {
          "color": "#4D5663"
         },
         "title": {
          "font": {
           "color": "#4D5663"
          },
          "text": ""
         },
         "zerolinecolor": "#E1E5ED"
        },
        "yaxis7": {
         "anchor": "x7",
         "domain": [
          0.535,
          0.7325
         ],
         "gridcolor": "#E1E5ED",
         "showgrid": false,
         "tickfont": {
          "color": "#4D5663"
         },
         "title": {
          "font": {
           "color": "#4D5663"
          },
          "text": ""
         },
         "zerolinecolor": "#E1E5ED"
        },
        "yaxis8": {
         "anchor": "x8",
         "domain": [
          0.535,
          0.7325
         ],
         "gridcolor": "#E1E5ED",
         "showgrid": false,
         "tickfont": {
          "color": "#4D5663"
         },
         "title": {
          "font": {
           "color": "#4D5663"
          },
          "text": ""
         },
         "zerolinecolor": "#E1E5ED"
        },
        "yaxis9": {
         "anchor": "x9",
         "domain": [
          0.2675,
          0.465
         ],
         "gridcolor": "#E1E5ED",
         "showgrid": false,
         "tickfont": {
          "color": "#4D5663"
         },
         "title": {
          "font": {
           "color": "#4D5663"
          },
          "text": ""
         },
         "zerolinecolor": "#E1E5ED"
        }
       }
      },
      "text/html": [
       "<div>                            <div id=\"ef7a3d20-3c68-4b8a-83e9-708b7e118b11\" class=\"plotly-graph-div\" style=\"height:525px; width:100%;\"></div>            <script type=\"text/javascript\">                require([\"plotly\"], function(Plotly) {                    window.PLOTLYENV=window.PLOTLYENV || {};\n",
       "                    window.PLOTLYENV.BASE_URL='https://plot.ly';                                    if (document.getElementById(\"ef7a3d20-3c68-4b8a-83e9-708b7e118b11\")) {                    Plotly.newPlot(                        \"ef7a3d20-3c68-4b8a-83e9-708b7e118b11\",                        [{\"histfunc\": \"count\", \"histnorm\": \"\", \"marker\": {\"color\": \"rgba(255, 153, 51, 1.0)\", \"line\": {\"color\": \"#4D5663\", \"width\": 1.3}}, \"name\": \"A\", \"nbinsx\": 10, \"opacity\": 0.8, \"orientation\": \"v\", \"type\": \"histogram\", \"x\": [0.0736951981220984, 0.10564450982575026, -1.1287694447333996, 0.5804209406137681, -0.1975551948846452, 0.1264092655386513, 0.2705128014282348, 1.1425313644674608, -0.0280792412700831, -0.6037165583522806, -0.6654841318855145, -1.9597696313373731, -1.0836549781822886, 0.8471570960094061, -1.4615600928892374, -0.41078536958814904, -2.040699361169267, 0.03962481326541074, 0.5275072266760765, -0.2939643525656409, 0.28928818085179875, 1.0413465410746048, -1.1836578546572247, -0.9432476721762981, -0.8285532101291623, -0.4051234867711331, 2.0230075514310504, 0.24539260697434792, -0.63260779700234, -0.7209851109446794, -1.5488207454379541, -0.8946609686524443, -0.1560111806186542, 0.17389857563037833, 0.34740814171357554, 1.2552555330233055, -1.0680286375215224, -0.4460336785120809, -0.1996834281899064, 0.8924323239536869, 0.4416882581368255, 0.2508260886728522, -1.6456855994516686, 0.7677774052108971, -0.9068972058860518, -0.9559144714011961, -0.187102476195743, 1.1203398761012473, 0.15400343406490505, -0.5716767762093942, 0.5976009243300208, 0.019204046059430244, 0.0024198085521941032, 1.784028158436303, -0.20428489651938, -1.4041165446986748, 0.9323984369458973, -0.5792321434004235, -2.0574605006033773, 2.0583283135948136, 0.167330539255263, -0.019276383131392728, 1.4073592874756022, 0.9592641373019399, -0.7231633220254845, -0.3597844001060429, -1.1969527886841422, -0.8801864313510209, -0.5141408209575581, -0.7825125885524513, 0.7313374148374697, 0.5221236136962678, 1.4226286857514743, 1.4825898929007055, 1.3502175382432609, -0.8734607406558281, 0.49036406116569414, -0.2092285701075775, 0.9907853107926903, 0.5123736926600807, 0.18562731086320133, 0.11201148302314741, -1.3204449580069537, -1.0630589750114043, -0.04025987957865352, 1.1620098202646922, -2.853232841408554, 1.8238207602168894, -0.6531294969856558, -0.9313389600239237, -0.30879282255091245, -0.3056638243318225, -0.5476967922350982, -0.7754458161741501, 1.2367277039729325, 0.08827259124043836, 0.148524136382813, -1.5636712919612268, -0.16549210257969663, 0.21610877051097974], \"xaxis\": \"x\", \"yaxis\": \"y\"}, {\"line\": {\"color\": \"rgba(128, 128, 128, 1.0)\", \"dash\": \"solid\", \"shape\": \"linear\", \"width\": 1.3}, \"marker\": {\"size\": 2, \"symbol\": \"circle\"}, \"mode\": \"markers\", \"name\": \"A\", \"text\": \"\", \"type\": \"scatter\", \"x\": [0.8760632334770332, -0.6468852814860023, 0.8463880807488549, -1.2486045806445114, 0.5724518780888255, -0.5222352401518324, -0.9848639820820966, -1.172434871411764, -0.8998567452932995, -1.2796563113262798, -1.0480565656826892, -0.7634402829919783, 1.5142055518437052, -1.6665767161291187, -0.03852048853563186, 1.288301986016335, 0.8328893246943083, 1.1884783375293597, -0.344006079709632, 0.05420622239569184, 0.35614291823826333, -0.4251177572292302, -0.22119992788055953, -0.14388486839892725, -1.2901309732710033, 1.0146604736907852, 0.7320936884573455, -1.7023372292415306, -0.99830494317672, -1.4431123520848117, -1.3122709835767647, 0.706659227847644, -0.26824366031343944, -0.537773843108674, 0.5923198033966968, -0.5939754980108162, -1.8429067824553713, -1.630827733085515, 1.9399034227472598, -1.0591735681626917, 1.5417871098828368, 0.011046675143945023, 0.3676156017707326, -1.5191005828816142, -0.1867932057368553, -0.6953542088819678, -1.061523717386393, -1.635525405595693, 1.271831465856645, 0.3609749081277422, -0.4002786155440916, 0.6349036683165985, -2.5085937439137402, 0.2880263358078486, 0.8233424851149163, 1.4205334892581958, 0.4042202557708223, 0.7476270820089652, -0.5186637637058849, 0.3383599270576156, 0.8451776409075579, -0.25151697794483074, 0.984125909044333, 1.3375325230325705, -0.8324635804628554, -1.1563474953687112, -0.1623099218070929, 0.17293006218943108, 0.7792582364985289, -0.1617458745013657, 0.7116848909522314, -0.6038785439652203, -2.0123878010301834, -0.9168735873139444, -0.17246519869176627, 1.2130208387149017, 1.834056203407502, 0.02332111811513691, 2.09391368645279, -0.4986945189622508, 0.4942431022279809, 0.3865218169769006, 0.7644569069065226, 1.8254559147171603, -0.4437851157118142, -0.7503594366043927, -0.31334366724654056, 0.21073969489699934, -0.05636023614984949, -1.005982163864285, 0.019568144859799623, -0.9677761425511624, 1.7860590480146616, 1.5026409498864475, 0.2091060547287096, -0.5037908334274643, 0.24140484190581732, -0.4311937741479804, 0.4493686887025034, 1.6091702365759928], \"xaxis\": \"x2\", \"y\": [0.0736951981220984, 0.10564450982575026, -1.1287694447333996, 0.5804209406137681, -0.1975551948846452, 0.1264092655386513, 0.2705128014282348, 1.1425313644674608, -0.0280792412700831, -0.6037165583522806, -0.6654841318855145, -1.9597696313373731, -1.0836549781822886, 0.8471570960094061, -1.4615600928892374, -0.41078536958814904, -2.040699361169267, 0.03962481326541074, 0.5275072266760765, -0.2939643525656409, 0.28928818085179875, 1.0413465410746048, -1.1836578546572247, -0.9432476721762981, -0.8285532101291623, -0.4051234867711331, 2.0230075514310504, 0.24539260697434792, -0.63260779700234, -0.7209851109446794, -1.5488207454379541, -0.8946609686524443, -0.1560111806186542, 0.17389857563037833, 0.34740814171357554, 1.2552555330233055, -1.0680286375215224, -0.4460336785120809, -0.1996834281899064, 0.8924323239536869, 0.4416882581368255, 0.2508260886728522, -1.6456855994516686, 0.7677774052108971, -0.9068972058860518, -0.9559144714011961, -0.187102476195743, 1.1203398761012473, 0.15400343406490505, -0.5716767762093942, 0.5976009243300208, 0.019204046059430244, 0.0024198085521941032, 1.784028158436303, -0.20428489651938, -1.4041165446986748, 0.9323984369458973, -0.5792321434004235, -2.0574605006033773, 2.0583283135948136, 0.167330539255263, -0.019276383131392728, 1.4073592874756022, 0.9592641373019399, -0.7231633220254845, -0.3597844001060429, -1.1969527886841422, -0.8801864313510209, -0.5141408209575581, -0.7825125885524513, 0.7313374148374697, 0.5221236136962678, 1.4226286857514743, 1.4825898929007055, 1.3502175382432609, -0.8734607406558281, 0.49036406116569414, -0.2092285701075775, 0.9907853107926903, 0.5123736926600807, 0.18562731086320133, 0.11201148302314741, -1.3204449580069537, -1.0630589750114043, -0.04025987957865352, 1.1620098202646922, -2.853232841408554, 1.8238207602168894, -0.6531294969856558, -0.9313389600239237, -0.30879282255091245, -0.3056638243318225, -0.5476967922350982, -0.7754458161741501, 1.2367277039729325, 0.08827259124043836, 0.148524136382813, -1.5636712919612268, -0.16549210257969663, 0.21610877051097974], \"yaxis\": \"y2\"}, {\"line\": {\"color\": \"rgba(128, 128, 128, 1.0)\", \"dash\": \"solid\", \"shape\": \"linear\", \"width\": 1.3}, \"marker\": {\"size\": 2, \"symbol\": \"circle\"}, \"mode\": \"markers\", \"name\": \"A\", \"text\": \"\", \"type\": \"scatter\", \"x\": [0.1278932982274251, 0.469526366542482, 0.9291157305619527, 0.40515301402373227, -1.5917459182652245, -1.6087479397927258, -0.5570387118593482, -0.3856575796710698, -2.221265215686538, -1.4698983614317604, 1.1101578499800526, 1.20298102121073, 1.6339949838778323, -0.8161349268770313, 0.4086318618862779, 0.5548671682358679, -0.8622972844801289, 0.07420238916176017, 1.2183453329644898, -0.43840660258582, 0.026066256742456214, -0.5334597699614914, 0.09585541774251581, -0.22421020286453433, 0.9369320552280596, 0.5834434373100259, -1.1208343483540346, 0.13884025367902056, 1.379645410176486, -0.07417256079840477, -0.6216238597953562, 0.42888189651247, 0.3863024099843034, 0.5426895836527332, 0.31183455778510777, 0.8551152659797775, -0.684987395282973, -1.1042937457040396, 0.44630887835629945, -0.39877908856139266, 0.9082045840439279, -3.059937282040349, -0.8700884488547279, -1.2439391066155623, -0.5071833503978952, -1.3631721325649384, 0.1762689702677328, 0.01896212316534809, 0.4861113474222137, -0.47507882066828727, -2.163976552435812, -1.3369360916803426, 0.9555463582525008, 0.5478215958353618, -1.550148463924115, 0.09777736761534621, 0.49809698309794304, 2.1197745050252843, 0.26532090420243143, 0.1441676289676939, 2.077895624197262, -0.5488116023037127, -1.0106472722871684, 1.298870059790273, -1.671575504423239, 0.15499851005456855, -0.7124810280268427, 0.42265660233062474, 1.7357294189479582, 0.26789565009883254, -0.05074744701788411, -1.4810518836182012, -0.6923013736478622, -0.5945698124790019, 0.1346244724399991, -1.620964897679958, -0.7014449789933306, 0.018175619925601426, -1.0595724569809948, 2.3463304985471694, 0.9668510933465376, 0.5663392993979611, -0.18929798704424658, -0.5714366717403916, 0.07641390472011941, -0.8409107168770208, 0.8957240591610679, 0.12424912256042718, 2.1813801025944093, -0.8890937268051208, -1.029360999908337, -0.6430186533409902, -1.534831852322848, 0.9131832497391924, 0.43930853643805096, -0.15724220539329795, 0.03428453542891774, -1.9846351850878805, 0.8472401112395295, 1.2207634010547146], \"xaxis\": \"x3\", \"y\": [0.0736951981220984, 0.10564450982575026, -1.1287694447333996, 0.5804209406137681, -0.1975551948846452, 0.1264092655386513, 0.2705128014282348, 1.1425313644674608, -0.0280792412700831, -0.6037165583522806, -0.6654841318855145, -1.9597696313373731, -1.0836549781822886, 0.8471570960094061, -1.4615600928892374, -0.41078536958814904, -2.040699361169267, 0.03962481326541074, 0.5275072266760765, -0.2939643525656409, 0.28928818085179875, 1.0413465410746048, -1.1836578546572247, -0.9432476721762981, -0.8285532101291623, -0.4051234867711331, 2.0230075514310504, 0.24539260697434792, -0.63260779700234, -0.7209851109446794, -1.5488207454379541, -0.8946609686524443, -0.1560111806186542, 0.17389857563037833, 0.34740814171357554, 1.2552555330233055, -1.0680286375215224, -0.4460336785120809, -0.1996834281899064, 0.8924323239536869, 0.4416882581368255, 0.2508260886728522, -1.6456855994516686, 0.7677774052108971, -0.9068972058860518, -0.9559144714011961, -0.187102476195743, 1.1203398761012473, 0.15400343406490505, -0.5716767762093942, 0.5976009243300208, 0.019204046059430244, 0.0024198085521941032, 1.784028158436303, -0.20428489651938, -1.4041165446986748, 0.9323984369458973, -0.5792321434004235, -2.0574605006033773, 2.0583283135948136, 0.167330539255263, -0.019276383131392728, 1.4073592874756022, 0.9592641373019399, -0.7231633220254845, -0.3597844001060429, -1.1969527886841422, -0.8801864313510209, -0.5141408209575581, -0.7825125885524513, 0.7313374148374697, 0.5221236136962678, 1.4226286857514743, 1.4825898929007055, 1.3502175382432609, -0.8734607406558281, 0.49036406116569414, -0.2092285701075775, 0.9907853107926903, 0.5123736926600807, 0.18562731086320133, 0.11201148302314741, -1.3204449580069537, -1.0630589750114043, -0.04025987957865352, 1.1620098202646922, -2.853232841408554, 1.8238207602168894, -0.6531294969856558, -0.9313389600239237, -0.30879282255091245, -0.3056638243318225, -0.5476967922350982, -0.7754458161741501, 1.2367277039729325, 0.08827259124043836, 0.148524136382813, -1.5636712919612268, -0.16549210257969663, 0.21610877051097974], \"yaxis\": \"y3\"}, {\"line\": {\"color\": \"rgba(128, 128, 128, 1.0)\", \"dash\": \"solid\", \"shape\": \"linear\", \"width\": 1.3}, \"marker\": {\"size\": 2, \"symbol\": \"circle\"}, \"mode\": \"markers\", \"name\": \"A\", \"text\": \"\", \"type\": \"scatter\", \"x\": [-0.028510399408812684, -0.2152374060207564, -0.736269857263102, 0.6665527074281203, -1.246728399972464, 1.340667989919134, -1.0471663790440882, 0.8789236728879228, 1.053077821350125, -2.6922964628211328, 0.5153815449777305, -0.45188161253693687, -0.16525616905463436, -0.32308235060525786, 0.2547252667988607, -0.24142536539936815, -0.6967061398005917, -0.5579609655708553, -1.8975627460347138, -0.3106742451480492, 0.5647468925542017, -1.8390906876682207, 0.5024782051016055, -1.010495091526054, 0.5640429908911149, -1.241677132603908, -0.0017070287949820322, -0.5093228119448819, -1.0279419517686692, -0.0545764346515223, 0.5837884526490281, 0.5626662553108567, 1.8608098480121762, -0.06585068517167546, 1.442976867868302, 0.682709348420952, -1.6409432516230387, -0.47441501008977965, 0.12974516547699164, -1.4193944105604102, 1.657352340761615, 0.03538348454454446, 1.596382838054901, 0.5735338559629584, 0.5841464249454178, 0.6951122289118309, 0.874101307304708, 1.498259688754301, -0.15446874865982127, -2.1762734867226032, 0.5448320705208457, -1.359515862022141, 1.9708090014911077, 0.12713768523570698, -1.9268610890031166, 1.028324034066464, -0.29276304289000443, 1.2657066163347672, 0.6673796467371418, -1.0549390903977722, 2.060490057738359, 0.26223822690847054, -0.5869442522463283, 0.6563587052275585, 0.14386324910450352, 0.5801612338470067, 0.4551325676186162, -0.22943429602133544, 0.7069946788513863, -0.5676256997478115, -0.03270827209474627, 0.04133883941573024, -0.24149818023389288, 0.5357872422281069, -0.6792916549522737, 0.5594507327926441, -0.38156097271475015, 0.5885170583986777, -0.6862752498026115, -1.891567839323786, -0.22040717234407267, 0.8237131180783998, -0.8879992836655693, 1.0161663512655568, -0.5480073857279285, 1.0127361558686385, 0.6054562187829562, -1.7123344310161188, 0.8806171293509081, 0.2525034261009619, 0.5401524018071866, 1.08443737239866, -0.38839640889689603, 0.8797833144873521, -0.3140066707250513, -0.4346176583346952, -0.6760623562815167, -0.21404529896102356, -0.31797288090625153, -0.3692768180146646], \"xaxis\": \"x4\", \"y\": [0.0736951981220984, 0.10564450982575026, -1.1287694447333996, 0.5804209406137681, -0.1975551948846452, 0.1264092655386513, 0.2705128014282348, 1.1425313644674608, -0.0280792412700831, -0.6037165583522806, -0.6654841318855145, -1.9597696313373731, -1.0836549781822886, 0.8471570960094061, -1.4615600928892374, -0.41078536958814904, -2.040699361169267, 0.03962481326541074, 0.5275072266760765, -0.2939643525656409, 0.28928818085179875, 1.0413465410746048, -1.1836578546572247, -0.9432476721762981, -0.8285532101291623, -0.4051234867711331, 2.0230075514310504, 0.24539260697434792, -0.63260779700234, -0.7209851109446794, -1.5488207454379541, -0.8946609686524443, -0.1560111806186542, 0.17389857563037833, 0.34740814171357554, 1.2552555330233055, -1.0680286375215224, -0.4460336785120809, -0.1996834281899064, 0.8924323239536869, 0.4416882581368255, 0.2508260886728522, -1.6456855994516686, 0.7677774052108971, -0.9068972058860518, -0.9559144714011961, -0.187102476195743, 1.1203398761012473, 0.15400343406490505, -0.5716767762093942, 0.5976009243300208, 0.019204046059430244, 0.0024198085521941032, 1.784028158436303, -0.20428489651938, -1.4041165446986748, 0.9323984369458973, -0.5792321434004235, -2.0574605006033773, 2.0583283135948136, 0.167330539255263, -0.019276383131392728, 1.4073592874756022, 0.9592641373019399, -0.7231633220254845, -0.3597844001060429, -1.1969527886841422, -0.8801864313510209, -0.5141408209575581, -0.7825125885524513, 0.7313374148374697, 0.5221236136962678, 1.4226286857514743, 1.4825898929007055, 1.3502175382432609, -0.8734607406558281, 0.49036406116569414, -0.2092285701075775, 0.9907853107926903, 0.5123736926600807, 0.18562731086320133, 0.11201148302314741, -1.3204449580069537, -1.0630589750114043, -0.04025987957865352, 1.1620098202646922, -2.853232841408554, 1.8238207602168894, -0.6531294969856558, -0.9313389600239237, -0.30879282255091245, -0.3056638243318225, -0.5476967922350982, -0.7754458161741501, 1.2367277039729325, 0.08827259124043836, 0.148524136382813, -1.5636712919612268, -0.16549210257969663, 0.21610877051097974], \"yaxis\": \"y4\"}, {\"line\": {\"color\": \"rgba(128, 128, 128, 1.0)\", \"dash\": \"solid\", \"shape\": \"linear\", \"width\": 1.3}, \"marker\": {\"size\": 2, \"symbol\": \"circle\"}, \"mode\": \"markers\", \"name\": \"B\", \"text\": \"\", \"type\": \"scatter\", \"x\": [0.0736951981220984, 0.10564450982575026, -1.1287694447333996, 0.5804209406137681, -0.1975551948846452, 0.1264092655386513, 0.2705128014282348, 1.1425313644674608, -0.0280792412700831, -0.6037165583522806, -0.6654841318855145, -1.9597696313373731, -1.0836549781822886, 0.8471570960094061, -1.4615600928892374, -0.41078536958814904, -2.040699361169267, 0.03962481326541074, 0.5275072266760765, -0.2939643525656409, 0.28928818085179875, 1.0413465410746048, -1.1836578546572247, -0.9432476721762981, -0.8285532101291623, -0.4051234867711331, 2.0230075514310504, 0.24539260697434792, -0.63260779700234, -0.7209851109446794, -1.5488207454379541, -0.8946609686524443, -0.1560111806186542, 0.17389857563037833, 0.34740814171357554, 1.2552555330233055, -1.0680286375215224, -0.4460336785120809, -0.1996834281899064, 0.8924323239536869, 0.4416882581368255, 0.2508260886728522, -1.6456855994516686, 0.7677774052108971, -0.9068972058860518, -0.9559144714011961, -0.187102476195743, 1.1203398761012473, 0.15400343406490505, -0.5716767762093942, 0.5976009243300208, 0.019204046059430244, 0.0024198085521941032, 1.784028158436303, -0.20428489651938, -1.4041165446986748, 0.9323984369458973, -0.5792321434004235, -2.0574605006033773, 2.0583283135948136, 0.167330539255263, -0.019276383131392728, 1.4073592874756022, 0.9592641373019399, -0.7231633220254845, -0.3597844001060429, -1.1969527886841422, -0.8801864313510209, -0.5141408209575581, -0.7825125885524513, 0.7313374148374697, 0.5221236136962678, 1.4226286857514743, 1.4825898929007055, 1.3502175382432609, -0.8734607406558281, 0.49036406116569414, -0.2092285701075775, 0.9907853107926903, 0.5123736926600807, 0.18562731086320133, 0.11201148302314741, -1.3204449580069537, -1.0630589750114043, -0.04025987957865352, 1.1620098202646922, -2.853232841408554, 1.8238207602168894, -0.6531294969856558, -0.9313389600239237, -0.30879282255091245, -0.3056638243318225, -0.5476967922350982, -0.7754458161741501, 1.2367277039729325, 0.08827259124043836, 0.148524136382813, -1.5636712919612268, -0.16549210257969663, 0.21610877051097974], \"xaxis\": \"x5\", \"y\": [0.8760632334770332, -0.6468852814860023, 0.8463880807488549, -1.2486045806445114, 0.5724518780888255, -0.5222352401518324, -0.9848639820820966, -1.172434871411764, -0.8998567452932995, -1.2796563113262798, -1.0480565656826892, -0.7634402829919783, 1.5142055518437052, -1.6665767161291187, -0.03852048853563186, 1.288301986016335, 0.8328893246943083, 1.1884783375293597, -0.344006079709632, 0.05420622239569184, 0.35614291823826333, -0.4251177572292302, -0.22119992788055953, -0.14388486839892725, -1.2901309732710033, 1.0146604736907852, 0.7320936884573455, -1.7023372292415306, -0.99830494317672, -1.4431123520848117, -1.3122709835767647, 0.706659227847644, -0.26824366031343944, -0.537773843108674, 0.5923198033966968, -0.5939754980108162, -1.8429067824553713, -1.630827733085515, 1.9399034227472598, -1.0591735681626917, 1.5417871098828368, 0.011046675143945023, 0.3676156017707326, -1.5191005828816142, -0.1867932057368553, -0.6953542088819678, -1.061523717386393, -1.635525405595693, 1.271831465856645, 0.3609749081277422, -0.4002786155440916, 0.6349036683165985, -2.5085937439137402, 0.2880263358078486, 0.8233424851149163, 1.4205334892581958, 0.4042202557708223, 0.7476270820089652, -0.5186637637058849, 0.3383599270576156, 0.8451776409075579, -0.25151697794483074, 0.984125909044333, 1.3375325230325705, -0.8324635804628554, -1.1563474953687112, -0.1623099218070929, 0.17293006218943108, 0.7792582364985289, -0.1617458745013657, 0.7116848909522314, -0.6038785439652203, -2.0123878010301834, -0.9168735873139444, -0.17246519869176627, 1.2130208387149017, 1.834056203407502, 0.02332111811513691, 2.09391368645279, -0.4986945189622508, 0.4942431022279809, 0.3865218169769006, 0.7644569069065226, 1.8254559147171603, -0.4437851157118142, -0.7503594366043927, -0.31334366724654056, 0.21073969489699934, -0.05636023614984949, -1.005982163864285, 0.019568144859799623, -0.9677761425511624, 1.7860590480146616, 1.5026409498864475, 0.2091060547287096, -0.5037908334274643, 0.24140484190581732, -0.4311937741479804, 0.4493686887025034, 1.6091702365759928], \"yaxis\": \"y5\"}, {\"histfunc\": \"count\", \"histnorm\": \"\", \"marker\": {\"color\": \"rgba(55, 128, 191, 1.0)\", \"line\": {\"color\": \"#4D5663\", \"width\": 1.3}}, \"name\": \"B\", \"nbinsx\": 10, \"opacity\": 0.8, \"orientation\": \"v\", \"type\": \"histogram\", \"x\": [0.8760632334770332, -0.6468852814860023, 0.8463880807488549, -1.2486045806445114, 0.5724518780888255, -0.5222352401518324, -0.9848639820820966, -1.172434871411764, -0.8998567452932995, -1.2796563113262798, -1.0480565656826892, -0.7634402829919783, 1.5142055518437052, -1.6665767161291187, -0.03852048853563186, 1.288301986016335, 0.8328893246943083, 1.1884783375293597, -0.344006079709632, 0.05420622239569184, 0.35614291823826333, -0.4251177572292302, -0.22119992788055953, -0.14388486839892725, -1.2901309732710033, 1.0146604736907852, 0.7320936884573455, -1.7023372292415306, -0.99830494317672, -1.4431123520848117, -1.3122709835767647, 0.706659227847644, -0.26824366031343944, -0.537773843108674, 0.5923198033966968, -0.5939754980108162, -1.8429067824553713, -1.630827733085515, 1.9399034227472598, -1.0591735681626917, 1.5417871098828368, 0.011046675143945023, 0.3676156017707326, -1.5191005828816142, -0.1867932057368553, -0.6953542088819678, -1.061523717386393, -1.635525405595693, 1.271831465856645, 0.3609749081277422, -0.4002786155440916, 0.6349036683165985, -2.5085937439137402, 0.2880263358078486, 0.8233424851149163, 1.4205334892581958, 0.4042202557708223, 0.7476270820089652, -0.5186637637058849, 0.3383599270576156, 0.8451776409075579, -0.25151697794483074, 0.984125909044333, 1.3375325230325705, -0.8324635804628554, -1.1563474953687112, -0.1623099218070929, 0.17293006218943108, 0.7792582364985289, -0.1617458745013657, 0.7116848909522314, -0.6038785439652203, -2.0123878010301834, -0.9168735873139444, -0.17246519869176627, 1.2130208387149017, 1.834056203407502, 0.02332111811513691, 2.09391368645279, -0.4986945189622508, 0.4942431022279809, 0.3865218169769006, 0.7644569069065226, 1.8254559147171603, -0.4437851157118142, -0.7503594366043927, -0.31334366724654056, 0.21073969489699934, -0.05636023614984949, -1.005982163864285, 0.019568144859799623, -0.9677761425511624, 1.7860590480146616, 1.5026409498864475, 0.2091060547287096, -0.5037908334274643, 0.24140484190581732, -0.4311937741479804, 0.4493686887025034, 1.6091702365759928], \"xaxis\": \"x6\", \"yaxis\": \"y6\"}, {\"line\": {\"color\": \"rgba(128, 128, 128, 1.0)\", \"dash\": \"solid\", \"shape\": \"linear\", \"width\": 1.3}, \"marker\": {\"size\": 2, \"symbol\": \"circle\"}, \"mode\": \"markers\", \"name\": \"B\", \"text\": \"\", \"type\": \"scatter\", \"x\": [0.1278932982274251, 0.469526366542482, 0.9291157305619527, 0.40515301402373227, -1.5917459182652245, -1.6087479397927258, -0.5570387118593482, -0.3856575796710698, -2.221265215686538, -1.4698983614317604, 1.1101578499800526, 1.20298102121073, 1.6339949838778323, -0.8161349268770313, 0.4086318618862779, 0.5548671682358679, -0.8622972844801289, 0.07420238916176017, 1.2183453329644898, -0.43840660258582, 0.026066256742456214, -0.5334597699614914, 0.09585541774251581, -0.22421020286453433, 0.9369320552280596, 0.5834434373100259, -1.1208343483540346, 0.13884025367902056, 1.379645410176486, -0.07417256079840477, -0.6216238597953562, 0.42888189651247, 0.3863024099843034, 0.5426895836527332, 0.31183455778510777, 0.8551152659797775, -0.684987395282973, -1.1042937457040396, 0.44630887835629945, -0.39877908856139266, 0.9082045840439279, -3.059937282040349, -0.8700884488547279, -1.2439391066155623, -0.5071833503978952, -1.3631721325649384, 0.1762689702677328, 0.01896212316534809, 0.4861113474222137, -0.47507882066828727, -2.163976552435812, -1.3369360916803426, 0.9555463582525008, 0.5478215958353618, -1.550148463924115, 0.09777736761534621, 0.49809698309794304, 2.1197745050252843, 0.26532090420243143, 0.1441676289676939, 2.077895624197262, -0.5488116023037127, -1.0106472722871684, 1.298870059790273, -1.671575504423239, 0.15499851005456855, -0.7124810280268427, 0.42265660233062474, 1.7357294189479582, 0.26789565009883254, -0.05074744701788411, -1.4810518836182012, -0.6923013736478622, -0.5945698124790019, 0.1346244724399991, -1.620964897679958, -0.7014449789933306, 0.018175619925601426, -1.0595724569809948, 2.3463304985471694, 0.9668510933465376, 0.5663392993979611, -0.18929798704424658, -0.5714366717403916, 0.07641390472011941, -0.8409107168770208, 0.8957240591610679, 0.12424912256042718, 2.1813801025944093, -0.8890937268051208, -1.029360999908337, -0.6430186533409902, -1.534831852322848, 0.9131832497391924, 0.43930853643805096, -0.15724220539329795, 0.03428453542891774, -1.9846351850878805, 0.8472401112395295, 1.2207634010547146], \"xaxis\": \"x7\", \"y\": [0.8760632334770332, -0.6468852814860023, 0.8463880807488549, -1.2486045806445114, 0.5724518780888255, -0.5222352401518324, -0.9848639820820966, -1.172434871411764, -0.8998567452932995, -1.2796563113262798, -1.0480565656826892, -0.7634402829919783, 1.5142055518437052, -1.6665767161291187, -0.03852048853563186, 1.288301986016335, 0.8328893246943083, 1.1884783375293597, -0.344006079709632, 0.05420622239569184, 0.35614291823826333, -0.4251177572292302, -0.22119992788055953, -0.14388486839892725, -1.2901309732710033, 1.0146604736907852, 0.7320936884573455, -1.7023372292415306, -0.99830494317672, -1.4431123520848117, -1.3122709835767647, 0.706659227847644, -0.26824366031343944, -0.537773843108674, 0.5923198033966968, -0.5939754980108162, -1.8429067824553713, -1.630827733085515, 1.9399034227472598, -1.0591735681626917, 1.5417871098828368, 0.011046675143945023, 0.3676156017707326, -1.5191005828816142, -0.1867932057368553, -0.6953542088819678, -1.061523717386393, -1.635525405595693, 1.271831465856645, 0.3609749081277422, -0.4002786155440916, 0.6349036683165985, -2.5085937439137402, 0.2880263358078486, 0.8233424851149163, 1.4205334892581958, 0.4042202557708223, 0.7476270820089652, -0.5186637637058849, 0.3383599270576156, 0.8451776409075579, -0.25151697794483074, 0.984125909044333, 1.3375325230325705, -0.8324635804628554, -1.1563474953687112, -0.1623099218070929, 0.17293006218943108, 0.7792582364985289, -0.1617458745013657, 0.7116848909522314, -0.6038785439652203, -2.0123878010301834, -0.9168735873139444, -0.17246519869176627, 1.2130208387149017, 1.834056203407502, 0.02332111811513691, 2.09391368645279, -0.4986945189622508, 0.4942431022279809, 0.3865218169769006, 0.7644569069065226, 1.8254559147171603, -0.4437851157118142, -0.7503594366043927, -0.31334366724654056, 0.21073969489699934, -0.05636023614984949, -1.005982163864285, 0.019568144859799623, -0.9677761425511624, 1.7860590480146616, 1.5026409498864475, 0.2091060547287096, -0.5037908334274643, 0.24140484190581732, -0.4311937741479804, 0.4493686887025034, 1.6091702365759928], \"yaxis\": \"y7\"}, {\"line\": {\"color\": \"rgba(128, 128, 128, 1.0)\", \"dash\": \"solid\", \"shape\": \"linear\", \"width\": 1.3}, \"marker\": {\"size\": 2, \"symbol\": \"circle\"}, \"mode\": \"markers\", \"name\": \"B\", \"text\": \"\", \"type\": \"scatter\", \"x\": [-0.028510399408812684, -0.2152374060207564, -0.736269857263102, 0.6665527074281203, -1.246728399972464, 1.340667989919134, -1.0471663790440882, 0.8789236728879228, 1.053077821350125, -2.6922964628211328, 0.5153815449777305, -0.45188161253693687, -0.16525616905463436, -0.32308235060525786, 0.2547252667988607, -0.24142536539936815, -0.6967061398005917, -0.5579609655708553, -1.8975627460347138, -0.3106742451480492, 0.5647468925542017, -1.8390906876682207, 0.5024782051016055, -1.010495091526054, 0.5640429908911149, -1.241677132603908, -0.0017070287949820322, -0.5093228119448819, -1.0279419517686692, -0.0545764346515223, 0.5837884526490281, 0.5626662553108567, 1.8608098480121762, -0.06585068517167546, 1.442976867868302, 0.682709348420952, -1.6409432516230387, -0.47441501008977965, 0.12974516547699164, -1.4193944105604102, 1.657352340761615, 0.03538348454454446, 1.596382838054901, 0.5735338559629584, 0.5841464249454178, 0.6951122289118309, 0.874101307304708, 1.498259688754301, -0.15446874865982127, -2.1762734867226032, 0.5448320705208457, -1.359515862022141, 1.9708090014911077, 0.12713768523570698, -1.9268610890031166, 1.028324034066464, -0.29276304289000443, 1.2657066163347672, 0.6673796467371418, -1.0549390903977722, 2.060490057738359, 0.26223822690847054, -0.5869442522463283, 0.6563587052275585, 0.14386324910450352, 0.5801612338470067, 0.4551325676186162, -0.22943429602133544, 0.7069946788513863, -0.5676256997478115, -0.03270827209474627, 0.04133883941573024, -0.24149818023389288, 0.5357872422281069, -0.6792916549522737, 0.5594507327926441, -0.38156097271475015, 0.5885170583986777, -0.6862752498026115, -1.891567839323786, -0.22040717234407267, 0.8237131180783998, -0.8879992836655693, 1.0161663512655568, -0.5480073857279285, 1.0127361558686385, 0.6054562187829562, -1.7123344310161188, 0.8806171293509081, 0.2525034261009619, 0.5401524018071866, 1.08443737239866, -0.38839640889689603, 0.8797833144873521, -0.3140066707250513, -0.4346176583346952, -0.6760623562815167, -0.21404529896102356, -0.31797288090625153, -0.3692768180146646], \"xaxis\": \"x8\", \"y\": [0.8760632334770332, -0.6468852814860023, 0.8463880807488549, -1.2486045806445114, 0.5724518780888255, -0.5222352401518324, -0.9848639820820966, -1.172434871411764, -0.8998567452932995, -1.2796563113262798, -1.0480565656826892, -0.7634402829919783, 1.5142055518437052, -1.6665767161291187, -0.03852048853563186, 1.288301986016335, 0.8328893246943083, 1.1884783375293597, -0.344006079709632, 0.05420622239569184, 0.35614291823826333, -0.4251177572292302, -0.22119992788055953, -0.14388486839892725, -1.2901309732710033, 1.0146604736907852, 0.7320936884573455, -1.7023372292415306, -0.99830494317672, -1.4431123520848117, -1.3122709835767647, 0.706659227847644, -0.26824366031343944, -0.537773843108674, 0.5923198033966968, -0.5939754980108162, -1.8429067824553713, -1.630827733085515, 1.9399034227472598, -1.0591735681626917, 1.5417871098828368, 0.011046675143945023, 0.3676156017707326, -1.5191005828816142, -0.1867932057368553, -0.6953542088819678, -1.061523717386393, -1.635525405595693, 1.271831465856645, 0.3609749081277422, -0.4002786155440916, 0.6349036683165985, -2.5085937439137402, 0.2880263358078486, 0.8233424851149163, 1.4205334892581958, 0.4042202557708223, 0.7476270820089652, -0.5186637637058849, 0.3383599270576156, 0.8451776409075579, -0.25151697794483074, 0.984125909044333, 1.3375325230325705, -0.8324635804628554, -1.1563474953687112, -0.1623099218070929, 0.17293006218943108, 0.7792582364985289, -0.1617458745013657, 0.7116848909522314, -0.6038785439652203, -2.0123878010301834, -0.9168735873139444, -0.17246519869176627, 1.2130208387149017, 1.834056203407502, 0.02332111811513691, 2.09391368645279, -0.4986945189622508, 0.4942431022279809, 0.3865218169769006, 0.7644569069065226, 1.8254559147171603, -0.4437851157118142, -0.7503594366043927, -0.31334366724654056, 0.21073969489699934, -0.05636023614984949, -1.005982163864285, 0.019568144859799623, -0.9677761425511624, 1.7860590480146616, 1.5026409498864475, 0.2091060547287096, -0.5037908334274643, 0.24140484190581732, -0.4311937741479804, 0.4493686887025034, 1.6091702365759928], \"yaxis\": \"y8\"}, {\"line\": {\"color\": \"rgba(128, 128, 128, 1.0)\", \"dash\": \"solid\", \"shape\": \"linear\", \"width\": 1.3}, \"marker\": {\"size\": 2, \"symbol\": \"circle\"}, \"mode\": \"markers\", \"name\": \"C\", \"text\": \"\", \"type\": \"scatter\", \"x\": [0.0736951981220984, 0.10564450982575026, -1.1287694447333996, 0.5804209406137681, -0.1975551948846452, 0.1264092655386513, 0.2705128014282348, 1.1425313644674608, -0.0280792412700831, -0.6037165583522806, -0.6654841318855145, -1.9597696313373731, -1.0836549781822886, 0.8471570960094061, -1.4615600928892374, -0.41078536958814904, -2.040699361169267, 0.03962481326541074, 0.5275072266760765, -0.2939643525656409, 0.28928818085179875, 1.0413465410746048, -1.1836578546572247, -0.9432476721762981, -0.8285532101291623, -0.4051234867711331, 2.0230075514310504, 0.24539260697434792, -0.63260779700234, -0.7209851109446794, -1.5488207454379541, -0.8946609686524443, -0.1560111806186542, 0.17389857563037833, 0.34740814171357554, 1.2552555330233055, -1.0680286375215224, -0.4460336785120809, -0.1996834281899064, 0.8924323239536869, 0.4416882581368255, 0.2508260886728522, -1.6456855994516686, 0.7677774052108971, -0.9068972058860518, -0.9559144714011961, -0.187102476195743, 1.1203398761012473, 0.15400343406490505, -0.5716767762093942, 0.5976009243300208, 0.019204046059430244, 0.0024198085521941032, 1.784028158436303, -0.20428489651938, -1.4041165446986748, 0.9323984369458973, -0.5792321434004235, -2.0574605006033773, 2.0583283135948136, 0.167330539255263, -0.019276383131392728, 1.4073592874756022, 0.9592641373019399, -0.7231633220254845, -0.3597844001060429, -1.1969527886841422, -0.8801864313510209, -0.5141408209575581, -0.7825125885524513, 0.7313374148374697, 0.5221236136962678, 1.4226286857514743, 1.4825898929007055, 1.3502175382432609, -0.8734607406558281, 0.49036406116569414, -0.2092285701075775, 0.9907853107926903, 0.5123736926600807, 0.18562731086320133, 0.11201148302314741, -1.3204449580069537, -1.0630589750114043, -0.04025987957865352, 1.1620098202646922, -2.853232841408554, 1.8238207602168894, -0.6531294969856558, -0.9313389600239237, -0.30879282255091245, -0.3056638243318225, -0.5476967922350982, -0.7754458161741501, 1.2367277039729325, 0.08827259124043836, 0.148524136382813, -1.5636712919612268, -0.16549210257969663, 0.21610877051097974], \"xaxis\": \"x9\", \"y\": [0.1278932982274251, 0.469526366542482, 0.9291157305619527, 0.40515301402373227, -1.5917459182652245, -1.6087479397927258, -0.5570387118593482, -0.3856575796710698, -2.221265215686538, -1.4698983614317604, 1.1101578499800526, 1.20298102121073, 1.6339949838778323, -0.8161349268770313, 0.4086318618862779, 0.5548671682358679, -0.8622972844801289, 0.07420238916176017, 1.2183453329644898, -0.43840660258582, 0.026066256742456214, -0.5334597699614914, 0.09585541774251581, -0.22421020286453433, 0.9369320552280596, 0.5834434373100259, -1.1208343483540346, 0.13884025367902056, 1.379645410176486, -0.07417256079840477, -0.6216238597953562, 0.42888189651247, 0.3863024099843034, 0.5426895836527332, 0.31183455778510777, 0.8551152659797775, -0.684987395282973, -1.1042937457040396, 0.44630887835629945, -0.39877908856139266, 0.9082045840439279, -3.059937282040349, -0.8700884488547279, -1.2439391066155623, -0.5071833503978952, -1.3631721325649384, 0.1762689702677328, 0.01896212316534809, 0.4861113474222137, -0.47507882066828727, -2.163976552435812, -1.3369360916803426, 0.9555463582525008, 0.5478215958353618, -1.550148463924115, 0.09777736761534621, 0.49809698309794304, 2.1197745050252843, 0.26532090420243143, 0.1441676289676939, 2.077895624197262, -0.5488116023037127, -1.0106472722871684, 1.298870059790273, -1.671575504423239, 0.15499851005456855, -0.7124810280268427, 0.42265660233062474, 1.7357294189479582, 0.26789565009883254, -0.05074744701788411, -1.4810518836182012, -0.6923013736478622, -0.5945698124790019, 0.1346244724399991, -1.620964897679958, -0.7014449789933306, 0.018175619925601426, -1.0595724569809948, 2.3463304985471694, 0.9668510933465376, 0.5663392993979611, -0.18929798704424658, -0.5714366717403916, 0.07641390472011941, -0.8409107168770208, 0.8957240591610679, 0.12424912256042718, 2.1813801025944093, -0.8890937268051208, -1.029360999908337, -0.6430186533409902, -1.534831852322848, 0.9131832497391924, 0.43930853643805096, -0.15724220539329795, 0.03428453542891774, -1.9846351850878805, 0.8472401112395295, 1.2207634010547146], \"yaxis\": \"y9\"}, {\"line\": {\"color\": \"rgba(128, 128, 128, 1.0)\", \"dash\": \"solid\", \"shape\": \"linear\", \"width\": 1.3}, \"marker\": {\"size\": 2, \"symbol\": \"circle\"}, \"mode\": \"markers\", \"name\": \"C\", \"text\": \"\", \"type\": \"scatter\", \"x\": [0.8760632334770332, -0.6468852814860023, 0.8463880807488549, -1.2486045806445114, 0.5724518780888255, -0.5222352401518324, -0.9848639820820966, -1.172434871411764, -0.8998567452932995, -1.2796563113262798, -1.0480565656826892, -0.7634402829919783, 1.5142055518437052, -1.6665767161291187, -0.03852048853563186, 1.288301986016335, 0.8328893246943083, 1.1884783375293597, -0.344006079709632, 0.05420622239569184, 0.35614291823826333, -0.4251177572292302, -0.22119992788055953, -0.14388486839892725, -1.2901309732710033, 1.0146604736907852, 0.7320936884573455, -1.7023372292415306, -0.99830494317672, -1.4431123520848117, -1.3122709835767647, 0.706659227847644, -0.26824366031343944, -0.537773843108674, 0.5923198033966968, -0.5939754980108162, -1.8429067824553713, -1.630827733085515, 1.9399034227472598, -1.0591735681626917, 1.5417871098828368, 0.011046675143945023, 0.3676156017707326, -1.5191005828816142, -0.1867932057368553, -0.6953542088819678, -1.061523717386393, -1.635525405595693, 1.271831465856645, 0.3609749081277422, -0.4002786155440916, 0.6349036683165985, -2.5085937439137402, 0.2880263358078486, 0.8233424851149163, 1.4205334892581958, 0.4042202557708223, 0.7476270820089652, -0.5186637637058849, 0.3383599270576156, 0.8451776409075579, -0.25151697794483074, 0.984125909044333, 1.3375325230325705, -0.8324635804628554, -1.1563474953687112, -0.1623099218070929, 0.17293006218943108, 0.7792582364985289, -0.1617458745013657, 0.7116848909522314, -0.6038785439652203, -2.0123878010301834, -0.9168735873139444, -0.17246519869176627, 1.2130208387149017, 1.834056203407502, 0.02332111811513691, 2.09391368645279, -0.4986945189622508, 0.4942431022279809, 0.3865218169769006, 0.7644569069065226, 1.8254559147171603, -0.4437851157118142, -0.7503594366043927, -0.31334366724654056, 0.21073969489699934, -0.05636023614984949, -1.005982163864285, 0.019568144859799623, -0.9677761425511624, 1.7860590480146616, 1.5026409498864475, 0.2091060547287096, -0.5037908334274643, 0.24140484190581732, -0.4311937741479804, 0.4493686887025034, 1.6091702365759928], \"xaxis\": \"x10\", \"y\": [0.1278932982274251, 0.469526366542482, 0.9291157305619527, 0.40515301402373227, -1.5917459182652245, -1.6087479397927258, -0.5570387118593482, -0.3856575796710698, -2.221265215686538, -1.4698983614317604, 1.1101578499800526, 1.20298102121073, 1.6339949838778323, -0.8161349268770313, 0.4086318618862779, 0.5548671682358679, -0.8622972844801289, 0.07420238916176017, 1.2183453329644898, -0.43840660258582, 0.026066256742456214, -0.5334597699614914, 0.09585541774251581, -0.22421020286453433, 0.9369320552280596, 0.5834434373100259, -1.1208343483540346, 0.13884025367902056, 1.379645410176486, -0.07417256079840477, -0.6216238597953562, 0.42888189651247, 0.3863024099843034, 0.5426895836527332, 0.31183455778510777, 0.8551152659797775, -0.684987395282973, -1.1042937457040396, 0.44630887835629945, -0.39877908856139266, 0.9082045840439279, -3.059937282040349, -0.8700884488547279, -1.2439391066155623, -0.5071833503978952, -1.3631721325649384, 0.1762689702677328, 0.01896212316534809, 0.4861113474222137, -0.47507882066828727, -2.163976552435812, -1.3369360916803426, 0.9555463582525008, 0.5478215958353618, -1.550148463924115, 0.09777736761534621, 0.49809698309794304, 2.1197745050252843, 0.26532090420243143, 0.1441676289676939, 2.077895624197262, -0.5488116023037127, -1.0106472722871684, 1.298870059790273, -1.671575504423239, 0.15499851005456855, -0.7124810280268427, 0.42265660233062474, 1.7357294189479582, 0.26789565009883254, -0.05074744701788411, -1.4810518836182012, -0.6923013736478622, -0.5945698124790019, 0.1346244724399991, -1.620964897679958, -0.7014449789933306, 0.018175619925601426, -1.0595724569809948, 2.3463304985471694, 0.9668510933465376, 0.5663392993979611, -0.18929798704424658, -0.5714366717403916, 0.07641390472011941, -0.8409107168770208, 0.8957240591610679, 0.12424912256042718, 2.1813801025944093, -0.8890937268051208, -1.029360999908337, -0.6430186533409902, -1.534831852322848, 0.9131832497391924, 0.43930853643805096, -0.15724220539329795, 0.03428453542891774, -1.9846351850878805, 0.8472401112395295, 1.2207634010547146], \"yaxis\": \"y10\"}, {\"histfunc\": \"count\", \"histnorm\": \"\", \"marker\": {\"color\": \"rgba(50, 171, 96, 1.0)\", \"line\": {\"color\": \"#4D5663\", \"width\": 1.3}}, \"name\": \"C\", \"nbinsx\": 10, \"opacity\": 0.8, \"orientation\": \"v\", \"type\": \"histogram\", \"x\": [0.1278932982274251, 0.469526366542482, 0.9291157305619527, 0.40515301402373227, -1.5917459182652245, -1.6087479397927258, -0.5570387118593482, -0.3856575796710698, -2.221265215686538, -1.4698983614317604, 1.1101578499800526, 1.20298102121073, 1.6339949838778323, -0.8161349268770313, 0.4086318618862779, 0.5548671682358679, -0.8622972844801289, 0.07420238916176017, 1.2183453329644898, -0.43840660258582, 0.026066256742456214, -0.5334597699614914, 0.09585541774251581, -0.22421020286453433, 0.9369320552280596, 0.5834434373100259, -1.1208343483540346, 0.13884025367902056, 1.379645410176486, -0.07417256079840477, -0.6216238597953562, 0.42888189651247, 0.3863024099843034, 0.5426895836527332, 0.31183455778510777, 0.8551152659797775, -0.684987395282973, -1.1042937457040396, 0.44630887835629945, -0.39877908856139266, 0.9082045840439279, -3.059937282040349, -0.8700884488547279, -1.2439391066155623, -0.5071833503978952, -1.3631721325649384, 0.1762689702677328, 0.01896212316534809, 0.4861113474222137, -0.47507882066828727, -2.163976552435812, -1.3369360916803426, 0.9555463582525008, 0.5478215958353618, -1.550148463924115, 0.09777736761534621, 0.49809698309794304, 2.1197745050252843, 0.26532090420243143, 0.1441676289676939, 2.077895624197262, -0.5488116023037127, -1.0106472722871684, 1.298870059790273, -1.671575504423239, 0.15499851005456855, -0.7124810280268427, 0.42265660233062474, 1.7357294189479582, 0.26789565009883254, -0.05074744701788411, -1.4810518836182012, -0.6923013736478622, -0.5945698124790019, 0.1346244724399991, -1.620964897679958, -0.7014449789933306, 0.018175619925601426, -1.0595724569809948, 2.3463304985471694, 0.9668510933465376, 0.5663392993979611, -0.18929798704424658, -0.5714366717403916, 0.07641390472011941, -0.8409107168770208, 0.8957240591610679, 0.12424912256042718, 2.1813801025944093, -0.8890937268051208, -1.029360999908337, -0.6430186533409902, -1.534831852322848, 0.9131832497391924, 0.43930853643805096, -0.15724220539329795, 0.03428453542891774, -1.9846351850878805, 0.8472401112395295, 1.2207634010547146], \"xaxis\": \"x11\", \"yaxis\": \"y11\"}, {\"line\": {\"color\": \"rgba(128, 128, 128, 1.0)\", \"dash\": \"solid\", \"shape\": \"linear\", \"width\": 1.3}, \"marker\": {\"size\": 2, \"symbol\": \"circle\"}, \"mode\": \"markers\", \"name\": \"C\", \"text\": \"\", \"type\": \"scatter\", \"x\": [-0.028510399408812684, -0.2152374060207564, -0.736269857263102, 0.6665527074281203, -1.246728399972464, 1.340667989919134, -1.0471663790440882, 0.8789236728879228, 1.053077821350125, -2.6922964628211328, 0.5153815449777305, -0.45188161253693687, -0.16525616905463436, -0.32308235060525786, 0.2547252667988607, -0.24142536539936815, -0.6967061398005917, -0.5579609655708553, -1.8975627460347138, -0.3106742451480492, 0.5647468925542017, -1.8390906876682207, 0.5024782051016055, -1.010495091526054, 0.5640429908911149, -1.241677132603908, -0.0017070287949820322, -0.5093228119448819, -1.0279419517686692, -0.0545764346515223, 0.5837884526490281, 0.5626662553108567, 1.8608098480121762, -0.06585068517167546, 1.442976867868302, 0.682709348420952, -1.6409432516230387, -0.47441501008977965, 0.12974516547699164, -1.4193944105604102, 1.657352340761615, 0.03538348454454446, 1.596382838054901, 0.5735338559629584, 0.5841464249454178, 0.6951122289118309, 0.874101307304708, 1.498259688754301, -0.15446874865982127, -2.1762734867226032, 0.5448320705208457, -1.359515862022141, 1.9708090014911077, 0.12713768523570698, -1.9268610890031166, 1.028324034066464, -0.29276304289000443, 1.2657066163347672, 0.6673796467371418, -1.0549390903977722, 2.060490057738359, 0.26223822690847054, -0.5869442522463283, 0.6563587052275585, 0.14386324910450352, 0.5801612338470067, 0.4551325676186162, -0.22943429602133544, 0.7069946788513863, -0.5676256997478115, -0.03270827209474627, 0.04133883941573024, -0.24149818023389288, 0.5357872422281069, -0.6792916549522737, 0.5594507327926441, -0.38156097271475015, 0.5885170583986777, -0.6862752498026115, -1.891567839323786, -0.22040717234407267, 0.8237131180783998, -0.8879992836655693, 1.0161663512655568, -0.5480073857279285, 1.0127361558686385, 0.6054562187829562, -1.7123344310161188, 0.8806171293509081, 0.2525034261009619, 0.5401524018071866, 1.08443737239866, -0.38839640889689603, 0.8797833144873521, -0.3140066707250513, -0.4346176583346952, -0.6760623562815167, -0.21404529896102356, -0.31797288090625153, -0.3692768180146646], \"xaxis\": \"x12\", \"y\": [0.1278932982274251, 0.469526366542482, 0.9291157305619527, 0.40515301402373227, -1.5917459182652245, -1.6087479397927258, -0.5570387118593482, -0.3856575796710698, -2.221265215686538, -1.4698983614317604, 1.1101578499800526, 1.20298102121073, 1.6339949838778323, -0.8161349268770313, 0.4086318618862779, 0.5548671682358679, -0.8622972844801289, 0.07420238916176017, 1.2183453329644898, -0.43840660258582, 0.026066256742456214, -0.5334597699614914, 0.09585541774251581, -0.22421020286453433, 0.9369320552280596, 0.5834434373100259, -1.1208343483540346, 0.13884025367902056, 1.379645410176486, -0.07417256079840477, -0.6216238597953562, 0.42888189651247, 0.3863024099843034, 0.5426895836527332, 0.31183455778510777, 0.8551152659797775, -0.684987395282973, -1.1042937457040396, 0.44630887835629945, -0.39877908856139266, 0.9082045840439279, -3.059937282040349, -0.8700884488547279, -1.2439391066155623, -0.5071833503978952, -1.3631721325649384, 0.1762689702677328, 0.01896212316534809, 0.4861113474222137, -0.47507882066828727, -2.163976552435812, -1.3369360916803426, 0.9555463582525008, 0.5478215958353618, -1.550148463924115, 0.09777736761534621, 0.49809698309794304, 2.1197745050252843, 0.26532090420243143, 0.1441676289676939, 2.077895624197262, -0.5488116023037127, -1.0106472722871684, 1.298870059790273, -1.671575504423239, 0.15499851005456855, -0.7124810280268427, 0.42265660233062474, 1.7357294189479582, 0.26789565009883254, -0.05074744701788411, -1.4810518836182012, -0.6923013736478622, -0.5945698124790019, 0.1346244724399991, -1.620964897679958, -0.7014449789933306, 0.018175619925601426, -1.0595724569809948, 2.3463304985471694, 0.9668510933465376, 0.5663392993979611, -0.18929798704424658, -0.5714366717403916, 0.07641390472011941, -0.8409107168770208, 0.8957240591610679, 0.12424912256042718, 2.1813801025944093, -0.8890937268051208, -1.029360999908337, -0.6430186533409902, -1.534831852322848, 0.9131832497391924, 0.43930853643805096, -0.15724220539329795, 0.03428453542891774, -1.9846351850878805, 0.8472401112395295, 1.2207634010547146], \"yaxis\": \"y12\"}, {\"line\": {\"color\": \"rgba(128, 128, 128, 1.0)\", \"dash\": \"solid\", \"shape\": \"linear\", \"width\": 1.3}, \"marker\": {\"size\": 2, \"symbol\": \"circle\"}, \"mode\": \"markers\", \"name\": \"D\", \"text\": \"\", \"type\": \"scatter\", \"x\": [0.0736951981220984, 0.10564450982575026, -1.1287694447333996, 0.5804209406137681, -0.1975551948846452, 0.1264092655386513, 0.2705128014282348, 1.1425313644674608, -0.0280792412700831, -0.6037165583522806, -0.6654841318855145, -1.9597696313373731, -1.0836549781822886, 0.8471570960094061, -1.4615600928892374, -0.41078536958814904, -2.040699361169267, 0.03962481326541074, 0.5275072266760765, -0.2939643525656409, 0.28928818085179875, 1.0413465410746048, -1.1836578546572247, -0.9432476721762981, -0.8285532101291623, -0.4051234867711331, 2.0230075514310504, 0.24539260697434792, -0.63260779700234, -0.7209851109446794, -1.5488207454379541, -0.8946609686524443, -0.1560111806186542, 0.17389857563037833, 0.34740814171357554, 1.2552555330233055, -1.0680286375215224, -0.4460336785120809, -0.1996834281899064, 0.8924323239536869, 0.4416882581368255, 0.2508260886728522, -1.6456855994516686, 0.7677774052108971, -0.9068972058860518, -0.9559144714011961, -0.187102476195743, 1.1203398761012473, 0.15400343406490505, -0.5716767762093942, 0.5976009243300208, 0.019204046059430244, 0.0024198085521941032, 1.784028158436303, -0.20428489651938, -1.4041165446986748, 0.9323984369458973, -0.5792321434004235, -2.0574605006033773, 2.0583283135948136, 0.167330539255263, -0.019276383131392728, 1.4073592874756022, 0.9592641373019399, -0.7231633220254845, -0.3597844001060429, -1.1969527886841422, -0.8801864313510209, -0.5141408209575581, -0.7825125885524513, 0.7313374148374697, 0.5221236136962678, 1.4226286857514743, 1.4825898929007055, 1.3502175382432609, -0.8734607406558281, 0.49036406116569414, -0.2092285701075775, 0.9907853107926903, 0.5123736926600807, 0.18562731086320133, 0.11201148302314741, -1.3204449580069537, -1.0630589750114043, -0.04025987957865352, 1.1620098202646922, -2.853232841408554, 1.8238207602168894, -0.6531294969856558, -0.9313389600239237, -0.30879282255091245, -0.3056638243318225, -0.5476967922350982, -0.7754458161741501, 1.2367277039729325, 0.08827259124043836, 0.148524136382813, -1.5636712919612268, -0.16549210257969663, 0.21610877051097974], \"xaxis\": \"x13\", \"y\": [-0.028510399408812684, -0.2152374060207564, -0.736269857263102, 0.6665527074281203, -1.246728399972464, 1.340667989919134, -1.0471663790440882, 0.8789236728879228, 1.053077821350125, -2.6922964628211328, 0.5153815449777305, -0.45188161253693687, -0.16525616905463436, -0.32308235060525786, 0.2547252667988607, -0.24142536539936815, -0.6967061398005917, -0.5579609655708553, -1.8975627460347138, -0.3106742451480492, 0.5647468925542017, -1.8390906876682207, 0.5024782051016055, -1.010495091526054, 0.5640429908911149, -1.241677132603908, -0.0017070287949820322, -0.5093228119448819, -1.0279419517686692, -0.0545764346515223, 0.5837884526490281, 0.5626662553108567, 1.8608098480121762, -0.06585068517167546, 1.442976867868302, 0.682709348420952, -1.6409432516230387, -0.47441501008977965, 0.12974516547699164, -1.4193944105604102, 1.657352340761615, 0.03538348454454446, 1.596382838054901, 0.5735338559629584, 0.5841464249454178, 0.6951122289118309, 0.874101307304708, 1.498259688754301, -0.15446874865982127, -2.1762734867226032, 0.5448320705208457, -1.359515862022141, 1.9708090014911077, 0.12713768523570698, -1.9268610890031166, 1.028324034066464, -0.29276304289000443, 1.2657066163347672, 0.6673796467371418, -1.0549390903977722, 2.060490057738359, 0.26223822690847054, -0.5869442522463283, 0.6563587052275585, 0.14386324910450352, 0.5801612338470067, 0.4551325676186162, -0.22943429602133544, 0.7069946788513863, -0.5676256997478115, -0.03270827209474627, 0.04133883941573024, -0.24149818023389288, 0.5357872422281069, -0.6792916549522737, 0.5594507327926441, -0.38156097271475015, 0.5885170583986777, -0.6862752498026115, -1.891567839323786, -0.22040717234407267, 0.8237131180783998, -0.8879992836655693, 1.0161663512655568, -0.5480073857279285, 1.0127361558686385, 0.6054562187829562, -1.7123344310161188, 0.8806171293509081, 0.2525034261009619, 0.5401524018071866, 1.08443737239866, -0.38839640889689603, 0.8797833144873521, -0.3140066707250513, -0.4346176583346952, -0.6760623562815167, -0.21404529896102356, -0.31797288090625153, -0.3692768180146646], \"yaxis\": \"y13\"}, {\"line\": {\"color\": \"rgba(128, 128, 128, 1.0)\", \"dash\": \"solid\", \"shape\": \"linear\", \"width\": 1.3}, \"marker\": {\"size\": 2, \"symbol\": \"circle\"}, \"mode\": \"markers\", \"name\": \"D\", \"text\": \"\", \"type\": \"scatter\", \"x\": [0.8760632334770332, -0.6468852814860023, 0.8463880807488549, -1.2486045806445114, 0.5724518780888255, -0.5222352401518324, -0.9848639820820966, -1.172434871411764, -0.8998567452932995, -1.2796563113262798, -1.0480565656826892, -0.7634402829919783, 1.5142055518437052, -1.6665767161291187, -0.03852048853563186, 1.288301986016335, 0.8328893246943083, 1.1884783375293597, -0.344006079709632, 0.05420622239569184, 0.35614291823826333, -0.4251177572292302, -0.22119992788055953, -0.14388486839892725, -1.2901309732710033, 1.0146604736907852, 0.7320936884573455, -1.7023372292415306, -0.99830494317672, -1.4431123520848117, -1.3122709835767647, 0.706659227847644, -0.26824366031343944, -0.537773843108674, 0.5923198033966968, -0.5939754980108162, -1.8429067824553713, -1.630827733085515, 1.9399034227472598, -1.0591735681626917, 1.5417871098828368, 0.011046675143945023, 0.3676156017707326, -1.5191005828816142, -0.1867932057368553, -0.6953542088819678, -1.061523717386393, -1.635525405595693, 1.271831465856645, 0.3609749081277422, -0.4002786155440916, 0.6349036683165985, -2.5085937439137402, 0.2880263358078486, 0.8233424851149163, 1.4205334892581958, 0.4042202557708223, 0.7476270820089652, -0.5186637637058849, 0.3383599270576156, 0.8451776409075579, -0.25151697794483074, 0.984125909044333, 1.3375325230325705, -0.8324635804628554, -1.1563474953687112, -0.1623099218070929, 0.17293006218943108, 0.7792582364985289, -0.1617458745013657, 0.7116848909522314, -0.6038785439652203, -2.0123878010301834, -0.9168735873139444, -0.17246519869176627, 1.2130208387149017, 1.834056203407502, 0.02332111811513691, 2.09391368645279, -0.4986945189622508, 0.4942431022279809, 0.3865218169769006, 0.7644569069065226, 1.8254559147171603, -0.4437851157118142, -0.7503594366043927, -0.31334366724654056, 0.21073969489699934, -0.05636023614984949, -1.005982163864285, 0.019568144859799623, -0.9677761425511624, 1.7860590480146616, 1.5026409498864475, 0.2091060547287096, -0.5037908334274643, 0.24140484190581732, -0.4311937741479804, 0.4493686887025034, 1.6091702365759928], \"xaxis\": \"x14\", \"y\": [-0.028510399408812684, -0.2152374060207564, -0.736269857263102, 0.6665527074281203, -1.246728399972464, 1.340667989919134, -1.0471663790440882, 0.8789236728879228, 1.053077821350125, -2.6922964628211328, 0.5153815449777305, -0.45188161253693687, -0.16525616905463436, -0.32308235060525786, 0.2547252667988607, -0.24142536539936815, -0.6967061398005917, -0.5579609655708553, -1.8975627460347138, -0.3106742451480492, 0.5647468925542017, -1.8390906876682207, 0.5024782051016055, -1.010495091526054, 0.5640429908911149, -1.241677132603908, -0.0017070287949820322, -0.5093228119448819, -1.0279419517686692, -0.0545764346515223, 0.5837884526490281, 0.5626662553108567, 1.8608098480121762, -0.06585068517167546, 1.442976867868302, 0.682709348420952, -1.6409432516230387, -0.47441501008977965, 0.12974516547699164, -1.4193944105604102, 1.657352340761615, 0.03538348454454446, 1.596382838054901, 0.5735338559629584, 0.5841464249454178, 0.6951122289118309, 0.874101307304708, 1.498259688754301, -0.15446874865982127, -2.1762734867226032, 0.5448320705208457, -1.359515862022141, 1.9708090014911077, 0.12713768523570698, -1.9268610890031166, 1.028324034066464, -0.29276304289000443, 1.2657066163347672, 0.6673796467371418, -1.0549390903977722, 2.060490057738359, 0.26223822690847054, -0.5869442522463283, 0.6563587052275585, 0.14386324910450352, 0.5801612338470067, 0.4551325676186162, -0.22943429602133544, 0.7069946788513863, -0.5676256997478115, -0.03270827209474627, 0.04133883941573024, -0.24149818023389288, 0.5357872422281069, -0.6792916549522737, 0.5594507327926441, -0.38156097271475015, 0.5885170583986777, -0.6862752498026115, -1.891567839323786, -0.22040717234407267, 0.8237131180783998, -0.8879992836655693, 1.0161663512655568, -0.5480073857279285, 1.0127361558686385, 0.6054562187829562, -1.7123344310161188, 0.8806171293509081, 0.2525034261009619, 0.5401524018071866, 1.08443737239866, -0.38839640889689603, 0.8797833144873521, -0.3140066707250513, -0.4346176583346952, -0.6760623562815167, -0.21404529896102356, -0.31797288090625153, -0.3692768180146646], \"yaxis\": \"y14\"}, {\"line\": {\"color\": \"rgba(128, 128, 128, 1.0)\", \"dash\": \"solid\", \"shape\": \"linear\", \"width\": 1.3}, \"marker\": {\"size\": 2, \"symbol\": \"circle\"}, \"mode\": \"markers\", \"name\": \"D\", \"text\": \"\", \"type\": \"scatter\", \"x\": [0.1278932982274251, 0.469526366542482, 0.9291157305619527, 0.40515301402373227, -1.5917459182652245, -1.6087479397927258, -0.5570387118593482, -0.3856575796710698, -2.221265215686538, -1.4698983614317604, 1.1101578499800526, 1.20298102121073, 1.6339949838778323, -0.8161349268770313, 0.4086318618862779, 0.5548671682358679, -0.8622972844801289, 0.07420238916176017, 1.2183453329644898, -0.43840660258582, 0.026066256742456214, -0.5334597699614914, 0.09585541774251581, -0.22421020286453433, 0.9369320552280596, 0.5834434373100259, -1.1208343483540346, 0.13884025367902056, 1.379645410176486, -0.07417256079840477, -0.6216238597953562, 0.42888189651247, 0.3863024099843034, 0.5426895836527332, 0.31183455778510777, 0.8551152659797775, -0.684987395282973, -1.1042937457040396, 0.44630887835629945, -0.39877908856139266, 0.9082045840439279, -3.059937282040349, -0.8700884488547279, -1.2439391066155623, -0.5071833503978952, -1.3631721325649384, 0.1762689702677328, 0.01896212316534809, 0.4861113474222137, -0.47507882066828727, -2.163976552435812, -1.3369360916803426, 0.9555463582525008, 0.5478215958353618, -1.550148463924115, 0.09777736761534621, 0.49809698309794304, 2.1197745050252843, 0.26532090420243143, 0.1441676289676939, 2.077895624197262, -0.5488116023037127, -1.0106472722871684, 1.298870059790273, -1.671575504423239, 0.15499851005456855, -0.7124810280268427, 0.42265660233062474, 1.7357294189479582, 0.26789565009883254, -0.05074744701788411, -1.4810518836182012, -0.6923013736478622, -0.5945698124790019, 0.1346244724399991, -1.620964897679958, -0.7014449789933306, 0.018175619925601426, -1.0595724569809948, 2.3463304985471694, 0.9668510933465376, 0.5663392993979611, -0.18929798704424658, -0.5714366717403916, 0.07641390472011941, -0.8409107168770208, 0.8957240591610679, 0.12424912256042718, 2.1813801025944093, -0.8890937268051208, -1.029360999908337, -0.6430186533409902, -1.534831852322848, 0.9131832497391924, 0.43930853643805096, -0.15724220539329795, 0.03428453542891774, -1.9846351850878805, 0.8472401112395295, 1.2207634010547146], \"xaxis\": \"x15\", \"y\": [-0.028510399408812684, -0.2152374060207564, -0.736269857263102, 0.6665527074281203, -1.246728399972464, 1.340667989919134, -1.0471663790440882, 0.8789236728879228, 1.053077821350125, -2.6922964628211328, 0.5153815449777305, -0.45188161253693687, -0.16525616905463436, -0.32308235060525786, 0.2547252667988607, -0.24142536539936815, -0.6967061398005917, -0.5579609655708553, -1.8975627460347138, -0.3106742451480492, 0.5647468925542017, -1.8390906876682207, 0.5024782051016055, -1.010495091526054, 0.5640429908911149, -1.241677132603908, -0.0017070287949820322, -0.5093228119448819, -1.0279419517686692, -0.0545764346515223, 0.5837884526490281, 0.5626662553108567, 1.8608098480121762, -0.06585068517167546, 1.442976867868302, 0.682709348420952, -1.6409432516230387, -0.47441501008977965, 0.12974516547699164, -1.4193944105604102, 1.657352340761615, 0.03538348454454446, 1.596382838054901, 0.5735338559629584, 0.5841464249454178, 0.6951122289118309, 0.874101307304708, 1.498259688754301, -0.15446874865982127, -2.1762734867226032, 0.5448320705208457, -1.359515862022141, 1.9708090014911077, 0.12713768523570698, -1.9268610890031166, 1.028324034066464, -0.29276304289000443, 1.2657066163347672, 0.6673796467371418, -1.0549390903977722, 2.060490057738359, 0.26223822690847054, -0.5869442522463283, 0.6563587052275585, 0.14386324910450352, 0.5801612338470067, 0.4551325676186162, -0.22943429602133544, 0.7069946788513863, -0.5676256997478115, -0.03270827209474627, 0.04133883941573024, -0.24149818023389288, 0.5357872422281069, -0.6792916549522737, 0.5594507327926441, -0.38156097271475015, 0.5885170583986777, -0.6862752498026115, -1.891567839323786, -0.22040717234407267, 0.8237131180783998, -0.8879992836655693, 1.0161663512655568, -0.5480073857279285, 1.0127361558686385, 0.6054562187829562, -1.7123344310161188, 0.8806171293509081, 0.2525034261009619, 0.5401524018071866, 1.08443737239866, -0.38839640889689603, 0.8797833144873521, -0.3140066707250513, -0.4346176583346952, -0.6760623562815167, -0.21404529896102356, -0.31797288090625153, -0.3692768180146646], \"yaxis\": \"y15\"}, {\"histfunc\": \"count\", \"histnorm\": \"\", \"marker\": {\"color\": \"rgba(128, 0, 128, 1.0)\", \"line\": {\"color\": \"#4D5663\", \"width\": 1.3}}, \"name\": \"D\", \"nbinsx\": 10, \"opacity\": 0.8, \"orientation\": \"v\", \"type\": \"histogram\", \"x\": [-0.028510399408812684, -0.2152374060207564, -0.736269857263102, 0.6665527074281203, -1.246728399972464, 1.340667989919134, -1.0471663790440882, 0.8789236728879228, 1.053077821350125, -2.6922964628211328, 0.5153815449777305, -0.45188161253693687, -0.16525616905463436, -0.32308235060525786, 0.2547252667988607, -0.24142536539936815, -0.6967061398005917, -0.5579609655708553, -1.8975627460347138, -0.3106742451480492, 0.5647468925542017, -1.8390906876682207, 0.5024782051016055, -1.010495091526054, 0.5640429908911149, -1.241677132603908, -0.0017070287949820322, -0.5093228119448819, -1.0279419517686692, -0.0545764346515223, 0.5837884526490281, 0.5626662553108567, 1.8608098480121762, -0.06585068517167546, 1.442976867868302, 0.682709348420952, -1.6409432516230387, -0.47441501008977965, 0.12974516547699164, -1.4193944105604102, 1.657352340761615, 0.03538348454454446, 1.596382838054901, 0.5735338559629584, 0.5841464249454178, 0.6951122289118309, 0.874101307304708, 1.498259688754301, -0.15446874865982127, -2.1762734867226032, 0.5448320705208457, -1.359515862022141, 1.9708090014911077, 0.12713768523570698, -1.9268610890031166, 1.028324034066464, -0.29276304289000443, 1.2657066163347672, 0.6673796467371418, -1.0549390903977722, 2.060490057738359, 0.26223822690847054, -0.5869442522463283, 0.6563587052275585, 0.14386324910450352, 0.5801612338470067, 0.4551325676186162, -0.22943429602133544, 0.7069946788513863, -0.5676256997478115, -0.03270827209474627, 0.04133883941573024, -0.24149818023389288, 0.5357872422281069, -0.6792916549522737, 0.5594507327926441, -0.38156097271475015, 0.5885170583986777, -0.6862752498026115, -1.891567839323786, -0.22040717234407267, 0.8237131180783998, -0.8879992836655693, 1.0161663512655568, -0.5480073857279285, 1.0127361558686385, 0.6054562187829562, -1.7123344310161188, 0.8806171293509081, 0.2525034261009619, 0.5401524018071866, 1.08443737239866, -0.38839640889689603, 0.8797833144873521, -0.3140066707250513, -0.4346176583346952, -0.6760623562815167, -0.21404529896102356, -0.31797288090625153, -0.3692768180146646], \"xaxis\": \"x16\", \"yaxis\": \"y16\"}],                        {\"bargap\": 0.02, \"legend\": {\"bgcolor\": \"#F5F6F9\", \"font\": {\"color\": \"#4D5663\"}}, \"paper_bgcolor\": \"#F5F6F9\", \"plot_bgcolor\": \"#F5F6F9\", \"showlegend\": false, \"template\": {\"data\": {\"bar\": [{\"error_x\": {\"color\": \"#2a3f5f\"}, \"error_y\": {\"color\": \"#2a3f5f\"}, \"marker\": {\"line\": {\"color\": \"#E5ECF6\", \"width\": 0.5}}, \"type\": \"bar\"}], \"barpolar\": [{\"marker\": {\"line\": {\"color\": \"#E5ECF6\", \"width\": 0.5}}, \"type\": \"barpolar\"}], \"carpet\": [{\"aaxis\": {\"endlinecolor\": \"#2a3f5f\", \"gridcolor\": \"white\", \"linecolor\": \"white\", \"minorgridcolor\": \"white\", \"startlinecolor\": \"#2a3f5f\"}, \"baxis\": {\"endlinecolor\": \"#2a3f5f\", \"gridcolor\": \"white\", \"linecolor\": \"white\", \"minorgridcolor\": \"white\", \"startlinecolor\": \"#2a3f5f\"}, \"type\": \"carpet\"}], \"choropleth\": [{\"colorbar\": {\"outlinewidth\": 0, \"ticks\": \"\"}, \"type\": \"choropleth\"}], \"contour\": [{\"colorbar\": {\"outlinewidth\": 0, \"ticks\": \"\"}, \"colorscale\": [[0.0, \"#0d0887\"], [0.1111111111111111, \"#46039f\"], [0.2222222222222222, \"#7201a8\"], [0.3333333333333333, \"#9c179e\"], [0.4444444444444444, \"#bd3786\"], [0.5555555555555556, \"#d8576b\"], [0.6666666666666666, \"#ed7953\"], [0.7777777777777778, \"#fb9f3a\"], [0.8888888888888888, \"#fdca26\"], [1.0, \"#f0f921\"]], \"type\": \"contour\"}], \"contourcarpet\": [{\"colorbar\": {\"outlinewidth\": 0, \"ticks\": \"\"}, \"type\": \"contourcarpet\"}], \"heatmap\": [{\"colorbar\": {\"outlinewidth\": 0, \"ticks\": \"\"}, \"colorscale\": [[0.0, \"#0d0887\"], [0.1111111111111111, \"#46039f\"], [0.2222222222222222, \"#7201a8\"], [0.3333333333333333, \"#9c179e\"], [0.4444444444444444, \"#bd3786\"], [0.5555555555555556, \"#d8576b\"], [0.6666666666666666, \"#ed7953\"], [0.7777777777777778, \"#fb9f3a\"], [0.8888888888888888, \"#fdca26\"], [1.0, \"#f0f921\"]], \"type\": \"heatmap\"}], \"heatmapgl\": [{\"colorbar\": {\"outlinewidth\": 0, \"ticks\": \"\"}, \"colorscale\": [[0.0, \"#0d0887\"], [0.1111111111111111, \"#46039f\"], [0.2222222222222222, \"#7201a8\"], [0.3333333333333333, \"#9c179e\"], [0.4444444444444444, \"#bd3786\"], [0.5555555555555556, \"#d8576b\"], [0.6666666666666666, \"#ed7953\"], [0.7777777777777778, \"#fb9f3a\"], [0.8888888888888888, \"#fdca26\"], [1.0, \"#f0f921\"]], \"type\": \"heatmapgl\"}], \"histogram\": [{\"marker\": {\"colorbar\": {\"outlinewidth\": 0, \"ticks\": \"\"}}, \"type\": \"histogram\"}], \"histogram2d\": [{\"colorbar\": {\"outlinewidth\": 0, \"ticks\": \"\"}, \"colorscale\": [[0.0, \"#0d0887\"], [0.1111111111111111, \"#46039f\"], [0.2222222222222222, \"#7201a8\"], [0.3333333333333333, \"#9c179e\"], [0.4444444444444444, \"#bd3786\"], [0.5555555555555556, \"#d8576b\"], [0.6666666666666666, \"#ed7953\"], [0.7777777777777778, \"#fb9f3a\"], [0.8888888888888888, \"#fdca26\"], [1.0, \"#f0f921\"]], \"type\": \"histogram2d\"}], \"histogram2dcontour\": [{\"colorbar\": {\"outlinewidth\": 0, \"ticks\": \"\"}, \"colorscale\": [[0.0, \"#0d0887\"], [0.1111111111111111, \"#46039f\"], [0.2222222222222222, \"#7201a8\"], [0.3333333333333333, \"#9c179e\"], [0.4444444444444444, \"#bd3786\"], [0.5555555555555556, \"#d8576b\"], [0.6666666666666666, \"#ed7953\"], [0.7777777777777778, \"#fb9f3a\"], [0.8888888888888888, \"#fdca26\"], [1.0, \"#f0f921\"]], \"type\": \"histogram2dcontour\"}], \"mesh3d\": [{\"colorbar\": {\"outlinewidth\": 0, \"ticks\": \"\"}, \"type\": \"mesh3d\"}], \"parcoords\": [{\"line\": {\"colorbar\": {\"outlinewidth\": 0, \"ticks\": \"\"}}, \"type\": \"parcoords\"}], \"pie\": [{\"automargin\": true, \"type\": \"pie\"}], \"scatter\": [{\"marker\": {\"colorbar\": {\"outlinewidth\": 0, \"ticks\": \"\"}}, \"type\": \"scatter\"}], \"scatter3d\": [{\"line\": {\"colorbar\": {\"outlinewidth\": 0, \"ticks\": \"\"}}, \"marker\": {\"colorbar\": {\"outlinewidth\": 0, \"ticks\": \"\"}}, \"type\": \"scatter3d\"}], \"scattercarpet\": [{\"marker\": {\"colorbar\": {\"outlinewidth\": 0, \"ticks\": \"\"}}, \"type\": \"scattercarpet\"}], \"scattergeo\": [{\"marker\": {\"colorbar\": {\"outlinewidth\": 0, \"ticks\": \"\"}}, \"type\": \"scattergeo\"}], \"scattergl\": [{\"marker\": {\"colorbar\": {\"outlinewidth\": 0, \"ticks\": \"\"}}, \"type\": \"scattergl\"}], \"scattermapbox\": [{\"marker\": {\"colorbar\": {\"outlinewidth\": 0, \"ticks\": \"\"}}, \"type\": \"scattermapbox\"}], \"scatterpolar\": [{\"marker\": {\"colorbar\": {\"outlinewidth\": 0, \"ticks\": \"\"}}, \"type\": \"scatterpolar\"}], \"scatterpolargl\": [{\"marker\": {\"colorbar\": {\"outlinewidth\": 0, \"ticks\": \"\"}}, \"type\": \"scatterpolargl\"}], \"scatterternary\": [{\"marker\": {\"colorbar\": {\"outlinewidth\": 0, \"ticks\": \"\"}}, \"type\": \"scatterternary\"}], \"surface\": [{\"colorbar\": {\"outlinewidth\": 0, \"ticks\": \"\"}, \"colorscale\": [[0.0, \"#0d0887\"], [0.1111111111111111, \"#46039f\"], [0.2222222222222222, \"#7201a8\"], [0.3333333333333333, \"#9c179e\"], [0.4444444444444444, \"#bd3786\"], [0.5555555555555556, \"#d8576b\"], [0.6666666666666666, \"#ed7953\"], [0.7777777777777778, \"#fb9f3a\"], [0.8888888888888888, \"#fdca26\"], [1.0, \"#f0f921\"]], \"type\": \"surface\"}], \"table\": [{\"cells\": {\"fill\": {\"color\": \"#EBF0F8\"}, \"line\": {\"color\": \"white\"}}, \"header\": {\"fill\": {\"color\": \"#C8D4E3\"}, \"line\": {\"color\": \"white\"}}, \"type\": \"table\"}]}, \"layout\": {\"annotationdefaults\": {\"arrowcolor\": \"#2a3f5f\", \"arrowhead\": 0, \"arrowwidth\": 1}, \"autotypenumbers\": \"strict\", \"coloraxis\": {\"colorbar\": {\"outlinewidth\": 0, \"ticks\": \"\"}}, \"colorscale\": {\"diverging\": [[0, \"#8e0152\"], [0.1, \"#c51b7d\"], [0.2, \"#de77ae\"], [0.3, \"#f1b6da\"], [0.4, \"#fde0ef\"], [0.5, \"#f7f7f7\"], [0.6, \"#e6f5d0\"], [0.7, \"#b8e186\"], [0.8, \"#7fbc41\"], [0.9, \"#4d9221\"], [1, \"#276419\"]], \"sequential\": [[0.0, \"#0d0887\"], [0.1111111111111111, \"#46039f\"], [0.2222222222222222, \"#7201a8\"], [0.3333333333333333, \"#9c179e\"], [0.4444444444444444, \"#bd3786\"], [0.5555555555555556, \"#d8576b\"], [0.6666666666666666, \"#ed7953\"], [0.7777777777777778, \"#fb9f3a\"], [0.8888888888888888, \"#fdca26\"], [1.0, \"#f0f921\"]], \"sequentialminus\": [[0.0, \"#0d0887\"], [0.1111111111111111, \"#46039f\"], [0.2222222222222222, \"#7201a8\"], [0.3333333333333333, \"#9c179e\"], [0.4444444444444444, \"#bd3786\"], [0.5555555555555556, \"#d8576b\"], [0.6666666666666666, \"#ed7953\"], [0.7777777777777778, \"#fb9f3a\"], [0.8888888888888888, \"#fdca26\"], [1.0, \"#f0f921\"]]}, \"colorway\": [\"#636efa\", \"#EF553B\", \"#00cc96\", \"#ab63fa\", \"#FFA15A\", \"#19d3f3\", \"#FF6692\", \"#B6E880\", \"#FF97FF\", \"#FECB52\"], \"font\": {\"color\": \"#2a3f5f\"}, \"geo\": {\"bgcolor\": \"white\", \"lakecolor\": \"white\", \"landcolor\": \"#E5ECF6\", \"showlakes\": true, \"showland\": true, \"subunitcolor\": \"white\"}, \"hoverlabel\": {\"align\": \"left\"}, \"hovermode\": \"closest\", \"mapbox\": {\"style\": \"light\"}, \"paper_bgcolor\": \"white\", \"plot_bgcolor\": \"#E5ECF6\", \"polar\": {\"angularaxis\": {\"gridcolor\": \"white\", \"linecolor\": \"white\", \"ticks\": \"\"}, \"bgcolor\": \"#E5ECF6\", \"radialaxis\": {\"gridcolor\": \"white\", \"linecolor\": \"white\", \"ticks\": \"\"}}, \"scene\": {\"xaxis\": {\"backgroundcolor\": \"#E5ECF6\", \"gridcolor\": \"white\", \"gridwidth\": 2, \"linecolor\": \"white\", \"showbackground\": true, \"ticks\": \"\", \"zerolinecolor\": \"white\"}, \"yaxis\": {\"backgroundcolor\": \"#E5ECF6\", \"gridcolor\": \"white\", \"gridwidth\": 2, \"linecolor\": \"white\", \"showbackground\": true, \"ticks\": \"\", \"zerolinecolor\": \"white\"}, \"zaxis\": {\"backgroundcolor\": \"#E5ECF6\", \"gridcolor\": \"white\", \"gridwidth\": 2, \"linecolor\": \"white\", \"showbackground\": true, \"ticks\": \"\", \"zerolinecolor\": \"white\"}}, \"shapedefaults\": {\"line\": {\"color\": \"#2a3f5f\"}}, \"ternary\": {\"aaxis\": {\"gridcolor\": \"white\", \"linecolor\": \"white\", \"ticks\": \"\"}, \"baxis\": {\"gridcolor\": \"white\", \"linecolor\": \"white\", \"ticks\": \"\"}, \"bgcolor\": \"#E5ECF6\", \"caxis\": {\"gridcolor\": \"white\", \"linecolor\": \"white\", \"ticks\": \"\"}}, \"title\": {\"x\": 0.05}, \"xaxis\": {\"automargin\": true, \"gridcolor\": \"white\", \"linecolor\": \"white\", \"ticks\": \"\", \"title\": {\"standoff\": 15}, \"zerolinecolor\": \"white\", \"zerolinewidth\": 2}, \"yaxis\": {\"automargin\": true, \"gridcolor\": \"white\", \"linecolor\": \"white\", \"ticks\": \"\", \"title\": {\"standoff\": 15}, \"zerolinecolor\": \"white\", \"zerolinewidth\": 2}}}, \"title\": {\"font\": {\"color\": \"#4D5663\"}}, \"xaxis\": {\"anchor\": \"y\", \"domain\": [0.0, 0.2125], \"gridcolor\": \"#E1E5ED\", \"showgrid\": false, \"tickfont\": {\"color\": \"#4D5663\"}, \"title\": {\"font\": {\"color\": \"#4D5663\"}, \"text\": \"\"}, \"zerolinecolor\": \"#E1E5ED\"}, \"xaxis10\": {\"anchor\": \"y10\", \"domain\": [0.2625, 0.475], \"gridcolor\": \"#E1E5ED\", \"showgrid\": false, \"tickfont\": {\"color\": \"#4D5663\"}, \"title\": {\"font\": {\"color\": \"#4D5663\"}, \"text\": \"\"}, \"zerolinecolor\": \"#E1E5ED\"}, \"xaxis11\": {\"anchor\": \"y11\", \"domain\": [0.525, 0.7375], \"gridcolor\": \"#E1E5ED\", \"showgrid\": false, \"tickfont\": {\"color\": \"#4D5663\"}, \"title\": {\"font\": {\"color\": \"#4D5663\"}, \"text\": \"\"}, \"zerolinecolor\": \"#E1E5ED\"}, \"xaxis12\": {\"anchor\": \"y12\", \"domain\": [0.7875, 1.0], \"gridcolor\": \"#E1E5ED\", \"showgrid\": false, \"tickfont\": {\"color\": \"#4D5663\"}, \"title\": {\"font\": {\"color\": \"#4D5663\"}, \"text\": \"\"}, \"zerolinecolor\": \"#E1E5ED\"}, \"xaxis13\": {\"anchor\": \"y13\", \"domain\": [0.0, 0.2125], \"gridcolor\": \"#E1E5ED\", \"showgrid\": false, \"tickfont\": {\"color\": \"#4D5663\"}, \"title\": {\"font\": {\"color\": \"#4D5663\"}, \"text\": \"\"}, \"zerolinecolor\": \"#E1E5ED\"}, \"xaxis14\": {\"anchor\": \"y14\", \"domain\": [0.2625, 0.475], \"gridcolor\": \"#E1E5ED\", \"showgrid\": false, \"tickfont\": {\"color\": \"#4D5663\"}, \"title\": {\"font\": {\"color\": \"#4D5663\"}, \"text\": \"\"}, \"zerolinecolor\": \"#E1E5ED\"}, \"xaxis15\": {\"anchor\": \"y15\", \"domain\": [0.525, 0.7375], \"gridcolor\": \"#E1E5ED\", \"showgrid\": false, \"tickfont\": {\"color\": \"#4D5663\"}, \"title\": {\"font\": {\"color\": \"#4D5663\"}, \"text\": \"\"}, \"zerolinecolor\": \"#E1E5ED\"}, \"xaxis16\": {\"anchor\": \"y16\", \"domain\": [0.7875, 1.0], \"gridcolor\": \"#E1E5ED\", \"showgrid\": false, \"tickfont\": {\"color\": \"#4D5663\"}, \"title\": {\"font\": {\"color\": \"#4D5663\"}, \"text\": \"\"}, \"zerolinecolor\": \"#E1E5ED\"}, \"xaxis2\": {\"anchor\": \"y2\", \"domain\": [0.2625, 0.475], \"gridcolor\": \"#E1E5ED\", \"showgrid\": false, \"tickfont\": {\"color\": \"#4D5663\"}, \"title\": {\"font\": {\"color\": \"#4D5663\"}, \"text\": \"\"}, \"zerolinecolor\": \"#E1E5ED\"}, \"xaxis3\": {\"anchor\": \"y3\", \"domain\": [0.525, 0.7375], \"gridcolor\": \"#E1E5ED\", \"showgrid\": false, \"tickfont\": {\"color\": \"#4D5663\"}, \"title\": {\"font\": {\"color\": \"#4D5663\"}, \"text\": \"\"}, \"zerolinecolor\": \"#E1E5ED\"}, \"xaxis4\": {\"anchor\": \"y4\", \"domain\": [0.7875, 1.0], \"gridcolor\": \"#E1E5ED\", \"showgrid\": false, \"tickfont\": {\"color\": \"#4D5663\"}, \"title\": {\"font\": {\"color\": \"#4D5663\"}, \"text\": \"\"}, \"zerolinecolor\": \"#E1E5ED\"}, \"xaxis5\": {\"anchor\": \"y5\", \"domain\": [0.0, 0.2125], \"gridcolor\": \"#E1E5ED\", \"showgrid\": false, \"tickfont\": {\"color\": \"#4D5663\"}, \"title\": {\"font\": {\"color\": \"#4D5663\"}, \"text\": \"\"}, \"zerolinecolor\": \"#E1E5ED\"}, \"xaxis6\": {\"anchor\": \"y6\", \"domain\": [0.2625, 0.475], \"gridcolor\": \"#E1E5ED\", \"showgrid\": false, \"tickfont\": {\"color\": \"#4D5663\"}, \"title\": {\"font\": {\"color\": \"#4D5663\"}, \"text\": \"\"}, \"zerolinecolor\": \"#E1E5ED\"}, \"xaxis7\": {\"anchor\": \"y7\", \"domain\": [0.525, 0.7375], \"gridcolor\": \"#E1E5ED\", \"showgrid\": false, \"tickfont\": {\"color\": \"#4D5663\"}, \"title\": {\"font\": {\"color\": \"#4D5663\"}, \"text\": \"\"}, \"zerolinecolor\": \"#E1E5ED\"}, \"xaxis8\": {\"anchor\": \"y8\", \"domain\": [0.7875, 1.0], \"gridcolor\": \"#E1E5ED\", \"showgrid\": false, \"tickfont\": {\"color\": \"#4D5663\"}, \"title\": {\"font\": {\"color\": \"#4D5663\"}, \"text\": \"\"}, \"zerolinecolor\": \"#E1E5ED\"}, \"xaxis9\": {\"anchor\": \"y9\", \"domain\": [0.0, 0.2125], \"gridcolor\": \"#E1E5ED\", \"showgrid\": false, \"tickfont\": {\"color\": \"#4D5663\"}, \"title\": {\"font\": {\"color\": \"#4D5663\"}, \"text\": \"\"}, \"zerolinecolor\": \"#E1E5ED\"}, \"yaxis\": {\"anchor\": \"x\", \"domain\": [0.8025, 1.0], \"gridcolor\": \"#E1E5ED\", \"showgrid\": false, \"tickfont\": {\"color\": \"#4D5663\"}, \"title\": {\"font\": {\"color\": \"#4D5663\"}, \"text\": \"\"}, \"zerolinecolor\": \"#E1E5ED\"}, \"yaxis10\": {\"anchor\": \"x10\", \"domain\": [0.2675, 0.465], \"gridcolor\": \"#E1E5ED\", \"showgrid\": false, \"tickfont\": {\"color\": \"#4D5663\"}, \"title\": {\"font\": {\"color\": \"#4D5663\"}, \"text\": \"\"}, \"zerolinecolor\": \"#E1E5ED\"}, \"yaxis11\": {\"anchor\": \"x11\", \"domain\": [0.2675, 0.465], \"gridcolor\": \"#E1E5ED\", \"showgrid\": false, \"tickfont\": {\"color\": \"#4D5663\"}, \"title\": {\"font\": {\"color\": \"#4D5663\"}, \"text\": \"\"}, \"zerolinecolor\": \"#E1E5ED\"}, \"yaxis12\": {\"anchor\": \"x12\", \"domain\": [0.2675, 0.465], \"gridcolor\": \"#E1E5ED\", \"showgrid\": false, \"tickfont\": {\"color\": \"#4D5663\"}, \"title\": {\"font\": {\"color\": \"#4D5663\"}, \"text\": \"\"}, \"zerolinecolor\": \"#E1E5ED\"}, \"yaxis13\": {\"anchor\": \"x13\", \"domain\": [0.0, 0.1975], \"gridcolor\": \"#E1E5ED\", \"showgrid\": false, \"tickfont\": {\"color\": \"#4D5663\"}, \"title\": {\"font\": {\"color\": \"#4D5663\"}, \"text\": \"\"}, \"zerolinecolor\": \"#E1E5ED\"}, \"yaxis14\": {\"anchor\": \"x14\", \"domain\": [0.0, 0.1975], \"gridcolor\": \"#E1E5ED\", \"showgrid\": false, \"tickfont\": {\"color\": \"#4D5663\"}, \"title\": {\"font\": {\"color\": \"#4D5663\"}, \"text\": \"\"}, \"zerolinecolor\": \"#E1E5ED\"}, \"yaxis15\": {\"anchor\": \"x15\", \"domain\": [0.0, 0.1975], \"gridcolor\": \"#E1E5ED\", \"showgrid\": false, \"tickfont\": {\"color\": \"#4D5663\"}, \"title\": {\"font\": {\"color\": \"#4D5663\"}, \"text\": \"\"}, \"zerolinecolor\": \"#E1E5ED\"}, \"yaxis16\": {\"anchor\": \"x16\", \"domain\": [0.0, 0.1975], \"gridcolor\": \"#E1E5ED\", \"showgrid\": false, \"tickfont\": {\"color\": \"#4D5663\"}, \"title\": {\"font\": {\"color\": \"#4D5663\"}, \"text\": \"\"}, \"zerolinecolor\": \"#E1E5ED\"}, \"yaxis2\": {\"anchor\": \"x2\", \"domain\": [0.8025, 1.0], \"gridcolor\": \"#E1E5ED\", \"showgrid\": false, \"tickfont\": {\"color\": \"#4D5663\"}, \"title\": {\"font\": {\"color\": \"#4D5663\"}, \"text\": \"\"}, \"zerolinecolor\": \"#E1E5ED\"}, \"yaxis3\": {\"anchor\": \"x3\", \"domain\": [0.8025, 1.0], \"gridcolor\": \"#E1E5ED\", \"showgrid\": false, \"tickfont\": {\"color\": \"#4D5663\"}, \"title\": {\"font\": {\"color\": \"#4D5663\"}, \"text\": \"\"}, \"zerolinecolor\": \"#E1E5ED\"}, \"yaxis4\": {\"anchor\": \"x4\", \"domain\": [0.8025, 1.0], \"gridcolor\": \"#E1E5ED\", \"showgrid\": false, \"tickfont\": {\"color\": \"#4D5663\"}, \"title\": {\"font\": {\"color\": \"#4D5663\"}, \"text\": \"\"}, \"zerolinecolor\": \"#E1E5ED\"}, \"yaxis5\": {\"anchor\": \"x5\", \"domain\": [0.535, 0.7325], \"gridcolor\": \"#E1E5ED\", \"showgrid\": false, \"tickfont\": {\"color\": \"#4D5663\"}, \"title\": {\"font\": {\"color\": \"#4D5663\"}, \"text\": \"\"}, \"zerolinecolor\": \"#E1E5ED\"}, \"yaxis6\": {\"anchor\": \"x6\", \"domain\": [0.535, 0.7325], \"gridcolor\": \"#E1E5ED\", \"showgrid\": false, \"tickfont\": {\"color\": \"#4D5663\"}, \"title\": {\"font\": {\"color\": \"#4D5663\"}, \"text\": \"\"}, \"zerolinecolor\": \"#E1E5ED\"}, \"yaxis7\": {\"anchor\": \"x7\", \"domain\": [0.535, 0.7325], \"gridcolor\": \"#E1E5ED\", \"showgrid\": false, \"tickfont\": {\"color\": \"#4D5663\"}, \"title\": {\"font\": {\"color\": \"#4D5663\"}, \"text\": \"\"}, \"zerolinecolor\": \"#E1E5ED\"}, \"yaxis8\": {\"anchor\": \"x8\", \"domain\": [0.535, 0.7325], \"gridcolor\": \"#E1E5ED\", \"showgrid\": false, \"tickfont\": {\"color\": \"#4D5663\"}, \"title\": {\"font\": {\"color\": \"#4D5663\"}, \"text\": \"\"}, \"zerolinecolor\": \"#E1E5ED\"}, \"yaxis9\": {\"anchor\": \"x9\", \"domain\": [0.2675, 0.465], \"gridcolor\": \"#E1E5ED\", \"showgrid\": false, \"tickfont\": {\"color\": \"#4D5663\"}, \"title\": {\"font\": {\"color\": \"#4D5663\"}, \"text\": \"\"}, \"zerolinecolor\": \"#E1E5ED\"}},                        {\"showLink\": true, \"linkText\": \"Export to plot.ly\", \"plotlyServerURL\": \"https://plot.ly\", \"responsive\": true}                    ).then(function(){\n",
       "                            \n",
       "var gd = document.getElementById('ef7a3d20-3c68-4b8a-83e9-708b7e118b11');\n",
       "var x = new MutationObserver(function (mutations, observer) {{\n",
       "        var display = window.getComputedStyle(gd).display;\n",
       "        if (!display || display === 'none') {{\n",
       "            console.log([gd, 'removed!']);\n",
       "            Plotly.purge(gd);\n",
       "            observer.disconnect();\n",
       "        }}\n",
       "}});\n",
       "\n",
       "// Listen for the removal of the full notebook cells\n",
       "var notebookContainer = gd.closest('#notebook-container');\n",
       "if (notebookContainer) {{\n",
       "    x.observe(notebookContainer, {childList: true});\n",
       "}}\n",
       "\n",
       "// Listen for the clearing of the current output cell\n",
       "var outputEl = gd.closest('.output');\n",
       "if (outputEl) {{\n",
       "    x.observe(outputEl, {childList: true});\n",
       "}}\n",
       "\n",
       "                        })                };                });            </script>        </div>"
      ]
     },
     "metadata": {},
     "output_type": "display_data"
    }
   ],
   "source": []
  }
 ],
 "metadata": {
  "kernelspec": {
   "display_name": "Python 3",
   "language": "python",
   "name": "python3"
  },
  "language_info": {
   "codemirror_mode": {
    "name": "ipython",
    "version": 3
   },
   "file_extension": ".py",
   "mimetype": "text/x-python",
   "name": "python",
   "nbconvert_exporter": "python",
   "pygments_lexer": "ipython3",
   "version": "3.6.7"
  }
 },
 "nbformat": 4,
 "nbformat_minor": 1
}
