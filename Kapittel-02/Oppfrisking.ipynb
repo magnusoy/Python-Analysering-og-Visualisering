{
 "cells": [
  {
   "cell_type": "markdown",
   "metadata": {},
   "source": [
    "___\n",
    "___\n",
    "# Python oppfrisking\n",
    "\n",
    "Vær oppmerksom på at dette ikke er ment å være en omfattende oversikt over Python eller programmering generelt. Hvis du ikke har noen programmeringserfaring, bør du sannsynligvis ta det andre kurset mitt: [Python - Grunnleggende](https://www.utdannet.no/kurs/python-grunnkurs/) i stedet.\n",
    "\n",
    "**Denne notisboken er bare en kodereferanse for videoene, ingen skriftlige forklaringer her** \n",
    "\n",
    "Denne notatboken vil bare gå gjennom de grunnleggende temaer i rekkefølge:\n",
    "\n",
    "* Datatyper\n",
    "    * Tall\n",
    "    * Strings\n",
    "    * Printing\n",
    "    * Lister\n",
    "    * Ordbøker\n",
    "    * Booleans\n",
    "    * Tupler\n",
    "    * Set\n",
    "* Sammenligningsoperatører\n",
    "* if, elif, else Uttalelser\n",
    "* for Looper\n",
    "* while Looper\n",
    "* range()\n",
    "* listeforståelse\n",
    "* funksjoner\n",
    "* lambda-uttrykk\n",
    "* map og filter\n",
    "* metoder\n",
    "____"
   ]
  },
  {
   "cell_type": "code",
   "execution_count": null,
   "metadata": {},
   "outputs": [],
   "source": []
  }
 ],
 "metadata": {
  "kernelspec": {
   "display_name": "Python 3",
   "language": "python",
   "name": "python3"
  },
  "language_info": {
   "codemirror_mode": {
    "name": "ipython",
    "version": 3
   },
   "file_extension": ".py",
   "mimetype": "text/x-python",
   "name": "python",
   "nbconvert_exporter": "python",
   "pygments_lexer": "ipython3",
   "version": "3.6.7"
  }
 },
 "nbformat": 4,
 "nbformat_minor": 1
}
