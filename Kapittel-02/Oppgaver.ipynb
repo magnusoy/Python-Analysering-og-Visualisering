{
 "cells": [
  {
   "cell_type": "markdown",
   "metadata": {},
   "source": [
    "## Oppgaver\n",
    "\n",
    "Svar på spørsmålene eller fullfør oppgavene i fet skrift nedenfor, bruk den spesifikke metoden som er beskrevet hvis det er aktuelt."
   ]
  },
  {
   "cell_type": "markdown",
   "metadata": {},
   "source": [
    "**Hva er 7 i opphøyd i 4?**"
   ]
  },
  {
   "cell_type": "code",
   "execution_count": null,
   "metadata": {},
   "outputs": [],
   "source": []
  },
  {
   "cell_type": "markdown",
   "metadata": {},
   "source": [
    "**Del denne strengen:**\n",
    "\n",
    "     txt = \"Hvorfor er ingen her?\"\n",
    "    \n",
    "**inn i en liste.** "
   ]
  },
  {
   "cell_type": "code",
   "execution_count": null,
   "metadata": {},
   "outputs": [],
   "source": [
    "txt = \"Hvorfor er ingen her?\""
   ]
  },
  {
   "cell_type": "code",
   "execution_count": null,
   "metadata": {},
   "outputs": [],
   "source": []
  },
  {
   "cell_type": "markdown",
   "metadata": {},
   "source": [
    "**Gitt variablene:**\n",
    "\n",
    "     planet = \"Jorden\"\n",
    "     diameter = 12742\n",
    "\n",
    "**Bruk .format() til å skrive ut følgende setning:**\n",
    "\n",
    "     Jordens diameter er 12742 kilometer."
   ]
  },
  {
   "cell_type": "code",
   "execution_count": null,
   "metadata": {},
   "outputs": [],
   "source": [
    "planet = \"Jorden\"\n",
    "diameter = 12742"
   ]
  },
  {
   "cell_type": "code",
   "execution_count": null,
   "metadata": {},
   "outputs": [],
   "source": []
  },
  {
   "cell_type": "markdown",
   "metadata": {},
   "source": [
    "**Gitt denne nestede listen, bruk indeksering for å hente ordet \"hei\"**"
   ]
  },
  {
   "cell_type": "code",
   "execution_count": null,
   "metadata": {},
   "outputs": [],
   "source": [
    "lst = [1,2,[3,4],[5,[100,200,['hei']],23,11],1,7]"
   ]
  },
  {
   "cell_type": "code",
   "execution_count": null,
   "metadata": {},
   "outputs": [],
   "source": []
  },
  {
   "cell_type": "markdown",
   "metadata": {},
   "source": [
    "**Gitt denne nestede ordboken, ta tak i ordet \"hallo\"**"
   ]
  },
  {
   "cell_type": "code",
   "execution_count": null,
   "metadata": {},
   "outputs": [],
   "source": [
    "dct = {'k1':[1,2,3,{'hard':['python','jupyter','notebook',{'mål':[1,2,3,'hallo']}]}]}"
   ]
  },
  {
   "cell_type": "code",
   "execution_count": null,
   "metadata": {},
   "outputs": [],
   "source": []
  },
  {
   "cell_type": "markdown",
   "metadata": {},
   "source": [
    "**Hva er hovedforskjellen mellom en tuple og en liste?**"
   ]
  },
  {
   "cell_type": "code",
   "execution_count": null,
   "metadata": {},
   "outputs": [],
   "source": []
  },
  {
   "cell_type": "markdown",
   "metadata": {},
   "source": [
    "**Opprett en funksjon som tar tak i e-postnettstedets domene fra en streng:**\n",
    "\n",
    "     bruker@domene.no\n",
    "    \n",
    "**Så for eksempel vil \"bruker@domene.no\" som argument returnere: domene.no**"
   ]
  },
  {
   "cell_type": "code",
   "execution_count": null,
   "metadata": {},
   "outputs": [],
   "source": [
    "def get_domain_from_email(email=\"\"):\n",
    "    pass"
   ]
  },
  {
   "cell_type": "code",
   "execution_count": null,
   "metadata": {},
   "outputs": [],
   "source": [
    "get_domain_from_email(email=\"bruker@domene.no\")"
   ]
  },
  {
   "cell_type": "markdown",
   "metadata": {},
   "source": [
    "**Lag en grunnleggende funksjon som returnerer True hvis ordet 'hund' er i teksten. Ikke bekymre deg for kantsaker som en tegnsetting som er knyttet til ordet hund, men gjør rede for store bokstaver.**"
   ]
  },
  {
   "cell_type": "code",
   "execution_count": null,
   "metadata": {},
   "outputs": [],
   "source": [
    "def find_dog(txt=\"\"):\n",
    "    pass"
   ]
  },
  {
   "cell_type": "code",
   "execution_count": null,
   "metadata": {},
   "outputs": [],
   "source": [
    "find_dog(txt=\"Er ordet hund i denne setningen?\")"
   ]
  },
  {
   "cell_type": "markdown",
   "metadata": {},
   "source": [
    "**Opprett en funksjon som teller antall ganger ordet \"hund\" forekommer i en tejst. Igjen ignorere kantsaker.**"
   ]
  },
  {
   "cell_type": "code",
   "execution_count": null,
   "metadata": {},
   "outputs": [],
   "source": [
    "def count_dogs(txt=\"\"):\n",
    "    pass"
   ]
  },
  {
   "cell_type": "code",
   "execution_count": null,
   "metadata": {},
   "outputs": [],
   "source": [
    "count_dogs(txt=\"Er det en hund du ønsker deg? Ja, en hund som er glad i menneskere er noe som passer meg.\")"
   ]
  },
  {
   "cell_type": "markdown",
   "metadata": {},
   "source": [
    "**Bruk lambdauttrykk og filter() -funksjonen for å filtrere ut ord fra en liste som ikke begynner med bokstaven 's'. For eksempel:**\n",
    "\n",
    "     seq = ['suppe', 'hund', 'salat', 'katt', 'flott']\n",
    "\n",
    "**bør filtreres ned til:**\n",
    "\n",
    "     ['suppe', 'salat']"
   ]
  },
  {
   "cell_type": "code",
   "execution_count": null,
   "metadata": {},
   "outputs": [],
   "source": [
    "seq = ['soup','dog','salad','cat','great']"
   ]
  },
  {
   "cell_type": "code",
   "execution_count": null,
   "metadata": {},
   "outputs": [],
   "source": []
  }
 ],
 "metadata": {
  "kernelspec": {
   "display_name": "Python 3",
   "language": "python",
   "name": "python3"
  },
  "language_info": {
   "codemirror_mode": {
    "name": "ipython",
    "version": 3
   },
   "file_extension": ".py",
   "mimetype": "text/x-python",
   "name": "python",
   "nbconvert_exporter": "python",
   "pygments_lexer": "ipython3",
   "version": "3.6.7"
  }
 },
 "nbformat": 4,
 "nbformat_minor": 2
}
